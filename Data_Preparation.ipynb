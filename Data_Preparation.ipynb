{
 "cells": [
  {
   "cell_type": "code",
   "execution_count": 25,
   "metadata": {},
   "outputs": [],
   "source": [
    "import os\n",
    "import json\n",
    "import tweepy\n",
    "import numpy as np\n",
    "import pandas as pd\n",
    "from statistics import mode"
   ]
  },
  {
   "cell_type": "markdown",
   "metadata": {},
   "source": [
    "# Monolingual Dataset preparation"
   ]
  },
  {
   "cell_type": "markdown",
   "metadata": {},
   "source": [
    "### Function to read Ousidhoum Data Files"
   ]
  },
  {
   "cell_type": "code",
   "execution_count": 2,
   "metadata": {},
   "outputs": [],
   "source": [
    "def Ousidhoum_data(Directory, file_name):\n",
    "    file_name = os.path.join(Directory, file_name)\n",
    "    df_Ousidhoum = pd.read_csv(file_name)\n",
    "    hateful_df = df_Ousidhoum[df_Ousidhoum['sentiment'].str.contains(\"hateful\")]\n",
    "    normal_df = df_Ousidhoum[df_Ousidhoum['sentiment']=='normal']\n",
    "    df_Ousidhoum = pd.concat([hateful_df, normal_df], axis =0)\n",
    "    df_Ousidhoum.drop(['HITId','directness', 'annotator_sentiment', 'target','group' ], axis =1, inplace= True)\n",
    "    df_Ousidhoum.columns = ['tweet','label']\n",
    "    df_Ousidhoum.label[df_Ousidhoum.label!='normal'] =1\n",
    "    df_Ousidhoum.label[df_Ousidhoum.label=='normal'] =0\n",
    "    print(df_Ousidhoum.label.value_counts())\n",
    "    df_Ousidhoum=df_Ousidhoum.reset_index(drop= True)\n",
    "    return df_Ousidhoum"
   ]
  },
  {
   "cell_type": "markdown",
   "metadata": {},
   "source": [
    "# English "
   ]
  },
  {
   "cell_type": "markdown",
   "metadata": {},
   "source": [
    "### Gilbert et al"
   ]
  },
  {
   "cell_type": "code",
   "execution_count": 3,
   "metadata": {},
   "outputs": [
    {
     "name": "stdout",
     "output_type": "stream",
     "text": [
      "0    9507\n",
      "1    1196\n",
      "Name: label, dtype: int64\n"
     ]
    },
    {
     "data": {
      "text/html": [
       "<div>\n",
       "<style scoped>\n",
       "    .dataframe tbody tr th:only-of-type {\n",
       "        vertical-align: middle;\n",
       "    }\n",
       "\n",
       "    .dataframe tbody tr th {\n",
       "        vertical-align: top;\n",
       "    }\n",
       "\n",
       "    .dataframe thead th {\n",
       "        text-align: right;\n",
       "    }\n",
       "</style>\n",
       "<table border=\"1\" class=\"dataframe\">\n",
       "  <thead>\n",
       "    <tr style=\"text-align: right;\">\n",
       "      <th></th>\n",
       "      <th>tweet</th>\n",
       "      <th>label</th>\n",
       "    </tr>\n",
       "  </thead>\n",
       "  <tbody>\n",
       "    <tr>\n",
       "      <th>0</th>\n",
       "      <td>As of March 13th , 2014 , the booklet had been...</td>\n",
       "      <td>0</td>\n",
       "    </tr>\n",
       "    <tr>\n",
       "      <th>1</th>\n",
       "      <td>In order to help increase the booklets downloa...</td>\n",
       "      <td>0</td>\n",
       "    </tr>\n",
       "    <tr>\n",
       "      <th>2</th>\n",
       "      <td>( Simply copy and paste the following text int...</td>\n",
       "      <td>0</td>\n",
       "    </tr>\n",
       "    <tr>\n",
       "      <th>3</th>\n",
       "      <td>Click below for a FREE download of a colorfull...</td>\n",
       "      <td>1</td>\n",
       "    </tr>\n",
       "    <tr>\n",
       "      <th>4</th>\n",
       "      <td>Click on the `` DOWNLOAD ( 7.42 MB ) '' green ...</td>\n",
       "      <td>0</td>\n",
       "    </tr>\n",
       "  </tbody>\n",
       "</table>\n",
       "</div>"
      ],
      "text/plain": [
       "                                               tweet label\n",
       "0  As of March 13th , 2014 , the booklet had been...     0\n",
       "1  In order to help increase the booklets downloa...     0\n",
       "2  ( Simply copy and paste the following text int...     0\n",
       "3  Click below for a FREE download of a colorfull...     1\n",
       "4  Click on the `` DOWNLOAD ( 7.42 MB ) '' green ...     0"
      ]
     },
     "execution_count": 3,
     "metadata": {},
     "output_type": "execute_result"
    }
   ],
   "source": [
    "filename_df = pd.read_csv(r\"C:\\Users\\samsu\\Desktop\\Fall20\\CS 695-002\\Project\\Datasets\\English\\Gilbert et al\\annotations_metadata.csv\")\n",
    "Directory = r\"C:\\Users\\samsu\\Desktop\\Fall20\\CS 695-002\\Project\\Datasets\\English\\Gilbert et al\\all_files\"\n",
    "\n",
    "def Gilbert_dataprep(Directory, filename_df):\n",
    "    data = []\n",
    "    for file_name in filename_df['file_id']:\n",
    "        file_name = file_name+\".txt\"\n",
    "        file_name = os.path.join(Directory, file_name)\n",
    "        with open (file_name,'r', encoding= 'utf-8') as infile:\n",
    "             line = infile.readlines()\n",
    "             data.append(line)\n",
    "    df = pd.DataFrame(data,columns=['Tweets'])\n",
    "    df = pd.concat([df,filename_df],axis =1)\n",
    "    df.drop(['file_id', 'user_id','subforum_id', 'num_contexts'], axis =1, inplace= True)\n",
    "    return df\n",
    "\n",
    "df_Gilbert = Gilbert_dataprep(Directory, filename_df)\n",
    "df_Gilbert.columns =['tweet', 'label']\n",
    "df_Gilbert.label[df_Gilbert.label=='hate'] =1\n",
    "df_Gilbert.label[df_Gilbert.label=='noHate'] =0\n",
    "df_Gilbert = df_Gilbert[df_Gilbert['label'] != 'relation']\n",
    "df_Gilbert = df_Gilbert[df_Gilbert['label'] != 'idk/skip']\n",
    "print(df_Gilbert.label.value_counts())\n",
    "df_Gilbert.head()"
   ]
  },
  {
   "cell_type": "markdown",
   "metadata": {},
   "source": [
    "###  Davidson et al"
   ]
  },
  {
   "cell_type": "code",
   "execution_count": 4,
   "metadata": {
    "scrolled": true
   },
   "outputs": [
    {
     "name": "stdout",
     "output_type": "stream",
     "text": [
      "0    19789\n",
      "1     4993\n",
      "Name: label, dtype: int64\n"
     ]
    },
    {
     "name": "stderr",
     "output_type": "stream",
     "text": [
      "C:\\Users\\samsu\\anaconda3\\envs\\tensorflow_gpu\\lib\\site-packages\\ipykernel_launcher.py:2: SettingWithCopyWarning: \n",
      "A value is trying to be set on a copy of a slice from a DataFrame\n",
      "\n",
      "See the caveats in the documentation: https://pandas.pydata.org/pandas-docs/stable/user_guide/indexing.html#returning-a-view-versus-a-copy\n",
      "  \n"
     ]
    },
    {
     "data": {
      "text/html": [
       "<div>\n",
       "<style scoped>\n",
       "    .dataframe tbody tr th:only-of-type {\n",
       "        vertical-align: middle;\n",
       "    }\n",
       "\n",
       "    .dataframe tbody tr th {\n",
       "        vertical-align: top;\n",
       "    }\n",
       "\n",
       "    .dataframe thead th {\n",
       "        text-align: right;\n",
       "    }\n",
       "</style>\n",
       "<table border=\"1\" class=\"dataframe\">\n",
       "  <thead>\n",
       "    <tr style=\"text-align: right;\">\n",
       "      <th></th>\n",
       "      <th>tweet</th>\n",
       "      <th>label</th>\n",
       "    </tr>\n",
       "  </thead>\n",
       "  <tbody>\n",
       "    <tr>\n",
       "      <th>0</th>\n",
       "      <td>!!! RT @mayasolovely: As a woman you shouldn't...</td>\n",
       "      <td>0</td>\n",
       "    </tr>\n",
       "    <tr>\n",
       "      <th>1</th>\n",
       "      <td>!!!!! RT @mleew17: boy dats cold...tyga dwn ba...</td>\n",
       "      <td>0</td>\n",
       "    </tr>\n",
       "    <tr>\n",
       "      <th>2</th>\n",
       "      <td>!!!!!!! RT @UrKindOfBrand Dawg!!!! RT @80sbaby...</td>\n",
       "      <td>0</td>\n",
       "    </tr>\n",
       "    <tr>\n",
       "      <th>3</th>\n",
       "      <td>!!!!!!!!! RT @C_G_Anderson: @viva_based she lo...</td>\n",
       "      <td>0</td>\n",
       "    </tr>\n",
       "    <tr>\n",
       "      <th>4</th>\n",
       "      <td>!!!!!!!!!!!!! RT @ShenikaRoberts: The shit you...</td>\n",
       "      <td>0</td>\n",
       "    </tr>\n",
       "  </tbody>\n",
       "</table>\n",
       "</div>"
      ],
      "text/plain": [
       "                                               tweet  label\n",
       "0  !!! RT @mayasolovely: As a woman you shouldn't...      0\n",
       "1  !!!!! RT @mleew17: boy dats cold...tyga dwn ba...      0\n",
       "2  !!!!!!! RT @UrKindOfBrand Dawg!!!! RT @80sbaby...      0\n",
       "3  !!!!!!!!! RT @C_G_Anderson: @viva_based she lo...      0\n",
       "4  !!!!!!!!!!!!! RT @ShenikaRoberts: The shit you...      0"
      ]
     },
     "execution_count": 4,
     "metadata": {},
     "output_type": "execute_result"
    }
   ],
   "source": [
    "df_Davidson = pd.read_csv(r\"C:\\Users\\samsu\\Desktop\\Fall20\\CS 695-002\\Project\\Datasets\\English\\Davidson et al.csv\")\n",
    "df_Davidson.hate_speech[df_Davidson['hate_speech'] > 1] = 1\n",
    "df_Davidson = df_Davidson[['tweet', 'hate_speech']]\n",
    "df_Davidson.columns = ['tweet', 'label']\n",
    "print(df_Davidson.label.value_counts())\n",
    "df_Davidson.head()"
   ]
  },
  {
   "cell_type": "markdown",
   "metadata": {},
   "source": [
    "### Basile et al"
   ]
  },
  {
   "cell_type": "code",
   "execution_count": 5,
   "metadata": {},
   "outputs": [
    {
     "name": "stdout",
     "output_type": "stream",
     "text": [
      "0    7530\n",
      "1    5470\n",
      "Name: label, dtype: int64\n"
     ]
    },
    {
     "data": {
      "text/html": [
       "<div>\n",
       "<style scoped>\n",
       "    .dataframe tbody tr th:only-of-type {\n",
       "        vertical-align: middle;\n",
       "    }\n",
       "\n",
       "    .dataframe tbody tr th {\n",
       "        vertical-align: top;\n",
       "    }\n",
       "\n",
       "    .dataframe thead th {\n",
       "        text-align: right;\n",
       "    }\n",
       "</style>\n",
       "<table border=\"1\" class=\"dataframe\">\n",
       "  <thead>\n",
       "    <tr style=\"text-align: right;\">\n",
       "      <th></th>\n",
       "      <th>tweet</th>\n",
       "      <th>label</th>\n",
       "    </tr>\n",
       "  </thead>\n",
       "  <tbody>\n",
       "    <tr>\n",
       "      <th>0</th>\n",
       "      <td>Hurray, saving us $$$ in so many ways @potus @...</td>\n",
       "      <td>1</td>\n",
       "    </tr>\n",
       "    <tr>\n",
       "      <th>1</th>\n",
       "      <td>Why would young fighting age men be the vast m...</td>\n",
       "      <td>1</td>\n",
       "    </tr>\n",
       "    <tr>\n",
       "      <th>2</th>\n",
       "      <td>@KamalaHarris Illegals Dump their Kids at the ...</td>\n",
       "      <td>1</td>\n",
       "    </tr>\n",
       "    <tr>\n",
       "      <th>3</th>\n",
       "      <td>NY Times: 'Nearly All White' States Pose 'an A...</td>\n",
       "      <td>0</td>\n",
       "    </tr>\n",
       "    <tr>\n",
       "      <th>4</th>\n",
       "      <td>Orban in Brussels: European leaders are ignori...</td>\n",
       "      <td>0</td>\n",
       "    </tr>\n",
       "  </tbody>\n",
       "</table>\n",
       "</div>"
      ],
      "text/plain": [
       "                                               tweet  label\n",
       "0  Hurray, saving us $$$ in so many ways @potus @...      1\n",
       "1  Why would young fighting age men be the vast m...      1\n",
       "2  @KamalaHarris Illegals Dump their Kids at the ...      1\n",
       "3  NY Times: 'Nearly All White' States Pose 'an A...      0\n",
       "4  Orban in Brussels: European leaders are ignori...      0"
      ]
     },
     "execution_count": 5,
     "metadata": {},
     "output_type": "execute_result"
    }
   ],
   "source": [
    "train = pd.read_csv(r'C:\\Users\\samsu\\Desktop\\Fall20\\CS 695-002\\Project\\Datasets\\English\\Basile et al\\hateval2019_en_train.csv')\n",
    "dev = pd.read_csv(r'C:\\Users\\samsu\\Desktop\\Fall20\\CS 695-002\\Project\\Datasets\\English\\Basile et al\\hateval2019_en_dev.csv')\n",
    "test = pd.read_csv(r'C:\\Users\\samsu\\Desktop\\Fall20\\CS 695-002\\Project\\Datasets\\English\\Basile et al\\hateval2019_en_test.csv')\n",
    "\n",
    "df_Basile = pd.concat([train,dev,test], axis = 0)\n",
    "df_Basile.drop(['id','TR','AG'], axis = 1, inplace = True)\n",
    "df_Basile.columns = ['tweet','label']\n",
    "print(df_Basile.label.value_counts())\n",
    "df_Basile.head()"
   ]
  },
  {
   "cell_type": "markdown",
   "metadata": {},
   "source": [
    "### Ousidhoum et al"
   ]
  },
  {
   "cell_type": "code",
   "execution_count": 6,
   "metadata": {},
   "outputs": [
    {
     "name": "stdout",
     "output_type": "stream",
     "text": [
      "1    1278\n",
      "0     661\n",
      "Name: label, dtype: int64\n"
     ]
    }
   ],
   "source": [
    "Directory_English = r'C:\\Users\\samsu\\Desktop\\Fall20\\CS 695-002\\Project\\Datasets\\English\\Ousidhoum et al'\n",
    "Ousidhoum_English = 'en_dataset.csv'\n",
    "df_Ousidhoum_English = Ousidhoum_data(Directory_English, Ousidhoum_English)"
   ]
  },
  {
   "cell_type": "markdown",
   "metadata": {},
   "source": [
    "### Waseem et al"
   ]
  },
  {
   "cell_type": "code",
   "execution_count": 7,
   "metadata": {},
   "outputs": [],
   "source": [
    "def Waseem_dataset(Directory, file_name):\n",
    "    file_name = os.path.join(Directory, file_name)\n",
    "    df = pd.read_json(file_name, lines = True)\n",
    "    df_Waseem_English= pd.DataFrame()\n",
    "    df_Waseem_English['tweet'] = df['text']\n",
    "    df_Waseem_English['label'] = df['Annotation']\n",
    "    return df_Waseem_English"
   ]
  },
  {
   "cell_type": "code",
   "execution_count": 8,
   "metadata": {},
   "outputs": [],
   "source": [
    "Directory = r'C:\\Users\\samsu\\Desktop\\Fall20\\CS 695-002\\Project\\Datasets\\English\\Waseem et al'\n",
    "filename_racism = 'racism.json'\n",
    "filename_sexism = 'sexism.json'\n",
    "filename_neither = 'neither.json'\n",
    "df_racism = Waseem_dataset(Directory, filename_racism)\n",
    "df_sexism = Waseem_dataset(Directory, filename_sexism)\n",
    "df_neither = Waseem_dataset(Directory, filename_neither)"
   ]
  },
  {
   "cell_type": "code",
   "execution_count": 9,
   "metadata": {},
   "outputs": [
    {
     "name": "stdout",
     "output_type": "stream",
     "text": [
      "0    11501\n",
      "1     5406\n",
      "Name: label, dtype: int64\n"
     ]
    },
    {
     "data": {
      "text/html": [
       "<div>\n",
       "<style scoped>\n",
       "    .dataframe tbody tr th:only-of-type {\n",
       "        vertical-align: middle;\n",
       "    }\n",
       "\n",
       "    .dataframe tbody tr th {\n",
       "        vertical-align: top;\n",
       "    }\n",
       "\n",
       "    .dataframe thead th {\n",
       "        text-align: right;\n",
       "    }\n",
       "</style>\n",
       "<table border=\"1\" class=\"dataframe\">\n",
       "  <thead>\n",
       "    <tr style=\"text-align: right;\">\n",
       "      <th></th>\n",
       "      <th>tweet</th>\n",
       "      <th>label</th>\n",
       "    </tr>\n",
       "  </thead>\n",
       "  <tbody>\n",
       "    <tr>\n",
       "      <th>0</th>\n",
       "      <td>So Drasko just said he was impressed the girls...</td>\n",
       "      <td>1</td>\n",
       "    </tr>\n",
       "    <tr>\n",
       "      <th>1</th>\n",
       "      <td>Drasko they didn't cook half a bird you idiot ...</td>\n",
       "      <td>1</td>\n",
       "    </tr>\n",
       "    <tr>\n",
       "      <th>2</th>\n",
       "      <td>Hopefully someone cooks Drasko in the next ep ...</td>\n",
       "      <td>1</td>\n",
       "    </tr>\n",
       "    <tr>\n",
       "      <th>3</th>\n",
       "      <td>of course you were born in serbia...you're as ...</td>\n",
       "      <td>1</td>\n",
       "    </tr>\n",
       "    <tr>\n",
       "      <th>4</th>\n",
       "      <td>These girls are the equivalent of the irritati...</td>\n",
       "      <td>1</td>\n",
       "    </tr>\n",
       "    <tr>\n",
       "      <th>...</th>\n",
       "      <td>...</td>\n",
       "      <td>...</td>\n",
       "    </tr>\n",
       "    <tr>\n",
       "      <th>16902</th>\n",
       "      <td>RT @JakeM_1998: RT BillSpindle: It's all about...</td>\n",
       "      <td>0</td>\n",
       "    </tr>\n",
       "    <tr>\n",
       "      <th>16903</th>\n",
       "      <td>RT @ThinkAgain_DOS: Iraq: #ISIS sets off 21 ca...</td>\n",
       "      <td>0</td>\n",
       "    </tr>\n",
       "    <tr>\n",
       "      <th>16904</th>\n",
       "      <td>RT @ThePatriot143: DEAR STATE DEPARTMENT: WHER...</td>\n",
       "      <td>0</td>\n",
       "    </tr>\n",
       "    <tr>\n",
       "      <th>16905</th>\n",
       "      <td>\"@panelrific: Let's go 🐧🐧🐧🐧🐧🐧😃\"</td>\n",
       "      <td>0</td>\n",
       "    </tr>\n",
       "    <tr>\n",
       "      <th>16906</th>\n",
       "      <td>RT @TheMeninism: 😂 http://t.co/VQzuAXqNzd</td>\n",
       "      <td>0</td>\n",
       "    </tr>\n",
       "  </tbody>\n",
       "</table>\n",
       "<p>16907 rows × 2 columns</p>\n",
       "</div>"
      ],
      "text/plain": [
       "                                                   tweet label\n",
       "0      So Drasko just said he was impressed the girls...     1\n",
       "1      Drasko they didn't cook half a bird you idiot ...     1\n",
       "2      Hopefully someone cooks Drasko in the next ep ...     1\n",
       "3      of course you were born in serbia...you're as ...     1\n",
       "4      These girls are the equivalent of the irritati...     1\n",
       "...                                                  ...   ...\n",
       "16902  RT @JakeM_1998: RT BillSpindle: It's all about...     0\n",
       "16903  RT @ThinkAgain_DOS: Iraq: #ISIS sets off 21 ca...     0\n",
       "16904  RT @ThePatriot143: DEAR STATE DEPARTMENT: WHER...     0\n",
       "16905                    \"@panelrific: Let's go 🐧🐧🐧🐧🐧🐧😃\"     0\n",
       "16906          RT @TheMeninism: 😂 http://t.co/VQzuAXqNzd     0\n",
       "\n",
       "[16907 rows x 2 columns]"
      ]
     },
     "execution_count": 9,
     "metadata": {},
     "output_type": "execute_result"
    }
   ],
   "source": [
    "df_Waseem=pd.concat([df_racism, df_sexism, df_neither], axis =0)\n",
    "df_Waseem.label[df_Waseem.label!='none'] =1\n",
    "df_Waseem.label[df_Waseem.label=='none'] =0\n",
    "df_Waseem = df_Waseem.reset_index(drop = True)\n",
    "print(df_Waseem.label.value_counts())\n",
    "df_Waseem"
   ]
  },
  {
   "cell_type": "markdown",
   "metadata": {},
   "source": [
    "### Founta et al"
   ]
  },
  {
   "cell_type": "code",
   "execution_count": 10,
   "metadata": {},
   "outputs": [],
   "source": [
    "# df = pd.read_csv(r'C:\\Users\\samsu\\Desktop\\Fall20\\CS 695-002\\Project\\Datasets\\English\\Founta et al.csv')\n",
    "\n",
    "# CONSUMER_KEY = \"XXXXX\"\n",
    "# CONSUMER_SECRET = \"XXXXX\"\n",
    "# OAUTH_TOKEN = \"XXXXX\"\n",
    "# OAUTH_TOKEN_SECRET = \"XXXXX\"\n",
    "# auth = tweepy.OAuthHandler(CONSUMER_KEY, CONSUMER_SECRET)\n",
    "# auth.set_access_token(OAUTH_TOKEN, OAUTH_TOKEN_SECRET)\n",
    "# api = tweepy.API(auth)\n",
    "\n",
    "# tweets = []\n",
    "# tweet_ids = []\n",
    "# for i in df.tweet_id:\n",
    "#     try:\n",
    "#         tweet = api.get_status(i)\n",
    "#         tweets.append(tweet.text)\n",
    "#         tweet_ids.append(i)\n",
    "#     except tweepy.error.TweepError:\n",
    "#         #print(\"tweet not found\")\n",
    "#         continue"
   ]
  },
  {
   "cell_type": "code",
   "execution_count": 11,
   "metadata": {},
   "outputs": [],
   "source": [
    "# df1 = pd.DataFrame()\n",
    "# df1['tweets'] = tweets\n",
    "# df1['tweet_id'] = tweet_ids\n",
    "\n",
    "# final_df = df1.merge(df, on='tweet_id', how='inner')\n",
    "# final_df.to_csv(r'C:\\Users\\samsu\\Desktop\\Fall20\\CS 695-002\\Project\\Datasets\\English\\df_Founta.csv')"
   ]
  },
  {
   "cell_type": "code",
   "execution_count": 16,
   "metadata": {},
   "outputs": [
    {
     "name": "stdout",
     "output_type": "stream",
     "text": [
      "0    36087\n",
      "1     2008\n",
      "Name: label, dtype: int64\n"
     ]
    },
    {
     "data": {
      "text/html": [
       "<div>\n",
       "<style scoped>\n",
       "    .dataframe tbody tr th:only-of-type {\n",
       "        vertical-align: middle;\n",
       "    }\n",
       "\n",
       "    .dataframe tbody tr th {\n",
       "        vertical-align: top;\n",
       "    }\n",
       "\n",
       "    .dataframe thead th {\n",
       "        text-align: right;\n",
       "    }\n",
       "</style>\n",
       "<table border=\"1\" class=\"dataframe\">\n",
       "  <thead>\n",
       "    <tr style=\"text-align: right;\">\n",
       "      <th></th>\n",
       "      <th>tweet</th>\n",
       "      <th>label</th>\n",
       "    </tr>\n",
       "  </thead>\n",
       "  <tbody>\n",
       "    <tr>\n",
       "      <th>2</th>\n",
       "      <td>RT @MailOnline: The Nazi death gas so horrific...</td>\n",
       "      <td>0</td>\n",
       "    </tr>\n",
       "    <tr>\n",
       "      <th>3</th>\n",
       "      <td>I hate er chase because if the Bitch that work...</td>\n",
       "      <td>1</td>\n",
       "    </tr>\n",
       "    <tr>\n",
       "      <th>6</th>\n",
       "      <td>RT @nyctophil3: Pineapples do not belong on pi...</td>\n",
       "      <td>1</td>\n",
       "    </tr>\n",
       "    <tr>\n",
       "      <th>9</th>\n",
       "      <td>Niggas keep talking about women wearing weave ...</td>\n",
       "      <td>1</td>\n",
       "    </tr>\n",
       "    <tr>\n",
       "      <th>12</th>\n",
       "      <td>Carlos Correa had gyalchester as his walkup mu...</td>\n",
       "      <td>0</td>\n",
       "    </tr>\n",
       "    <tr>\n",
       "      <th>...</th>\n",
       "      <td>...</td>\n",
       "      <td>...</td>\n",
       "    </tr>\n",
       "    <tr>\n",
       "      <th>52426</th>\n",
       "      <td>RT @prozdkp: when you're mad at video games bu...</td>\n",
       "      <td>0</td>\n",
       "    </tr>\n",
       "    <tr>\n",
       "      <th>52429</th>\n",
       "      <td>my spring break starts this saturday, i cant f...</td>\n",
       "      <td>0</td>\n",
       "    </tr>\n",
       "    <tr>\n",
       "      <th>52445</th>\n",
       "      <td>@Sushree_Metal Yaa dats a point ishu ko pata j...</td>\n",
       "      <td>0</td>\n",
       "    </tr>\n",
       "    <tr>\n",
       "      <th>52456</th>\n",
       "      <td>If it didn't work out, then it didn't work out...</td>\n",
       "      <td>0</td>\n",
       "    </tr>\n",
       "    <tr>\n",
       "      <th>52473</th>\n",
       "      <td>RT @auqeno: dark/brown skin men have ruined my...</td>\n",
       "      <td>1</td>\n",
       "    </tr>\n",
       "  </tbody>\n",
       "</table>\n",
       "<p>38095 rows × 2 columns</p>\n",
       "</div>"
      ],
      "text/plain": [
       "                                                   tweet label\n",
       "2      RT @MailOnline: The Nazi death gas so horrific...     0\n",
       "3      I hate er chase because if the Bitch that work...     1\n",
       "6      RT @nyctophil3: Pineapples do not belong on pi...     1\n",
       "9      Niggas keep talking about women wearing weave ...     1\n",
       "12     Carlos Correa had gyalchester as his walkup mu...     0\n",
       "...                                                  ...   ...\n",
       "52426  RT @prozdkp: when you're mad at video games bu...     0\n",
       "52429  my spring break starts this saturday, i cant f...     0\n",
       "52445  @Sushree_Metal Yaa dats a point ishu ko pata j...     0\n",
       "52456  If it didn't work out, then it didn't work out...     0\n",
       "52473  RT @auqeno: dark/brown skin men have ruined my...     1\n",
       "\n",
       "[38095 rows x 2 columns]"
      ]
     },
     "execution_count": 16,
     "metadata": {},
     "output_type": "execute_result"
    }
   ],
   "source": [
    "df_Founta = pd.read_csv(r\"C:\\Users\\samsu\\Desktop\\Fall20\\CS 695-002\\Project\\Datasets\\English\\Founta et al\\df_Founta.csv\")\n",
    "df_Founta.drop(['Unnamed: 0','tweet_id'], axis = 1, inplace = True)\n",
    "df_Founta = df_Founta[(df_Founta['label'] == 'hateful') | (df_Founta['label'] == 'normal')]\n",
    "df_Founta.label[df_Founta.label!='normal'] =1\n",
    "df_Founta.label[df_Founta.label=='normal'] =0\n",
    "print(df_Founta.label.value_counts())\n",
    "df_Founta"
   ]
  },
  {
   "cell_type": "markdown",
   "metadata": {},
   "source": [
    "### Combining all the english processed datasets"
   ]
  },
  {
   "cell_type": "code",
   "execution_count": 17,
   "metadata": {},
   "outputs": [
    {
     "name": "stdout",
     "output_type": "stream",
     "text": [
      "0    85075\n",
      "1    20351\n",
      "Name: label, dtype: int64\n"
     ]
    },
    {
     "data": {
      "text/html": [
       "<div>\n",
       "<style scoped>\n",
       "    .dataframe tbody tr th:only-of-type {\n",
       "        vertical-align: middle;\n",
       "    }\n",
       "\n",
       "    .dataframe tbody tr th {\n",
       "        vertical-align: top;\n",
       "    }\n",
       "\n",
       "    .dataframe thead th {\n",
       "        text-align: right;\n",
       "    }\n",
       "</style>\n",
       "<table border=\"1\" class=\"dataframe\">\n",
       "  <thead>\n",
       "    <tr style=\"text-align: right;\">\n",
       "      <th></th>\n",
       "      <th>tweet</th>\n",
       "      <th>label</th>\n",
       "    </tr>\n",
       "  </thead>\n",
       "  <tbody>\n",
       "    <tr>\n",
       "      <th>0</th>\n",
       "      <td>As of March 13th , 2014 , the booklet had been...</td>\n",
       "      <td>0</td>\n",
       "    </tr>\n",
       "    <tr>\n",
       "      <th>1</th>\n",
       "      <td>In order to help increase the booklets downloa...</td>\n",
       "      <td>0</td>\n",
       "    </tr>\n",
       "    <tr>\n",
       "      <th>2</th>\n",
       "      <td>( Simply copy and paste the following text int...</td>\n",
       "      <td>0</td>\n",
       "    </tr>\n",
       "    <tr>\n",
       "      <th>3</th>\n",
       "      <td>Click below for a FREE download of a colorfull...</td>\n",
       "      <td>1</td>\n",
       "    </tr>\n",
       "    <tr>\n",
       "      <th>4</th>\n",
       "      <td>Click on the `` DOWNLOAD ( 7.42 MB ) '' green ...</td>\n",
       "      <td>0</td>\n",
       "    </tr>\n",
       "    <tr>\n",
       "      <th>...</th>\n",
       "      <td>...</td>\n",
       "      <td>...</td>\n",
       "    </tr>\n",
       "    <tr>\n",
       "      <th>105421</th>\n",
       "      <td>RT @prozdkp: when you're mad at video games bu...</td>\n",
       "      <td>0</td>\n",
       "    </tr>\n",
       "    <tr>\n",
       "      <th>105422</th>\n",
       "      <td>my spring break starts this saturday, i cant f...</td>\n",
       "      <td>0</td>\n",
       "    </tr>\n",
       "    <tr>\n",
       "      <th>105423</th>\n",
       "      <td>@Sushree_Metal Yaa dats a point ishu ko pata j...</td>\n",
       "      <td>0</td>\n",
       "    </tr>\n",
       "    <tr>\n",
       "      <th>105424</th>\n",
       "      <td>If it didn't work out, then it didn't work out...</td>\n",
       "      <td>0</td>\n",
       "    </tr>\n",
       "    <tr>\n",
       "      <th>105425</th>\n",
       "      <td>RT @auqeno: dark/brown skin men have ruined my...</td>\n",
       "      <td>1</td>\n",
       "    </tr>\n",
       "  </tbody>\n",
       "</table>\n",
       "<p>105426 rows × 2 columns</p>\n",
       "</div>"
      ],
      "text/plain": [
       "                                                    tweet label\n",
       "0       As of March 13th , 2014 , the booklet had been...     0\n",
       "1       In order to help increase the booklets downloa...     0\n",
       "2       ( Simply copy and paste the following text int...     0\n",
       "3       Click below for a FREE download of a colorfull...     1\n",
       "4       Click on the `` DOWNLOAD ( 7.42 MB ) '' green ...     0\n",
       "...                                                   ...   ...\n",
       "105421  RT @prozdkp: when you're mad at video games bu...     0\n",
       "105422  my spring break starts this saturday, i cant f...     0\n",
       "105423  @Sushree_Metal Yaa dats a point ishu ko pata j...     0\n",
       "105424  If it didn't work out, then it didn't work out...     0\n",
       "105425  RT @auqeno: dark/brown skin men have ruined my...     1\n",
       "\n",
       "[105426 rows x 2 columns]"
      ]
     },
     "execution_count": 17,
     "metadata": {},
     "output_type": "execute_result"
    }
   ],
   "source": [
    "df_English = pd.concat([df_Gilbert,df_Davidson, df_Basile,df_Ousidhoum_English, df_Waseem, df_Founta], axis =0)\n",
    "df_English = df_English.reset_index(drop= True)\n",
    "print(df_English.label.value_counts())\n",
    "df_English"
   ]
  },
  {
   "cell_type": "markdown",
   "metadata": {},
   "source": [
    "# Arabic"
   ]
  },
  {
   "cell_type": "markdown",
   "metadata": {},
   "source": [
    "### Ousidhoum et al"
   ]
  },
  {
   "cell_type": "code",
   "execution_count": 13,
   "metadata": {},
   "outputs": [
    {
     "name": "stdout",
     "output_type": "stream",
     "text": [
      "0    915\n",
      "1    755\n",
      "Name: label, dtype: int64\n"
     ]
    }
   ],
   "source": [
    "Directory_Arabic = r'C:\\Users\\samsu\\Desktop\\Fall20\\CS 695-002\\Project\\Datasets\\Arabic'\n",
    "Ousidhoum_Arabic = 'Ousidhoum et al.csv'\n",
    "df_Ousidhoum_Arabic = Ousidhoum_data(Directory_Arabic, Ousidhoum_Arabic)"
   ]
  },
  {
   "cell_type": "markdown",
   "metadata": {},
   "source": [
    "### Mulki et al"
   ]
  },
  {
   "cell_type": "code",
   "execution_count": 14,
   "metadata": {},
   "outputs": [
    {
     "name": "stdout",
     "output_type": "stream",
     "text": [
      "0    3650\n",
      "1     468\n",
      "Name: label, dtype: int64\n"
     ]
    },
    {
     "data": {
      "text/html": [
       "<div>\n",
       "<style scoped>\n",
       "    .dataframe tbody tr th:only-of-type {\n",
       "        vertical-align: middle;\n",
       "    }\n",
       "\n",
       "    .dataframe tbody tr th {\n",
       "        vertical-align: top;\n",
       "    }\n",
       "\n",
       "    .dataframe thead th {\n",
       "        text-align: right;\n",
       "    }\n",
       "</style>\n",
       "<table border=\"1\" class=\"dataframe\">\n",
       "  <thead>\n",
       "    <tr style=\"text-align: right;\">\n",
       "      <th></th>\n",
       "      <th>tweet</th>\n",
       "      <th>label</th>\n",
       "    </tr>\n",
       "  </thead>\n",
       "  <tbody>\n",
       "    <tr>\n",
       "      <th>0</th>\n",
       "      <td>صديقي انت ابن جامعه اللعبه اكبر من داعش اللعبه...</td>\n",
       "      <td>0</td>\n",
       "    </tr>\n",
       "    <tr>\n",
       "      <th>1</th>\n",
       "      <td>و مصلحة لبنان تبدأ باستخراج النفط و الغاز لوقف...</td>\n",
       "      <td>0</td>\n",
       "    </tr>\n",
       "    <tr>\n",
       "      <th>2</th>\n",
       "      <td>يا جبران باسيل يا معلم يا ريس يا استاذ بدك حضن...</td>\n",
       "      <td>0</td>\n",
       "    </tr>\n",
       "    <tr>\n",
       "      <th>3</th>\n",
       "      <td>نصيحة احكي مع الرئيس ميشال عون او هاجم جبران ب...</td>\n",
       "      <td>0</td>\n",
       "    </tr>\n",
       "    <tr>\n",
       "      <th>4</th>\n",
       "      <td>مش عم يناموا الليل ليقدمولنا حكومة</td>\n",
       "      <td>0</td>\n",
       "    </tr>\n",
       "    <tr>\n",
       "      <th>...</th>\n",
       "      <td>...</td>\n",
       "      <td>...</td>\n",
       "    </tr>\n",
       "    <tr>\n",
       "      <th>4113</th>\n",
       "      <td>جبران باسيل عار على العرب ككل ماهو الا فرخ مجو...</td>\n",
       "      <td>1</td>\n",
       "    </tr>\n",
       "    <tr>\n",
       "      <th>4114</th>\n",
       "      <td>لبنان شامخ بعروبتو بأخواتو العرب بس الفرس ما ج...</td>\n",
       "      <td>1</td>\n",
       "    </tr>\n",
       "    <tr>\n",
       "      <th>4115</th>\n",
       "      <td>لا تنسى ان هذا الوهاب عنصري وحاقد وخادم أمين ل...</td>\n",
       "      <td>1</td>\n",
       "    </tr>\n",
       "    <tr>\n",
       "      <th>4116</th>\n",
       "      <td>إخزاك الله كنا مخدوعين فيك او انك أفدغ مصحوك ع...</td>\n",
       "      <td>1</td>\n",
       "    </tr>\n",
       "    <tr>\n",
       "      <th>4117</th>\n",
       "      <td>ليش تيوس الإمارت والسعودية مع السوريين واليمني...</td>\n",
       "      <td>1</td>\n",
       "    </tr>\n",
       "  </tbody>\n",
       "</table>\n",
       "<p>4118 rows × 2 columns</p>\n",
       "</div>"
      ],
      "text/plain": [
       "                                                  tweet label\n",
       "0     صديقي انت ابن جامعه اللعبه اكبر من داعش اللعبه...     0\n",
       "1     و مصلحة لبنان تبدأ باستخراج النفط و الغاز لوقف...     0\n",
       "2     يا جبران باسيل يا معلم يا ريس يا استاذ بدك حضن...     0\n",
       "3     نصيحة احكي مع الرئيس ميشال عون او هاجم جبران ب...     0\n",
       "4              مش عم يناموا الليل ليقدمولنا حكومة           0\n",
       "...                                                 ...   ...\n",
       "4113  جبران باسيل عار على العرب ككل ماهو الا فرخ مجو...     1\n",
       "4114  لبنان شامخ بعروبتو بأخواتو العرب بس الفرس ما ج...     1\n",
       "4115  لا تنسى ان هذا الوهاب عنصري وحاقد وخادم أمين ل...     1\n",
       "4116  إخزاك الله كنا مخدوعين فيك او انك أفدغ مصحوك ع...     1\n",
       "4117  ليش تيوس الإمارت والسعودية مع السوريين واليمني...     1\n",
       "\n",
       "[4118 rows x 2 columns]"
      ]
     },
     "execution_count": 14,
     "metadata": {},
     "output_type": "execute_result"
    }
   ],
   "source": [
    "df_Mulki = pd.read_csv(r\"C:\\Users\\samsu\\Desktop\\Fall20\\CS 695-002\\Project\\Datasets\\Arabic\\Mulki et al.csv\", sep = '\\t' ,error_bad_lines=False)\n",
    "df_Mulki.columns = ['tweet','label']\n",
    "df_Mulki_normal  = df_Mulki[df_Mulki['label']== 'normal']\n",
    "df_Mulki_hate  = df_Mulki[df_Mulki['label'] == 'hate']\n",
    "df_Mulki = pd.concat([df_Mulki_normal,df_Mulki_hate], axis = 0)\n",
    "df_Mulki.label[df_Mulki.label =='normal'] =0\n",
    "df_Mulki.label[df_Mulki.label =='hate'] =1\n",
    "print(df_Mulki.label.value_counts())\n",
    "df_Mulki = df_Mulki.reset_index(drop =True)\n",
    "df_Mulki"
   ]
  },
  {
   "cell_type": "code",
   "execution_count": 15,
   "metadata": {},
   "outputs": [
    {
     "data": {
      "text/html": [
       "<div>\n",
       "<style scoped>\n",
       "    .dataframe tbody tr th:only-of-type {\n",
       "        vertical-align: middle;\n",
       "    }\n",
       "\n",
       "    .dataframe tbody tr th {\n",
       "        vertical-align: top;\n",
       "    }\n",
       "\n",
       "    .dataframe thead th {\n",
       "        text-align: right;\n",
       "    }\n",
       "</style>\n",
       "<table border=\"1\" class=\"dataframe\">\n",
       "  <thead>\n",
       "    <tr style=\"text-align: right;\">\n",
       "      <th></th>\n",
       "      <th>tweet</th>\n",
       "      <th>label</th>\n",
       "    </tr>\n",
       "  </thead>\n",
       "  <tbody>\n",
       "    <tr>\n",
       "      <th>0</th>\n",
       "      <td>صديقي انت ابن جامعه اللعبه اكبر من داعش اللعبه...</td>\n",
       "      <td>0</td>\n",
       "    </tr>\n",
       "    <tr>\n",
       "      <th>1</th>\n",
       "      <td>و مصلحة لبنان تبدأ باستخراج النفط و الغاز لوقف...</td>\n",
       "      <td>0</td>\n",
       "    </tr>\n",
       "    <tr>\n",
       "      <th>2</th>\n",
       "      <td>يا جبران باسيل يا معلم يا ريس يا استاذ بدك حضن...</td>\n",
       "      <td>0</td>\n",
       "    </tr>\n",
       "    <tr>\n",
       "      <th>3</th>\n",
       "      <td>نصيحة احكي مع الرئيس ميشال عون او هاجم جبران ب...</td>\n",
       "      <td>0</td>\n",
       "    </tr>\n",
       "    <tr>\n",
       "      <th>4</th>\n",
       "      <td>مش عم يناموا الليل ليقدمولنا حكومة</td>\n",
       "      <td>0</td>\n",
       "    </tr>\n",
       "    <tr>\n",
       "      <th>...</th>\n",
       "      <td>...</td>\n",
       "      <td>...</td>\n",
       "    </tr>\n",
       "    <tr>\n",
       "      <th>1665</th>\n",
       "      <td>@user لا أعتبر بايرة حتى أصل ال30</td>\n",
       "      <td>0</td>\n",
       "    </tr>\n",
       "    <tr>\n",
       "      <th>1666</th>\n",
       "      <td>اقليم كردستان: ازدياد معدل العنف والتحرش الجنس...</td>\n",
       "      <td>0</td>\n",
       "    </tr>\n",
       "    <tr>\n",
       "      <th>1667</th>\n",
       "      <td>اكبر ثلاث كاذبين بل عالم اولهم من قال صوت المر...</td>\n",
       "      <td>0</td>\n",
       "    </tr>\n",
       "    <tr>\n",
       "      <th>1668</th>\n",
       "      <td>@user ي بعد جبدي انت . انا أحبك أكثر ي واحشني ...</td>\n",
       "      <td>0</td>\n",
       "    </tr>\n",
       "    <tr>\n",
       "      <th>1669</th>\n",
       "      <td>الحريم أجمع افلوس وايفون قديم وواتساب ٢٤ ساعة</td>\n",
       "      <td>0</td>\n",
       "    </tr>\n",
       "  </tbody>\n",
       "</table>\n",
       "<p>5788 rows × 2 columns</p>\n",
       "</div>"
      ],
      "text/plain": [
       "                                                  tweet label\n",
       "0     صديقي انت ابن جامعه اللعبه اكبر من داعش اللعبه...     0\n",
       "1     و مصلحة لبنان تبدأ باستخراج النفط و الغاز لوقف...     0\n",
       "2     يا جبران باسيل يا معلم يا ريس يا استاذ بدك حضن...     0\n",
       "3     نصيحة احكي مع الرئيس ميشال عون او هاجم جبران ب...     0\n",
       "4              مش عم يناموا الليل ليقدمولنا حكومة           0\n",
       "...                                                 ...   ...\n",
       "1665                  @user لا أعتبر بايرة حتى أصل ال30     0\n",
       "1666  اقليم كردستان: ازدياد معدل العنف والتحرش الجنس...     0\n",
       "1667  اكبر ثلاث كاذبين بل عالم اولهم من قال صوت المر...     0\n",
       "1668  @user ي بعد جبدي انت . انا أحبك أكثر ي واحشني ...     0\n",
       "1669      الحريم أجمع افلوس وايفون قديم وواتساب ٢٤ ساعة     0\n",
       "\n",
       "[5788 rows x 2 columns]"
      ]
     },
     "execution_count": 15,
     "metadata": {},
     "output_type": "execute_result"
    }
   ],
   "source": [
    "df_Arabic = pd.concat([df_Mulki, df_Ousidhoum_Arabic], axis =0)\n",
    "df_Arabic"
   ]
  },
  {
   "cell_type": "markdown",
   "metadata": {},
   "source": [
    "# Spanish"
   ]
  },
  {
   "cell_type": "markdown",
   "metadata": {},
   "source": [
    "### Pereira et al"
   ]
  },
  {
   "cell_type": "code",
   "execution_count": 16,
   "metadata": {},
   "outputs": [
    {
     "name": "stdout",
     "output_type": "stream",
     "text": [
      "0    4433\n",
      "1    1567\n",
      "Name: label, dtype: int64\n"
     ]
    },
    {
     "data": {
      "text/html": [
       "<div>\n",
       "<style scoped>\n",
       "    .dataframe tbody tr th:only-of-type {\n",
       "        vertical-align: middle;\n",
       "    }\n",
       "\n",
       "    .dataframe tbody tr th {\n",
       "        vertical-align: top;\n",
       "    }\n",
       "\n",
       "    .dataframe thead th {\n",
       "        text-align: right;\n",
       "    }\n",
       "</style>\n",
       "<table border=\"1\" class=\"dataframe\">\n",
       "  <thead>\n",
       "    <tr style=\"text-align: right;\">\n",
       "      <th></th>\n",
       "      <th>tweet</th>\n",
       "      <th>label</th>\n",
       "    </tr>\n",
       "  </thead>\n",
       "  <tbody>\n",
       "    <tr>\n",
       "      <th>0</th>\n",
       "      <td>[Ismael es egocentrico porque se vuelve loca s...</td>\n",
       "      <td>0</td>\n",
       "    </tr>\n",
       "    <tr>\n",
       "      <th>1</th>\n",
       "      <td>[..ya tardaba en salir quien pronunciase nombr...</td>\n",
       "      <td>0</td>\n",
       "    </tr>\n",
       "    <tr>\n",
       "      <th>2</th>\n",
       "      <td>[(Esto no es un discurso político y razonado, ...</td>\n",
       "      <td>0</td>\n",
       "    </tr>\n",
       "    <tr>\n",
       "      <th>3</th>\n",
       "      <td>[Muy despreciados, siiii, pero todos vestidos ...</td>\n",
       "      <td>1</td>\n",
       "    </tr>\n",
       "    <tr>\n",
       "      <th>4</th>\n",
       "      <td>[marica explicame porque a veces no te entiend...</td>\n",
       "      <td>1</td>\n",
       "    </tr>\n",
       "  </tbody>\n",
       "</table>\n",
       "</div>"
      ],
      "text/plain": [
       "                                               tweet label\n",
       "0  [Ismael es egocentrico porque se vuelve loca s...     0\n",
       "1  [..ya tardaba en salir quien pronunciase nombr...     0\n",
       "2  [(Esto no es un discurso político y razonado, ...     0\n",
       "3  [Muy despreciados, siiii, pero todos vestidos ...     1\n",
       "4  [marica explicame porque a veces no te entiend...     1"
      ]
     },
     "execution_count": 16,
     "metadata": {},
     "output_type": "execute_result"
    }
   ],
   "source": [
    "tweets = []\n",
    "labels = []\n",
    "with open(r'C:\\Users\\samsu\\Desktop\\Fall20\\CS 695-002\\Project\\Datasets\\Spanish\\Pereira et al\\Pereira et al.txt', 'r', encoding = 'utf-8') as inp:\n",
    "    lines = inp.readlines()\n",
    "    for line in lines:\n",
    "        line = str(line)\n",
    "        label = line.split(\",\")[-1].strip()\n",
    "        labels.append(label)\n",
    "        tweet = (line.split(\",\")[:-1])\n",
    "        tweets.append(tweet)     \n",
    "df_Pereira = pd.DataFrame()\n",
    "df_Pereira['tweet'] = tweets\n",
    "df_Pereira['label'] = labels\n",
    "print(df_Pereira.label.value_counts())\n",
    "df_Pereira.head()"
   ]
  },
  {
   "cell_type": "markdown",
   "metadata": {},
   "source": [
    "### Basile et al"
   ]
  },
  {
   "cell_type": "code",
   "execution_count": 17,
   "metadata": {},
   "outputs": [
    {
     "name": "stdout",
     "output_type": "stream",
     "text": [
      "0    3861\n",
      "1    2739\n",
      "Name: label, dtype: int64\n"
     ]
    },
    {
     "data": {
      "text/html": [
       "<div>\n",
       "<style scoped>\n",
       "    .dataframe tbody tr th:only-of-type {\n",
       "        vertical-align: middle;\n",
       "    }\n",
       "\n",
       "    .dataframe tbody tr th {\n",
       "        vertical-align: top;\n",
       "    }\n",
       "\n",
       "    .dataframe thead th {\n",
       "        text-align: right;\n",
       "    }\n",
       "</style>\n",
       "<table border=\"1\" class=\"dataframe\">\n",
       "  <thead>\n",
       "    <tr style=\"text-align: right;\">\n",
       "      <th></th>\n",
       "      <th>tweet</th>\n",
       "      <th>label</th>\n",
       "    </tr>\n",
       "  </thead>\n",
       "  <tbody>\n",
       "    <tr>\n",
       "      <th>0</th>\n",
       "      <td>Easyjet quiere duplicar el número de mujeres p...</td>\n",
       "      <td>1</td>\n",
       "    </tr>\n",
       "    <tr>\n",
       "      <th>1</th>\n",
       "      <td>El gobierno debe crear un control estricto de ...</td>\n",
       "      <td>1</td>\n",
       "    </tr>\n",
       "    <tr>\n",
       "      <th>2</th>\n",
       "      <td>Yo veo a mujeres destruidas por acoso laboral ...</td>\n",
       "      <td>0</td>\n",
       "    </tr>\n",
       "    <tr>\n",
       "      <th>3</th>\n",
       "      <td>— Yo soy respetuoso con los demás, sólamente l...</td>\n",
       "      <td>0</td>\n",
       "    </tr>\n",
       "    <tr>\n",
       "      <th>4</th>\n",
       "      <td>Antonio Caballero y como ser de mal gusto e ig...</td>\n",
       "      <td>0</td>\n",
       "    </tr>\n",
       "  </tbody>\n",
       "</table>\n",
       "</div>"
      ],
      "text/plain": [
       "                                               tweet  label\n",
       "0  Easyjet quiere duplicar el número de mujeres p...      1\n",
       "1  El gobierno debe crear un control estricto de ...      1\n",
       "2  Yo veo a mujeres destruidas por acoso laboral ...      0\n",
       "3  — Yo soy respetuoso con los demás, sólamente l...      0\n",
       "4  Antonio Caballero y como ser de mal gusto e ig...      0"
      ]
     },
     "execution_count": 17,
     "metadata": {},
     "output_type": "execute_result"
    }
   ],
   "source": [
    "train = pd.read_csv(r'C:\\Users\\samsu\\Desktop\\Fall20\\CS 695-002\\Project\\Datasets\\Spanish\\Basile et al\\hateval2019_es_train.csv')\n",
    "dev = pd.read_csv(r'C:\\Users\\samsu\\Desktop\\Fall20\\CS 695-002\\Project\\Datasets\\Spanish\\Basile et al\\hateval2019_es_dev.csv')\n",
    "test = pd.read_csv(r'C:\\Users\\samsu\\Desktop\\Fall20\\CS 695-002\\Project\\Datasets\\Spanish\\Basile et al\\hateval2019_es_test.csv')\n",
    "\n",
    "df_Basile_Spanish = pd.concat([train,dev,test], axis = 0)\n",
    "df_Basile_Spanish.drop(['id','TR','AG'], axis = 1, inplace = True)\n",
    "df_Basile_Spanish.columns = ['tweet','label']\n",
    "print(df_Basile_Spanish.label.value_counts())\n",
    "df_Basile_Spanish.head()"
   ]
  },
  {
   "cell_type": "code",
   "execution_count": 18,
   "metadata": {},
   "outputs": [
    {
     "data": {
      "text/html": [
       "<div>\n",
       "<style scoped>\n",
       "    .dataframe tbody tr th:only-of-type {\n",
       "        vertical-align: middle;\n",
       "    }\n",
       "\n",
       "    .dataframe tbody tr th {\n",
       "        vertical-align: top;\n",
       "    }\n",
       "\n",
       "    .dataframe thead th {\n",
       "        text-align: right;\n",
       "    }\n",
       "</style>\n",
       "<table border=\"1\" class=\"dataframe\">\n",
       "  <thead>\n",
       "    <tr style=\"text-align: right;\">\n",
       "      <th></th>\n",
       "      <th>tweet</th>\n",
       "      <th>label</th>\n",
       "    </tr>\n",
       "  </thead>\n",
       "  <tbody>\n",
       "    <tr>\n",
       "      <th>0</th>\n",
       "      <td>Easyjet quiere duplicar el número de mujeres p...</td>\n",
       "      <td>1</td>\n",
       "    </tr>\n",
       "    <tr>\n",
       "      <th>1</th>\n",
       "      <td>El gobierno debe crear un control estricto de ...</td>\n",
       "      <td>1</td>\n",
       "    </tr>\n",
       "    <tr>\n",
       "      <th>2</th>\n",
       "      <td>Yo veo a mujeres destruidas por acoso laboral ...</td>\n",
       "      <td>0</td>\n",
       "    </tr>\n",
       "    <tr>\n",
       "      <th>3</th>\n",
       "      <td>— Yo soy respetuoso con los demás, sólamente l...</td>\n",
       "      <td>0</td>\n",
       "    </tr>\n",
       "    <tr>\n",
       "      <th>4</th>\n",
       "      <td>Antonio Caballero y como ser de mal gusto e ig...</td>\n",
       "      <td>0</td>\n",
       "    </tr>\n",
       "    <tr>\n",
       "      <th>...</th>\n",
       "      <td>...</td>\n",
       "      <td>...</td>\n",
       "    </tr>\n",
       "    <tr>\n",
       "      <th>5995</th>\n",
       "      <td>[Sea independentista o constitucionalista,  la...</td>\n",
       "      <td>0</td>\n",
       "    </tr>\n",
       "    <tr>\n",
       "      <th>5996</th>\n",
       "      <td>[@Bernithedude Llave de gobierno de qué si hay...</td>\n",
       "      <td>0</td>\n",
       "    </tr>\n",
       "    <tr>\n",
       "      <th>5997</th>\n",
       "      <td>[@13Pardis @guenhwyvarblack Los carlinos son u...</td>\n",
       "      <td>0</td>\n",
       "    </tr>\n",
       "    <tr>\n",
       "      <th>5998</th>\n",
       "      <td>[Aplausos en el partido de Colau cuando anunci...</td>\n",
       "      <td>0</td>\n",
       "    </tr>\n",
       "    <tr>\n",
       "      <th>5999</th>\n",
       "      <td>[@Rafa_Hernando La Constitución es independent...</td>\n",
       "      <td>0</td>\n",
       "    </tr>\n",
       "  </tbody>\n",
       "</table>\n",
       "<p>12600 rows × 2 columns</p>\n",
       "</div>"
      ],
      "text/plain": [
       "                                                  tweet label\n",
       "0     Easyjet quiere duplicar el número de mujeres p...     1\n",
       "1     El gobierno debe crear un control estricto de ...     1\n",
       "2     Yo veo a mujeres destruidas por acoso laboral ...     0\n",
       "3     — Yo soy respetuoso con los demás, sólamente l...     0\n",
       "4     Antonio Caballero y como ser de mal gusto e ig...     0\n",
       "...                                                 ...   ...\n",
       "5995  [Sea independentista o constitucionalista,  la...     0\n",
       "5996  [@Bernithedude Llave de gobierno de qué si hay...     0\n",
       "5997  [@13Pardis @guenhwyvarblack Los carlinos son u...     0\n",
       "5998  [Aplausos en el partido de Colau cuando anunci...     0\n",
       "5999  [@Rafa_Hernando La Constitución es independent...     0\n",
       "\n",
       "[12600 rows x 2 columns]"
      ]
     },
     "execution_count": 18,
     "metadata": {},
     "output_type": "execute_result"
    }
   ],
   "source": [
    "df_Spanish = pd.concat([df_Basile_Spanish, df_Pereira], axis =0)\n",
    "df_Spanish"
   ]
  },
  {
   "cell_type": "markdown",
   "metadata": {},
   "source": [
    "# French"
   ]
  },
  {
   "cell_type": "code",
   "execution_count": 19,
   "metadata": {},
   "outputs": [
    {
     "name": "stdout",
     "output_type": "stream",
     "text": [
      "0    821\n",
      "1    399\n",
      "Name: label, dtype: int64\n"
     ]
    }
   ],
   "source": [
    "Directory_French = r'C:\\Users\\samsu\\Desktop\\Fall20\\CS 695-002\\Project\\Datasets\\French'\n",
    "Ousidhoum_French = 'Ousidhoum et al.csv'\n",
    "df_French = Ousidhoum_data(Directory_French, Ousidhoum_French)"
   ]
  },
  {
   "cell_type": "markdown",
   "metadata": {},
   "source": [
    "## Writing all the final files to CSV"
   ]
  },
  {
   "cell_type": "code",
   "execution_count": 14,
   "metadata": {},
   "outputs": [],
   "source": [
    "def df_csv(directory, fname, df):\n",
    "    fname = os.path.join(directory, fname)\n",
    "    df.to_csv(fname, index = False)"
   ]
  },
  {
   "cell_type": "code",
   "execution_count": 26,
   "metadata": {},
   "outputs": [],
   "source": [
    "path = r'C:\\Users\\samsu\\Desktop\\Fall20\\CS 695-002\\Project\\Datasets\\Final_Data'\n",
    "\n",
    "df_csv(path, 'Arabic.csv', df_Arabic)\n",
    "df_csv(path, 'English.csv', df_English)\n",
    "df_csv(path, 'French.csv', df_French)\n",
    "df_csv(path, 'Spanish.csv', df_Spanish)"
   ]
  },
  {
   "cell_type": "markdown",
   "metadata": {},
   "source": [
    "# Multilingual Dataset preparation"
   ]
  },
  {
   "cell_type": "code",
   "execution_count": 31,
   "metadata": {},
   "outputs": [],
   "source": [
    "en = pd.read_csv(r'C:\\Users\\samsu\\Desktop\\Fall20\\CS 695-002\\Project\\Datasets\\Final_Data\\English.csv')\n",
    "fr = pd.read_csv(r'C:\\Users\\samsu\\Desktop\\Fall20\\CS 695-002\\Project\\Datasets\\Final_Data\\French.csv')\n",
    "ar = pd.read_csv(r'C:\\Users\\samsu\\Desktop\\Fall20\\CS 695-002\\Project\\Datasets\\Final_Data\\Arabic.csv')"
   ]
  },
  {
   "cell_type": "code",
   "execution_count": 57,
   "metadata": {},
   "outputs": [],
   "source": [
    "en_fr = pd.concat([en, fr], axis =0).reset_index(drop=True)\n",
    "fr_ar = pd.concat([ar, fr], axis =0).reset_index(drop=True)\n",
    "en_ar = pd.concat([en, ar], axis =0).reset_index(drop=True)\n",
    "\n",
    "path = r'C:\\Users\\samsu\\Desktop\\Fall20\\CS 695-002\\Project\\Datasets\\Multilingual data'\n",
    "\n",
    "df_csv(path, 'en_fr.csv', en_fr)\n",
    "df_csv(path, 'fr_ar.csv', fr_ar)\n",
    "df_csv(path, 'en_ar.csv', en_ar)"
   ]
  }
 ],
 "metadata": {
  "kernelspec": {
   "display_name": "Python 3",
   "language": "python",
   "name": "python3"
  },
  "language_info": {
   "codemirror_mode": {
    "name": "ipython",
    "version": 3
   },
   "file_extension": ".py",
   "mimetype": "text/x-python",
   "name": "python",
   "nbconvert_exporter": "python",
   "pygments_lexer": "ipython3",
   "version": "3.7.7"
  }
 },
 "nbformat": 4,
 "nbformat_minor": 4
}
