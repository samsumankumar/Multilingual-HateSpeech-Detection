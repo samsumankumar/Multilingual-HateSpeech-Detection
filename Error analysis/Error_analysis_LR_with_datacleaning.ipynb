{
  "nbformat": 4,
  "nbformat_minor": 0,
  "metadata": {
    "colab": {
      "name": "Error_analysis_LR_with_datacleaning",
      "provenance": [],
      "collapsed_sections": [],
      "machine_shape": "hm"
    },
    "kernelspec": {
      "name": "python3",
      "display_name": "Python 3"
    },
    "accelerator": "GPU"
  },
  "cells": [
    {
      "cell_type": "code",
      "metadata": {
        "id": "njbQWy445i7g",
        "colab": {
          "base_uri": "https://localhost:8080/"
        },
        "outputId": "8f96b6bd-cc2a-410d-d60f-26df85eb8883"
      },
      "source": [
        "from google.colab import drive\n",
        "drive.mount('/content/drive')"
      ],
      "execution_count": null,
      "outputs": [
        {
          "output_type": "stream",
          "text": [
            "Mounted at /content/drive\n"
          ],
          "name": "stdout"
        }
      ]
    },
    {
      "cell_type": "code",
      "metadata": {
        "id": "KlNOkzkG5uMt",
        "colab": {
          "base_uri": "https://localhost:8080/"
        },
        "outputId": "5db2d580-1212-4b77-8d63-98c2624eb61c"
      },
      "source": [
        "pip install laserembeddings"
      ],
      "execution_count": null,
      "outputs": [
        {
          "output_type": "stream",
          "text": [
            "Collecting laserembeddings\n",
            "  Downloading https://files.pythonhosted.org/packages/a2/4b/a9e3ee9f4825bd2bb6b48f26370e2c341860ec0cb2a9a27deea9be6c2299/laserembeddings-1.1.0-py3-none-any.whl\n",
            "Collecting subword-nmt<0.4.0,>=0.3.6\n",
            "  Downloading https://files.pythonhosted.org/packages/74/60/6600a7bc09e7ab38bc53a48a20d8cae49b837f93f5842a41fe513a694912/subword_nmt-0.3.7-py2.py3-none-any.whl\n",
            "Collecting sacremoses==0.0.35\n",
            "\u001b[?25l  Downloading https://files.pythonhosted.org/packages/1f/8e/ed5364a06a9ba720fddd9820155cc57300d28f5f43a6fd7b7e817177e642/sacremoses-0.0.35.tar.gz (859kB)\n",
            "\u001b[K     |████████████████████████████████| 860kB 6.8MB/s \n",
            "\u001b[?25hRequirement already satisfied: numpy<2.0.0,>=1.15.4 in /usr/local/lib/python3.6/dist-packages (from laserembeddings) (1.18.5)\n",
            "Requirement already satisfied: torch<2.0.0,>=1.0.1.post2 in /usr/local/lib/python3.6/dist-packages (from laserembeddings) (1.7.0+cu101)\n",
            "Collecting transliterate==1.10.2\n",
            "\u001b[?25l  Downloading https://files.pythonhosted.org/packages/a1/6e/9a9d597dbdd6d0172427c8cc07c35736471e631060df9e59eeb87687f817/transliterate-1.10.2-py2.py3-none-any.whl (45kB)\n",
            "\u001b[K     |████████████████████████████████| 51kB 6.2MB/s \n",
            "\u001b[?25hRequirement already satisfied: six in /usr/local/lib/python3.6/dist-packages (from sacremoses==0.0.35->laserembeddings) (1.15.0)\n",
            "Requirement already satisfied: click in /usr/local/lib/python3.6/dist-packages (from sacremoses==0.0.35->laserembeddings) (7.1.2)\n",
            "Requirement already satisfied: joblib in /usr/local/lib/python3.6/dist-packages (from sacremoses==0.0.35->laserembeddings) (0.17.0)\n",
            "Requirement already satisfied: tqdm in /usr/local/lib/python3.6/dist-packages (from sacremoses==0.0.35->laserembeddings) (4.41.1)\n",
            "Requirement already satisfied: typing-extensions in /usr/local/lib/python3.6/dist-packages (from torch<2.0.0,>=1.0.1.post2->laserembeddings) (3.7.4.3)\n",
            "Requirement already satisfied: future in /usr/local/lib/python3.6/dist-packages (from torch<2.0.0,>=1.0.1.post2->laserembeddings) (0.16.0)\n",
            "Requirement already satisfied: dataclasses in /usr/local/lib/python3.6/dist-packages (from torch<2.0.0,>=1.0.1.post2->laserembeddings) (0.8)\n",
            "Building wheels for collected packages: sacremoses\n",
            "  Building wheel for sacremoses (setup.py) ... \u001b[?25l\u001b[?25hdone\n",
            "  Created wheel for sacremoses: filename=sacremoses-0.0.35-cp36-none-any.whl size=883999 sha256=6dc99a3f01efeba31d495f4a3170d8afad7f2fcd7f5406ce1ff51da812449eef\n",
            "  Stored in directory: /root/.cache/pip/wheels/63/2a/db/63e2909042c634ef551d0d9ac825b2b0b32dede4a6d87ddc94\n",
            "Successfully built sacremoses\n",
            "Installing collected packages: subword-nmt, sacremoses, transliterate, laserembeddings\n",
            "Successfully installed laserembeddings-1.1.0 sacremoses-0.0.35 subword-nmt-0.3.7 transliterate-1.10.2\n"
          ],
          "name": "stdout"
        }
      ]
    },
    {
      "cell_type": "code",
      "metadata": {
        "id": "LQyLlWrH5xcX",
        "colab": {
          "base_uri": "https://localhost:8080/"
        },
        "outputId": "2cb0e4f7-be63-4704-fc06-b8a41b478e59"
      },
      "source": [
        "!python -m laserembeddings download-models"
      ],
      "execution_count": null,
      "outputs": [
        {
          "output_type": "stream",
          "text": [
            "Downloading models into /usr/local/lib/python3.6/dist-packages/laserembeddings/data\n",
            "\n",
            "✅   Downloaded https://dl.fbaipublicfiles.com/laser/models/93langs.fcodes    \n",
            "✅   Downloaded https://dl.fbaipublicfiles.com/laser/models/93langs.fvocab    \n",
            "✅   Downloaded https://dl.fbaipublicfiles.com/laser/models/bilstm.93langs.2018-12-26.pt    \n",
            "\n",
            "✨ You're all set!\n"
          ],
          "name": "stdout"
        }
      ]
    },
    {
      "cell_type": "code",
      "metadata": {
        "colab": {
          "base_uri": "https://localhost:8080/"
        },
        "id": "PGuyUBCML7Z3",
        "outputId": "9e84061f-33b8-45e2-9751-46b845f932e4"
      },
      "source": [
        "!pip install emoji"
      ],
      "execution_count": null,
      "outputs": [
        {
          "output_type": "stream",
          "text": [
            "Collecting emoji\n",
            "\u001b[?25l  Downloading https://files.pythonhosted.org/packages/ff/1c/1f1457fe52d0b30cbeebfd578483cedb3e3619108d2d5a21380dfecf8ffd/emoji-0.6.0.tar.gz (51kB)\n",
            "\r\u001b[K     |██████▍                         | 10kB 13.4MB/s eta 0:00:01\r\u001b[K     |████████████▉                   | 20kB 18.2MB/s eta 0:00:01\r\u001b[K     |███████████████████▎            | 30kB 10.5MB/s eta 0:00:01\r\u001b[K     |█████████████████████████▊      | 40kB 8.6MB/s eta 0:00:01\r\u001b[K     |████████████████████████████████| 51kB 2.7MB/s \n",
            "\u001b[?25hBuilding wheels for collected packages: emoji\n",
            "  Building wheel for emoji (setup.py) ... \u001b[?25l\u001b[?25hdone\n",
            "  Created wheel for emoji: filename=emoji-0.6.0-cp36-none-any.whl size=49716 sha256=4f37c3b1a1856becfccbf16b4f1e17641cc99e4fd8d47995df3f6ab6b23b7dd1\n",
            "  Stored in directory: /root/.cache/pip/wheels/46/2c/8b/9dcf5216ca68e14e0320e283692dce8ae321cdc01e73e17796\n",
            "Successfully built emoji\n",
            "Installing collected packages: emoji\n",
            "Successfully installed emoji-0.6.0\n"
          ],
          "name": "stdout"
        }
      ]
    },
    {
      "cell_type": "code",
      "metadata": {
        "id": "9wh1jvR-50MR",
        "colab": {
          "base_uri": "https://localhost:8080/"
        },
        "outputId": "f64ffdc0-5694-4103-a860-a3eabe8ad029"
      },
      "source": [
        "import pandas as pd\n",
        "import numpy as np\n",
        "import os\n",
        "from pandas import DataFrame\n",
        "from laserembeddings import Laser\n",
        "from sklearn.model_selection import StratifiedShuffleSplit\n",
        "from sklearn.linear_model import LogisticRegression\n",
        "from sklearn.metrics import f1_score\n",
        "from sklearn.metrics import accuracy_score\n",
        "import pickle\n",
        "\n",
        "from statistics import mode\n",
        "\n",
        "import re\n",
        "import emoji\n",
        "import random\n",
        "\n",
        "import nltk\n",
        "nltk.download('stopwords')\n",
        "from nltk import word_tokenize, pos_tag\n",
        "from nltk.stem import WordNetLemmatizer\n",
        "from nltk.tokenize import sent_tokenize, TweetTokenizer\n",
        "from nltk.corpus import wordnet, stopwords"
      ],
      "execution_count": null,
      "outputs": [
        {
          "output_type": "stream",
          "text": [
            "[nltk_data] Downloading package stopwords to /root/nltk_data...\n",
            "[nltk_data]   Unzipping corpora/stopwords.zip.\n"
          ],
          "name": "stdout"
        }
      ]
    },
    {
      "cell_type": "code",
      "metadata": {
        "id": "xBW_lk9ADxqv"
      },
      "source": [
        "def preprocess(df):\n",
        "  \n",
        "  #removes URL\n",
        "  pattern = r'https.?://[^\\s]+[\\s]?'\n",
        "  df[\"tweet\"] = df[\"tweet\"].str.replace(pat=pattern, repl=\"\", regex=True)\n",
        "  \n",
        "  #removes usernames/mentions\n",
        "  pattern = r'@[^\\s]+'\n",
        "  df[\"tweet\"] = df[\"tweet\"].str.replace(pat=pattern, repl=\"\", regex=True)\n",
        "  \n",
        "  #removes emoji and smiley\n",
        "  pattern = re.compile(\"[\"\n",
        "                      u\"\\U0001F600-\\U0001F64F\"\n",
        "                      u\"\\U0001F300-\\U0001F5FF\"\n",
        "                      u\"\\U0001F680-\\U0001F6FF\"\n",
        "                      u\"\\U0001F1E0-\\U0001F1FF\"\n",
        "                      u\"\\U00002500-\\U00002BEF\"\n",
        "                      u\"\\U00002702-\\U000027B0\"\n",
        "                      u\"\\U00002702-\\U000027B0\"\n",
        "                      u\"\\U000024C2-\\U0001F251\"\n",
        "                      u\"\\U0001f926-\\U0001f937\"\n",
        "                      u\"\\U00010000-\\U0010ffff\"\n",
        "                      u\"\\u2640-\\u2642\"\n",
        "                      u\"\\u2600-\\u2B55\"\n",
        "                      u\"\\u200d\"\n",
        "                      u\"\\u23cf\"\n",
        "                      u\"\\u23e9\"\n",
        "                      u\"\\u231a\"\n",
        "                      u\"\\ufe0f\"\n",
        "                      u\"\\u3030\"\n",
        "                      \"]+\", flags=re.UNICODE)\n",
        "  df[\"tweet\"] = df[\"tweet\"].str.replace(pat=pattern, repl=\"\", regex=True)\n",
        "  \n",
        "  #removes numbers\n",
        "  pattern = r'\\d+'\n",
        "  df[\"tweet\"] = df[\"tweet\"].str.replace(pat=pattern, repl=\"\", regex=True)\n",
        "  \n",
        "  #removes punctuation\n",
        "  pattern = r\"[^\\w\\s]\"\n",
        "  df[\"tweet\"] = df[\"tweet\"].str.replace(pat=pattern, repl=\" \", regex=True)\n",
        "\n",
        "  #removes stop words\n",
        "  stop_words = stopwords.words(\"english\")    \n",
        "  remove_stop_words = lambda row: \" \".join([token for token in row.split(\" \")\n",
        "                                            if token not in stop_words])\n",
        "  df[\"tweet\"] = df[\"tweet\"].apply(remove_stop_words)\n",
        "  \n",
        "  #removes extra spaces\n",
        "  pattern = r\"[\\s]+\"\n",
        "  df[\"tweet\"] = df[\"tweet\"].str.replace(pat=pattern, repl=\" \", regex=True)\n",
        "  \n",
        "  return(df)"
      ],
      "execution_count": null,
      "outputs": []
    },
    {
      "cell_type": "code",
      "metadata": {
        "id": "piXy8Qw952_c"
      },
      "source": [
        "lang = ['Arabic','English','French']\n",
        "cols = []\n",
        "for i in range(1024):\n",
        "  cols.append(i)"
      ],
      "execution_count": null,
      "outputs": []
    },
    {
      "cell_type": "code",
      "metadata": {
        "id": "08JCt89D55RD"
      },
      "source": [
        "def preprocessing(language):\n",
        "    path = 'drive/My Drive/CS695'\n",
        "    data = pd.read_csv(os.path.join(path,language+'.csv'))\n",
        "    data_preprocess = preprocess(data)\n",
        "    data_to_list = data_preprocess['tweet'].to_list()\n",
        "\n",
        "    laser = Laser()\n",
        "    embeddings = laser.embed_sentences(data_to_list, lang='en') \n",
        "\n",
        "    df1=pd.DataFrame(embeddings)\n",
        "    df2 = pd.DataFrame(data['label'])\n",
        "\n",
        "    sss1 = StratifiedShuffleSplit(n_splits=1,test_size=0.3,random_state=0)\n",
        "    a = list(sss1.split(df1, df2))\n",
        "    train_x,interX = df1.iloc[a[0][0],:],df1.iloc[a[0][1],:]\n",
        "    train_y,interY = df2.iloc[a[0][0],:],df2.iloc[a[0][1],:]\n",
        "\n",
        "    sss2 = StratifiedShuffleSplit(n_splits=1,test_size=0.35,random_state=0)\n",
        "    a = list(sss2.split(interX, interY))\n",
        "    test_x,val_x = interX.iloc[a[0][0],:],interX.iloc[a[0][1],:]\n",
        "    test_y,val_y = interY.iloc[a[0][0],:],interY.iloc[a[0][1],:]\n",
        "\n",
        "    return train_x, test_x, val_x, train_y, test_y, val_y "
      ],
      "execution_count": null,
      "outputs": []
    },
    {
      "cell_type": "code",
      "metadata": {
        "id": "wXzgZuezVsqS",
        "colab": {
          "base_uri": "https://localhost:8080/"
        },
        "outputId": "9979ee52-55a0-4d22-cc0d-d09fbefb8550"
      },
      "source": [
        "import io\n",
        "from io import StringIO \n",
        "test_string = \"\"\"tweet,label\n",
        "                 !!!!Click below for a FREE download of a colorfully illustrated 132 page e-book on the Zionist-engineered INTENTIONAL destruction of Western civilization, 1\n",
        "                 In my opinion using cuss words like bitch is demeaning to women, 0\n",
        "                 @usernew!!!! I hope they all starve, 1\"\"\"\n",
        "\n",
        "data = io.StringIO(test_string)\n",
        "df = pd.read_csv(data, sep=\",\")\n",
        "df = preprocess(df)\n",
        "print(df)"
      ],
      "execution_count": null,
      "outputs": [
        {
          "output_type": "stream",
          "text": [
            "                                               tweet  label\n",
            "0   Click FREE download colorfully illustrated pa...      1\n",
            "1   In opinion using cuss words like bitch demean...      0\n",
            "2                                      I hope starve      1\n"
          ],
          "name": "stdout"
        }
      ]
    },
    {
      "cell_type": "code",
      "metadata": {
        "id": "ya9IewhdXgHr"
      },
      "source": [
        "data_to_list = df['tweet'].to_list()\n",
        "\n",
        "laser = Laser()\n",
        "embeddings = laser.embed_sentences(data_to_list, lang='en') \n",
        "\n",
        "new_test_x =pd.DataFrame(embeddings)\n",
        "new_test_y = pd.DataFrame(df['label'])"
      ],
      "execution_count": null,
      "outputs": []
    },
    {
      "cell_type": "code",
      "metadata": {
        "id": "glzgO-dy6LEl"
      },
      "source": [
        "Arabic_train_x, Arabic_test_x, Arabic_val_x, Arabic_train_y, Arabic_test_y, Arabic_val_y = preprocessing('Arabic')\n",
        "English_train_x, English_test_x, English_val_x, English_train_y, English_test_y, English_val_y = preprocessing('English')\n",
        "French_train_x, French_test_x, French_val_x, French_train_y, French_test_y, French_val_y = preprocessing('French')"
      ],
      "execution_count": null,
      "outputs": []
    },
    {
      "cell_type": "code",
      "metadata": {
        "id": "LX4iKN0zWnLW"
      },
      "source": [
        "_English = pd.concat([English_train_x, English_train_y], axis=1)\n",
        "_Arabic = pd.concat([Arabic_train_x, Arabic_train_y], axis=1)\n",
        "_French = pd.concat([French_train_x, French_train_y], axis=1)"
      ],
      "execution_count": null,
      "outputs": []
    },
    {
      "cell_type": "code",
      "metadata": {
        "id": "d-eJe09rXkeg"
      },
      "source": [
        "df_ = pd.concat([_English, _Arabic], axis=0)\n",
        "df_ = pd.concat([df_, _French], axis= 0)"
      ],
      "execution_count": null,
      "outputs": []
    },
    {
      "cell_type": "code",
      "metadata": {
        "id": "B6ppmy2B6CU8"
      },
      "source": [
        "def model_for_all(c, seed):\n",
        "  \n",
        "  df_new = df_.sample(frac=1,random_state=seed).reset_index(drop=True)\n",
        "            \n",
        "  df_x = df_new[cols]\n",
        "  df_y = df_new['label']\n",
        "\n",
        "  model = LogisticRegression(C=c,solver='lbfgs',class_weight='balanced',random_state=seed)\n",
        "  model.fit(df_x, df_y)\n",
        "    \n",
        "  error_analysis = model.predict(new_test_x)\n",
        "  print(error_analysis)\n",
        " "
      ],
      "execution_count": null,
      "outputs": []
    },
    {
      "cell_type": "code",
      "metadata": {
        "id": "HyJm8jSTZVJM",
        "colab": {
          "base_uri": "https://localhost:8080/"
        },
        "outputId": "b4479b38-1d2f-49af-a43e-b28dd3333018"
      },
      "source": [
        "model_for_all(0.1,2018)"
      ],
      "execution_count": null,
      "outputs": [
        {
          "output_type": "stream",
          "text": [
            "[0 1 0]\n"
          ],
          "name": "stdout"
        }
      ]
    }
  ]
}