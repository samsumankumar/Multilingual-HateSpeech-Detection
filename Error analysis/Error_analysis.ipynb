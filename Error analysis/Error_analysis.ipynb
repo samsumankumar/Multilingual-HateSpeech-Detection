{
  "nbformat": 4,
  "nbformat_minor": 0,
  "metadata": {
    "colab": {
      "name": "Error_analysis",
      "provenance": [],
      "collapsed_sections": [],
      "machine_shape": "hm"
    },
    "kernelspec": {
      "name": "python3",
      "display_name": "Python 3"
    },
    "accelerator": "GPU"
  },
  "cells": [
    {
      "cell_type": "code",
      "metadata": {
        "id": "njbQWy445i7g",
        "outputId": "ded6b96a-bb31-4b86-8bb4-c9b8942be795",
        "colab": {
          "base_uri": "https://localhost:8080/"
        }
      },
      "source": [
        "from google.colab import drive\n",
        "drive.mount('/content/drive')"
      ],
      "execution_count": null,
      "outputs": [
        {
          "output_type": "stream",
          "text": [
            "Mounted at /content/drive\n"
          ],
          "name": "stdout"
        }
      ]
    },
    {
      "cell_type": "code",
      "metadata": {
        "id": "KlNOkzkG5uMt",
        "outputId": "12f284c1-58f1-4498-920c-2320b2bfecde",
        "colab": {
          "base_uri": "https://localhost:8080/"
        }
      },
      "source": [
        "pip install laserembeddings"
      ],
      "execution_count": null,
      "outputs": [
        {
          "output_type": "stream",
          "text": [
            "Collecting laserembeddings\n",
            "  Downloading https://files.pythonhosted.org/packages/a2/4b/a9e3ee9f4825bd2bb6b48f26370e2c341860ec0cb2a9a27deea9be6c2299/laserembeddings-1.1.0-py3-none-any.whl\n",
            "Collecting subword-nmt<0.4.0,>=0.3.6\n",
            "  Downloading https://files.pythonhosted.org/packages/74/60/6600a7bc09e7ab38bc53a48a20d8cae49b837f93f5842a41fe513a694912/subword_nmt-0.3.7-py2.py3-none-any.whl\n",
            "Collecting transliterate==1.10.2\n",
            "\u001b[?25l  Downloading https://files.pythonhosted.org/packages/a1/6e/9a9d597dbdd6d0172427c8cc07c35736471e631060df9e59eeb87687f817/transliterate-1.10.2-py2.py3-none-any.whl (45kB)\n",
            "\u001b[K     |████████████████████████████████| 51kB 5.0MB/s \n",
            "\u001b[?25hCollecting sacremoses==0.0.35\n",
            "\u001b[?25l  Downloading https://files.pythonhosted.org/packages/1f/8e/ed5364a06a9ba720fddd9820155cc57300d28f5f43a6fd7b7e817177e642/sacremoses-0.0.35.tar.gz (859kB)\n",
            "\u001b[K     |████████████████████████████████| 860kB 9.0MB/s \n",
            "\u001b[?25hRequirement already satisfied: torch<2.0.0,>=1.0.1.post2 in /usr/local/lib/python3.6/dist-packages (from laserembeddings) (1.7.0+cu101)\n",
            "Requirement already satisfied: numpy<2.0.0,>=1.15.4 in /usr/local/lib/python3.6/dist-packages (from laserembeddings) (1.18.5)\n",
            "Requirement already satisfied: six>=1.1.0 in /usr/local/lib/python3.6/dist-packages (from transliterate==1.10.2->laserembeddings) (1.15.0)\n",
            "Requirement already satisfied: click in /usr/local/lib/python3.6/dist-packages (from sacremoses==0.0.35->laserembeddings) (7.1.2)\n",
            "Requirement already satisfied: joblib in /usr/local/lib/python3.6/dist-packages (from sacremoses==0.0.35->laserembeddings) (0.17.0)\n",
            "Requirement already satisfied: tqdm in /usr/local/lib/python3.6/dist-packages (from sacremoses==0.0.35->laserembeddings) (4.41.1)\n",
            "Requirement already satisfied: typing-extensions in /usr/local/lib/python3.6/dist-packages (from torch<2.0.0,>=1.0.1.post2->laserembeddings) (3.7.4.3)\n",
            "Requirement already satisfied: future in /usr/local/lib/python3.6/dist-packages (from torch<2.0.0,>=1.0.1.post2->laserembeddings) (0.16.0)\n",
            "Requirement already satisfied: dataclasses in /usr/local/lib/python3.6/dist-packages (from torch<2.0.0,>=1.0.1.post2->laserembeddings) (0.7)\n",
            "Building wheels for collected packages: sacremoses\n",
            "  Building wheel for sacremoses (setup.py) ... \u001b[?25l\u001b[?25hdone\n",
            "  Created wheel for sacremoses: filename=sacremoses-0.0.35-cp36-none-any.whl size=883999 sha256=09492399701fea161c2a6689540b2b3ed4f8f12d075c5ee48db5a48f7c9e360c\n",
            "  Stored in directory: /root/.cache/pip/wheels/63/2a/db/63e2909042c634ef551d0d9ac825b2b0b32dede4a6d87ddc94\n",
            "Successfully built sacremoses\n",
            "Installing collected packages: subword-nmt, transliterate, sacremoses, laserembeddings\n",
            "Successfully installed laserembeddings-1.1.0 sacremoses-0.0.35 subword-nmt-0.3.7 transliterate-1.10.2\n"
          ],
          "name": "stdout"
        }
      ]
    },
    {
      "cell_type": "code",
      "metadata": {
        "id": "LQyLlWrH5xcX",
        "outputId": "f280acc9-140e-476a-d511-b92ff979490d",
        "colab": {
          "base_uri": "https://localhost:8080/"
        }
      },
      "source": [
        "!python -m laserembeddings download-models"
      ],
      "execution_count": null,
      "outputs": [
        {
          "output_type": "stream",
          "text": [
            "Downloading models into /usr/local/lib/python3.6/dist-packages/laserembeddings/data\n",
            "\n",
            "✅   Downloaded https://dl.fbaipublicfiles.com/laser/models/93langs.fcodes    \n",
            "✅   Downloaded https://dl.fbaipublicfiles.com/laser/models/93langs.fvocab    \n",
            "✅   Downloaded https://dl.fbaipublicfiles.com/laser/models/bilstm.93langs.2018-12-26.pt    \n",
            "\n",
            "✨ You're all set!\n"
          ],
          "name": "stdout"
        }
      ]
    },
    {
      "cell_type": "code",
      "metadata": {
        "id": "9wh1jvR-50MR"
      },
      "source": [
        "import pandas as pd\n",
        "import numpy as np\n",
        "import os\n",
        "from pandas import DataFrame\n",
        "from laserembeddings import Laser\n",
        "from sklearn.model_selection import StratifiedShuffleSplit\n",
        "from sklearn.linear_model import LogisticRegression\n",
        "from sklearn.metrics import f1_score\n",
        "from sklearn.metrics import accuracy_score\n",
        "import pickle"
      ],
      "execution_count": null,
      "outputs": []
    },
    {
      "cell_type": "code",
      "metadata": {
        "id": "piXy8Qw952_c"
      },
      "source": [
        "lang = ['Arabic','English','French']\n",
        "cols = []\n",
        "for i in range(1024):\n",
        "  cols.append(i)"
      ],
      "execution_count": null,
      "outputs": []
    },
    {
      "cell_type": "code",
      "metadata": {
        "id": "08JCt89D55RD"
      },
      "source": [
        "def preprocessing(language):\n",
        "    path = 'drive/My Drive/CS695'\n",
        "    data = pd.read_csv(os.path.join(path,language+'.csv'))\n",
        "    data_to_list = data['tweet'].to_list()\n",
        "\n",
        "    laser = Laser()\n",
        "    embeddings = laser.embed_sentences(data_to_list, lang='en') \n",
        "\n",
        "    df1=pd.DataFrame(embeddings)\n",
        "    df2 = pd.DataFrame(data['label'])\n",
        "\n",
        "    sss1 = StratifiedShuffleSplit(n_splits=1,test_size=0.3,random_state=0)\n",
        "    a = list(sss1.split(df1, df2))\n",
        "    train_x,interX = df1.iloc[a[0][0],:],df1.iloc[a[0][1],:]\n",
        "    train_y,interY = df2.iloc[a[0][0],:],df2.iloc[a[0][1],:]\n",
        "\n",
        "    sss2 = StratifiedShuffleSplit(n_splits=1,test_size=0.35,random_state=0)\n",
        "    a = list(sss2.split(interX, interY))\n",
        "    test_x,val_x = interX.iloc[a[0][0],:],interX.iloc[a[0][1],:]\n",
        "    test_y,val_y = interY.iloc[a[0][0],:],interY.iloc[a[0][1],:]\n",
        "\n",
        "    return train_x, test_x, val_x, train_y, test_y, val_y "
      ],
      "execution_count": null,
      "outputs": []
    },
    {
      "cell_type": "code",
      "metadata": {
        "id": "wXzgZuezVsqS"
      },
      "source": [
        "import io\n",
        "from io import StringIO \n",
        "test_string = \"\"\"tweet,label\n",
        "                 Click below for a FREE download of a colorfully illustrated 132 page e-book on the Zionist-engineered INTENTIONAL destruction of Western civilization, 1\n",
        "                 In my opinion using cuss words like bitch is demeaning to women, 0\n",
        "                 I hope they all starve, 1\"\"\"\n",
        "\n",
        "data = io.StringIO(test_string)\n",
        "df = pd.read_csv(data, sep=\",\")"
      ],
      "execution_count": null,
      "outputs": []
    },
    {
      "cell_type": "code",
      "metadata": {
        "id": "ya9IewhdXgHr"
      },
      "source": [
        "data_to_list = df['tweet'].to_list()\n",
        "\n",
        "laser = Laser()\n",
        "embeddings = laser.embed_sentences(data_to_list, lang='en') \n",
        "\n",
        "new_test_x =pd.DataFrame(embeddings)\n",
        "new_test_y = pd.DataFrame(df['label'])"
      ],
      "execution_count": null,
      "outputs": []
    },
    {
      "cell_type": "code",
      "metadata": {
        "id": "glzgO-dy6LEl"
      },
      "source": [
        "Arabic_train_x, Arabic_test_x, Arabic_val_x, Arabic_train_y, Arabic_test_y, Arabic_val_y = preprocessing('Arabic')\n",
        "English_train_x, English_test_x, English_val_x, English_train_y, English_test_y, English_val_y = preprocessing('English')\n",
        "French_train_x, French_test_x, French_val_x, French_train_y, French_test_y, French_val_y = preprocessing('French')"
      ],
      "execution_count": null,
      "outputs": []
    },
    {
      "cell_type": "code",
      "metadata": {
        "id": "LX4iKN0zWnLW"
      },
      "source": [
        "_English = pd.concat([English_train_x, English_train_y], axis=1)\n",
        "_Arabic = pd.concat([Arabic_train_x, Arabic_train_y], axis=1)\n",
        "_French = pd.concat([French_train_x, French_train_y], axis=1)"
      ],
      "execution_count": null,
      "outputs": []
    },
    {
      "cell_type": "code",
      "metadata": {
        "id": "d-eJe09rXkeg"
      },
      "source": [
        "df_ = pd.concat([_English, _Arabic], axis=0)\n",
        "df_ = pd.concat([df_, _French], axis= 0)"
      ],
      "execution_count": null,
      "outputs": []
    },
    {
      "cell_type": "code",
      "metadata": {
        "id": "B6ppmy2B6CU8"
      },
      "source": [
        "def model_for_all(c, seed):\n",
        "  \n",
        "  df_new = df_.sample(frac=1,random_state=seed).reset_index(drop=True)\n",
        "            \n",
        "  df_x = df_new[cols]\n",
        "  df_y = df_new['label']\n",
        "\n",
        "  model = LogisticRegression(C=c,solver='lbfgs',class_weight='balanced',random_state=seed)\n",
        "  model.fit(df_x, df_y)\n",
        "    \n",
        "  error_analysis = model.predict(new_test_x)\n",
        "  print(error_analysis)\n",
        " "
      ],
      "execution_count": null,
      "outputs": []
    },
    {
      "cell_type": "code",
      "metadata": {
        "id": "HyJm8jSTZVJM",
        "outputId": "0a474957-18a6-470f-b97d-df1a19a7303a",
        "colab": {
          "base_uri": "https://localhost:8080/"
        }
      },
      "source": [
        "model_for_all(0.1,2018)"
      ],
      "execution_count": null,
      "outputs": [
        {
          "output_type": "stream",
          "text": [
            "[0 1 0]\n"
          ],
          "name": "stdout"
        }
      ]
    }
  ]
}