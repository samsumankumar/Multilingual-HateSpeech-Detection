{
  "nbformat": 4,
  "nbformat_minor": 0,
  "metadata": {
    "kernelspec": {
      "display_name": "Python 3",
      "language": "python",
      "name": "python3"
    },
    "language_info": {
      "codemirror_mode": {
        "name": "ipython",
        "version": 3
      },
      "file_extension": ".py",
      "mimetype": "text/x-python",
      "name": "python",
      "nbconvert_exporter": "python",
      "pygments_lexer": "ipython3",
      "version": "3.7.3"
    },
    "colab": {
      "name": "multilingual_zeroshot.ipynb",
      "provenance": [],
      "collapsed_sections": [],
      "machine_shape": "hm"
    },
    "accelerator": "GPU"
  },
  "cells": [
    {
      "cell_type": "code",
      "metadata": {
        "id": "OOknNEoXwYq4",
        "outputId": "aee2c6e4-83fa-4efa-aa8b-87ee4bd1b5d9",
        "colab": {
          "base_uri": "https://localhost:8080/"
        }
      },
      "source": [
        "from google.colab import drive\n",
        "drive.mount('/content/drive')"
      ],
      "execution_count": null,
      "outputs": [
        {
          "output_type": "stream",
          "text": [
            "Mounted at /content/drive\n"
          ],
          "name": "stdout"
        }
      ]
    },
    {
      "cell_type": "code",
      "metadata": {
        "id": "8qL0J9nswYz8",
        "outputId": "3c0f52a0-e6cc-49b9-d00a-fdcd25d14cb3",
        "colab": {
          "base_uri": "https://localhost:8080/"
        }
      },
      "source": [
        "pip install laserembeddings"
      ],
      "execution_count": null,
      "outputs": [
        {
          "output_type": "stream",
          "text": [
            "Collecting laserembeddings\n",
            "  Downloading https://files.pythonhosted.org/packages/a2/4b/a9e3ee9f4825bd2bb6b48f26370e2c341860ec0cb2a9a27deea9be6c2299/laserembeddings-1.1.0-py3-none-any.whl\n",
            "Requirement already satisfied: numpy<2.0.0,>=1.15.4 in /usr/local/lib/python3.6/dist-packages (from laserembeddings) (1.18.5)\n",
            "Requirement already satisfied: torch<2.0.0,>=1.0.1.post2 in /usr/local/lib/python3.6/dist-packages (from laserembeddings) (1.7.0+cu101)\n",
            "Collecting transliterate==1.10.2\n",
            "\u001b[?25l  Downloading https://files.pythonhosted.org/packages/a1/6e/9a9d597dbdd6d0172427c8cc07c35736471e631060df9e59eeb87687f817/transliterate-1.10.2-py2.py3-none-any.whl (45kB)\n",
            "\u001b[K     |████████████████████████████████| 51kB 2.7MB/s \n",
            "\u001b[?25hCollecting subword-nmt<0.4.0,>=0.3.6\n",
            "  Downloading https://files.pythonhosted.org/packages/74/60/6600a7bc09e7ab38bc53a48a20d8cae49b837f93f5842a41fe513a694912/subword_nmt-0.3.7-py2.py3-none-any.whl\n",
            "Collecting sacremoses==0.0.35\n",
            "\u001b[?25l  Downloading https://files.pythonhosted.org/packages/1f/8e/ed5364a06a9ba720fddd9820155cc57300d28f5f43a6fd7b7e817177e642/sacremoses-0.0.35.tar.gz (859kB)\n",
            "\u001b[K     |████████████████████████████████| 860kB 7.1MB/s \n",
            "\u001b[?25hRequirement already satisfied: future in /usr/local/lib/python3.6/dist-packages (from torch<2.0.0,>=1.0.1.post2->laserembeddings) (0.16.0)\n",
            "Requirement already satisfied: typing-extensions in /usr/local/lib/python3.6/dist-packages (from torch<2.0.0,>=1.0.1.post2->laserembeddings) (3.7.4.3)\n",
            "Requirement already satisfied: dataclasses in /usr/local/lib/python3.6/dist-packages (from torch<2.0.0,>=1.0.1.post2->laserembeddings) (0.7)\n",
            "Requirement already satisfied: six>=1.1.0 in /usr/local/lib/python3.6/dist-packages (from transliterate==1.10.2->laserembeddings) (1.15.0)\n",
            "Requirement already satisfied: click in /usr/local/lib/python3.6/dist-packages (from sacremoses==0.0.35->laserembeddings) (7.1.2)\n",
            "Requirement already satisfied: joblib in /usr/local/lib/python3.6/dist-packages (from sacremoses==0.0.35->laserembeddings) (0.17.0)\n",
            "Requirement already satisfied: tqdm in /usr/local/lib/python3.6/dist-packages (from sacremoses==0.0.35->laserembeddings) (4.41.1)\n",
            "Building wheels for collected packages: sacremoses\n",
            "  Building wheel for sacremoses (setup.py) ... \u001b[?25l\u001b[?25hdone\n",
            "  Created wheel for sacremoses: filename=sacremoses-0.0.35-cp36-none-any.whl size=883999 sha256=4fcb4ba0f1edcc7aacab97b9dcee9348af2e2f2916cb698e5a581b518e16fc80\n",
            "  Stored in directory: /root/.cache/pip/wheels/63/2a/db/63e2909042c634ef551d0d9ac825b2b0b32dede4a6d87ddc94\n",
            "Successfully built sacremoses\n",
            "Installing collected packages: transliterate, subword-nmt, sacremoses, laserembeddings\n",
            "Successfully installed laserembeddings-1.1.0 sacremoses-0.0.35 subword-nmt-0.3.7 transliterate-1.10.2\n"
          ],
          "name": "stdout"
        }
      ]
    },
    {
      "cell_type": "code",
      "metadata": {
        "id": "V7PTBRllwY83",
        "outputId": "b5ec8413-61e9-4694-cef2-28bf61c49a9c",
        "colab": {
          "base_uri": "https://localhost:8080/"
        }
      },
      "source": [
        "!python -m laserembeddings download-models"
      ],
      "execution_count": null,
      "outputs": [
        {
          "output_type": "stream",
          "text": [
            "Downloading models into /usr/local/lib/python3.6/dist-packages/laserembeddings/data\n",
            "\n",
            "✅   Downloaded https://dl.fbaipublicfiles.com/laser/models/93langs.fcodes    \n",
            "✅   Downloaded https://dl.fbaipublicfiles.com/laser/models/93langs.fvocab    \n",
            "✅   Downloaded https://dl.fbaipublicfiles.com/laser/models/bilstm.93langs.2018-12-26.pt    \n",
            "\n",
            "✨ You're all set!\n"
          ],
          "name": "stdout"
        }
      ]
    },
    {
      "cell_type": "code",
      "metadata": {
        "id": "CiJBAnURwShO"
      },
      "source": [
        "import pandas as pd\n",
        "import numpy as np\n",
        "import os\n",
        "from laserembeddings import Laser\n",
        "from sklearn.model_selection import StratifiedShuffleSplit\n",
        "from sklearn.linear_model import LogisticRegression\n",
        "from sklearn.metrics import f1_score\n",
        "from sklearn.metrics import accuracy_score\n",
        "import pickle"
      ],
      "execution_count": null,
      "outputs": []
    },
    {
      "cell_type": "code",
      "metadata": {
        "id": "sbUGS7ouwShS"
      },
      "source": [
        "lang = ['Arabic','English','French']\n",
        "cols = []\n",
        "for i in range(1024):\n",
        "  cols.append(i)"
      ],
      "execution_count": null,
      "outputs": []
    },
    {
      "cell_type": "code",
      "metadata": {
        "id": "SZn6Be-gwShU"
      },
      "source": [
        "def preprocessing(language):\n",
        "    path = 'drive/My Drive/CS695'\n",
        "    data = pd.read_csv(os.path.join(path,language+'.csv'))\n",
        "    data_to_list = data['tweet'].to_list()\n",
        "\n",
        "    laser = Laser()\n",
        "    embeddings = laser.embed_sentences(data_to_list, lang='en') \n",
        "\n",
        "    df1=pd.DataFrame(embeddings)\n",
        "    df2 = pd.DataFrame(data['label'])\n",
        "\n",
        "    sss1 = StratifiedShuffleSplit(n_splits=1,test_size=0.3,random_state=0)\n",
        "    a = list(sss1.split(df1, df2))\n",
        "    train_x,interX = df1.iloc[a[0][0],:],df1.iloc[a[0][1],:]\n",
        "    train_y,interY = df2.iloc[a[0][0],:],df2.iloc[a[0][1],:]\n",
        "\n",
        "    sss2 = StratifiedShuffleSplit(n_splits=1,test_size=0.35,random_state=0)\n",
        "    a = list(sss2.split(interX, interY))\n",
        "    test_x,val_x = interX.iloc[a[0][0],:],interX.iloc[a[0][1],:]\n",
        "    test_y,val_y = interY.iloc[a[0][0],:],interY.iloc[a[0][1],:]\n",
        "\n",
        "    return train_x, test_x, val_x, train_y, test_y, val_y "
      ],
      "execution_count": null,
      "outputs": []
    },
    {
      "cell_type": "code",
      "metadata": {
        "id": "jntiSc2pwShY"
      },
      "source": [
        "def model_for_zeroshot(language, c, seed):\n",
        "    \n",
        "    df_ = pd.DataFrame()\n",
        "    for l in lang:\n",
        "        \n",
        "        if l!= language:\n",
        "            train_x, t_, v_, train_y, ty_, vy_ = preprocessing(l)\n",
        "            \n",
        "            _ = pd.concat([train_x, train_y], axis=1)\n",
        "            \n",
        "            df_ = pd.concat([_.reset_index(drop=True), df_], axis=0)\n",
        "            \n",
        "            \n",
        "        elif l==language:\n",
        "            t_, test_x, val_x, t_, test_y, val_y = preprocessing(language)\n",
        "            \n",
        "            \n",
        "    df_ = df_.sample(frac=1,random_state=seed).reset_index(drop=True)\n",
        "\n",
        "    df_x = df_[cols]\n",
        "    df_y = df_['label']\n",
        "  \n",
        "    model = LogisticRegression(C=c,solver='lbfgs',class_weight='balanced',random_state=seed)\n",
        "    model.fit(df_x, df_y)\n",
        "   \n",
        "\n",
        "    test_predict = model.predict(test_x)\n",
        "    val_predict = model.predict(val_x)\n",
        "\n",
        "    test_f1_score = f1_score(test_y, test_predict, average='macro')\n",
        "    val_f1_score = f1_score(val_y, val_predict, average='macro')\n",
        "    test_acc = accuracy_score(test_y, test_predict)\n",
        "    val_acc = accuracy_score(val_y, val_predict)\n",
        "\n",
        "  #saved_model = pickle.dumps(model) \n",
        "\n",
        "    print('Language:',language, '    ','Model loaded: Zero Shot', '    ','c:',c,'    ','seed:',seed)\n",
        "    print('\\n F1 macro score for test:', test_f1_score)\n",
        "    print('\\n F1 macro score for val:', val_f1_score)\n",
        "    print('\\n Accuracy for test:', test_acc)\n",
        "    print('\\n Accuracy for val:', val_acc)\n",
        "    \n",
        "    return test_f1_score"
      ],
      "execution_count": null,
      "outputs": []
    },
    {
      "cell_type": "code",
      "metadata": {
        "id": "gfyXgh8O9l0U",
        "outputId": "e826c2a3-0c3c-420c-fb63-036b0afe8283",
        "colab": {
          "base_uri": "https://localhost:8080/"
        }
      },
      "source": [
        "for language in ['Arabic','English','French']:\n",
        "  f1_list = []\n",
        "  for c in [0.01,0.1,1,10]:\n",
        "    for seeds in [2018,2019,2020,2021,2022]:\n",
        "      seed = seeds\n",
        "      np.random.seed(seed)\n",
        "      a = model_for_zeroshot(language,c,seed)\n",
        "      f1_list.append(a)\n",
        "  \n",
        "  print(f1_list)\n",
        "  avg = sum(f1_list)/len(f1_list)\n",
        "\n",
        "  print('Average F1 macro:',avg,'    ', 'language:',language)"
      ],
      "execution_count": null,
      "outputs": [
        {
          "output_type": "stream",
          "text": [
            "Language: Arabic      Model loaded: Zero Shot      c: 0.01      seed: 2018\n",
            "\n",
            " F1 macro score for test: 0.6311284119338336\n",
            "\n",
            " F1 macro score for val: 0.6309072913229957\n",
            "\n",
            " Accuracy for test: 0.6899911426040743\n",
            "\n",
            " Accuracy for val: 0.6973684210526315\n",
            "Language: Arabic      Model loaded: Zero Shot      c: 0.01      seed: 2019\n",
            "\n",
            " F1 macro score for test: 0.6311284119338336\n",
            "\n",
            " F1 macro score for val: 0.6309072913229957\n",
            "\n",
            " Accuracy for test: 0.6899911426040743\n",
            "\n",
            " Accuracy for val: 0.6973684210526315\n",
            "Language: Arabic      Model loaded: Zero Shot      c: 0.01      seed: 2020\n",
            "\n",
            " F1 macro score for test: 0.6311284119338336\n",
            "\n",
            " F1 macro score for val: 0.6309072913229957\n",
            "\n",
            " Accuracy for test: 0.6899911426040743\n",
            "\n",
            " Accuracy for val: 0.6973684210526315\n",
            "Language: Arabic      Model loaded: Zero Shot      c: 0.01      seed: 2021\n",
            "\n",
            " F1 macro score for test: 0.6311284119338336\n",
            "\n",
            " F1 macro score for val: 0.6309072913229957\n",
            "\n",
            " Accuracy for test: 0.6899911426040743\n",
            "\n",
            " Accuracy for val: 0.6973684210526315\n",
            "Language: Arabic      Model loaded: Zero Shot      c: 0.01      seed: 2022\n",
            "\n",
            " F1 macro score for test: 0.6311284119338336\n",
            "\n",
            " F1 macro score for val: 0.6309072913229957\n",
            "\n",
            " Accuracy for test: 0.6899911426040743\n",
            "\n",
            " Accuracy for val: 0.6973684210526315\n",
            "Language: Arabic      Model loaded: Zero Shot      c: 0.1      seed: 2018\n",
            "\n",
            " F1 macro score for test: 0.6331846324581643\n",
            "\n",
            " F1 macro score for val: 0.6415460369217594\n",
            "\n",
            " Accuracy for test: 0.6846767050487157\n",
            "\n",
            " Accuracy for val: 0.7055921052631579\n",
            "Language: Arabic      Model loaded: Zero Shot      c: 0.1      seed: 2019\n",
            "\n",
            " F1 macro score for test: 0.6331846324581643\n",
            "\n",
            " F1 macro score for val: 0.6415460369217594\n",
            "\n",
            " Accuracy for test: 0.6846767050487157\n",
            "\n",
            " Accuracy for val: 0.7055921052631579\n",
            "Language: Arabic      Model loaded: Zero Shot      c: 0.1      seed: 2020\n",
            "\n",
            " F1 macro score for test: 0.6331846324581643\n",
            "\n",
            " F1 macro score for val: 0.6415460369217594\n",
            "\n",
            " Accuracy for test: 0.6846767050487157\n",
            "\n",
            " Accuracy for val: 0.7055921052631579\n",
            "Language: Arabic      Model loaded: Zero Shot      c: 0.1      seed: 2021\n",
            "\n",
            " F1 macro score for test: 0.6331846324581643\n",
            "\n",
            " F1 macro score for val: 0.6415460369217594\n",
            "\n",
            " Accuracy for test: 0.6846767050487157\n",
            "\n",
            " Accuracy for val: 0.7055921052631579\n",
            "Language: Arabic      Model loaded: Zero Shot      c: 0.1      seed: 2022\n",
            "\n",
            " F1 macro score for test: 0.6331846324581643\n",
            "\n",
            " F1 macro score for val: 0.6415460369217594\n",
            "\n",
            " Accuracy for test: 0.6846767050487157\n",
            "\n",
            " Accuracy for val: 0.7055921052631579\n"
          ],
          "name": "stdout"
        },
        {
          "output_type": "stream",
          "text": [
            "/usr/local/lib/python3.6/dist-packages/sklearn/linear_model/_logistic.py:940: ConvergenceWarning: lbfgs failed to converge (status=1):\n",
            "STOP: TOTAL NO. of ITERATIONS REACHED LIMIT.\n",
            "\n",
            "Increase the number of iterations (max_iter) or scale the data as shown in:\n",
            "    https://scikit-learn.org/stable/modules/preprocessing.html\n",
            "Please also refer to the documentation for alternative solver options:\n",
            "    https://scikit-learn.org/stable/modules/linear_model.html#logistic-regression\n",
            "  extra_warning_msg=_LOGISTIC_SOLVER_CONVERGENCE_MSG)\n"
          ],
          "name": "stderr"
        },
        {
          "output_type": "stream",
          "text": [
            "Language: Arabic      Model loaded: Zero Shot      c: 1      seed: 2018\n",
            "\n",
            " F1 macro score for test: 0.6104715137236215\n",
            "\n",
            " F1 macro score for val: 0.6252801434334379\n",
            "\n",
            " Accuracy for test: 0.6536758193091231\n",
            "\n",
            " Accuracy for val: 0.6743421052631579\n"
          ],
          "name": "stdout"
        },
        {
          "output_type": "stream",
          "text": [
            "/usr/local/lib/python3.6/dist-packages/sklearn/linear_model/_logistic.py:940: ConvergenceWarning: lbfgs failed to converge (status=1):\n",
            "STOP: TOTAL NO. of ITERATIONS REACHED LIMIT.\n",
            "\n",
            "Increase the number of iterations (max_iter) or scale the data as shown in:\n",
            "    https://scikit-learn.org/stable/modules/preprocessing.html\n",
            "Please also refer to the documentation for alternative solver options:\n",
            "    https://scikit-learn.org/stable/modules/linear_model.html#logistic-regression\n",
            "  extra_warning_msg=_LOGISTIC_SOLVER_CONVERGENCE_MSG)\n"
          ],
          "name": "stderr"
        },
        {
          "output_type": "stream",
          "text": [
            "Language: Arabic      Model loaded: Zero Shot      c: 1      seed: 2019\n",
            "\n",
            " F1 macro score for test: 0.6104715137236215\n",
            "\n",
            " F1 macro score for val: 0.6276814328744214\n",
            "\n",
            " Accuracy for test: 0.6536758193091231\n",
            "\n",
            " Accuracy for val: 0.6759868421052632\n"
          ],
          "name": "stdout"
        },
        {
          "output_type": "stream",
          "text": [
            "/usr/local/lib/python3.6/dist-packages/sklearn/linear_model/_logistic.py:940: ConvergenceWarning: lbfgs failed to converge (status=1):\n",
            "STOP: TOTAL NO. of ITERATIONS REACHED LIMIT.\n",
            "\n",
            "Increase the number of iterations (max_iter) or scale the data as shown in:\n",
            "    https://scikit-learn.org/stable/modules/preprocessing.html\n",
            "Please also refer to the documentation for alternative solver options:\n",
            "    https://scikit-learn.org/stable/modules/linear_model.html#logistic-regression\n",
            "  extra_warning_msg=_LOGISTIC_SOLVER_CONVERGENCE_MSG)\n"
          ],
          "name": "stderr"
        },
        {
          "output_type": "stream",
          "text": [
            "Language: Arabic      Model loaded: Zero Shot      c: 1      seed: 2020\n",
            "\n",
            " F1 macro score for test: 0.6104715137236215\n",
            "\n",
            " F1 macro score for val: 0.6276814328744214\n",
            "\n",
            " Accuracy for test: 0.6536758193091231\n",
            "\n",
            " Accuracy for val: 0.6759868421052632\n"
          ],
          "name": "stdout"
        },
        {
          "output_type": "stream",
          "text": [
            "/usr/local/lib/python3.6/dist-packages/sklearn/linear_model/_logistic.py:940: ConvergenceWarning: lbfgs failed to converge (status=1):\n",
            "STOP: TOTAL NO. of ITERATIONS REACHED LIMIT.\n",
            "\n",
            "Increase the number of iterations (max_iter) or scale the data as shown in:\n",
            "    https://scikit-learn.org/stable/modules/preprocessing.html\n",
            "Please also refer to the documentation for alternative solver options:\n",
            "    https://scikit-learn.org/stable/modules/linear_model.html#logistic-regression\n",
            "  extra_warning_msg=_LOGISTIC_SOLVER_CONVERGENCE_MSG)\n"
          ],
          "name": "stderr"
        },
        {
          "output_type": "stream",
          "text": [
            "Language: Arabic      Model loaded: Zero Shot      c: 1      seed: 2021\n",
            "\n",
            " F1 macro score for test: 0.6104715137236215\n",
            "\n",
            " F1 macro score for val: 0.6252801434334379\n",
            "\n",
            " Accuracy for test: 0.6536758193091231\n",
            "\n",
            " Accuracy for val: 0.6743421052631579\n"
          ],
          "name": "stdout"
        },
        {
          "output_type": "stream",
          "text": [
            "/usr/local/lib/python3.6/dist-packages/sklearn/linear_model/_logistic.py:940: ConvergenceWarning: lbfgs failed to converge (status=1):\n",
            "STOP: TOTAL NO. of ITERATIONS REACHED LIMIT.\n",
            "\n",
            "Increase the number of iterations (max_iter) or scale the data as shown in:\n",
            "    https://scikit-learn.org/stable/modules/preprocessing.html\n",
            "Please also refer to the documentation for alternative solver options:\n",
            "    https://scikit-learn.org/stable/modules/linear_model.html#logistic-regression\n",
            "  extra_warning_msg=_LOGISTIC_SOLVER_CONVERGENCE_MSG)\n"
          ],
          "name": "stderr"
        },
        {
          "output_type": "stream",
          "text": [
            "Language: Arabic      Model loaded: Zero Shot      c: 1      seed: 2022\n",
            "\n",
            " F1 macro score for test: 0.6097339014617077\n",
            "\n",
            " F1 macro score for val: 0.6252801434334379\n",
            "\n",
            " Accuracy for test: 0.6527900797165633\n",
            "\n",
            " Accuracy for val: 0.6743421052631579\n"
          ],
          "name": "stdout"
        },
        {
          "output_type": "stream",
          "text": [
            "/usr/local/lib/python3.6/dist-packages/sklearn/linear_model/_logistic.py:940: ConvergenceWarning: lbfgs failed to converge (status=1):\n",
            "STOP: TOTAL NO. of ITERATIONS REACHED LIMIT.\n",
            "\n",
            "Increase the number of iterations (max_iter) or scale the data as shown in:\n",
            "    https://scikit-learn.org/stable/modules/preprocessing.html\n",
            "Please also refer to the documentation for alternative solver options:\n",
            "    https://scikit-learn.org/stable/modules/linear_model.html#logistic-regression\n",
            "  extra_warning_msg=_LOGISTIC_SOLVER_CONVERGENCE_MSG)\n"
          ],
          "name": "stderr"
        },
        {
          "output_type": "stream",
          "text": [
            "Language: Arabic      Model loaded: Zero Shot      c: 10      seed: 2018\n",
            "\n",
            " F1 macro score for test: 0.5966972098007739\n",
            "\n",
            " F1 macro score for val: 0.6029921369847204\n",
            "\n",
            " Accuracy for test: 0.6324180690876883\n",
            "\n",
            " Accuracy for val: 0.6463815789473685\n"
          ],
          "name": "stdout"
        },
        {
          "output_type": "stream",
          "text": [
            "/usr/local/lib/python3.6/dist-packages/sklearn/linear_model/_logistic.py:940: ConvergenceWarning: lbfgs failed to converge (status=1):\n",
            "STOP: TOTAL NO. of ITERATIONS REACHED LIMIT.\n",
            "\n",
            "Increase the number of iterations (max_iter) or scale the data as shown in:\n",
            "    https://scikit-learn.org/stable/modules/preprocessing.html\n",
            "Please also refer to the documentation for alternative solver options:\n",
            "    https://scikit-learn.org/stable/modules/linear_model.html#logistic-regression\n",
            "  extra_warning_msg=_LOGISTIC_SOLVER_CONVERGENCE_MSG)\n"
          ],
          "name": "stderr"
        },
        {
          "output_type": "stream",
          "text": [
            "Language: Arabic      Model loaded: Zero Shot      c: 10      seed: 2019\n",
            "\n",
            " F1 macro score for test: 0.5966972098007739\n",
            "\n",
            " F1 macro score for val: 0.6029921369847204\n",
            "\n",
            " Accuracy for test: 0.6324180690876883\n",
            "\n",
            " Accuracy for val: 0.6463815789473685\n"
          ],
          "name": "stdout"
        },
        {
          "output_type": "stream",
          "text": [
            "/usr/local/lib/python3.6/dist-packages/sklearn/linear_model/_logistic.py:940: ConvergenceWarning: lbfgs failed to converge (status=1):\n",
            "STOP: TOTAL NO. of ITERATIONS REACHED LIMIT.\n",
            "\n",
            "Increase the number of iterations (max_iter) or scale the data as shown in:\n",
            "    https://scikit-learn.org/stable/modules/preprocessing.html\n",
            "Please also refer to the documentation for alternative solver options:\n",
            "    https://scikit-learn.org/stable/modules/linear_model.html#logistic-regression\n",
            "  extra_warning_msg=_LOGISTIC_SOLVER_CONVERGENCE_MSG)\n"
          ],
          "name": "stderr"
        },
        {
          "output_type": "stream",
          "text": [
            "Language: Arabic      Model loaded: Zero Shot      c: 10      seed: 2020\n",
            "\n",
            " F1 macro score for test: 0.5966972098007739\n",
            "\n",
            " F1 macro score for val: 0.6029921369847204\n",
            "\n",
            " Accuracy for test: 0.6324180690876883\n",
            "\n",
            " Accuracy for val: 0.6463815789473685\n"
          ],
          "name": "stdout"
        },
        {
          "output_type": "stream",
          "text": [
            "/usr/local/lib/python3.6/dist-packages/sklearn/linear_model/_logistic.py:940: ConvergenceWarning: lbfgs failed to converge (status=1):\n",
            "STOP: TOTAL NO. of ITERATIONS REACHED LIMIT.\n",
            "\n",
            "Increase the number of iterations (max_iter) or scale the data as shown in:\n",
            "    https://scikit-learn.org/stable/modules/preprocessing.html\n",
            "Please also refer to the documentation for alternative solver options:\n",
            "    https://scikit-learn.org/stable/modules/linear_model.html#logistic-regression\n",
            "  extra_warning_msg=_LOGISTIC_SOLVER_CONVERGENCE_MSG)\n"
          ],
          "name": "stderr"
        },
        {
          "output_type": "stream",
          "text": [
            "Language: Arabic      Model loaded: Zero Shot      c: 10      seed: 2021\n",
            "\n",
            " F1 macro score for test: 0.5966972098007739\n",
            "\n",
            " F1 macro score for val: 0.6029921369847204\n",
            "\n",
            " Accuracy for test: 0.6324180690876883\n",
            "\n",
            " Accuracy for val: 0.6463815789473685\n"
          ],
          "name": "stdout"
        },
        {
          "output_type": "stream",
          "text": [
            "/usr/local/lib/python3.6/dist-packages/sklearn/linear_model/_logistic.py:940: ConvergenceWarning: lbfgs failed to converge (status=1):\n",
            "STOP: TOTAL NO. of ITERATIONS REACHED LIMIT.\n",
            "\n",
            "Increase the number of iterations (max_iter) or scale the data as shown in:\n",
            "    https://scikit-learn.org/stable/modules/preprocessing.html\n",
            "Please also refer to the documentation for alternative solver options:\n",
            "    https://scikit-learn.org/stable/modules/linear_model.html#logistic-regression\n",
            "  extra_warning_msg=_LOGISTIC_SOLVER_CONVERGENCE_MSG)\n"
          ],
          "name": "stderr"
        },
        {
          "output_type": "stream",
          "text": [
            "Language: Arabic      Model loaded: Zero Shot      c: 10      seed: 2022\n",
            "\n",
            " F1 macro score for test: 0.5966972098007739\n",
            "\n",
            " F1 macro score for val: 0.6029921369847204\n",
            "\n",
            " Accuracy for test: 0.6324180690876883\n",
            "\n",
            " Accuracy for val: 0.6463815789473685\n",
            "[0.6311284119338336, 0.6311284119338336, 0.6311284119338336, 0.6311284119338336, 0.6311284119338336, 0.6331846324581643, 0.6331846324581643, 0.6331846324581643, 0.6331846324581643, 0.6331846324581643, 0.6104715137236215, 0.6104715137236215, 0.6104715137236215, 0.6104715137236215, 0.6097339014617077, 0.5966972098007739, 0.5966972098007739, 0.5966972098007739, 0.5966972098007739, 0.5966972098007739]\n",
            "Average F1 macro: 0.6178335613660024      language: Arabic\n",
            "Language: English      Model loaded: Zero Shot      c: 0.01      seed: 2018\n",
            "\n",
            " F1 macro score for test: 0.31604195294361415\n",
            "\n",
            " F1 macro score for val: 0.3204008139747576\n",
            "\n",
            " Accuracy for test: 0.3165191166455881\n",
            "\n",
            " Accuracy for val: 0.32086720867208673\n",
            "Language: English      Model loaded: Zero Shot      c: 0.01      seed: 2019\n",
            "\n",
            " F1 macro score for test: 0.31604195294361415\n",
            "\n",
            " F1 macro score for val: 0.3204008139747576\n",
            "\n",
            " Accuracy for test: 0.3165191166455881\n",
            "\n",
            " Accuracy for val: 0.32086720867208673\n",
            "Language: English      Model loaded: Zero Shot      c: 0.01      seed: 2020\n",
            "\n",
            " F1 macro score for test: 0.31604195294361415\n",
            "\n",
            " F1 macro score for val: 0.3204008139747576\n",
            "\n",
            " Accuracy for test: 0.3165191166455881\n",
            "\n",
            " Accuracy for val: 0.32086720867208673\n",
            "Language: English      Model loaded: Zero Shot      c: 0.01      seed: 2021\n",
            "\n",
            " F1 macro score for test: 0.31604195294361415\n",
            "\n",
            " F1 macro score for val: 0.3204008139747576\n",
            "\n",
            " Accuracy for test: 0.3165191166455881\n",
            "\n",
            " Accuracy for val: 0.32086720867208673\n",
            "Language: English      Model loaded: Zero Shot      c: 0.01      seed: 2022\n",
            "\n",
            " F1 macro score for test: 0.31604195294361415\n",
            "\n",
            " F1 macro score for val: 0.3204008139747576\n",
            "\n",
            " Accuracy for test: 0.3165191166455881\n",
            "\n",
            " Accuracy for val: 0.32086720867208673\n",
            "Language: English      Model loaded: Zero Shot      c: 0.1      seed: 2018\n",
            "\n",
            " F1 macro score for test: 0.36034386109159466\n",
            "\n",
            " F1 macro score for val: 0.3654391167718339\n",
            "\n",
            " Accuracy for test: 0.3610273372896196\n",
            "\n",
            " Accuracy for val: 0.3663053297199639\n",
            "Language: English      Model loaded: Zero Shot      c: 0.1      seed: 2019\n",
            "\n",
            " F1 macro score for test: 0.36034386109159466\n",
            "\n",
            " F1 macro score for val: 0.3654391167718339\n",
            "\n",
            " Accuracy for test: 0.3610273372896196\n",
            "\n",
            " Accuracy for val: 0.3663053297199639\n",
            "Language: English      Model loaded: Zero Shot      c: 0.1      seed: 2020\n",
            "\n",
            " F1 macro score for test: 0.36034386109159466\n",
            "\n",
            " F1 macro score for val: 0.3654391167718339\n",
            "\n",
            " Accuracy for test: 0.3610273372896196\n",
            "\n",
            " Accuracy for val: 0.3663053297199639\n",
            "Language: English      Model loaded: Zero Shot      c: 0.1      seed: 2021\n",
            "\n",
            " F1 macro score for test: 0.36034386109159466\n",
            "\n",
            " F1 macro score for val: 0.3654391167718339\n",
            "\n",
            " Accuracy for test: 0.3610273372896196\n",
            "\n",
            " Accuracy for val: 0.3663053297199639\n",
            "Language: English      Model loaded: Zero Shot      c: 0.1      seed: 2022\n",
            "\n",
            " F1 macro score for test: 0.36034386109159466\n",
            "\n",
            " F1 macro score for val: 0.3654391167718339\n",
            "\n",
            " Accuracy for test: 0.3610273372896196\n",
            "\n",
            " Accuracy for val: 0.3663053297199639\n",
            "Language: English      Model loaded: Zero Shot      c: 1      seed: 2018\n",
            "\n",
            " F1 macro score for test: 0.4858641607277278\n",
            "\n",
            " F1 macro score for val: 0.48812432613030465\n",
            "\n",
            " Accuracy for test: 0.5132308590329798\n",
            "\n",
            " Accuracy for val: 0.5160794941282746\n",
            "Language: English      Model loaded: Zero Shot      c: 1      seed: 2019\n",
            "\n",
            " F1 macro score for test: 0.4858641607277278\n",
            "\n",
            " F1 macro score for val: 0.48812432613030465\n",
            "\n",
            " Accuracy for test: 0.5132308590329798\n",
            "\n",
            " Accuracy for val: 0.5160794941282746\n",
            "Language: English      Model loaded: Zero Shot      c: 1      seed: 2020\n",
            "\n",
            " F1 macro score for test: 0.4858641607277278\n",
            "\n",
            " F1 macro score for val: 0.48812432613030465\n",
            "\n",
            " Accuracy for test: 0.5132308590329798\n",
            "\n",
            " Accuracy for val: 0.5160794941282746\n",
            "Language: English      Model loaded: Zero Shot      c: 1      seed: 2021\n",
            "\n",
            " F1 macro score for test: 0.4858641607277278\n",
            "\n",
            " F1 macro score for val: 0.48812432613030465\n",
            "\n",
            " Accuracy for test: 0.5132308590329798\n",
            "\n",
            " Accuracy for val: 0.5160794941282746\n",
            "Language: English      Model loaded: Zero Shot      c: 1      seed: 2022\n",
            "\n",
            " F1 macro score for test: 0.4858641607277278\n",
            "\n",
            " F1 macro score for val: 0.48812432613030465\n",
            "\n",
            " Accuracy for test: 0.5132308590329798\n",
            "\n",
            " Accuracy for val: 0.5160794941282746\n"
          ],
          "name": "stdout"
        },
        {
          "output_type": "stream",
          "text": [
            "/usr/local/lib/python3.6/dist-packages/sklearn/linear_model/_logistic.py:940: ConvergenceWarning: lbfgs failed to converge (status=1):\n",
            "STOP: TOTAL NO. of ITERATIONS REACHED LIMIT.\n",
            "\n",
            "Increase the number of iterations (max_iter) or scale the data as shown in:\n",
            "    https://scikit-learn.org/stable/modules/preprocessing.html\n",
            "Please also refer to the documentation for alternative solver options:\n",
            "    https://scikit-learn.org/stable/modules/linear_model.html#logistic-regression\n",
            "  extra_warning_msg=_LOGISTIC_SOLVER_CONVERGENCE_MSG)\n"
          ],
          "name": "stderr"
        },
        {
          "output_type": "stream",
          "text": [
            "Language: English      Model loaded: Zero Shot      c: 10      seed: 2018\n",
            "\n",
            " F1 macro score for test: 0.5611631776729344\n",
            "\n",
            " F1 macro score for val: 0.5691635085674751\n",
            "\n",
            " Accuracy for test: 0.6403346629049519\n",
            "\n",
            " Accuracy for val: 0.6495934959349593\n"
          ],
          "name": "stdout"
        },
        {
          "output_type": "stream",
          "text": [
            "/usr/local/lib/python3.6/dist-packages/sklearn/linear_model/_logistic.py:940: ConvergenceWarning: lbfgs failed to converge (status=1):\n",
            "STOP: TOTAL NO. of ITERATIONS REACHED LIMIT.\n",
            "\n",
            "Increase the number of iterations (max_iter) or scale the data as shown in:\n",
            "    https://scikit-learn.org/stable/modules/preprocessing.html\n",
            "Please also refer to the documentation for alternative solver options:\n",
            "    https://scikit-learn.org/stable/modules/linear_model.html#logistic-regression\n",
            "  extra_warning_msg=_LOGISTIC_SOLVER_CONVERGENCE_MSG)\n"
          ],
          "name": "stderr"
        },
        {
          "output_type": "stream",
          "text": [
            "Language: English      Model loaded: Zero Shot      c: 10      seed: 2019\n",
            "\n",
            " F1 macro score for test: 0.5610515079292167\n",
            "\n",
            " F1 macro score for val: 0.5692461777766092\n",
            "\n",
            " Accuracy for test: 0.6401887343126763\n",
            "\n",
            " Accuracy for val: 0.6495934959349593\n"
          ],
          "name": "stdout"
        },
        {
          "output_type": "stream",
          "text": [
            "/usr/local/lib/python3.6/dist-packages/sklearn/linear_model/_logistic.py:940: ConvergenceWarning: lbfgs failed to converge (status=1):\n",
            "STOP: TOTAL NO. of ITERATIONS REACHED LIMIT.\n",
            "\n",
            "Increase the number of iterations (max_iter) or scale the data as shown in:\n",
            "    https://scikit-learn.org/stable/modules/preprocessing.html\n",
            "Please also refer to the documentation for alternative solver options:\n",
            "    https://scikit-learn.org/stable/modules/linear_model.html#logistic-regression\n",
            "  extra_warning_msg=_LOGISTIC_SOLVER_CONVERGENCE_MSG)\n"
          ],
          "name": "stderr"
        },
        {
          "output_type": "stream",
          "text": [
            "Language: English      Model loaded: Zero Shot      c: 10      seed: 2020\n",
            "\n",
            " F1 macro score for test: 0.5611631776729344\n",
            "\n",
            " F1 macro score for val: 0.5691635085674751\n",
            "\n",
            " Accuracy for test: 0.6403346629049519\n",
            "\n",
            " Accuracy for val: 0.6495934959349593\n"
          ],
          "name": "stdout"
        },
        {
          "output_type": "stream",
          "text": [
            "/usr/local/lib/python3.6/dist-packages/sklearn/linear_model/_logistic.py:940: ConvergenceWarning: lbfgs failed to converge (status=1):\n",
            "STOP: TOTAL NO. of ITERATIONS REACHED LIMIT.\n",
            "\n",
            "Increase the number of iterations (max_iter) or scale the data as shown in:\n",
            "    https://scikit-learn.org/stable/modules/preprocessing.html\n",
            "Please also refer to the documentation for alternative solver options:\n",
            "    https://scikit-learn.org/stable/modules/linear_model.html#logistic-regression\n",
            "  extra_warning_msg=_LOGISTIC_SOLVER_CONVERGENCE_MSG)\n"
          ],
          "name": "stderr"
        },
        {
          "output_type": "stream",
          "text": [
            "Language: English      Model loaded: Zero Shot      c: 10      seed: 2021\n",
            "\n",
            " F1 macro score for test: 0.5612004033593648\n",
            "\n",
            " F1 macro score for val: 0.5691635085674751\n",
            "\n",
            " Accuracy for test: 0.6403833057690437\n",
            "\n",
            " Accuracy for val: 0.6495934959349593\n"
          ],
          "name": "stdout"
        },
        {
          "output_type": "stream",
          "text": [
            "/usr/local/lib/python3.6/dist-packages/sklearn/linear_model/_logistic.py:940: ConvergenceWarning: lbfgs failed to converge (status=1):\n",
            "STOP: TOTAL NO. of ITERATIONS REACHED LIMIT.\n",
            "\n",
            "Increase the number of iterations (max_iter) or scale the data as shown in:\n",
            "    https://scikit-learn.org/stable/modules/preprocessing.html\n",
            "Please also refer to the documentation for alternative solver options:\n",
            "    https://scikit-learn.org/stable/modules/linear_model.html#logistic-regression\n",
            "  extra_warning_msg=_LOGISTIC_SOLVER_CONVERGENCE_MSG)\n"
          ],
          "name": "stderr"
        },
        {
          "output_type": "stream",
          "text": [
            "Language: English      Model loaded: Zero Shot      c: 10      seed: 2022\n",
            "\n",
            " F1 macro score for test: 0.5611631776729344\n",
            "\n",
            " F1 macro score for val: 0.5692332287131208\n",
            "\n",
            " Accuracy for test: 0.6403346629049519\n",
            "\n",
            " Accuracy for val: 0.649683830171635\n",
            "[0.31604195294361415, 0.31604195294361415, 0.31604195294361415, 0.31604195294361415, 0.31604195294361415, 0.36034386109159466, 0.36034386109159466, 0.36034386109159466, 0.36034386109159466, 0.36034386109159466, 0.4858641607277278, 0.4858641607277278, 0.4858641607277278, 0.4858641607277278, 0.4858641607277278, 0.5611631776729344, 0.5610515079292167, 0.5611631776729344, 0.5612004033593648, 0.5611631776729344]\n",
            "Average F1 macro: 0.4308495659061034      language: English\n",
            "Language: French      Model loaded: Zero Shot      c: 0.01      seed: 2018\n",
            "\n",
            " F1 macro score for test: 0.44135714285714284\n",
            "\n",
            " F1 macro score for val: 0.5346320346320346\n",
            "\n",
            " Accuracy for test: 0.4430379746835443\n",
            "\n",
            " Accuracy for val: 0.5348837209302325\n",
            "Language: French      Model loaded: Zero Shot      c: 0.01      seed: 2019\n",
            "\n",
            " F1 macro score for test: 0.44135714285714284\n",
            "\n",
            " F1 macro score for val: 0.5346320346320346\n",
            "\n",
            " Accuracy for test: 0.4430379746835443\n",
            "\n",
            " Accuracy for val: 0.5348837209302325\n",
            "Language: French      Model loaded: Zero Shot      c: 0.01      seed: 2020\n",
            "\n",
            " F1 macro score for test: 0.44135714285714284\n",
            "\n",
            " F1 macro score for val: 0.5346320346320346\n",
            "\n",
            " Accuracy for test: 0.4430379746835443\n",
            "\n",
            " Accuracy for val: 0.5348837209302325\n",
            "Language: French      Model loaded: Zero Shot      c: 0.01      seed: 2021\n",
            "\n",
            " F1 macro score for test: 0.44135714285714284\n",
            "\n",
            " F1 macro score for val: 0.5346320346320346\n",
            "\n",
            " Accuracy for test: 0.4430379746835443\n",
            "\n",
            " Accuracy for val: 0.5348837209302325\n",
            "Language: French      Model loaded: Zero Shot      c: 0.01      seed: 2022\n",
            "\n",
            " F1 macro score for test: 0.44135714285714284\n",
            "\n",
            " F1 macro score for val: 0.5346320346320346\n",
            "\n",
            " Accuracy for test: 0.4430379746835443\n",
            "\n",
            " Accuracy for val: 0.5348837209302325\n",
            "Language: French      Model loaded: Zero Shot      c: 0.1      seed: 2018\n",
            "\n",
            " F1 macro score for test: 0.436770848336454\n",
            "\n",
            " F1 macro score for val: 0.511157894736842\n",
            "\n",
            " Accuracy for test: 0.4430379746835443\n",
            "\n",
            " Accuracy for val: 0.5116279069767442\n",
            "Language: French      Model loaded: Zero Shot      c: 0.1      seed: 2019\n",
            "\n",
            " F1 macro score for test: 0.436770848336454\n",
            "\n",
            " F1 macro score for val: 0.511157894736842\n",
            "\n",
            " Accuracy for test: 0.4430379746835443\n",
            "\n",
            " Accuracy for val: 0.5116279069767442\n",
            "Language: French      Model loaded: Zero Shot      c: 0.1      seed: 2020\n",
            "\n",
            " F1 macro score for test: 0.436770848336454\n",
            "\n",
            " F1 macro score for val: 0.511157894736842\n",
            "\n",
            " Accuracy for test: 0.4430379746835443\n",
            "\n",
            " Accuracy for val: 0.5116279069767442\n",
            "Language: French      Model loaded: Zero Shot      c: 0.1      seed: 2021\n",
            "\n",
            " F1 macro score for test: 0.436770848336454\n",
            "\n",
            " F1 macro score for val: 0.511157894736842\n",
            "\n",
            " Accuracy for test: 0.4430379746835443\n",
            "\n",
            " Accuracy for val: 0.5116279069767442\n",
            "Language: French      Model loaded: Zero Shot      c: 0.1      seed: 2022\n",
            "\n",
            " F1 macro score for test: 0.436770848336454\n",
            "\n",
            " F1 macro score for val: 0.511157894736842\n",
            "\n",
            " Accuracy for test: 0.4430379746835443\n",
            "\n",
            " Accuracy for val: 0.5116279069767442\n"
          ],
          "name": "stdout"
        },
        {
          "output_type": "stream",
          "text": [
            "/usr/local/lib/python3.6/dist-packages/sklearn/linear_model/_logistic.py:940: ConvergenceWarning: lbfgs failed to converge (status=1):\n",
            "STOP: TOTAL NO. of ITERATIONS REACHED LIMIT.\n",
            "\n",
            "Increase the number of iterations (max_iter) or scale the data as shown in:\n",
            "    https://scikit-learn.org/stable/modules/preprocessing.html\n",
            "Please also refer to the documentation for alternative solver options:\n",
            "    https://scikit-learn.org/stable/modules/linear_model.html#logistic-regression\n",
            "  extra_warning_msg=_LOGISTIC_SOLVER_CONVERGENCE_MSG)\n"
          ],
          "name": "stderr"
        },
        {
          "output_type": "stream",
          "text": [
            "Language: French      Model loaded: Zero Shot      c: 1      seed: 2018\n",
            "\n",
            " F1 macro score for test: 0.3990001449065353\n",
            "\n",
            " F1 macro score for val: 0.4774802007133788\n",
            "\n",
            " Accuracy for test: 0.4092827004219409\n",
            "\n",
            " Accuracy for val: 0.4806201550387597\n"
          ],
          "name": "stdout"
        },
        {
          "output_type": "stream",
          "text": [
            "/usr/local/lib/python3.6/dist-packages/sklearn/linear_model/_logistic.py:940: ConvergenceWarning: lbfgs failed to converge (status=1):\n",
            "STOP: TOTAL NO. of ITERATIONS REACHED LIMIT.\n",
            "\n",
            "Increase the number of iterations (max_iter) or scale the data as shown in:\n",
            "    https://scikit-learn.org/stable/modules/preprocessing.html\n",
            "Please also refer to the documentation for alternative solver options:\n",
            "    https://scikit-learn.org/stable/modules/linear_model.html#logistic-regression\n",
            "  extra_warning_msg=_LOGISTIC_SOLVER_CONVERGENCE_MSG)\n"
          ],
          "name": "stderr"
        },
        {
          "output_type": "stream",
          "text": [
            "Language: French      Model loaded: Zero Shot      c: 1      seed: 2019\n",
            "\n",
            " F1 macro score for test: 0.3990001449065353\n",
            "\n",
            " F1 macro score for val: 0.4774802007133788\n",
            "\n",
            " Accuracy for test: 0.4092827004219409\n",
            "\n",
            " Accuracy for val: 0.4806201550387597\n"
          ],
          "name": "stdout"
        },
        {
          "output_type": "stream",
          "text": [
            "/usr/local/lib/python3.6/dist-packages/sklearn/linear_model/_logistic.py:940: ConvergenceWarning: lbfgs failed to converge (status=1):\n",
            "STOP: TOTAL NO. of ITERATIONS REACHED LIMIT.\n",
            "\n",
            "Increase the number of iterations (max_iter) or scale the data as shown in:\n",
            "    https://scikit-learn.org/stable/modules/preprocessing.html\n",
            "Please also refer to the documentation for alternative solver options:\n",
            "    https://scikit-learn.org/stable/modules/linear_model.html#logistic-regression\n",
            "  extra_warning_msg=_LOGISTIC_SOLVER_CONVERGENCE_MSG)\n"
          ],
          "name": "stderr"
        },
        {
          "output_type": "stream",
          "text": [
            "Language: French      Model loaded: Zero Shot      c: 1      seed: 2020\n",
            "\n",
            " F1 macro score for test: 0.3990001449065353\n",
            "\n",
            " F1 macro score for val: 0.4774802007133788\n",
            "\n",
            " Accuracy for test: 0.4092827004219409\n",
            "\n",
            " Accuracy for val: 0.4806201550387597\n"
          ],
          "name": "stdout"
        },
        {
          "output_type": "stream",
          "text": [
            "/usr/local/lib/python3.6/dist-packages/sklearn/linear_model/_logistic.py:940: ConvergenceWarning: lbfgs failed to converge (status=1):\n",
            "STOP: TOTAL NO. of ITERATIONS REACHED LIMIT.\n",
            "\n",
            "Increase the number of iterations (max_iter) or scale the data as shown in:\n",
            "    https://scikit-learn.org/stable/modules/preprocessing.html\n",
            "Please also refer to the documentation for alternative solver options:\n",
            "    https://scikit-learn.org/stable/modules/linear_model.html#logistic-regression\n",
            "  extra_warning_msg=_LOGISTIC_SOLVER_CONVERGENCE_MSG)\n"
          ],
          "name": "stderr"
        },
        {
          "output_type": "stream",
          "text": [
            "Language: French      Model loaded: Zero Shot      c: 1      seed: 2021\n",
            "\n",
            " F1 macro score for test: 0.3990001449065353\n",
            "\n",
            " F1 macro score for val: 0.4774802007133788\n",
            "\n",
            " Accuracy for test: 0.4092827004219409\n",
            "\n",
            " Accuracy for val: 0.4806201550387597\n"
          ],
          "name": "stdout"
        },
        {
          "output_type": "stream",
          "text": [
            "/usr/local/lib/python3.6/dist-packages/sklearn/linear_model/_logistic.py:940: ConvergenceWarning: lbfgs failed to converge (status=1):\n",
            "STOP: TOTAL NO. of ITERATIONS REACHED LIMIT.\n",
            "\n",
            "Increase the number of iterations (max_iter) or scale the data as shown in:\n",
            "    https://scikit-learn.org/stable/modules/preprocessing.html\n",
            "Please also refer to the documentation for alternative solver options:\n",
            "    https://scikit-learn.org/stable/modules/linear_model.html#logistic-regression\n",
            "  extra_warning_msg=_LOGISTIC_SOLVER_CONVERGENCE_MSG)\n"
          ],
          "name": "stderr"
        },
        {
          "output_type": "stream",
          "text": [
            "Language: French      Model loaded: Zero Shot      c: 1      seed: 2022\n",
            "\n",
            " F1 macro score for test: 0.3990001449065353\n",
            "\n",
            " F1 macro score for val: 0.4774802007133788\n",
            "\n",
            " Accuracy for test: 0.4092827004219409\n",
            "\n",
            " Accuracy for val: 0.4806201550387597\n"
          ],
          "name": "stdout"
        },
        {
          "output_type": "stream",
          "text": [
            "/usr/local/lib/python3.6/dist-packages/sklearn/linear_model/_logistic.py:940: ConvergenceWarning: lbfgs failed to converge (status=1):\n",
            "STOP: TOTAL NO. of ITERATIONS REACHED LIMIT.\n",
            "\n",
            "Increase the number of iterations (max_iter) or scale the data as shown in:\n",
            "    https://scikit-learn.org/stable/modules/preprocessing.html\n",
            "Please also refer to the documentation for alternative solver options:\n",
            "    https://scikit-learn.org/stable/modules/linear_model.html#logistic-regression\n",
            "  extra_warning_msg=_LOGISTIC_SOLVER_CONVERGENCE_MSG)\n"
          ],
          "name": "stderr"
        },
        {
          "output_type": "stream",
          "text": [
            "Language: French      Model loaded: Zero Shot      c: 10      seed: 2018\n",
            "\n",
            " F1 macro score for test: 0.4161715693377771\n",
            "\n",
            " F1 macro score for val: 0.4448081469358065\n",
            "\n",
            " Accuracy for test: 0.42616033755274263\n",
            "\n",
            " Accuracy for val: 0.4496124031007752\n"
          ],
          "name": "stdout"
        },
        {
          "output_type": "stream",
          "text": [
            "/usr/local/lib/python3.6/dist-packages/sklearn/linear_model/_logistic.py:940: ConvergenceWarning: lbfgs failed to converge (status=1):\n",
            "STOP: TOTAL NO. of ITERATIONS REACHED LIMIT.\n",
            "\n",
            "Increase the number of iterations (max_iter) or scale the data as shown in:\n",
            "    https://scikit-learn.org/stable/modules/preprocessing.html\n",
            "Please also refer to the documentation for alternative solver options:\n",
            "    https://scikit-learn.org/stable/modules/linear_model.html#logistic-regression\n",
            "  extra_warning_msg=_LOGISTIC_SOLVER_CONVERGENCE_MSG)\n"
          ],
          "name": "stderr"
        },
        {
          "output_type": "stream",
          "text": [
            "Language: French      Model loaded: Zero Shot      c: 10      seed: 2019\n",
            "\n",
            " F1 macro score for test: 0.41120681838788653\n",
            "\n",
            " F1 macro score for val: 0.4448081469358065\n",
            "\n",
            " Accuracy for test: 0.4219409282700422\n",
            "\n",
            " Accuracy for val: 0.4496124031007752\n"
          ],
          "name": "stdout"
        },
        {
          "output_type": "stream",
          "text": [
            "/usr/local/lib/python3.6/dist-packages/sklearn/linear_model/_logistic.py:940: ConvergenceWarning: lbfgs failed to converge (status=1):\n",
            "STOP: TOTAL NO. of ITERATIONS REACHED LIMIT.\n",
            "\n",
            "Increase the number of iterations (max_iter) or scale the data as shown in:\n",
            "    https://scikit-learn.org/stable/modules/preprocessing.html\n",
            "Please also refer to the documentation for alternative solver options:\n",
            "    https://scikit-learn.org/stable/modules/linear_model.html#logistic-regression\n",
            "  extra_warning_msg=_LOGISTIC_SOLVER_CONVERGENCE_MSG)\n"
          ],
          "name": "stderr"
        },
        {
          "output_type": "stream",
          "text": [
            "Language: French      Model loaded: Zero Shot      c: 10      seed: 2020\n",
            "\n",
            " F1 macro score for test: 0.4062091503267974\n",
            "\n",
            " F1 macro score for val: 0.4448081469358065\n",
            "\n",
            " Accuracy for test: 0.4177215189873418\n",
            "\n",
            " Accuracy for val: 0.4496124031007752\n"
          ],
          "name": "stdout"
        },
        {
          "output_type": "stream",
          "text": [
            "/usr/local/lib/python3.6/dist-packages/sklearn/linear_model/_logistic.py:940: ConvergenceWarning: lbfgs failed to converge (status=1):\n",
            "STOP: TOTAL NO. of ITERATIONS REACHED LIMIT.\n",
            "\n",
            "Increase the number of iterations (max_iter) or scale the data as shown in:\n",
            "    https://scikit-learn.org/stable/modules/preprocessing.html\n",
            "Please also refer to the documentation for alternative solver options:\n",
            "    https://scikit-learn.org/stable/modules/linear_model.html#logistic-regression\n",
            "  extra_warning_msg=_LOGISTIC_SOLVER_CONVERGENCE_MSG)\n"
          ],
          "name": "stderr"
        },
        {
          "output_type": "stream",
          "text": [
            "Language: French      Model loaded: Zero Shot      c: 10      seed: 2021\n",
            "\n",
            " F1 macro score for test: 0.4062091503267974\n",
            "\n",
            " F1 macro score for val: 0.4448081469358065\n",
            "\n",
            " Accuracy for test: 0.4177215189873418\n",
            "\n",
            " Accuracy for val: 0.4496124031007752\n",
            "Language: French      Model loaded: Zero Shot      c: 10      seed: 2022\n",
            "\n",
            " F1 macro score for test: 0.4148148148148148\n",
            "\n",
            " F1 macro score for val: 0.4448081469358065\n",
            "\n",
            " Accuracy for test: 0.42616033755274263\n",
            "\n",
            " Accuracy for val: 0.4496124031007752\n",
            "[0.44135714285714284, 0.44135714285714284, 0.44135714285714284, 0.44135714285714284, 0.44135714285714284, 0.436770848336454, 0.436770848336454, 0.436770848336454, 0.436770848336454, 0.436770848336454, 0.3990001449065353, 0.3990001449065353, 0.3990001449065353, 0.3990001449065353, 0.3990001449065353, 0.4161715693377771, 0.41120681838788653, 0.4062091503267974, 0.4062091503267974, 0.4148148148148148]\n",
            "Average F1 macro: 0.42201260918473676      language: French\n"
          ],
          "name": "stdout"
        },
        {
          "output_type": "stream",
          "text": [
            "/usr/local/lib/python3.6/dist-packages/sklearn/linear_model/_logistic.py:940: ConvergenceWarning: lbfgs failed to converge (status=1):\n",
            "STOP: TOTAL NO. of ITERATIONS REACHED LIMIT.\n",
            "\n",
            "Increase the number of iterations (max_iter) or scale the data as shown in:\n",
            "    https://scikit-learn.org/stable/modules/preprocessing.html\n",
            "Please also refer to the documentation for alternative solver options:\n",
            "    https://scikit-learn.org/stable/modules/linear_model.html#logistic-regression\n",
            "  extra_warning_msg=_LOGISTIC_SOLVER_CONVERGENCE_MSG)\n"
          ],
          "name": "stderr"
        }
      ]
    },
    {
      "cell_type": "code",
      "metadata": {
        "id": "MLf8AAs5g07g"
      },
      "source": [
        ""
      ],
      "execution_count": null,
      "outputs": []
    }
  ]
}