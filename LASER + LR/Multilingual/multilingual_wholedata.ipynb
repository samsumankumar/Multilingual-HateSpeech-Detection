{
  "nbformat": 4,
  "nbformat_minor": 0,
  "metadata": {
    "colab": {
      "name": "multilingual_wholedata.ipynb",
      "provenance": [],
      "collapsed_sections": [],
      "machine_shape": "hm"
    },
    "kernelspec": {
      "name": "python3",
      "display_name": "Python 3"
    },
    "accelerator": "GPU"
  },
  "cells": [
    {
      "cell_type": "code",
      "metadata": {
        "id": "njbQWy445i7g",
        "outputId": "6dee5edf-2eff-4db2-bfba-db06aa43783c",
        "colab": {
          "base_uri": "https://localhost:8080/"
        }
      },
      "source": [
        "from google.colab import drive\n",
        "drive.mount('/content/drive')"
      ],
      "execution_count": null,
      "outputs": [
        {
          "output_type": "stream",
          "text": [
            "Mounted at /content/drive\n"
          ],
          "name": "stdout"
        }
      ]
    },
    {
      "cell_type": "code",
      "metadata": {
        "id": "KlNOkzkG5uMt",
        "outputId": "2d93bb14-c967-45b6-e543-a4ddff0b5790",
        "colab": {
          "base_uri": "https://localhost:8080/"
        }
      },
      "source": [
        "pip install laserembeddings"
      ],
      "execution_count": null,
      "outputs": [
        {
          "output_type": "stream",
          "text": [
            "Collecting laserembeddings\n",
            "  Downloading https://files.pythonhosted.org/packages/a2/4b/a9e3ee9f4825bd2bb6b48f26370e2c341860ec0cb2a9a27deea9be6c2299/laserembeddings-1.1.0-py3-none-any.whl\n",
            "Collecting sacremoses==0.0.35\n",
            "\u001b[?25l  Downloading https://files.pythonhosted.org/packages/1f/8e/ed5364a06a9ba720fddd9820155cc57300d28f5f43a6fd7b7e817177e642/sacremoses-0.0.35.tar.gz (859kB)\n",
            "\u001b[K     |████████████████████████████████| 860kB 4.0MB/s \n",
            "\u001b[?25hCollecting transliterate==1.10.2\n",
            "\u001b[?25l  Downloading https://files.pythonhosted.org/packages/a1/6e/9a9d597dbdd6d0172427c8cc07c35736471e631060df9e59eeb87687f817/transliterate-1.10.2-py2.py3-none-any.whl (45kB)\n",
            "\u001b[K     |████████████████████████████████| 51kB 6.8MB/s \n",
            "\u001b[?25hRequirement already satisfied: numpy<2.0.0,>=1.15.4 in /usr/local/lib/python3.6/dist-packages (from laserembeddings) (1.18.5)\n",
            "Requirement already satisfied: torch<2.0.0,>=1.0.1.post2 in /usr/local/lib/python3.6/dist-packages (from laserembeddings) (1.7.0+cu101)\n",
            "Collecting subword-nmt<0.4.0,>=0.3.6\n",
            "  Downloading https://files.pythonhosted.org/packages/74/60/6600a7bc09e7ab38bc53a48a20d8cae49b837f93f5842a41fe513a694912/subword_nmt-0.3.7-py2.py3-none-any.whl\n",
            "Requirement already satisfied: six in /usr/local/lib/python3.6/dist-packages (from sacremoses==0.0.35->laserembeddings) (1.15.0)\n",
            "Requirement already satisfied: click in /usr/local/lib/python3.6/dist-packages (from sacremoses==0.0.35->laserembeddings) (7.1.2)\n",
            "Requirement already satisfied: joblib in /usr/local/lib/python3.6/dist-packages (from sacremoses==0.0.35->laserembeddings) (0.17.0)\n",
            "Requirement already satisfied: tqdm in /usr/local/lib/python3.6/dist-packages (from sacremoses==0.0.35->laserembeddings) (4.41.1)\n",
            "Requirement already satisfied: dataclasses in /usr/local/lib/python3.6/dist-packages (from torch<2.0.0,>=1.0.1.post2->laserembeddings) (0.7)\n",
            "Requirement already satisfied: future in /usr/local/lib/python3.6/dist-packages (from torch<2.0.0,>=1.0.1.post2->laserembeddings) (0.16.0)\n",
            "Requirement already satisfied: typing-extensions in /usr/local/lib/python3.6/dist-packages (from torch<2.0.0,>=1.0.1.post2->laserembeddings) (3.7.4.3)\n",
            "Building wheels for collected packages: sacremoses\n",
            "  Building wheel for sacremoses (setup.py) ... \u001b[?25l\u001b[?25hdone\n",
            "  Created wheel for sacremoses: filename=sacremoses-0.0.35-cp36-none-any.whl size=883999 sha256=cab86cbb3412c81a91fc3d6d732fe6dec331200416e388c64047dd80dc6a3516\n",
            "  Stored in directory: /root/.cache/pip/wheels/63/2a/db/63e2909042c634ef551d0d9ac825b2b0b32dede4a6d87ddc94\n",
            "Successfully built sacremoses\n",
            "Installing collected packages: sacremoses, transliterate, subword-nmt, laserembeddings\n",
            "Successfully installed laserembeddings-1.1.0 sacremoses-0.0.35 subword-nmt-0.3.7 transliterate-1.10.2\n"
          ],
          "name": "stdout"
        }
      ]
    },
    {
      "cell_type": "code",
      "metadata": {
        "id": "LQyLlWrH5xcX",
        "outputId": "ffa7d6bd-8758-476d-8527-07c5576ab228",
        "colab": {
          "base_uri": "https://localhost:8080/"
        }
      },
      "source": [
        "!python -m laserembeddings download-models"
      ],
      "execution_count": null,
      "outputs": [
        {
          "output_type": "stream",
          "text": [
            "Downloading models into /usr/local/lib/python3.6/dist-packages/laserembeddings/data\n",
            "\n",
            "✅   Downloaded https://dl.fbaipublicfiles.com/laser/models/93langs.fcodes    \n",
            "✅   Downloaded https://dl.fbaipublicfiles.com/laser/models/93langs.fvocab    \n",
            "✅   Downloaded https://dl.fbaipublicfiles.com/laser/models/bilstm.93langs.2018-12-26.pt    \n",
            "\n",
            "✨ You're all set!\n"
          ],
          "name": "stdout"
        }
      ]
    },
    {
      "cell_type": "code",
      "metadata": {
        "id": "9wh1jvR-50MR"
      },
      "source": [
        "import pandas as pd\n",
        "import numpy as np\n",
        "import os\n",
        "from pandas import DataFrame\n",
        "from laserembeddings import Laser\n",
        "from sklearn.model_selection import StratifiedShuffleSplit\n",
        "from sklearn.linear_model import LogisticRegression\n",
        "from sklearn.metrics import f1_score\n",
        "from sklearn.metrics import accuracy_score\n",
        "import pickle"
      ],
      "execution_count": null,
      "outputs": []
    },
    {
      "cell_type": "code",
      "metadata": {
        "id": "piXy8Qw952_c"
      },
      "source": [
        "lang = ['Arabic','English','French']\n",
        "cols = []\n",
        "for i in range(1024):\n",
        "  cols.append(i)"
      ],
      "execution_count": null,
      "outputs": []
    },
    {
      "cell_type": "code",
      "metadata": {
        "id": "08JCt89D55RD"
      },
      "source": [
        "def preprocessing(language):\n",
        "    path = 'drive/My Drive/CS695'\n",
        "    data = pd.read_csv(os.path.join(path,language+'.csv'))\n",
        "    data_to_list = data['tweet'].to_list()\n",
        "\n",
        "    laser = Laser()\n",
        "    embeddings = laser.embed_sentences(data_to_list, lang='en') \n",
        "\n",
        "    df1=pd.DataFrame(embeddings)\n",
        "    df2 = pd.DataFrame(data['label'])\n",
        "\n",
        "    sss1 = StratifiedShuffleSplit(n_splits=1,test_size=0.3,random_state=0)\n",
        "    a = list(sss1.split(df1, df2))\n",
        "    train_x,interX = df1.iloc[a[0][0],:],df1.iloc[a[0][1],:]\n",
        "    train_y,interY = df2.iloc[a[0][0],:],df2.iloc[a[0][1],:]\n",
        "\n",
        "    sss2 = StratifiedShuffleSplit(n_splits=1,test_size=0.35,random_state=0)\n",
        "    a = list(sss2.split(interX, interY))\n",
        "    test_x,val_x = interX.iloc[a[0][0],:],interX.iloc[a[0][1],:]\n",
        "    test_y,val_y = interY.iloc[a[0][0],:],interY.iloc[a[0][1],:]\n",
        "\n",
        "    return train_x, test_x, val_x, train_y, test_y, val_y "
      ],
      "execution_count": null,
      "outputs": []
    },
    {
      "cell_type": "code",
      "metadata": {
        "id": "glzgO-dy6LEl"
      },
      "source": [
        "Arabic_train_x, Arabic_test_x, Arabic_val_x, Arabic_train_y, Arabic_test_y, Arabic_val_y = preprocessing('Arabic')\n",
        "English_train_x, English_test_x, English_val_x, English_train_y, English_test_y, English_val_y = preprocessing('English')\n",
        "French_train_x, French_test_x, French_val_x, French_train_y, French_test_y, French_val_y = preprocessing('French')"
      ],
      "execution_count": null,
      "outputs": []
    },
    {
      "cell_type": "code",
      "metadata": {
        "id": "LX4iKN0zWnLW"
      },
      "source": [
        "_English = pd.concat([English_train_x, English_train_y], axis=1)\n",
        "_Arabic = pd.concat([Arabic_train_x, Arabic_train_y], axis=1)\n",
        "_French = pd.concat([French_train_x, French_train_y], axis=1)"
      ],
      "execution_count": null,
      "outputs": []
    },
    {
      "cell_type": "code",
      "metadata": {
        "id": "d-eJe09rXkeg"
      },
      "source": [
        "df_ = pd.concat([_English, _Arabic], axis=0)\n",
        "df_ = pd.concat([df_, _French], axis= 0)"
      ],
      "execution_count": null,
      "outputs": []
    },
    {
      "cell_type": "code",
      "metadata": {
        "id": "B6ppmy2B6CU8"
      },
      "source": [
        "def model_for_all(c, seed):\n",
        "  \n",
        "  df_new = df_.sample(frac=1,random_state=seed).reset_index(drop=True)\n",
        "            \n",
        "  df_x = df_new[cols]\n",
        "  df_y = df_new['label']\n",
        "\n",
        "  model = LogisticRegression(C=c,solver='lbfgs',class_weight='balanced',random_state=seed)\n",
        "  model.fit(df_x, df_y)\n",
        "    \n",
        "  Arabic_test_predict = model.predict(Arabic_test_x)\n",
        "  French_test_predict = model.predict(French_test_x)\n",
        "  English_test_predict = model.predict(English_test_x)\n",
        " \n",
        "\n",
        "  Arabic_f1_score = f1_score(Arabic_test_y, Arabic_test_predict, average='macro')\n",
        "  French_f1_score = f1_score(French_test_y, French_test_predict, average='macro')\n",
        "  English_f1_score = f1_score(English_test_y, English_test_predict, average='macro')\n",
        " \n",
        "\n",
        "  #saved_model = pickle.dumps(model) \n",
        "\n",
        "  print('c:',c,'    ','seed:',seed)\n",
        "  print('\\n F1 macro score for test Arabic:', Arabic_f1_score)\n",
        "  print('\\n F1 macro score for test French:', French_f1_score)\n",
        "  print('\\n F1 macro score for test English:', English_f1_score)\n",
        " \n",
        "\n",
        "  return Arabic_f1_score, French_f1_score, English_f1_score"
      ],
      "execution_count": null,
      "outputs": []
    },
    {
      "cell_type": "code",
      "metadata": {
        "id": "XnVVhQPnbdc2",
        "outputId": "423e425e-1a19-4c11-9bf0-1696b09ffae2",
        "colab": {
          "base_uri": "https://localhost:8080/"
        }
      },
      "source": [
        "Arabic_f1_list = []\n",
        "English_f1_list = []\n",
        "French_f1_list = []\n",
        "\n",
        "for c in [0.01,0.1,1,10]:\n",
        "  for seeds in [2018,2019,2020,2021,2022]:\n",
        "    seed = seeds\n",
        "    np.random.seed(seed)\n",
        "    a, b, c = model_for_all(c,seed)\n",
        "    Arabic_f1_list.append(a)\n",
        "    French_f1_list.append(b)\n",
        "    English_f1_list.append(c)\n",
        "  \n",
        "print('Scores for Arabic:', Arabic_f1_list)\n",
        "print('Scores for English:', English_f1_list)\n",
        "print('Scores for French:', French_f1_list)\n",
        "\n",
        "Arabic_avg = sum(Arabic_f1_list)/len(Arabic_f1_list)\n",
        "English_avg = sum(English_f1_list)/len(English_f1_list)\n",
        "French_avg = sum(French_f1_list)/len(French_f1_list)\n",
        "\n",
        "print('Average F1 macro for Arabic:',Arabic_avg)\n",
        "print('Average F1 macro for English:',English_avg)\n",
        "print('Average F1 macro for French:',French_avg)"
      ],
      "execution_count": null,
      "outputs": [
        {
          "output_type": "stream",
          "text": [
            "c: 0.01      seed: 2018\n",
            "\n",
            " F1 macro score for test Arabic: 0.6545133865978234\n",
            "\n",
            " F1 macro score for test French: 0.43556271823798015\n",
            "\n",
            " F1 macro score for test English: 0.6233345432330414\n"
          ],
          "name": "stdout"
        },
        {
          "output_type": "stream",
          "text": [
            "/usr/local/lib/python3.6/dist-packages/sklearn/linear_model/_logistic.py:940: ConvergenceWarning: lbfgs failed to converge (status=1):\n",
            "STOP: TOTAL NO. of ITERATIONS REACHED LIMIT.\n",
            "\n",
            "Increase the number of iterations (max_iter) or scale the data as shown in:\n",
            "    https://scikit-learn.org/stable/modules/preprocessing.html\n",
            "Please also refer to the documentation for alternative solver options:\n",
            "    https://scikit-learn.org/stable/modules/linear_model.html#logistic-regression\n",
            "  extra_warning_msg=_LOGISTIC_SOLVER_CONVERGENCE_MSG)\n"
          ],
          "name": "stderr"
        },
        {
          "output_type": "stream",
          "text": [
            "c: 0.6233345432330414      seed: 2019\n",
            "\n",
            " F1 macro score for test Arabic: 0.6904171638473597\n",
            "\n",
            " F1 macro score for test French: 0.4100649350649351\n",
            "\n",
            " F1 macro score for test English: 0.6841667420460402\n"
          ],
          "name": "stdout"
        },
        {
          "output_type": "stream",
          "text": [
            "/usr/local/lib/python3.6/dist-packages/sklearn/linear_model/_logistic.py:940: ConvergenceWarning: lbfgs failed to converge (status=1):\n",
            "STOP: TOTAL NO. of ITERATIONS REACHED LIMIT.\n",
            "\n",
            "Increase the number of iterations (max_iter) or scale the data as shown in:\n",
            "    https://scikit-learn.org/stable/modules/preprocessing.html\n",
            "Please also refer to the documentation for alternative solver options:\n",
            "    https://scikit-learn.org/stable/modules/linear_model.html#logistic-regression\n",
            "  extra_warning_msg=_LOGISTIC_SOLVER_CONVERGENCE_MSG)\n"
          ],
          "name": "stderr"
        },
        {
          "output_type": "stream",
          "text": [
            "c: 0.6841667420460402      seed: 2020\n",
            "\n",
            " F1 macro score for test Arabic: 0.6909412642933954\n",
            "\n",
            " F1 macro score for test French: 0.4100649350649351\n",
            "\n",
            " F1 macro score for test English: 0.6849900179626853\n"
          ],
          "name": "stdout"
        },
        {
          "output_type": "stream",
          "text": [
            "/usr/local/lib/python3.6/dist-packages/sklearn/linear_model/_logistic.py:940: ConvergenceWarning: lbfgs failed to converge (status=1):\n",
            "STOP: TOTAL NO. of ITERATIONS REACHED LIMIT.\n",
            "\n",
            "Increase the number of iterations (max_iter) or scale the data as shown in:\n",
            "    https://scikit-learn.org/stable/modules/preprocessing.html\n",
            "Please also refer to the documentation for alternative solver options:\n",
            "    https://scikit-learn.org/stable/modules/linear_model.html#logistic-regression\n",
            "  extra_warning_msg=_LOGISTIC_SOLVER_CONVERGENCE_MSG)\n"
          ],
          "name": "stderr"
        },
        {
          "output_type": "stream",
          "text": [
            "c: 0.6849900179626853      seed: 2021\n",
            "\n",
            " F1 macro score for test Arabic: 0.6917354259083326\n",
            "\n",
            " F1 macro score for test French: 0.4100649350649351\n",
            "\n",
            " F1 macro score for test English: 0.6849544960146576\n"
          ],
          "name": "stdout"
        },
        {
          "output_type": "stream",
          "text": [
            "/usr/local/lib/python3.6/dist-packages/sklearn/linear_model/_logistic.py:940: ConvergenceWarning: lbfgs failed to converge (status=1):\n",
            "STOP: TOTAL NO. of ITERATIONS REACHED LIMIT.\n",
            "\n",
            "Increase the number of iterations (max_iter) or scale the data as shown in:\n",
            "    https://scikit-learn.org/stable/modules/preprocessing.html\n",
            "Please also refer to the documentation for alternative solver options:\n",
            "    https://scikit-learn.org/stable/modules/linear_model.html#logistic-regression\n",
            "  extra_warning_msg=_LOGISTIC_SOLVER_CONVERGENCE_MSG)\n"
          ],
          "name": "stderr"
        },
        {
          "output_type": "stream",
          "text": [
            "c: 0.6849544960146576      seed: 2022\n",
            "\n",
            " F1 macro score for test Arabic: 0.6917354259083326\n",
            "\n",
            " F1 macro score for test French: 0.4100649350649351\n",
            "\n",
            " F1 macro score for test English: 0.6849107060334678\n",
            "c: 0.1      seed: 2018\n",
            "\n",
            " F1 macro score for test Arabic: 0.6814645551834045\n",
            "\n",
            " F1 macro score for test French: 0.43198241219613287\n",
            "\n",
            " F1 macro score for test English: 0.6662242279065476\n"
          ],
          "name": "stdout"
        },
        {
          "output_type": "stream",
          "text": [
            "/usr/local/lib/python3.6/dist-packages/sklearn/linear_model/_logistic.py:940: ConvergenceWarning: lbfgs failed to converge (status=1):\n",
            "STOP: TOTAL NO. of ITERATIONS REACHED LIMIT.\n",
            "\n",
            "Increase the number of iterations (max_iter) or scale the data as shown in:\n",
            "    https://scikit-learn.org/stable/modules/preprocessing.html\n",
            "Please also refer to the documentation for alternative solver options:\n",
            "    https://scikit-learn.org/stable/modules/linear_model.html#logistic-regression\n",
            "  extra_warning_msg=_LOGISTIC_SOLVER_CONVERGENCE_MSG)\n"
          ],
          "name": "stderr"
        },
        {
          "output_type": "stream",
          "text": [
            "c: 0.6662242279065476      seed: 2019\n",
            "\n",
            " F1 macro score for test Arabic: 0.6917354259083326\n",
            "\n",
            " F1 macro score for test French: 0.4100649350649351\n",
            "\n",
            " F1 macro score for test English: 0.6850338118330248\n"
          ],
          "name": "stdout"
        },
        {
          "output_type": "stream",
          "text": [
            "/usr/local/lib/python3.6/dist-packages/sklearn/linear_model/_logistic.py:940: ConvergenceWarning: lbfgs failed to converge (status=1):\n",
            "STOP: TOTAL NO. of ITERATIONS REACHED LIMIT.\n",
            "\n",
            "Increase the number of iterations (max_iter) or scale the data as shown in:\n",
            "    https://scikit-learn.org/stable/modules/preprocessing.html\n",
            "Please also refer to the documentation for alternative solver options:\n",
            "    https://scikit-learn.org/stable/modules/linear_model.html#logistic-regression\n",
            "  extra_warning_msg=_LOGISTIC_SOLVER_CONVERGENCE_MSG)\n"
          ],
          "name": "stderr"
        },
        {
          "output_type": "stream",
          "text": [
            "c: 0.6850338118330248      seed: 2020\n",
            "\n",
            " F1 macro score for test Arabic: 0.6925303572681969\n",
            "\n",
            " F1 macro score for test French: 0.4100649350649351\n",
            "\n",
            " F1 macro score for test English: 0.6851214087316129\n"
          ],
          "name": "stdout"
        },
        {
          "output_type": "stream",
          "text": [
            "/usr/local/lib/python3.6/dist-packages/sklearn/linear_model/_logistic.py:940: ConvergenceWarning: lbfgs failed to converge (status=1):\n",
            "STOP: TOTAL NO. of ITERATIONS REACHED LIMIT.\n",
            "\n",
            "Increase the number of iterations (max_iter) or scale the data as shown in:\n",
            "    https://scikit-learn.org/stable/modules/preprocessing.html\n",
            "Please also refer to the documentation for alternative solver options:\n",
            "    https://scikit-learn.org/stable/modules/linear_model.html#logistic-regression\n",
            "  extra_warning_msg=_LOGISTIC_SOLVER_CONVERGENCE_MSG)\n"
          ],
          "name": "stderr"
        },
        {
          "output_type": "stream",
          "text": [
            "c: 0.6851214087316129      seed: 2021\n",
            "\n",
            " F1 macro score for test Arabic: 0.6917354259083326\n",
            "\n",
            " F1 macro score for test French: 0.4100649350649351\n",
            "\n",
            " F1 macro score for test English: 0.685165211762468\n"
          ],
          "name": "stdout"
        },
        {
          "output_type": "stream",
          "text": [
            "/usr/local/lib/python3.6/dist-packages/sklearn/linear_model/_logistic.py:940: ConvergenceWarning: lbfgs failed to converge (status=1):\n",
            "STOP: TOTAL NO. of ITERATIONS REACHED LIMIT.\n",
            "\n",
            "Increase the number of iterations (max_iter) or scale the data as shown in:\n",
            "    https://scikit-learn.org/stable/modules/preprocessing.html\n",
            "Please also refer to the documentation for alternative solver options:\n",
            "    https://scikit-learn.org/stable/modules/linear_model.html#logistic-regression\n",
            "  extra_warning_msg=_LOGISTIC_SOLVER_CONVERGENCE_MSG)\n"
          ],
          "name": "stderr"
        },
        {
          "output_type": "stream",
          "text": [
            "c: 0.685165211762468      seed: 2022\n",
            "\n",
            " F1 macro score for test Arabic: 0.6909412642933954\n",
            "\n",
            " F1 macro score for test French: 0.4100649350649351\n",
            "\n",
            " F1 macro score for test English: 0.6850858842753499\n"
          ],
          "name": "stdout"
        },
        {
          "output_type": "stream",
          "text": [
            "/usr/local/lib/python3.6/dist-packages/sklearn/linear_model/_logistic.py:940: ConvergenceWarning: lbfgs failed to converge (status=1):\n",
            "STOP: TOTAL NO. of ITERATIONS REACHED LIMIT.\n",
            "\n",
            "Increase the number of iterations (max_iter) or scale the data as shown in:\n",
            "    https://scikit-learn.org/stable/modules/preprocessing.html\n",
            "Please also refer to the documentation for alternative solver options:\n",
            "    https://scikit-learn.org/stable/modules/linear_model.html#logistic-regression\n",
            "  extra_warning_msg=_LOGISTIC_SOLVER_CONVERGENCE_MSG)\n"
          ],
          "name": "stderr"
        },
        {
          "output_type": "stream",
          "text": [
            "c: 1      seed: 2018\n",
            "\n",
            " F1 macro score for test Arabic: 0.6927719376724073\n",
            "\n",
            " F1 macro score for test French: 0.4100649350649351\n",
            "\n",
            " F1 macro score for test English: 0.6866457682716585\n"
          ],
          "name": "stdout"
        },
        {
          "output_type": "stream",
          "text": [
            "/usr/local/lib/python3.6/dist-packages/sklearn/linear_model/_logistic.py:940: ConvergenceWarning: lbfgs failed to converge (status=1):\n",
            "STOP: TOTAL NO. of ITERATIONS REACHED LIMIT.\n",
            "\n",
            "Increase the number of iterations (max_iter) or scale the data as shown in:\n",
            "    https://scikit-learn.org/stable/modules/preprocessing.html\n",
            "Please also refer to the documentation for alternative solver options:\n",
            "    https://scikit-learn.org/stable/modules/linear_model.html#logistic-regression\n",
            "  extra_warning_msg=_LOGISTIC_SOLVER_CONVERGENCE_MSG)\n"
          ],
          "name": "stderr"
        },
        {
          "output_type": "stream",
          "text": [
            "c: 0.6866457682716585      seed: 2019\n",
            "\n",
            " F1 macro score for test Arabic: 0.6917354259083326\n",
            "\n",
            " F1 macro score for test French: 0.4100649350649351\n",
            "\n",
            " F1 macro score for test English: 0.685165211762468\n"
          ],
          "name": "stdout"
        },
        {
          "output_type": "stream",
          "text": [
            "/usr/local/lib/python3.6/dist-packages/sklearn/linear_model/_logistic.py:940: ConvergenceWarning: lbfgs failed to converge (status=1):\n",
            "STOP: TOTAL NO. of ITERATIONS REACHED LIMIT.\n",
            "\n",
            "Increase the number of iterations (max_iter) or scale the data as shown in:\n",
            "    https://scikit-learn.org/stable/modules/preprocessing.html\n",
            "Please also refer to the documentation for alternative solver options:\n",
            "    https://scikit-learn.org/stable/modules/linear_model.html#logistic-regression\n",
            "  extra_warning_msg=_LOGISTIC_SOLVER_CONVERGENCE_MSG)\n"
          ],
          "name": "stderr"
        },
        {
          "output_type": "stream",
          "text": [
            "c: 0.685165211762468      seed: 2020\n",
            "\n",
            " F1 macro score for test Arabic: 0.6909412642933954\n",
            "\n",
            " F1 macro score for test French: 0.4100649350649351\n",
            "\n",
            " F1 macro score for test English: 0.6852528269938207\n"
          ],
          "name": "stdout"
        },
        {
          "output_type": "stream",
          "text": [
            "/usr/local/lib/python3.6/dist-packages/sklearn/linear_model/_logistic.py:940: ConvergenceWarning: lbfgs failed to converge (status=1):\n",
            "STOP: TOTAL NO. of ITERATIONS REACHED LIMIT.\n",
            "\n",
            "Increase the number of iterations (max_iter) or scale the data as shown in:\n",
            "    https://scikit-learn.org/stable/modules/preprocessing.html\n",
            "Please also refer to the documentation for alternative solver options:\n",
            "    https://scikit-learn.org/stable/modules/linear_model.html#logistic-regression\n",
            "  extra_warning_msg=_LOGISTIC_SOLVER_CONVERGENCE_MSG)\n"
          ],
          "name": "stderr"
        },
        {
          "output_type": "stream",
          "text": [
            "c: 0.6852528269938207      seed: 2021\n",
            "\n",
            " F1 macro score for test Arabic: 0.6917354259083326\n",
            "\n",
            " F1 macro score for test French: 0.4100649350649351\n",
            "\n",
            " F1 macro score for test English: 0.6850338118330248\n"
          ],
          "name": "stdout"
        },
        {
          "output_type": "stream",
          "text": [
            "/usr/local/lib/python3.6/dist-packages/sklearn/linear_model/_logistic.py:940: ConvergenceWarning: lbfgs failed to converge (status=1):\n",
            "STOP: TOTAL NO. of ITERATIONS REACHED LIMIT.\n",
            "\n",
            "Increase the number of iterations (max_iter) or scale the data as shown in:\n",
            "    https://scikit-learn.org/stable/modules/preprocessing.html\n",
            "Please also refer to the documentation for alternative solver options:\n",
            "    https://scikit-learn.org/stable/modules/linear_model.html#logistic-regression\n",
            "  extra_warning_msg=_LOGISTIC_SOLVER_CONVERGENCE_MSG)\n"
          ],
          "name": "stderr"
        },
        {
          "output_type": "stream",
          "text": [
            "c: 0.6850338118330248      seed: 2022\n",
            "\n",
            " F1 macro score for test Arabic: 0.6925303572681969\n",
            "\n",
            " F1 macro score for test French: 0.4100649350649351\n",
            "\n",
            " F1 macro score for test English: 0.6851214087316129\n"
          ],
          "name": "stdout"
        },
        {
          "output_type": "stream",
          "text": [
            "/usr/local/lib/python3.6/dist-packages/sklearn/linear_model/_logistic.py:940: ConvergenceWarning: lbfgs failed to converge (status=1):\n",
            "STOP: TOTAL NO. of ITERATIONS REACHED LIMIT.\n",
            "\n",
            "Increase the number of iterations (max_iter) or scale the data as shown in:\n",
            "    https://scikit-learn.org/stable/modules/preprocessing.html\n",
            "Please also refer to the documentation for alternative solver options:\n",
            "    https://scikit-learn.org/stable/modules/linear_model.html#logistic-regression\n",
            "  extra_warning_msg=_LOGISTIC_SOLVER_CONVERGENCE_MSG)\n"
          ],
          "name": "stderr"
        },
        {
          "output_type": "stream",
          "text": [
            "c: 10      seed: 2018\n",
            "\n",
            " F1 macro score for test Arabic: 0.6914612910055674\n",
            "\n",
            " F1 macro score for test French: 0.41861471861471866\n",
            "\n",
            " F1 macro score for test English: 0.6909668909824628\n"
          ],
          "name": "stdout"
        },
        {
          "output_type": "stream",
          "text": [
            "/usr/local/lib/python3.6/dist-packages/sklearn/linear_model/_logistic.py:940: ConvergenceWarning: lbfgs failed to converge (status=1):\n",
            "STOP: TOTAL NO. of ITERATIONS REACHED LIMIT.\n",
            "\n",
            "Increase the number of iterations (max_iter) or scale the data as shown in:\n",
            "    https://scikit-learn.org/stable/modules/preprocessing.html\n",
            "Please also refer to the documentation for alternative solver options:\n",
            "    https://scikit-learn.org/stable/modules/linear_model.html#logistic-regression\n",
            "  extra_warning_msg=_LOGISTIC_SOLVER_CONVERGENCE_MSG)\n"
          ],
          "name": "stderr"
        },
        {
          "output_type": "stream",
          "text": [
            "c: 0.6909668909824628      seed: 2019\n",
            "\n",
            " F1 macro score for test Arabic: 0.6909412642933954\n",
            "\n",
            " F1 macro score for test French: 0.4100649350649351\n",
            "\n",
            " F1 macro score for test English: 0.6852090178494359\n"
          ],
          "name": "stdout"
        },
        {
          "output_type": "stream",
          "text": [
            "/usr/local/lib/python3.6/dist-packages/sklearn/linear_model/_logistic.py:940: ConvergenceWarning: lbfgs failed to converge (status=1):\n",
            "STOP: TOTAL NO. of ITERATIONS REACHED LIMIT.\n",
            "\n",
            "Increase the number of iterations (max_iter) or scale the data as shown in:\n",
            "    https://scikit-learn.org/stable/modules/preprocessing.html\n",
            "Please also refer to the documentation for alternative solver options:\n",
            "    https://scikit-learn.org/stable/modules/linear_model.html#logistic-regression\n",
            "  extra_warning_msg=_LOGISTIC_SOLVER_CONVERGENCE_MSG)\n"
          ],
          "name": "stderr"
        },
        {
          "output_type": "stream",
          "text": [
            "c: 0.6852090178494359      seed: 2020\n",
            "\n",
            " F1 macro score for test Arabic: 0.6909412642933954\n",
            "\n",
            " F1 macro score for test French: 0.4100649350649351\n",
            "\n",
            " F1 macro score for test English: 0.6852090178494359\n"
          ],
          "name": "stdout"
        },
        {
          "output_type": "stream",
          "text": [
            "/usr/local/lib/python3.6/dist-packages/sklearn/linear_model/_logistic.py:940: ConvergenceWarning: lbfgs failed to converge (status=1):\n",
            "STOP: TOTAL NO. of ITERATIONS REACHED LIMIT.\n",
            "\n",
            "Increase the number of iterations (max_iter) or scale the data as shown in:\n",
            "    https://scikit-learn.org/stable/modules/preprocessing.html\n",
            "Please also refer to the documentation for alternative solver options:\n",
            "    https://scikit-learn.org/stable/modules/linear_model.html#logistic-regression\n",
            "  extra_warning_msg=_LOGISTIC_SOLVER_CONVERGENCE_MSG)\n"
          ],
          "name": "stderr"
        },
        {
          "output_type": "stream",
          "text": [
            "c: 0.6852090178494359      seed: 2021\n",
            "\n",
            " F1 macro score for test Arabic: 0.6917354259083326\n",
            "\n",
            " F1 macro score for test French: 0.4100649350649351\n",
            "\n",
            " F1 macro score for test English: 0.6848396171271781\n",
            "c: 0.6848396171271781      seed: 2022\n",
            "\n",
            " F1 macro score for test Arabic: 0.6909412642933954\n",
            "\n",
            " F1 macro score for test French: 0.4100649350649351\n",
            "\n",
            " F1 macro score for test English: 0.6852883383906407\n",
            "Scores for Arabic: [0.6545133865978234, 0.6904171638473597, 0.6909412642933954, 0.6917354259083326, 0.6917354259083326, 0.6814645551834045, 0.6917354259083326, 0.6925303572681969, 0.6917354259083326, 0.6909412642933954, 0.6927719376724073, 0.6917354259083326, 0.6909412642933954, 0.6917354259083326, 0.6925303572681969, 0.6914612910055674, 0.6909412642933954, 0.6909412642933954, 0.6917354259083326, 0.6909412642933954]\n",
            "Scores for English: [0.6233345432330414, 0.6841667420460402, 0.6849900179626853, 0.6849544960146576, 0.6849107060334678, 0.6662242279065476, 0.6850338118330248, 0.6851214087316129, 0.685165211762468, 0.6850858842753499, 0.6866457682716585, 0.685165211762468, 0.6852528269938207, 0.6850338118330248, 0.6851214087316129, 0.6909668909824628, 0.6852090178494359, 0.6852090178494359, 0.6848396171271781, 0.6852883383906407]\n",
            "Scores for French: [0.43556271823798015, 0.4100649350649351, 0.4100649350649351, 0.4100649350649351, 0.4100649350649351, 0.43198241219613287, 0.4100649350649351, 0.4100649350649351, 0.4100649350649351, 0.4100649350649351, 0.4100649350649351, 0.4100649350649351, 0.4100649350649351, 0.4100649350649351, 0.4100649350649351, 0.41861471861471866, 0.4100649350649351, 0.4100649350649351, 0.4100649350649351, 0.4100649350649351]\n",
            "Average F1 macro for Arabic: 0.6891742307980826\n",
            "Average F1 macro for English: 0.6813859479795316\n",
            "Average F1 macro for French: 0.4128631872576364\n"
          ],
          "name": "stdout"
        },
        {
          "output_type": "stream",
          "text": [
            "/usr/local/lib/python3.6/dist-packages/sklearn/linear_model/_logistic.py:940: ConvergenceWarning: lbfgs failed to converge (status=1):\n",
            "STOP: TOTAL NO. of ITERATIONS REACHED LIMIT.\n",
            "\n",
            "Increase the number of iterations (max_iter) or scale the data as shown in:\n",
            "    https://scikit-learn.org/stable/modules/preprocessing.html\n",
            "Please also refer to the documentation for alternative solver options:\n",
            "    https://scikit-learn.org/stable/modules/linear_model.html#logistic-regression\n",
            "  extra_warning_msg=_LOGISTIC_SOLVER_CONVERGENCE_MSG)\n"
          ],
          "name": "stderr"
        }
      ]
    }
  ]
}