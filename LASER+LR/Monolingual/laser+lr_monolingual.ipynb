{
  "nbformat": 4,
  "nbformat_minor": 0,
  "metadata": {
    "colab": {
      "name": "laser+lr_monolingual.ipynb",
      "provenance": [],
      "collapsed_sections": [],
      "machine_shape": "hm"
    },
    "kernelspec": {
      "name": "python3",
      "display_name": "Python 3"
    },
    "accelerator": "GPU"
  },
  "cells": [
    {
      "cell_type": "code",
      "metadata": {
        "id": "XJb3LcQSKL7U",
        "outputId": "21f76d7a-7f57-4ec2-e4e3-529225824f69",
        "colab": {
          "base_uri": "https://localhost:8080/"
        }
      },
      "source": [
        "from google.colab import drive\n",
        "drive.mount('/content/drive')"
      ],
      "execution_count": 1,
      "outputs": [
        {
          "output_type": "stream",
          "text": [
            "Mounted at /content/drive\n"
          ],
          "name": "stdout"
        }
      ]
    },
    {
      "cell_type": "code",
      "metadata": {
        "id": "MZABkbdfBquH",
        "outputId": "07fc1314-0572-498e-d5ca-551ed92d1ed0",
        "colab": {
          "base_uri": "https://localhost:8080/"
        }
      },
      "source": [
        "pip install laserembeddings"
      ],
      "execution_count": 2,
      "outputs": [
        {
          "output_type": "stream",
          "text": [
            "Collecting laserembeddings\n",
            "  Downloading https://files.pythonhosted.org/packages/a2/4b/a9e3ee9f4825bd2bb6b48f26370e2c341860ec0cb2a9a27deea9be6c2299/laserembeddings-1.1.0-py3-none-any.whl\n",
            "Requirement already satisfied: torch<2.0.0,>=1.0.1.post2 in /usr/local/lib/python3.6/dist-packages (from laserembeddings) (1.7.0+cu101)\n",
            "Collecting transliterate==1.10.2\n",
            "\u001b[?25l  Downloading https://files.pythonhosted.org/packages/a1/6e/9a9d597dbdd6d0172427c8cc07c35736471e631060df9e59eeb87687f817/transliterate-1.10.2-py2.py3-none-any.whl (45kB)\n",
            "\u001b[K     |████████████████████████████████| 51kB 2.6MB/s \n",
            "\u001b[?25hCollecting subword-nmt<0.4.0,>=0.3.6\n",
            "  Downloading https://files.pythonhosted.org/packages/74/60/6600a7bc09e7ab38bc53a48a20d8cae49b837f93f5842a41fe513a694912/subword_nmt-0.3.7-py2.py3-none-any.whl\n",
            "Requirement already satisfied: numpy<2.0.0,>=1.15.4 in /usr/local/lib/python3.6/dist-packages (from laserembeddings) (1.18.5)\n",
            "Collecting sacremoses==0.0.35\n",
            "\u001b[?25l  Downloading https://files.pythonhosted.org/packages/1f/8e/ed5364a06a9ba720fddd9820155cc57300d28f5f43a6fd7b7e817177e642/sacremoses-0.0.35.tar.gz (859kB)\n",
            "\u001b[K     |████████████████████████████████| 860kB 4.7MB/s \n",
            "\u001b[?25hRequirement already satisfied: future in /usr/local/lib/python3.6/dist-packages (from torch<2.0.0,>=1.0.1.post2->laserembeddings) (0.16.0)\n",
            "Requirement already satisfied: typing-extensions in /usr/local/lib/python3.6/dist-packages (from torch<2.0.0,>=1.0.1.post2->laserembeddings) (3.7.4.3)\n",
            "Requirement already satisfied: dataclasses in /usr/local/lib/python3.6/dist-packages (from torch<2.0.0,>=1.0.1.post2->laserembeddings) (0.7)\n",
            "Requirement already satisfied: six>=1.1.0 in /usr/local/lib/python3.6/dist-packages (from transliterate==1.10.2->laserembeddings) (1.15.0)\n",
            "Requirement already satisfied: click in /usr/local/lib/python3.6/dist-packages (from sacremoses==0.0.35->laserembeddings) (7.1.2)\n",
            "Requirement already satisfied: joblib in /usr/local/lib/python3.6/dist-packages (from sacremoses==0.0.35->laserembeddings) (0.17.0)\n",
            "Requirement already satisfied: tqdm in /usr/local/lib/python3.6/dist-packages (from sacremoses==0.0.35->laserembeddings) (4.41.1)\n",
            "Building wheels for collected packages: sacremoses\n",
            "  Building wheel for sacremoses (setup.py) ... \u001b[?25l\u001b[?25hdone\n",
            "  Created wheel for sacremoses: filename=sacremoses-0.0.35-cp36-none-any.whl size=883999 sha256=6b210b4558c7207f2050885bb2e1a6669287434c7e44838684d001f66fbb05ab\n",
            "  Stored in directory: /root/.cache/pip/wheels/63/2a/db/63e2909042c634ef551d0d9ac825b2b0b32dede4a6d87ddc94\n",
            "Successfully built sacremoses\n",
            "Installing collected packages: transliterate, subword-nmt, sacremoses, laserembeddings\n",
            "Successfully installed laserembeddings-1.1.0 sacremoses-0.0.35 subword-nmt-0.3.7 transliterate-1.10.2\n"
          ],
          "name": "stdout"
        }
      ]
    },
    {
      "cell_type": "code",
      "metadata": {
        "id": "FR2qXOtYK1Xx",
        "outputId": "14dac9c7-defb-4a29-dcad-185517e7eb40",
        "colab": {
          "base_uri": "https://localhost:8080/"
        }
      },
      "source": [
        "!python -m laserembeddings download-models"
      ],
      "execution_count": 9,
      "outputs": [
        {
          "output_type": "stream",
          "text": [
            "Downloading models into /usr/local/lib/python3.6/dist-packages/laserembeddings/data\n",
            "\n",
            "✅   Downloaded https://dl.fbaipublicfiles.com/laser/models/93langs.fcodes    \n",
            "✅   Downloaded https://dl.fbaipublicfiles.com/laser/models/93langs.fvocab    \n",
            "✅   Downloaded https://dl.fbaipublicfiles.com/laser/models/bilstm.93langs.2018-12-26.pt    \n",
            "\n",
            "✨ You're all set!\n"
          ],
          "name": "stdout"
        }
      ]
    },
    {
      "cell_type": "code",
      "metadata": {
        "id": "9b9J7hPJBVwl"
      },
      "source": [
        "import pandas as pd\n",
        "import numpy as np\n",
        "import os\n",
        "from laserembeddings import Laser\n",
        "from sklearn.model_selection import StratifiedShuffleSplit\n",
        "from sklearn.linear_model import LogisticRegression\n",
        "from sklearn.metrics import f1_score\n",
        "from sklearn.metrics import accuracy_score\n",
        "import pickle"
      ],
      "execution_count": 15,
      "outputs": []
    },
    {
      "cell_type": "code",
      "metadata": {
        "id": "RupHwx8C2gga"
      },
      "source": [
        "def preprocessing(language):\n",
        "  path = 'drive/My Drive/CS695'\n",
        "  data = pd.read_csv(os.path.join(path,language+'.csv'))\n",
        "  data_to_list = data['tweet'].to_list()\n",
        "\n",
        "  laser = Laser()\n",
        "  embeddings = laser.embed_sentences(data_to_list, lang='en') \n",
        "\n",
        "  df1=pd.DataFrame(embeddings)\n",
        "  df2 = pd.DataFrame(data['label'])\n",
        "\n",
        "  sss1 = StratifiedShuffleSplit(n_splits=1,test_size=0.3,random_state=0)\n",
        "  a = list(sss1.split(df1, df2))\n",
        "  train_x,interX = df1.iloc[a[0][0],:],df1.iloc[a[0][1],:]\n",
        "  train_y,interY = df2.iloc[a[0][0],:],df2.iloc[a[0][1],:]\n",
        "\n",
        "  sss2 = StratifiedShuffleSplit(n_splits=1,test_size=0.35,random_state=0)\n",
        "  a = list(sss2.split(interX, interY))\n",
        "  test_x,val_x = interX.iloc[a[0][0],:],interX.iloc[a[0][1],:]\n",
        "  test_y,val_y = interY.iloc[a[0][0],:],interY.iloc[a[0][1],:]\n",
        "\n",
        "  return train_x, test_x, val_x, train_y, test_y, val_y "
      ],
      "execution_count": 11,
      "outputs": []
    },
    {
      "cell_type": "code",
      "metadata": {
        "id": "J7Lqje2lBun8"
      },
      "source": [
        "def model_for_sample_data(language, sample, c, seed):\n",
        "\n",
        "  train_x, test_x, val_x, train_y, test_y, val_y = preprocessing(language)\n",
        "\n",
        "  sss = StratifiedShuffleSplit(n_splits=1,test_size= sample ,random_state=seed)\n",
        "  a = list(sss.split(train_x, train_y))\n",
        "  train_x,train_y = train_x.iloc[a[0][1],:],train_y.iloc[a[0][1],:]\n",
        "\n",
        "  model = LogisticRegression(C=c,solver='lbfgs',class_weight='balanced',random_state=seed)\n",
        "  model.fit(train_x, train_y)\n",
        "\n",
        "  test_predict = model.predict(test_x)\n",
        "  val_predict = model.predict(val_x)\n",
        "\n",
        "  test_f1_score = f1_score(test_y, test_predict, average='macro')\n",
        "  val_f1_score = f1_score(val_y, val_predict, average='macro')\n",
        "  test_acc = accuracy_score(test_y, test_predict)\n",
        "  val_acc = accuracy_score(val_y, val_predict)\n",
        "\n",
        "  #saved_model = pickle.dumps(model) \n",
        "\n",
        "  print('Language:',language,'    ', 'Data loaded: sample data','    ', 'sample_size:',sample,'    ','c:',c,'    ', 'seed:',seed)\n",
        "  print('\\n F1 macro score for test:', test_f1_score)\n",
        "  print('\\n F1 macro score for val:', val_f1_score)\n",
        "  print('\\n Accuracy for test:', test_acc)\n",
        "  print('\\n Accuracy for val:', val_acc)"
      ],
      "execution_count": 17,
      "outputs": []
    },
    {
      "cell_type": "code",
      "metadata": {
        "id": "fxfuITbn_aHl"
      },
      "source": [
        "def model_for_whole_data(language, c, seed):\n",
        "\n",
        "  train_x, test_x, val_x, train_y, test_y, val_y = preprocessing(language)\n",
        "\n",
        "  model = LogisticRegression(C=c,solver='lbfgs',class_weight='balanced',random_state=seed)\n",
        "  model.fit(train_x, train_y)\n",
        "\n",
        "  test_predict = model.predict(test_x)\n",
        "  val_predict = model.predict(val_x)\n",
        "\n",
        "  test_f1_score = f1_score(test_y, test_predict, average='macro')\n",
        "  val_f1_score = f1_score(val_y, val_predict, average='macro')\n",
        "  test_acc = accuracy_score(test_y, test_predict)\n",
        "  val_acc = accuracy_score(val_y, val_predict)\n",
        "\n",
        "  #saved_model = pickle.dumps(model) \n",
        "\n",
        "  print('Language:',language,'     ' ,'data loaded: whole data', '    ','c:',c,'    ', 'seed:',seed)\n",
        "  print('\\n F1 macro score for test:', test_f1_score)\n",
        "  print('\\n F1 macro score for val:', val_f1_score)\n",
        "  print('\\n Accuracy for test:', test_acc)\n",
        "  print('\\n Accuracy for val:', val_acc)"
      ],
      "execution_count": 18,
      "outputs": []
    },
    {
      "cell_type": "code",
      "metadata": {
        "id": "b_PAV2hdCOEA",
        "outputId": "0cc9b397-f13c-4f81-bfc9-d3ed7beb1fe6",
        "colab": {
          "base_uri": "https://localhost:8080/"
        }
      },
      "source": [
        "for language in ['Arabic','English','French']:\n",
        "      for sample in [16,32,64,128,256,'full']:\n",
        "        for c in [0.01,0.1,1,10]:\n",
        "          for seed in [2018,2019,2020,2021,2022]:\n",
        "            np.random.seed(seed)\n",
        "            if(sample == 'full'):\n",
        "              model_for_whole_data(language, c, seed)\n",
        "            else:\n",
        "              model_for_sample_data(language, sample, c, seed)"
      ],
      "execution_count": 19,
      "outputs": [
        {
          "output_type": "stream",
          "text": [
            "/usr/local/lib/python3.6/dist-packages/sklearn/utils/validation.py:760: DataConversionWarning: A column-vector y was passed when a 1d array was expected. Please change the shape of y to (n_samples, ), for example using ravel().\n",
            "  y = column_or_1d(y, warn=True)\n"
          ],
          "name": "stderr"
        },
        {
          "output_type": "stream",
          "text": [
            "Language: Arabic      Data loaded: sample data      sample_size: 16      c: 0.01      seed: 2018\n",
            "\n",
            " F1 macro score for test: 0.5569516389114831\n",
            "\n",
            " F1 macro score for val: 0.5748381016083427\n",
            "\n",
            " Accuracy for test: 0.8051372896368467\n",
            "\n",
            " Accuracy for val: 0.8108552631578947\n"
          ],
          "name": "stdout"
        },
        {
          "output_type": "stream",
          "text": [
            "/usr/local/lib/python3.6/dist-packages/sklearn/utils/validation.py:760: DataConversionWarning: A column-vector y was passed when a 1d array was expected. Please change the shape of y to (n_samples, ), for example using ravel().\n",
            "  y = column_or_1d(y, warn=True)\n"
          ],
          "name": "stderr"
        },
        {
          "output_type": "stream",
          "text": [
            "Language: Arabic      Data loaded: sample data      sample_size: 16      c: 0.01      seed: 2019\n",
            "\n",
            " F1 macro score for test: 0.5156484207418215\n",
            "\n",
            " F1 macro score for val: 0.5146589259796808\n",
            "\n",
            " Accuracy for test: 0.7812223206377326\n",
            "\n",
            " Accuracy for val: 0.7828947368421053\n"
          ],
          "name": "stdout"
        },
        {
          "output_type": "stream",
          "text": [
            "/usr/local/lib/python3.6/dist-packages/sklearn/utils/validation.py:760: DataConversionWarning: A column-vector y was passed when a 1d array was expected. Please change the shape of y to (n_samples, ), for example using ravel().\n",
            "  y = column_or_1d(y, warn=True)\n"
          ],
          "name": "stderr"
        },
        {
          "output_type": "stream",
          "text": [
            "Language: Arabic      Data loaded: sample data      sample_size: 16      c: 0.01      seed: 2020\n",
            "\n",
            " F1 macro score for test: 0.555081636205396\n",
            "\n",
            " F1 macro score for val: 0.5523521661629079\n",
            "\n",
            " Accuracy for test: 0.7493356953055802\n",
            "\n",
            " Accuracy for val: 0.75\n"
          ],
          "name": "stdout"
        },
        {
          "output_type": "stream",
          "text": [
            "/usr/local/lib/python3.6/dist-packages/sklearn/utils/validation.py:760: DataConversionWarning: A column-vector y was passed when a 1d array was expected. Please change the shape of y to (n_samples, ), for example using ravel().\n",
            "  y = column_or_1d(y, warn=True)\n"
          ],
          "name": "stderr"
        },
        {
          "output_type": "stream",
          "text": [
            "Language: Arabic      Data loaded: sample data      sample_size: 16      c: 0.01      seed: 2021\n",
            "\n",
            " F1 macro score for test: 0.5745412571808385\n",
            "\n",
            " F1 macro score for val: 0.6153489785447064\n",
            "\n",
            " Accuracy for test: 0.775022143489814\n",
            "\n",
            " Accuracy for val: 0.7911184210526315\n"
          ],
          "name": "stdout"
        },
        {
          "output_type": "stream",
          "text": [
            "/usr/local/lib/python3.6/dist-packages/sklearn/utils/validation.py:760: DataConversionWarning: A column-vector y was passed when a 1d array was expected. Please change the shape of y to (n_samples, ), for example using ravel().\n",
            "  y = column_or_1d(y, warn=True)\n"
          ],
          "name": "stderr"
        },
        {
          "output_type": "stream",
          "text": [
            "Language: Arabic      Data loaded: sample data      sample_size: 16      c: 0.01      seed: 2022\n",
            "\n",
            " F1 macro score for test: 0.5753843260777585\n",
            "\n",
            " F1 macro score for val: 0.5743804312841969\n",
            "\n",
            " Accuracy for test: 0.7165633303808681\n",
            "\n",
            " Accuracy for val: 0.7138157894736842\n"
          ],
          "name": "stdout"
        },
        {
          "output_type": "stream",
          "text": [
            "/usr/local/lib/python3.6/dist-packages/sklearn/utils/validation.py:760: DataConversionWarning: A column-vector y was passed when a 1d array was expected. Please change the shape of y to (n_samples, ), for example using ravel().\n",
            "  y = column_or_1d(y, warn=True)\n"
          ],
          "name": "stderr"
        },
        {
          "output_type": "stream",
          "text": [
            "Language: Arabic      Data loaded: sample data      sample_size: 16      c: 0.1      seed: 2018\n",
            "\n",
            " F1 macro score for test: 0.5569516389114831\n",
            "\n",
            " F1 macro score for val: 0.5748381016083427\n",
            "\n",
            " Accuracy for test: 0.8051372896368467\n",
            "\n",
            " Accuracy for val: 0.8108552631578947\n"
          ],
          "name": "stdout"
        },
        {
          "output_type": "stream",
          "text": [
            "/usr/local/lib/python3.6/dist-packages/sklearn/utils/validation.py:760: DataConversionWarning: A column-vector y was passed when a 1d array was expected. Please change the shape of y to (n_samples, ), for example using ravel().\n",
            "  y = column_or_1d(y, warn=True)\n"
          ],
          "name": "stderr"
        },
        {
          "output_type": "stream",
          "text": [
            "Language: Arabic      Data loaded: sample data      sample_size: 16      c: 0.1      seed: 2019\n",
            "\n",
            " F1 macro score for test: 0.5162035424127984\n",
            "\n",
            " F1 macro score for val: 0.5146589259796808\n",
            "\n",
            " Accuracy for test: 0.7821080602302923\n",
            "\n",
            " Accuracy for val: 0.7828947368421053\n"
          ],
          "name": "stdout"
        },
        {
          "output_type": "stream",
          "text": [
            "/usr/local/lib/python3.6/dist-packages/sklearn/utils/validation.py:760: DataConversionWarning: A column-vector y was passed when a 1d array was expected. Please change the shape of y to (n_samples, ), for example using ravel().\n",
            "  y = column_or_1d(y, warn=True)\n"
          ],
          "name": "stderr"
        },
        {
          "output_type": "stream",
          "text": [
            "Language: Arabic      Data loaded: sample data      sample_size: 16      c: 0.1      seed: 2020\n",
            "\n",
            " F1 macro score for test: 0.5545137830850912\n",
            "\n",
            " F1 macro score for val: 0.5559542190525206\n",
            "\n",
            " Accuracy for test: 0.7511071744906997\n",
            "\n",
            " Accuracy for val: 0.7549342105263158\n"
          ],
          "name": "stdout"
        },
        {
          "output_type": "stream",
          "text": [
            "/usr/local/lib/python3.6/dist-packages/sklearn/utils/validation.py:760: DataConversionWarning: A column-vector y was passed when a 1d array was expected. Please change the shape of y to (n_samples, ), for example using ravel().\n",
            "  y = column_or_1d(y, warn=True)\n"
          ],
          "name": "stderr"
        },
        {
          "output_type": "stream",
          "text": [
            "Language: Arabic      Data loaded: sample data      sample_size: 16      c: 0.1      seed: 2021\n",
            "\n",
            " F1 macro score for test: 0.5598051165107075\n",
            "\n",
            " F1 macro score for val: 0.5760206950849174\n",
            "\n",
            " Accuracy for test: 0.7891939769707705\n",
            "\n",
            " Accuracy for val: 0.7960526315789473\n"
          ],
          "name": "stdout"
        },
        {
          "output_type": "stream",
          "text": [
            "/usr/local/lib/python3.6/dist-packages/sklearn/utils/validation.py:760: DataConversionWarning: A column-vector y was passed when a 1d array was expected. Please change the shape of y to (n_samples, ), for example using ravel().\n",
            "  y = column_or_1d(y, warn=True)\n"
          ],
          "name": "stderr"
        },
        {
          "output_type": "stream",
          "text": [
            "Language: Arabic      Data loaded: sample data      sample_size: 16      c: 0.1      seed: 2022\n",
            "\n",
            " F1 macro score for test: 0.5787837333664967\n",
            "\n",
            " F1 macro score for val: 0.5719765014322475\n",
            "\n",
            " Accuracy for test: 0.7209920283436669\n",
            "\n",
            " Accuracy for val: 0.7138157894736842\n"
          ],
          "name": "stdout"
        },
        {
          "output_type": "stream",
          "text": [
            "/usr/local/lib/python3.6/dist-packages/sklearn/utils/validation.py:760: DataConversionWarning: A column-vector y was passed when a 1d array was expected. Please change the shape of y to (n_samples, ), for example using ravel().\n",
            "  y = column_or_1d(y, warn=True)\n"
          ],
          "name": "stderr"
        },
        {
          "output_type": "stream",
          "text": [
            "Language: Arabic      Data loaded: sample data      sample_size: 16      c: 1      seed: 2018\n",
            "\n",
            " F1 macro score for test: 0.5602902339477686\n",
            "\n",
            " F1 macro score for val: 0.5761978134859491\n",
            "\n",
            " Accuracy for test: 0.8060230292294066\n",
            "\n",
            " Accuracy for val: 0.8125\n"
          ],
          "name": "stdout"
        },
        {
          "output_type": "stream",
          "text": [
            "/usr/local/lib/python3.6/dist-packages/sklearn/utils/validation.py:760: DataConversionWarning: A column-vector y was passed when a 1d array was expected. Please change the shape of y to (n_samples, ), for example using ravel().\n",
            "  y = column_or_1d(y, warn=True)\n"
          ],
          "name": "stderr"
        },
        {
          "output_type": "stream",
          "text": [
            "Language: Arabic      Data loaded: sample data      sample_size: 16      c: 1      seed: 2019\n",
            "\n",
            " F1 macro score for test: 0.5075568447779402\n",
            "\n",
            " F1 macro score for val: 0.5198457855299567\n",
            "\n",
            " Accuracy for test: 0.7821080602302923\n",
            "\n",
            " Accuracy for val: 0.7911184210526315\n"
          ],
          "name": "stdout"
        },
        {
          "output_type": "stream",
          "text": [
            "/usr/local/lib/python3.6/dist-packages/sklearn/utils/validation.py:760: DataConversionWarning: A column-vector y was passed when a 1d array was expected. Please change the shape of y to (n_samples, ), for example using ravel().\n",
            "  y = column_or_1d(y, warn=True)\n"
          ],
          "name": "stderr"
        },
        {
          "output_type": "stream",
          "text": [
            "Language: Arabic      Data loaded: sample data      sample_size: 16      c: 1      seed: 2020\n",
            "\n",
            " F1 macro score for test: 0.5513420300957906\n",
            "\n",
            " F1 macro score for val: 0.5596038975213828\n",
            "\n",
            " Accuracy for test: 0.7546501328609388\n",
            "\n",
            " Accuracy for val: 0.7598684210526315\n"
          ],
          "name": "stdout"
        },
        {
          "output_type": "stream",
          "text": [
            "/usr/local/lib/python3.6/dist-packages/sklearn/utils/validation.py:760: DataConversionWarning: A column-vector y was passed when a 1d array was expected. Please change the shape of y to (n_samples, ), for example using ravel().\n",
            "  y = column_or_1d(y, warn=True)\n"
          ],
          "name": "stderr"
        },
        {
          "output_type": "stream",
          "text": [
            "Language: Arabic      Data loaded: sample data      sample_size: 16      c: 1      seed: 2021\n",
            "\n",
            " F1 macro score for test: 0.5604803009272568\n",
            "\n",
            " F1 macro score for val: 0.5746943115364168\n",
            "\n",
            " Accuracy for test: 0.7900797165633304\n",
            "\n",
            " Accuracy for val: 0.7944078947368421\n"
          ],
          "name": "stdout"
        },
        {
          "output_type": "stream",
          "text": [
            "/usr/local/lib/python3.6/dist-packages/sklearn/utils/validation.py:760: DataConversionWarning: A column-vector y was passed when a 1d array was expected. Please change the shape of y to (n_samples, ), for example using ravel().\n",
            "  y = column_or_1d(y, warn=True)\n"
          ],
          "name": "stderr"
        },
        {
          "output_type": "stream",
          "text": [
            "Language: Arabic      Data loaded: sample data      sample_size: 16      c: 1      seed: 2022\n",
            "\n",
            " F1 macro score for test: 0.5795666682787639\n",
            "\n",
            " F1 macro score for val: 0.5783090998949261\n",
            "\n",
            " Accuracy for test: 0.7271922054915855\n",
            "\n",
            " Accuracy for val: 0.725328947368421\n"
          ],
          "name": "stdout"
        },
        {
          "output_type": "stream",
          "text": [
            "/usr/local/lib/python3.6/dist-packages/sklearn/utils/validation.py:760: DataConversionWarning: A column-vector y was passed when a 1d array was expected. Please change the shape of y to (n_samples, ), for example using ravel().\n",
            "  y = column_or_1d(y, warn=True)\n"
          ],
          "name": "stderr"
        },
        {
          "output_type": "stream",
          "text": [
            "Language: Arabic      Data loaded: sample data      sample_size: 16      c: 10      seed: 2018\n",
            "\n",
            " F1 macro score for test: 0.5529239265379512\n",
            "\n",
            " F1 macro score for val: 0.5748381016083427\n",
            "\n",
            " Accuracy for test: 0.8033658104517272\n",
            "\n",
            " Accuracy for val: 0.8108552631578947\n"
          ],
          "name": "stdout"
        },
        {
          "output_type": "stream",
          "text": [
            "/usr/local/lib/python3.6/dist-packages/sklearn/utils/validation.py:760: DataConversionWarning: A column-vector y was passed when a 1d array was expected. Please change the shape of y to (n_samples, ), for example using ravel().\n",
            "  y = column_or_1d(y, warn=True)\n"
          ],
          "name": "stderr"
        },
        {
          "output_type": "stream",
          "text": [
            "Language: Arabic      Data loaded: sample data      sample_size: 16      c: 10      seed: 2019\n",
            "\n",
            " F1 macro score for test: 0.4709085146142882\n",
            "\n",
            " F1 macro score for val: 0.49767881029191907\n",
            "\n",
            " Accuracy for test: 0.7865367581930912\n",
            "\n",
            " Accuracy for val: 0.7927631578947368\n"
          ],
          "name": "stdout"
        },
        {
          "output_type": "stream",
          "text": [
            "/usr/local/lib/python3.6/dist-packages/sklearn/utils/validation.py:760: DataConversionWarning: A column-vector y was passed when a 1d array was expected. Please change the shape of y to (n_samples, ), for example using ravel().\n",
            "  y = column_or_1d(y, warn=True)\n"
          ],
          "name": "stderr"
        },
        {
          "output_type": "stream",
          "text": [
            "Language: Arabic      Data loaded: sample data      sample_size: 16      c: 10      seed: 2020\n",
            "\n",
            " F1 macro score for test: 0.538604801264332\n",
            "\n",
            " F1 macro score for val: 0.5553633864467399\n",
            "\n",
            " Accuracy for test: 0.7599645704162976\n",
            "\n",
            " Accuracy for val: 0.774671052631579\n"
          ],
          "name": "stdout"
        },
        {
          "output_type": "stream",
          "text": [
            "/usr/local/lib/python3.6/dist-packages/sklearn/utils/validation.py:760: DataConversionWarning: A column-vector y was passed when a 1d array was expected. Please change the shape of y to (n_samples, ), for example using ravel().\n",
            "  y = column_or_1d(y, warn=True)\n"
          ],
          "name": "stderr"
        },
        {
          "output_type": "stream",
          "text": [
            "Language: Arabic      Data loaded: sample data      sample_size: 16      c: 10      seed: 2021\n",
            "\n",
            " F1 macro score for test: 0.5489443248147998\n",
            "\n",
            " F1 macro score for val: 0.5678894205209994\n",
            "\n",
            " Accuracy for test: 0.7909654561558902\n",
            "\n",
            " Accuracy for val: 0.7911184210526315\n"
          ],
          "name": "stdout"
        },
        {
          "output_type": "stream",
          "text": [
            "/usr/local/lib/python3.6/dist-packages/sklearn/utils/validation.py:760: DataConversionWarning: A column-vector y was passed when a 1d array was expected. Please change the shape of y to (n_samples, ), for example using ravel().\n",
            "  y = column_or_1d(y, warn=True)\n"
          ],
          "name": "stderr"
        },
        {
          "output_type": "stream",
          "text": [
            "Language: Arabic      Data loaded: sample data      sample_size: 16      c: 10      seed: 2022\n",
            "\n",
            " F1 macro score for test: 0.5722914062995035\n",
            "\n",
            " F1 macro score for val: 0.5842588007828158\n",
            "\n",
            " Accuracy for test: 0.7511071744906997\n",
            "\n",
            " Accuracy for val: 0.7615131578947368\n"
          ],
          "name": "stdout"
        },
        {
          "output_type": "stream",
          "text": [
            "/usr/local/lib/python3.6/dist-packages/sklearn/utils/validation.py:760: DataConversionWarning: A column-vector y was passed when a 1d array was expected. Please change the shape of y to (n_samples, ), for example using ravel().\n",
            "  y = column_or_1d(y, warn=True)\n"
          ],
          "name": "stderr"
        },
        {
          "output_type": "stream",
          "text": [
            "Language: Arabic      Data loaded: sample data      sample_size: 32      c: 0.01      seed: 2018\n",
            "\n",
            " F1 macro score for test: 0.6174929310776109\n",
            "\n",
            " F1 macro score for val: 0.6505481873488554\n",
            "\n",
            " Accuracy for test: 0.7156775907883083\n",
            "\n",
            " Accuracy for val: 0.7384868421052632\n"
          ],
          "name": "stdout"
        },
        {
          "output_type": "stream",
          "text": [
            "/usr/local/lib/python3.6/dist-packages/sklearn/utils/validation.py:760: DataConversionWarning: A column-vector y was passed when a 1d array was expected. Please change the shape of y to (n_samples, ), for example using ravel().\n",
            "  y = column_or_1d(y, warn=True)\n"
          ],
          "name": "stderr"
        },
        {
          "output_type": "stream",
          "text": [
            "Language: Arabic      Data loaded: sample data      sample_size: 32      c: 0.01      seed: 2019\n",
            "\n",
            " F1 macro score for test: 0.5796587671587672\n",
            "\n",
            " F1 macro score for val: 0.5688677104606308\n",
            "\n",
            " Accuracy for test: 0.6740478299379983\n",
            "\n",
            " Accuracy for val: 0.6710526315789473\n"
          ],
          "name": "stdout"
        },
        {
          "output_type": "stream",
          "text": [
            "/usr/local/lib/python3.6/dist-packages/sklearn/utils/validation.py:760: DataConversionWarning: A column-vector y was passed when a 1d array was expected. Please change the shape of y to (n_samples, ), for example using ravel().\n",
            "  y = column_or_1d(y, warn=True)\n"
          ],
          "name": "stderr"
        },
        {
          "output_type": "stream",
          "text": [
            "Language: Arabic      Data loaded: sample data      sample_size: 32      c: 0.01      seed: 2020\n",
            "\n",
            " F1 macro score for test: 0.5965219392823395\n",
            "\n",
            " F1 macro score for val: 0.6039373054290907\n",
            "\n",
            " Accuracy for test: 0.6864481842338352\n",
            "\n",
            " Accuracy for val: 0.7023026315789473\n"
          ],
          "name": "stdout"
        },
        {
          "output_type": "stream",
          "text": [
            "/usr/local/lib/python3.6/dist-packages/sklearn/utils/validation.py:760: DataConversionWarning: A column-vector y was passed when a 1d array was expected. Please change the shape of y to (n_samples, ), for example using ravel().\n",
            "  y = column_or_1d(y, warn=True)\n"
          ],
          "name": "stderr"
        },
        {
          "output_type": "stream",
          "text": [
            "Language: Arabic      Data loaded: sample data      sample_size: 32      c: 0.01      seed: 2021\n",
            "\n",
            " F1 macro score for test: 0.6082400296104377\n",
            "\n",
            " F1 macro score for val: 0.6298701298701299\n",
            "\n",
            " Accuracy for test: 0.6811337466784765\n",
            "\n",
            " Accuracy for val: 0.7039473684210527\n"
          ],
          "name": "stdout"
        },
        {
          "output_type": "stream",
          "text": [
            "/usr/local/lib/python3.6/dist-packages/sklearn/utils/validation.py:760: DataConversionWarning: A column-vector y was passed when a 1d array was expected. Please change the shape of y to (n_samples, ), for example using ravel().\n",
            "  y = column_or_1d(y, warn=True)\n"
          ],
          "name": "stderr"
        },
        {
          "output_type": "stream",
          "text": [
            "Language: Arabic      Data loaded: sample data      sample_size: 32      c: 0.01      seed: 2022\n",
            "\n",
            " F1 macro score for test: 0.6160776153945479\n",
            "\n",
            " F1 macro score for val: 0.5960803853180534\n",
            "\n",
            " Accuracy for test: 0.6944198405668733\n",
            "\n",
            " Accuracy for val: 0.6842105263157895\n"
          ],
          "name": "stdout"
        },
        {
          "output_type": "stream",
          "text": [
            "/usr/local/lib/python3.6/dist-packages/sklearn/utils/validation.py:760: DataConversionWarning: A column-vector y was passed when a 1d array was expected. Please change the shape of y to (n_samples, ), for example using ravel().\n",
            "  y = column_or_1d(y, warn=True)\n"
          ],
          "name": "stderr"
        },
        {
          "output_type": "stream",
          "text": [
            "Language: Arabic      Data loaded: sample data      sample_size: 32      c: 0.1      seed: 2018\n",
            "\n",
            " F1 macro score for test: 0.614604720234417\n",
            "\n",
            " F1 macro score for val: 0.6210382513661202\n",
            "\n",
            " Accuracy for test: 0.7573073516386183\n",
            "\n",
            " Accuracy for val: 0.7598684210526315\n"
          ],
          "name": "stdout"
        },
        {
          "output_type": "stream",
          "text": [
            "/usr/local/lib/python3.6/dist-packages/sklearn/utils/validation.py:760: DataConversionWarning: A column-vector y was passed when a 1d array was expected. Please change the shape of y to (n_samples, ), for example using ravel().\n",
            "  y = column_or_1d(y, warn=True)\n"
          ],
          "name": "stderr"
        },
        {
          "output_type": "stream",
          "text": [
            "Language: Arabic      Data loaded: sample data      sample_size: 32      c: 0.1      seed: 2019\n",
            "\n",
            " F1 macro score for test: 0.5824127138966793\n",
            "\n",
            " F1 macro score for val: 0.5688677104606308\n",
            "\n",
            " Accuracy for test: 0.6775907883082374\n",
            "\n",
            " Accuracy for val: 0.6710526315789473\n"
          ],
          "name": "stdout"
        },
        {
          "output_type": "stream",
          "text": [
            "/usr/local/lib/python3.6/dist-packages/sklearn/utils/validation.py:760: DataConversionWarning: A column-vector y was passed when a 1d array was expected. Please change the shape of y to (n_samples, ), for example using ravel().\n",
            "  y = column_or_1d(y, warn=True)\n"
          ],
          "name": "stderr"
        },
        {
          "output_type": "stream",
          "text": [
            "Language: Arabic      Data loaded: sample data      sample_size: 32      c: 0.1      seed: 2020\n",
            "\n",
            " F1 macro score for test: 0.5980938204972283\n",
            "\n",
            " F1 macro score for val: 0.6039373054290907\n",
            "\n",
            " Accuracy for test: 0.687333923826395\n",
            "\n",
            " Accuracy for val: 0.7023026315789473\n"
          ],
          "name": "stdout"
        },
        {
          "output_type": "stream",
          "text": [
            "/usr/local/lib/python3.6/dist-packages/sklearn/utils/validation.py:760: DataConversionWarning: A column-vector y was passed when a 1d array was expected. Please change the shape of y to (n_samples, ), for example using ravel().\n",
            "  y = column_or_1d(y, warn=True)\n"
          ],
          "name": "stderr"
        },
        {
          "output_type": "stream",
          "text": [
            "Language: Arabic      Data loaded: sample data      sample_size: 32      c: 0.1      seed: 2021\n",
            "\n",
            " F1 macro score for test: 0.6096820920889987\n",
            "\n",
            " F1 macro score for val: 0.6381695054381284\n",
            "\n",
            " Accuracy for test: 0.6829052258635961\n",
            "\n",
            " Accuracy for val: 0.7138157894736842\n"
          ],
          "name": "stdout"
        },
        {
          "output_type": "stream",
          "text": [
            "/usr/local/lib/python3.6/dist-packages/sklearn/utils/validation.py:760: DataConversionWarning: A column-vector y was passed when a 1d array was expected. Please change the shape of y to (n_samples, ), for example using ravel().\n",
            "  y = column_or_1d(y, warn=True)\n"
          ],
          "name": "stderr"
        },
        {
          "output_type": "stream",
          "text": [
            "Language: Arabic      Data loaded: sample data      sample_size: 32      c: 0.1      seed: 2022\n",
            "\n",
            " F1 macro score for test: 0.6204515140546517\n",
            "\n",
            " F1 macro score for val: 0.6020365200839233\n",
            "\n",
            " Accuracy for test: 0.6997342781222321\n",
            "\n",
            " Accuracy for val: 0.6957236842105263\n"
          ],
          "name": "stdout"
        },
        {
          "output_type": "stream",
          "text": [
            "/usr/local/lib/python3.6/dist-packages/sklearn/utils/validation.py:760: DataConversionWarning: A column-vector y was passed when a 1d array was expected. Please change the shape of y to (n_samples, ), for example using ravel().\n",
            "  y = column_or_1d(y, warn=True)\n"
          ],
          "name": "stderr"
        },
        {
          "output_type": "stream",
          "text": [
            "Language: Arabic      Data loaded: sample data      sample_size: 32      c: 1      seed: 2018\n",
            "\n",
            " F1 macro score for test: 0.6232701088865472\n",
            "\n",
            " F1 macro score for val: 0.6372189553787617\n",
            "\n",
            " Accuracy for test: 0.7643932683790965\n",
            "\n",
            " Accuracy for val: 0.7730263157894737\n"
          ],
          "name": "stdout"
        },
        {
          "output_type": "stream",
          "text": [
            "/usr/local/lib/python3.6/dist-packages/sklearn/utils/validation.py:760: DataConversionWarning: A column-vector y was passed when a 1d array was expected. Please change the shape of y to (n_samples, ), for example using ravel().\n",
            "  y = column_or_1d(y, warn=True)\n"
          ],
          "name": "stderr"
        },
        {
          "output_type": "stream",
          "text": [
            "Language: Arabic      Data loaded: sample data      sample_size: 32      c: 1      seed: 2019\n",
            "\n",
            " F1 macro score for test: 0.5935386958212981\n",
            "\n",
            " F1 macro score for val: 0.5751965065502184\n",
            "\n",
            " Accuracy for test: 0.691762621789194\n",
            "\n",
            " Accuracy for val: 0.6842105263157895\n"
          ],
          "name": "stdout"
        },
        {
          "output_type": "stream",
          "text": [
            "/usr/local/lib/python3.6/dist-packages/sklearn/utils/validation.py:760: DataConversionWarning: A column-vector y was passed when a 1d array was expected. Please change the shape of y to (n_samples, ), for example using ravel().\n",
            "  y = column_or_1d(y, warn=True)\n"
          ],
          "name": "stderr"
        },
        {
          "output_type": "stream",
          "text": [
            "Language: Arabic      Data loaded: sample data      sample_size: 32      c: 1      seed: 2020\n",
            "\n",
            " F1 macro score for test: 0.6086236461583248\n",
            "\n",
            " F1 macro score for val: 0.607923833813961\n",
            "\n",
            " Accuracy for test: 0.7015057573073517\n",
            "\n",
            " Accuracy for val: 0.7072368421052632\n"
          ],
          "name": "stdout"
        },
        {
          "output_type": "stream",
          "text": [
            "/usr/local/lib/python3.6/dist-packages/sklearn/utils/validation.py:760: DataConversionWarning: A column-vector y was passed when a 1d array was expected. Please change the shape of y to (n_samples, ), for example using ravel().\n",
            "  y = column_or_1d(y, warn=True)\n"
          ],
          "name": "stderr"
        },
        {
          "output_type": "stream",
          "text": [
            "Language: Arabic      Data loaded: sample data      sample_size: 32      c: 1      seed: 2021\n",
            "\n",
            " F1 macro score for test: 0.6154545836053799\n",
            "\n",
            " F1 macro score for val: 0.6479910714285714\n",
            "\n",
            " Accuracy for test: 0.6908768821966342\n",
            "\n",
            " Accuracy for val: 0.7269736842105263\n"
          ],
          "name": "stdout"
        },
        {
          "output_type": "stream",
          "text": [
            "/usr/local/lib/python3.6/dist-packages/sklearn/utils/validation.py:760: DataConversionWarning: A column-vector y was passed when a 1d array was expected. Please change the shape of y to (n_samples, ), for example using ravel().\n",
            "  y = column_or_1d(y, warn=True)\n"
          ],
          "name": "stderr"
        },
        {
          "output_type": "stream",
          "text": [
            "Language: Arabic      Data loaded: sample data      sample_size: 32      c: 1      seed: 2022\n",
            "\n",
            " F1 macro score for test: 0.6291757833620519\n",
            "\n",
            " F1 macro score for val: 0.622504220903001\n",
            "\n",
            " Accuracy for test: 0.7121346324180691\n",
            "\n",
            " Accuracy for val: 0.71875\n"
          ],
          "name": "stdout"
        },
        {
          "output_type": "stream",
          "text": [
            "/usr/local/lib/python3.6/dist-packages/sklearn/utils/validation.py:760: DataConversionWarning: A column-vector y was passed when a 1d array was expected. Please change the shape of y to (n_samples, ), for example using ravel().\n",
            "  y = column_or_1d(y, warn=True)\n"
          ],
          "name": "stderr"
        },
        {
          "output_type": "stream",
          "text": [
            "Language: Arabic      Data loaded: sample data      sample_size: 32      c: 10      seed: 2018\n",
            "\n",
            " F1 macro score for test: 0.6414908503767492\n",
            "\n",
            " F1 macro score for val: 0.6418148530824587\n",
            "\n",
            " Accuracy for test: 0.7909654561558902\n",
            "\n",
            " Accuracy for val: 0.7861842105263158\n"
          ],
          "name": "stdout"
        },
        {
          "output_type": "stream",
          "text": [
            "/usr/local/lib/python3.6/dist-packages/sklearn/utils/validation.py:760: DataConversionWarning: A column-vector y was passed when a 1d array was expected. Please change the shape of y to (n_samples, ), for example using ravel().\n",
            "  y = column_or_1d(y, warn=True)\n"
          ],
          "name": "stderr"
        },
        {
          "output_type": "stream",
          "text": [
            "Language: Arabic      Data loaded: sample data      sample_size: 32      c: 10      seed: 2019\n",
            "\n",
            " F1 macro score for test: 0.629597124261967\n",
            "\n",
            " F1 macro score for val: 0.601174882908629\n",
            "\n",
            " Accuracy for test: 0.7546501328609388\n",
            "\n",
            " Accuracy for val: 0.7417763157894737\n"
          ],
          "name": "stdout"
        },
        {
          "output_type": "stream",
          "text": [
            "/usr/local/lib/python3.6/dist-packages/sklearn/utils/validation.py:760: DataConversionWarning: A column-vector y was passed when a 1d array was expected. Please change the shape of y to (n_samples, ), for example using ravel().\n",
            "  y = column_or_1d(y, warn=True)\n"
          ],
          "name": "stderr"
        },
        {
          "output_type": "stream",
          "text": [
            "Language: Arabic      Data loaded: sample data      sample_size: 32      c: 10      seed: 2020\n",
            "\n",
            " F1 macro score for test: 0.616702170150446\n",
            "\n",
            " F1 macro score for val: 0.6317383403997577\n",
            "\n",
            " Accuracy for test: 0.728963684676705\n",
            "\n",
            " Accuracy for val: 0.756578947368421\n"
          ],
          "name": "stdout"
        },
        {
          "output_type": "stream",
          "text": [
            "/usr/local/lib/python3.6/dist-packages/sklearn/utils/validation.py:760: DataConversionWarning: A column-vector y was passed when a 1d array was expected. Please change the shape of y to (n_samples, ), for example using ravel().\n",
            "  y = column_or_1d(y, warn=True)\n"
          ],
          "name": "stderr"
        },
        {
          "output_type": "stream",
          "text": [
            "Language: Arabic      Data loaded: sample data      sample_size: 32      c: 10      seed: 2021\n",
            "\n",
            " F1 macro score for test: 0.661131763295912\n",
            "\n",
            " F1 macro score for val: 0.6891368320589004\n",
            "\n",
            " Accuracy for test: 0.7493356953055802\n",
            "\n",
            " Accuracy for val: 0.7779605263157895\n"
          ],
          "name": "stdout"
        },
        {
          "output_type": "stream",
          "text": [
            "/usr/local/lib/python3.6/dist-packages/sklearn/utils/validation.py:760: DataConversionWarning: A column-vector y was passed when a 1d array was expected. Please change the shape of y to (n_samples, ), for example using ravel().\n",
            "  y = column_or_1d(y, warn=True)\n"
          ],
          "name": "stderr"
        },
        {
          "output_type": "stream",
          "text": [
            "Language: Arabic      Data loaded: sample data      sample_size: 32      c: 10      seed: 2022\n",
            "\n",
            " F1 macro score for test: 0.6532081911262798\n",
            "\n",
            " F1 macro score for val: 0.6799412376813369\n",
            "\n",
            " Accuracy for test: 0.7608503100088574\n",
            "\n",
            " Accuracy for val: 0.787828947368421\n"
          ],
          "name": "stdout"
        },
        {
          "output_type": "stream",
          "text": [
            "/usr/local/lib/python3.6/dist-packages/sklearn/utils/validation.py:760: DataConversionWarning: A column-vector y was passed when a 1d array was expected. Please change the shape of y to (n_samples, ), for example using ravel().\n",
            "  y = column_or_1d(y, warn=True)\n"
          ],
          "name": "stderr"
        },
        {
          "output_type": "stream",
          "text": [
            "Language: Arabic      Data loaded: sample data      sample_size: 64      c: 0.01      seed: 2018\n",
            "\n",
            " F1 macro score for test: 0.7523621515826415\n",
            "\n",
            " F1 macro score for val: 0.7701362753690434\n",
            "\n",
            " Accuracy for test: 0.8387953941541186\n",
            "\n",
            " Accuracy for val: 0.8552631578947368\n"
          ],
          "name": "stdout"
        },
        {
          "output_type": "stream",
          "text": [
            "/usr/local/lib/python3.6/dist-packages/sklearn/utils/validation.py:760: DataConversionWarning: A column-vector y was passed when a 1d array was expected. Please change the shape of y to (n_samples, ), for example using ravel().\n",
            "  y = column_or_1d(y, warn=True)\n"
          ],
          "name": "stderr"
        },
        {
          "output_type": "stream",
          "text": [
            "Language: Arabic      Data loaded: sample data      sample_size: 64      c: 0.01      seed: 2019\n",
            "\n",
            " F1 macro score for test: 0.632399952640303\n",
            "\n",
            " F1 macro score for val: 0.6451564427576422\n",
            "\n",
            " Accuracy for test: 0.7077059344552702\n",
            "\n",
            " Accuracy for val: 0.725328947368421\n"
          ],
          "name": "stdout"
        },
        {
          "output_type": "stream",
          "text": [
            "/usr/local/lib/python3.6/dist-packages/sklearn/utils/validation.py:760: DataConversionWarning: A column-vector y was passed when a 1d array was expected. Please change the shape of y to (n_samples, ), for example using ravel().\n",
            "  y = column_or_1d(y, warn=True)\n"
          ],
          "name": "stderr"
        },
        {
          "output_type": "stream",
          "text": [
            "Language: Arabic      Data loaded: sample data      sample_size: 64      c: 0.01      seed: 2020\n",
            "\n",
            " F1 macro score for test: 0.603223916987709\n",
            "\n",
            " F1 macro score for val: 0.6340077336679829\n",
            "\n",
            " Accuracy for test: 0.6731620903454384\n",
            "\n",
            " Accuracy for val: 0.7088815789473685\n"
          ],
          "name": "stdout"
        },
        {
          "output_type": "stream",
          "text": [
            "/usr/local/lib/python3.6/dist-packages/sklearn/utils/validation.py:760: DataConversionWarning: A column-vector y was passed when a 1d array was expected. Please change the shape of y to (n_samples, ), for example using ravel().\n",
            "  y = column_or_1d(y, warn=True)\n"
          ],
          "name": "stderr"
        },
        {
          "output_type": "stream",
          "text": [
            "Language: Arabic      Data loaded: sample data      sample_size: 64      c: 0.01      seed: 2021\n",
            "\n",
            " F1 macro score for test: 0.7369120015927313\n",
            "\n",
            " F1 macro score for val: 0.7744586969679221\n",
            "\n",
            " Accuracy for test: 0.8175376439326838\n",
            "\n",
            " Accuracy for val: 0.84375\n"
          ],
          "name": "stdout"
        },
        {
          "output_type": "stream",
          "text": [
            "/usr/local/lib/python3.6/dist-packages/sklearn/utils/validation.py:760: DataConversionWarning: A column-vector y was passed when a 1d array was expected. Please change the shape of y to (n_samples, ), for example using ravel().\n",
            "  y = column_or_1d(y, warn=True)\n"
          ],
          "name": "stderr"
        },
        {
          "output_type": "stream",
          "text": [
            "Language: Arabic      Data loaded: sample data      sample_size: 64      c: 0.01      seed: 2022\n",
            "\n",
            " F1 macro score for test: 0.6234069473199908\n",
            "\n",
            " F1 macro score for val: 0.6464874478418496\n",
            "\n",
            " Accuracy for test: 0.691762621789194\n",
            "\n",
            " Accuracy for val: 0.7203947368421053\n"
          ],
          "name": "stdout"
        },
        {
          "output_type": "stream",
          "text": [
            "/usr/local/lib/python3.6/dist-packages/sklearn/utils/validation.py:760: DataConversionWarning: A column-vector y was passed when a 1d array was expected. Please change the shape of y to (n_samples, ), for example using ravel().\n",
            "  y = column_or_1d(y, warn=True)\n"
          ],
          "name": "stderr"
        },
        {
          "output_type": "stream",
          "text": [
            "Language: Arabic      Data loaded: sample data      sample_size: 64      c: 0.1      seed: 2018\n",
            "\n",
            " F1 macro score for test: 0.7552610322122796\n",
            "\n",
            " F1 macro score for val: 0.768661362850225\n",
            "\n",
            " Accuracy for test: 0.8414526129317981\n",
            "\n",
            " Accuracy for val: 0.8552631578947368\n"
          ],
          "name": "stdout"
        },
        {
          "output_type": "stream",
          "text": [
            "/usr/local/lib/python3.6/dist-packages/sklearn/utils/validation.py:760: DataConversionWarning: A column-vector y was passed when a 1d array was expected. Please change the shape of y to (n_samples, ), for example using ravel().\n",
            "  y = column_or_1d(y, warn=True)\n"
          ],
          "name": "stderr"
        },
        {
          "output_type": "stream",
          "text": [
            "Language: Arabic      Data loaded: sample data      sample_size: 64      c: 0.1      seed: 2019\n",
            "\n",
            " F1 macro score for test: 0.6338880364458928\n",
            "\n",
            " F1 macro score for val: 0.6451564427576422\n",
            "\n",
            " Accuracy for test: 0.7094774136403897\n",
            "\n",
            " Accuracy for val: 0.725328947368421\n"
          ],
          "name": "stdout"
        },
        {
          "output_type": "stream",
          "text": [
            "/usr/local/lib/python3.6/dist-packages/sklearn/utils/validation.py:760: DataConversionWarning: A column-vector y was passed when a 1d array was expected. Please change the shape of y to (n_samples, ), for example using ravel().\n",
            "  y = column_or_1d(y, warn=True)\n"
          ],
          "name": "stderr"
        },
        {
          "output_type": "stream",
          "text": [
            "Language: Arabic      Data loaded: sample data      sample_size: 64      c: 0.1      seed: 2020\n",
            "\n",
            " F1 macro score for test: 0.6075359998314565\n",
            "\n",
            " F1 macro score for val: 0.6340077336679829\n",
            "\n",
            " Accuracy for test: 0.6784765279007972\n",
            "\n",
            " Accuracy for val: 0.7088815789473685\n"
          ],
          "name": "stdout"
        },
        {
          "output_type": "stream",
          "text": [
            "/usr/local/lib/python3.6/dist-packages/sklearn/utils/validation.py:760: DataConversionWarning: A column-vector y was passed when a 1d array was expected. Please change the shape of y to (n_samples, ), for example using ravel().\n",
            "  y = column_or_1d(y, warn=True)\n"
          ],
          "name": "stderr"
        },
        {
          "output_type": "stream",
          "text": [
            "Language: Arabic      Data loaded: sample data      sample_size: 64      c: 0.1      seed: 2021\n",
            "\n",
            " F1 macro score for test: 0.7387261886395193\n",
            "\n",
            " F1 macro score for val: 0.7744586969679221\n",
            "\n",
            " Accuracy for test: 0.8193091231178034\n",
            "\n",
            " Accuracy for val: 0.84375\n"
          ],
          "name": "stdout"
        },
        {
          "output_type": "stream",
          "text": [
            "/usr/local/lib/python3.6/dist-packages/sklearn/utils/validation.py:760: DataConversionWarning: A column-vector y was passed when a 1d array was expected. Please change the shape of y to (n_samples, ), for example using ravel().\n",
            "  y = column_or_1d(y, warn=True)\n"
          ],
          "name": "stderr"
        },
        {
          "output_type": "stream",
          "text": [
            "Language: Arabic      Data loaded: sample data      sample_size: 64      c: 0.1      seed: 2022\n",
            "\n",
            " F1 macro score for test: 0.624210200318959\n",
            "\n",
            " F1 macro score for val: 0.6464874478418496\n",
            "\n",
            " Accuracy for test: 0.6944198405668733\n",
            "\n",
            " Accuracy for val: 0.7203947368421053\n"
          ],
          "name": "stdout"
        },
        {
          "output_type": "stream",
          "text": [
            "/usr/local/lib/python3.6/dist-packages/sklearn/utils/validation.py:760: DataConversionWarning: A column-vector y was passed when a 1d array was expected. Please change the shape of y to (n_samples, ), for example using ravel().\n",
            "  y = column_or_1d(y, warn=True)\n"
          ],
          "name": "stderr"
        },
        {
          "output_type": "stream",
          "text": [
            "Language: Arabic      Data loaded: sample data      sample_size: 64      c: 1      seed: 2018\n",
            "\n",
            " F1 macro score for test: 0.7524468275958298\n",
            "\n",
            " F1 macro score for val: 0.7589698133209801\n",
            "\n",
            " Accuracy for test: 0.8441098317094774\n",
            "\n",
            " Accuracy for val: 0.8536184210526315\n"
          ],
          "name": "stdout"
        },
        {
          "output_type": "stream",
          "text": [
            "/usr/local/lib/python3.6/dist-packages/sklearn/utils/validation.py:760: DataConversionWarning: A column-vector y was passed when a 1d array was expected. Please change the shape of y to (n_samples, ), for example using ravel().\n",
            "  y = column_or_1d(y, warn=True)\n"
          ],
          "name": "stderr"
        },
        {
          "output_type": "stream",
          "text": [
            "Language: Arabic      Data loaded: sample data      sample_size: 64      c: 1      seed: 2019\n",
            "\n",
            " F1 macro score for test: 0.652707132536859\n",
            "\n",
            " F1 macro score for val: 0.6608302891796081\n",
            "\n",
            " Accuracy for test: 0.7369353410097431\n",
            "\n",
            " Accuracy for val: 0.7450657894736842\n"
          ],
          "name": "stdout"
        },
        {
          "output_type": "stream",
          "text": [
            "/usr/local/lib/python3.6/dist-packages/sklearn/utils/validation.py:760: DataConversionWarning: A column-vector y was passed when a 1d array was expected. Please change the shape of y to (n_samples, ), for example using ravel().\n",
            "  y = column_or_1d(y, warn=True)\n"
          ],
          "name": "stderr"
        },
        {
          "output_type": "stream",
          "text": [
            "Language: Arabic      Data loaded: sample data      sample_size: 64      c: 1      seed: 2020\n",
            "\n",
            " F1 macro score for test: 0.629431437467781\n",
            "\n",
            " F1 macro score for val: 0.6508243335994732\n",
            "\n",
            " Accuracy for test: 0.7050487156775908\n",
            "\n",
            " Accuracy for val: 0.7302631578947368\n"
          ],
          "name": "stdout"
        },
        {
          "output_type": "stream",
          "text": [
            "/usr/local/lib/python3.6/dist-packages/sklearn/utils/validation.py:760: DataConversionWarning: A column-vector y was passed when a 1d array was expected. Please change the shape of y to (n_samples, ), for example using ravel().\n",
            "  y = column_or_1d(y, warn=True)\n"
          ],
          "name": "stderr"
        },
        {
          "output_type": "stream",
          "text": [
            "Language: Arabic      Data loaded: sample data      sample_size: 64      c: 1      seed: 2021\n",
            "\n",
            " F1 macro score for test: 0.7401228259168209\n",
            "\n",
            " F1 macro score for val: 0.7852826220661469\n",
            "\n",
            " Accuracy for test: 0.8228520814880426\n",
            "\n",
            " Accuracy for val: 0.8536184210526315\n"
          ],
          "name": "stdout"
        },
        {
          "output_type": "stream",
          "text": [
            "/usr/local/lib/python3.6/dist-packages/sklearn/utils/validation.py:760: DataConversionWarning: A column-vector y was passed when a 1d array was expected. Please change the shape of y to (n_samples, ), for example using ravel().\n",
            "  y = column_or_1d(y, warn=True)\n"
          ],
          "name": "stderr"
        },
        {
          "output_type": "stream",
          "text": [
            "Language: Arabic      Data loaded: sample data      sample_size: 64      c: 1      seed: 2022\n",
            "\n",
            " F1 macro score for test: 0.6481432646896651\n",
            "\n",
            " F1 macro score for val: 0.671013355407202\n",
            "\n",
            " Accuracy for test: 0.7236492471213464\n",
            "\n",
            " Accuracy for val: 0.7516447368421053\n"
          ],
          "name": "stdout"
        },
        {
          "output_type": "stream",
          "text": [
            "/usr/local/lib/python3.6/dist-packages/sklearn/utils/validation.py:760: DataConversionWarning: A column-vector y was passed when a 1d array was expected. Please change the shape of y to (n_samples, ), for example using ravel().\n",
            "  y = column_or_1d(y, warn=True)\n"
          ],
          "name": "stderr"
        },
        {
          "output_type": "stream",
          "text": [
            "Language: Arabic      Data loaded: sample data      sample_size: 64      c: 10      seed: 2018\n",
            "\n",
            " F1 macro score for test: 0.7417060240456932\n",
            "\n",
            " F1 macro score for val: 0.7784328106908752\n",
            "\n",
            " Accuracy for test: 0.845881310894597\n",
            "\n",
            " Accuracy for val: 0.8700657894736842\n"
          ],
          "name": "stdout"
        },
        {
          "output_type": "stream",
          "text": [
            "/usr/local/lib/python3.6/dist-packages/sklearn/utils/validation.py:760: DataConversionWarning: A column-vector y was passed when a 1d array was expected. Please change the shape of y to (n_samples, ), for example using ravel().\n",
            "  y = column_or_1d(y, warn=True)\n"
          ],
          "name": "stderr"
        },
        {
          "output_type": "stream",
          "text": [
            "Language: Arabic      Data loaded: sample data      sample_size: 64      c: 10      seed: 2019\n",
            "\n",
            " F1 macro score for test: 0.6993725108826526\n",
            "\n",
            " F1 macro score for val: 0.7414528414838057\n",
            "\n",
            " Accuracy for test: 0.7962798937112489\n",
            "\n",
            " Accuracy for val: 0.8305921052631579\n"
          ],
          "name": "stdout"
        },
        {
          "output_type": "stream",
          "text": [
            "/usr/local/lib/python3.6/dist-packages/sklearn/utils/validation.py:760: DataConversionWarning: A column-vector y was passed when a 1d array was expected. Please change the shape of y to (n_samples, ), for example using ravel().\n",
            "  y = column_or_1d(y, warn=True)\n"
          ],
          "name": "stderr"
        },
        {
          "output_type": "stream",
          "text": [
            "Language: Arabic      Data loaded: sample data      sample_size: 64      c: 10      seed: 2020\n",
            "\n",
            " F1 macro score for test: 0.6704247896169098\n",
            "\n",
            " F1 macro score for val: 0.7333959752564404\n",
            "\n",
            " Accuracy for test: 0.7635075287865367\n",
            "\n",
            " Accuracy for val: 0.8157894736842105\n"
          ],
          "name": "stdout"
        },
        {
          "output_type": "stream",
          "text": [
            "/usr/local/lib/python3.6/dist-packages/sklearn/utils/validation.py:760: DataConversionWarning: A column-vector y was passed when a 1d array was expected. Please change the shape of y to (n_samples, ), for example using ravel().\n",
            "  y = column_or_1d(y, warn=True)\n"
          ],
          "name": "stderr"
        },
        {
          "output_type": "stream",
          "text": [
            "Language: Arabic      Data loaded: sample data      sample_size: 64      c: 10      seed: 2021\n",
            "\n",
            " F1 macro score for test: 0.7431239461986512\n",
            "\n",
            " F1 macro score for val: 0.7828919015428564\n",
            "\n",
            " Accuracy for test: 0.8317094774136404\n",
            "\n",
            " Accuracy for val: 0.8569078947368421\n"
          ],
          "name": "stdout"
        },
        {
          "output_type": "stream",
          "text": [
            "/usr/local/lib/python3.6/dist-packages/sklearn/utils/validation.py:760: DataConversionWarning: A column-vector y was passed when a 1d array was expected. Please change the shape of y to (n_samples, ), for example using ravel().\n",
            "  y = column_or_1d(y, warn=True)\n"
          ],
          "name": "stderr"
        },
        {
          "output_type": "stream",
          "text": [
            "Language: Arabic      Data loaded: sample data      sample_size: 64      c: 10      seed: 2022\n",
            "\n",
            " F1 macro score for test: 0.7234162296731819\n",
            "\n",
            " F1 macro score for val: 0.7292411385930071\n",
            "\n",
            " Accuracy for test: 0.8033658104517272\n",
            "\n",
            " Accuracy for val: 0.8174342105263158\n"
          ],
          "name": "stdout"
        },
        {
          "output_type": "stream",
          "text": [
            "/usr/local/lib/python3.6/dist-packages/sklearn/utils/validation.py:760: DataConversionWarning: A column-vector y was passed when a 1d array was expected. Please change the shape of y to (n_samples, ), for example using ravel().\n",
            "  y = column_or_1d(y, warn=True)\n"
          ],
          "name": "stderr"
        },
        {
          "output_type": "stream",
          "text": [
            "Language: Arabic      Data loaded: sample data      sample_size: 128      c: 0.01      seed: 2018\n",
            "\n",
            " F1 macro score for test: 0.7104385739933317\n",
            "\n",
            " F1 macro score for val: 0.7394089781186556\n",
            "\n",
            " Accuracy for test: 0.7847652790079717\n",
            "\n",
            " Accuracy for val: 0.8125\n"
          ],
          "name": "stdout"
        },
        {
          "output_type": "stream",
          "text": [
            "/usr/local/lib/python3.6/dist-packages/sklearn/utils/validation.py:760: DataConversionWarning: A column-vector y was passed when a 1d array was expected. Please change the shape of y to (n_samples, ), for example using ravel().\n",
            "  y = column_or_1d(y, warn=True)\n"
          ],
          "name": "stderr"
        },
        {
          "output_type": "stream",
          "text": [
            "Language: Arabic      Data loaded: sample data      sample_size: 128      c: 0.01      seed: 2019\n",
            "\n",
            " F1 macro score for test: 0.6674752202779692\n",
            "\n",
            " F1 macro score for val: 0.6738093123234621\n",
            "\n",
            " Accuracy for test: 0.7369353410097431\n",
            "\n",
            " Accuracy for val: 0.7516447368421053\n"
          ],
          "name": "stdout"
        },
        {
          "output_type": "stream",
          "text": [
            "/usr/local/lib/python3.6/dist-packages/sklearn/utils/validation.py:760: DataConversionWarning: A column-vector y was passed when a 1d array was expected. Please change the shape of y to (n_samples, ), for example using ravel().\n",
            "  y = column_or_1d(y, warn=True)\n"
          ],
          "name": "stderr"
        },
        {
          "output_type": "stream",
          "text": [
            "Language: Arabic      Data loaded: sample data      sample_size: 128      c: 0.01      seed: 2020\n",
            "\n",
            " F1 macro score for test: 0.6404989809505195\n",
            "\n",
            " F1 macro score for val: 0.6575663257744182\n",
            "\n",
            " Accuracy for test: 0.6926483613817538\n",
            "\n",
            " Accuracy for val: 0.71875\n"
          ],
          "name": "stdout"
        },
        {
          "output_type": "stream",
          "text": [
            "/usr/local/lib/python3.6/dist-packages/sklearn/utils/validation.py:760: DataConversionWarning: A column-vector y was passed when a 1d array was expected. Please change the shape of y to (n_samples, ), for example using ravel().\n",
            "  y = column_or_1d(y, warn=True)\n"
          ],
          "name": "stderr"
        },
        {
          "output_type": "stream",
          "text": [
            "Language: Arabic      Data loaded: sample data      sample_size: 128      c: 0.01      seed: 2021\n",
            "\n",
            " F1 macro score for test: 0.6953330923553211\n",
            "\n",
            " F1 macro score for val: 0.7236842105263157\n",
            "\n",
            " Accuracy for test: 0.7599645704162976\n",
            "\n",
            " Accuracy for val: 0.7927631578947368\n"
          ],
          "name": "stdout"
        },
        {
          "output_type": "stream",
          "text": [
            "/usr/local/lib/python3.6/dist-packages/sklearn/utils/validation.py:760: DataConversionWarning: A column-vector y was passed when a 1d array was expected. Please change the shape of y to (n_samples, ), for example using ravel().\n",
            "  y = column_or_1d(y, warn=True)\n"
          ],
          "name": "stderr"
        },
        {
          "output_type": "stream",
          "text": [
            "Language: Arabic      Data loaded: sample data      sample_size: 128      c: 0.01      seed: 2022\n",
            "\n",
            " F1 macro score for test: 0.6194573117915113\n",
            "\n",
            " F1 macro score for val: 0.6446688641092175\n",
            "\n",
            " Accuracy for test: 0.6829052258635961\n",
            "\n",
            " Accuracy for val: 0.712171052631579\n"
          ],
          "name": "stdout"
        },
        {
          "output_type": "stream",
          "text": [
            "/usr/local/lib/python3.6/dist-packages/sklearn/utils/validation.py:760: DataConversionWarning: A column-vector y was passed when a 1d array was expected. Please change the shape of y to (n_samples, ), for example using ravel().\n",
            "  y = column_or_1d(y, warn=True)\n"
          ],
          "name": "stderr"
        },
        {
          "output_type": "stream",
          "text": [
            "Language: Arabic      Data loaded: sample data      sample_size: 128      c: 0.1      seed: 2018\n",
            "\n",
            " F1 macro score for test: 0.7138179909106819\n",
            "\n",
            " F1 macro score for val: 0.7427310644985794\n",
            "\n",
            " Accuracy for test: 0.7883082373782108\n",
            "\n",
            " Accuracy for val: 0.8157894736842105\n"
          ],
          "name": "stdout"
        },
        {
          "output_type": "stream",
          "text": [
            "/usr/local/lib/python3.6/dist-packages/sklearn/utils/validation.py:760: DataConversionWarning: A column-vector y was passed when a 1d array was expected. Please change the shape of y to (n_samples, ), for example using ravel().\n",
            "  y = column_or_1d(y, warn=True)\n"
          ],
          "name": "stderr"
        },
        {
          "output_type": "stream",
          "text": [
            "Language: Arabic      Data loaded: sample data      sample_size: 128      c: 0.1      seed: 2019\n",
            "\n",
            " F1 macro score for test: 0.6729536755128297\n",
            "\n",
            " F1 macro score for val: 0.6782424623834316\n",
            "\n",
            " Accuracy for test: 0.7431355181576617\n",
            "\n",
            " Accuracy for val: 0.756578947368421\n"
          ],
          "name": "stdout"
        },
        {
          "output_type": "stream",
          "text": [
            "/usr/local/lib/python3.6/dist-packages/sklearn/utils/validation.py:760: DataConversionWarning: A column-vector y was passed when a 1d array was expected. Please change the shape of y to (n_samples, ), for example using ravel().\n",
            "  y = column_or_1d(y, warn=True)\n"
          ],
          "name": "stderr"
        },
        {
          "output_type": "stream",
          "text": [
            "Language: Arabic      Data loaded: sample data      sample_size: 128      c: 0.1      seed: 2020\n",
            "\n",
            " F1 macro score for test: 0.6417832441137755\n",
            "\n",
            " F1 macro score for val: 0.6630023094688222\n",
            "\n",
            " Accuracy for test: 0.6961913197519929\n",
            "\n",
            " Accuracy for val: 0.7236842105263158\n"
          ],
          "name": "stdout"
        },
        {
          "output_type": "stream",
          "text": [
            "/usr/local/lib/python3.6/dist-packages/sklearn/utils/validation.py:760: DataConversionWarning: A column-vector y was passed when a 1d array was expected. Please change the shape of y to (n_samples, ), for example using ravel().\n",
            "  y = column_or_1d(y, warn=True)\n"
          ],
          "name": "stderr"
        },
        {
          "output_type": "stream",
          "text": [
            "Language: Arabic      Data loaded: sample data      sample_size: 128      c: 0.1      seed: 2021\n",
            "\n",
            " F1 macro score for test: 0.6987557577800247\n",
            "\n",
            " F1 macro score for val: 0.736545240893067\n",
            "\n",
            " Accuracy for test: 0.7643932683790965\n",
            "\n",
            " Accuracy for val: 0.805921052631579\n"
          ],
          "name": "stdout"
        },
        {
          "output_type": "stream",
          "text": [
            "/usr/local/lib/python3.6/dist-packages/sklearn/utils/validation.py:760: DataConversionWarning: A column-vector y was passed when a 1d array was expected. Please change the shape of y to (n_samples, ), for example using ravel().\n",
            "  y = column_or_1d(y, warn=True)\n"
          ],
          "name": "stderr"
        },
        {
          "output_type": "stream",
          "text": [
            "Language: Arabic      Data loaded: sample data      sample_size: 128      c: 0.1      seed: 2022\n",
            "\n",
            " F1 macro score for test: 0.6223923296699974\n",
            "\n",
            " F1 macro score for val: 0.6474771679932969\n",
            "\n",
            " Accuracy for test: 0.6864481842338352\n",
            "\n",
            " Accuracy for val: 0.7154605263157895\n"
          ],
          "name": "stdout"
        },
        {
          "output_type": "stream",
          "text": [
            "/usr/local/lib/python3.6/dist-packages/sklearn/utils/validation.py:760: DataConversionWarning: A column-vector y was passed when a 1d array was expected. Please change the shape of y to (n_samples, ), for example using ravel().\n",
            "  y = column_or_1d(y, warn=True)\n"
          ],
          "name": "stderr"
        },
        {
          "output_type": "stream",
          "text": [
            "Language: Arabic      Data loaded: sample data      sample_size: 128      c: 1      seed: 2018\n",
            "\n",
            " F1 macro score for test: 0.743466816647919\n",
            "\n",
            " F1 macro score for val: 0.7859394754108854\n",
            "\n",
            " Accuracy for test: 0.8210806023029229\n",
            "\n",
            " Accuracy for val: 0.8552631578947368\n"
          ],
          "name": "stdout"
        },
        {
          "output_type": "stream",
          "text": [
            "/usr/local/lib/python3.6/dist-packages/sklearn/utils/validation.py:760: DataConversionWarning: A column-vector y was passed when a 1d array was expected. Please change the shape of y to (n_samples, ), for example using ravel().\n",
            "  y = column_or_1d(y, warn=True)\n"
          ],
          "name": "stderr"
        },
        {
          "output_type": "stream",
          "text": [
            "Language: Arabic      Data loaded: sample data      sample_size: 128      c: 1      seed: 2019\n",
            "\n",
            " F1 macro score for test: 0.6915695564946429\n",
            "\n",
            " F1 macro score for val: 0.7105724475609019\n",
            "\n",
            " Accuracy for test: 0.7732506643046945\n",
            "\n",
            " Accuracy for val: 0.7927631578947368\n"
          ],
          "name": "stdout"
        },
        {
          "output_type": "stream",
          "text": [
            "/usr/local/lib/python3.6/dist-packages/sklearn/utils/validation.py:760: DataConversionWarning: A column-vector y was passed when a 1d array was expected. Please change the shape of y to (n_samples, ), for example using ravel().\n",
            "  y = column_or_1d(y, warn=True)\n"
          ],
          "name": "stderr"
        },
        {
          "output_type": "stream",
          "text": [
            "Language: Arabic      Data loaded: sample data      sample_size: 128      c: 1      seed: 2020\n",
            "\n",
            " F1 macro score for test: 0.6772790482076638\n",
            "\n",
            " F1 macro score for val: 0.7150065485627628\n",
            "\n",
            " Accuracy for test: 0.7378210806023029\n",
            "\n",
            " Accuracy for val: 0.7763157894736842\n"
          ],
          "name": "stdout"
        },
        {
          "output_type": "stream",
          "text": [
            "/usr/local/lib/python3.6/dist-packages/sklearn/utils/validation.py:760: DataConversionWarning: A column-vector y was passed when a 1d array was expected. Please change the shape of y to (n_samples, ), for example using ravel().\n",
            "  y = column_or_1d(y, warn=True)\n"
          ],
          "name": "stderr"
        },
        {
          "output_type": "stream",
          "text": [
            "Language: Arabic      Data loaded: sample data      sample_size: 128      c: 1      seed: 2021\n",
            "\n",
            " F1 macro score for test: 0.719683663616718\n",
            "\n",
            " F1 macro score for val: 0.7645450817804911\n",
            "\n",
            " Accuracy for test: 0.7847652790079717\n",
            "\n",
            " Accuracy for val: 0.8322368421052632\n"
          ],
          "name": "stdout"
        },
        {
          "output_type": "stream",
          "text": [
            "/usr/local/lib/python3.6/dist-packages/sklearn/utils/validation.py:760: DataConversionWarning: A column-vector y was passed when a 1d array was expected. Please change the shape of y to (n_samples, ), for example using ravel().\n",
            "  y = column_or_1d(y, warn=True)\n"
          ],
          "name": "stderr"
        },
        {
          "output_type": "stream",
          "text": [
            "Language: Arabic      Data loaded: sample data      sample_size: 128      c: 1      seed: 2022\n",
            "\n",
            " F1 macro score for test: 0.6559764849969381\n",
            "\n",
            " F1 macro score for val: 0.6895847515316541\n",
            "\n",
            " Accuracy for test: 0.7245349867139061\n",
            "\n",
            " Accuracy for val: 0.7631578947368421\n"
          ],
          "name": "stdout"
        },
        {
          "output_type": "stream",
          "text": [
            "/usr/local/lib/python3.6/dist-packages/sklearn/utils/validation.py:760: DataConversionWarning: A column-vector y was passed when a 1d array was expected. Please change the shape of y to (n_samples, ), for example using ravel().\n",
            "  y = column_or_1d(y, warn=True)\n"
          ],
          "name": "stderr"
        },
        {
          "output_type": "stream",
          "text": [
            "Language: Arabic      Data loaded: sample data      sample_size: 128      c: 10      seed: 2018\n",
            "\n",
            " F1 macro score for test: 0.7764776923153069\n",
            "\n",
            " F1 macro score for val: 0.7968524651178528\n",
            "\n",
            " Accuracy for test: 0.858281665190434\n",
            "\n",
            " Accuracy for val: 0.8700657894736842\n"
          ],
          "name": "stdout"
        },
        {
          "output_type": "stream",
          "text": [
            "/usr/local/lib/python3.6/dist-packages/sklearn/utils/validation.py:760: DataConversionWarning: A column-vector y was passed when a 1d array was expected. Please change the shape of y to (n_samples, ), for example using ravel().\n",
            "  y = column_or_1d(y, warn=True)\n"
          ],
          "name": "stderr"
        },
        {
          "output_type": "stream",
          "text": [
            "Language: Arabic      Data loaded: sample data      sample_size: 128      c: 10      seed: 2019\n",
            "\n",
            " F1 macro score for test: 0.730221285241255\n",
            "\n",
            " F1 macro score for val: 0.774886690073412\n",
            "\n",
            " Accuracy for test: 0.8201948627103631\n",
            "\n",
            " Accuracy for val: 0.8569078947368421\n"
          ],
          "name": "stdout"
        },
        {
          "output_type": "stream",
          "text": [
            "/usr/local/lib/python3.6/dist-packages/sklearn/utils/validation.py:760: DataConversionWarning: A column-vector y was passed when a 1d array was expected. Please change the shape of y to (n_samples, ), for example using ravel().\n",
            "  y = column_or_1d(y, warn=True)\n"
          ],
          "name": "stderr"
        },
        {
          "output_type": "stream",
          "text": [
            "Language: Arabic      Data loaded: sample data      sample_size: 128      c: 10      seed: 2020\n",
            "\n",
            " F1 macro score for test: 0.7366742423831505\n",
            "\n",
            " F1 macro score for val: 0.782312925170068\n",
            "\n",
            " Accuracy for test: 0.8095659875996457\n",
            "\n",
            " Accuracy for val: 0.84375\n"
          ],
          "name": "stdout"
        },
        {
          "output_type": "stream",
          "text": [
            "/usr/local/lib/python3.6/dist-packages/sklearn/utils/validation.py:760: DataConversionWarning: A column-vector y was passed when a 1d array was expected. Please change the shape of y to (n_samples, ), for example using ravel().\n",
            "  y = column_or_1d(y, warn=True)\n"
          ],
          "name": "stderr"
        },
        {
          "output_type": "stream",
          "text": [
            "Language: Arabic      Data loaded: sample data      sample_size: 128      c: 10      seed: 2021\n",
            "\n",
            " F1 macro score for test: 0.7543119307219455\n",
            "\n",
            " F1 macro score for val: 0.7916251246261217\n",
            "\n",
            " Accuracy for test: 0.8281665190434012\n",
            "\n",
            " Accuracy for val: 0.8552631578947368\n"
          ],
          "name": "stdout"
        },
        {
          "output_type": "stream",
          "text": [
            "/usr/local/lib/python3.6/dist-packages/sklearn/utils/validation.py:760: DataConversionWarning: A column-vector y was passed when a 1d array was expected. Please change the shape of y to (n_samples, ), for example using ravel().\n",
            "  y = column_or_1d(y, warn=True)\n"
          ],
          "name": "stderr"
        },
        {
          "output_type": "stream",
          "text": [
            "Language: Arabic      Data loaded: sample data      sample_size: 128      c: 10      seed: 2022\n",
            "\n",
            " F1 macro score for test: 0.7260501184987718\n",
            "\n",
            " F1 macro score for val: 0.7480493955790246\n",
            "\n",
            " Accuracy for test: 0.8060230292294066\n",
            "\n",
            " Accuracy for val: 0.8273026315789473\n"
          ],
          "name": "stdout"
        },
        {
          "output_type": "stream",
          "text": [
            "/usr/local/lib/python3.6/dist-packages/sklearn/utils/validation.py:760: DataConversionWarning: A column-vector y was passed when a 1d array was expected. Please change the shape of y to (n_samples, ), for example using ravel().\n",
            "  y = column_or_1d(y, warn=True)\n"
          ],
          "name": "stderr"
        },
        {
          "output_type": "stream",
          "text": [
            "Language: Arabic      Data loaded: sample data      sample_size: 256      c: 0.01      seed: 2018\n",
            "\n",
            " F1 macro score for test: 0.6993901999567576\n",
            "\n",
            " F1 macro score for val: 0.7114710111573771\n",
            "\n",
            " Accuracy for test: 0.7643932683790965\n",
            "\n",
            " Accuracy for val: 0.78125\n"
          ],
          "name": "stdout"
        },
        {
          "output_type": "stream",
          "text": [
            "/usr/local/lib/python3.6/dist-packages/sklearn/utils/validation.py:760: DataConversionWarning: A column-vector y was passed when a 1d array was expected. Please change the shape of y to (n_samples, ), for example using ravel().\n",
            "  y = column_or_1d(y, warn=True)\n"
          ],
          "name": "stderr"
        },
        {
          "output_type": "stream",
          "text": [
            "Language: Arabic      Data loaded: sample data      sample_size: 256      c: 0.01      seed: 2019\n",
            "\n",
            " F1 macro score for test: 0.6693345164667228\n",
            "\n",
            " F1 macro score for val: 0.6645637938065198\n",
            "\n",
            " Accuracy for test: 0.7316209034543845\n",
            "\n",
            " Accuracy for val: 0.7351973684210527\n"
          ],
          "name": "stdout"
        },
        {
          "output_type": "stream",
          "text": [
            "/usr/local/lib/python3.6/dist-packages/sklearn/utils/validation.py:760: DataConversionWarning: A column-vector y was passed when a 1d array was expected. Please change the shape of y to (n_samples, ), for example using ravel().\n",
            "  y = column_or_1d(y, warn=True)\n"
          ],
          "name": "stderr"
        },
        {
          "output_type": "stream",
          "text": [
            "Language: Arabic      Data loaded: sample data      sample_size: 256      c: 0.01      seed: 2020\n",
            "\n",
            " F1 macro score for test: 0.6614066410859383\n",
            "\n",
            " F1 macro score for val: 0.6809682167584366\n",
            "\n",
            " Accuracy for test: 0.7156775907883083\n",
            "\n",
            " Accuracy for val: 0.7467105263157895\n"
          ],
          "name": "stdout"
        },
        {
          "output_type": "stream",
          "text": [
            "/usr/local/lib/python3.6/dist-packages/sklearn/utils/validation.py:760: DataConversionWarning: A column-vector y was passed when a 1d array was expected. Please change the shape of y to (n_samples, ), for example using ravel().\n",
            "  y = column_or_1d(y, warn=True)\n"
          ],
          "name": "stderr"
        },
        {
          "output_type": "stream",
          "text": [
            "Language: Arabic      Data loaded: sample data      sample_size: 256      c: 0.01      seed: 2021\n",
            "\n",
            " F1 macro score for test: 0.7129709665937864\n",
            "\n",
            " F1 macro score for val: 0.757998261037581\n",
            "\n",
            " Accuracy for test: 0.787422497785651\n",
            "\n",
            " Accuracy for val: 0.8305921052631579\n"
          ],
          "name": "stdout"
        },
        {
          "output_type": "stream",
          "text": [
            "/usr/local/lib/python3.6/dist-packages/sklearn/utils/validation.py:760: DataConversionWarning: A column-vector y was passed when a 1d array was expected. Please change the shape of y to (n_samples, ), for example using ravel().\n",
            "  y = column_or_1d(y, warn=True)\n"
          ],
          "name": "stderr"
        },
        {
          "output_type": "stream",
          "text": [
            "Language: Arabic      Data loaded: sample data      sample_size: 256      c: 0.01      seed: 2022\n",
            "\n",
            " F1 macro score for test: 0.622141849443303\n",
            "\n",
            " F1 macro score for val: 0.6423099300208346\n",
            "\n",
            " Accuracy for test: 0.674933569530558\n",
            "\n",
            " Accuracy for val: 0.7023026315789473\n"
          ],
          "name": "stdout"
        },
        {
          "output_type": "stream",
          "text": [
            "/usr/local/lib/python3.6/dist-packages/sklearn/utils/validation.py:760: DataConversionWarning: A column-vector y was passed when a 1d array was expected. Please change the shape of y to (n_samples, ), for example using ravel().\n",
            "  y = column_or_1d(y, warn=True)\n"
          ],
          "name": "stderr"
        },
        {
          "output_type": "stream",
          "text": [
            "Language: Arabic      Data loaded: sample data      sample_size: 256      c: 0.1      seed: 2018\n",
            "\n",
            " F1 macro score for test: 0.7042954426401257\n",
            "\n",
            " F1 macro score for val: 0.7196376377466731\n",
            "\n",
            " Accuracy for test: 0.7697077059344553\n",
            "\n",
            " Accuracy for val: 0.7911184210526315\n"
          ],
          "name": "stdout"
        },
        {
          "output_type": "stream",
          "text": [
            "/usr/local/lib/python3.6/dist-packages/sklearn/utils/validation.py:760: DataConversionWarning: A column-vector y was passed when a 1d array was expected. Please change the shape of y to (n_samples, ), for example using ravel().\n",
            "  y = column_or_1d(y, warn=True)\n"
          ],
          "name": "stderr"
        },
        {
          "output_type": "stream",
          "text": [
            "Language: Arabic      Data loaded: sample data      sample_size: 256      c: 0.1      seed: 2019\n",
            "\n",
            " F1 macro score for test: 0.6817327570005639\n",
            "\n",
            " F1 macro score for val: 0.679153430277868\n",
            "\n",
            " Accuracy for test: 0.7449069973427812\n",
            "\n",
            " Accuracy for val: 0.7516447368421053\n"
          ],
          "name": "stdout"
        },
        {
          "output_type": "stream",
          "text": [
            "/usr/local/lib/python3.6/dist-packages/sklearn/utils/validation.py:760: DataConversionWarning: A column-vector y was passed when a 1d array was expected. Please change the shape of y to (n_samples, ), for example using ravel().\n",
            "  y = column_or_1d(y, warn=True)\n"
          ],
          "name": "stderr"
        },
        {
          "output_type": "stream",
          "text": [
            "Language: Arabic      Data loaded: sample data      sample_size: 256      c: 0.1      seed: 2020\n",
            "\n",
            " F1 macro score for test: 0.6689274032858379\n",
            "\n",
            " F1 macro score for val: 0.6967351558119455\n",
            "\n",
            " Accuracy for test: 0.7236492471213464\n",
            "\n",
            " Accuracy for val: 0.7615131578947368\n"
          ],
          "name": "stdout"
        },
        {
          "output_type": "stream",
          "text": [
            "/usr/local/lib/python3.6/dist-packages/sklearn/utils/validation.py:760: DataConversionWarning: A column-vector y was passed when a 1d array was expected. Please change the shape of y to (n_samples, ), for example using ravel().\n",
            "  y = column_or_1d(y, warn=True)\n"
          ],
          "name": "stderr"
        },
        {
          "output_type": "stream",
          "text": [
            "Language: Arabic      Data loaded: sample data      sample_size: 256      c: 0.1      seed: 2021\n",
            "\n",
            " F1 macro score for test: 0.7228945234131557\n",
            "\n",
            " F1 macro score for val: 0.7679461615154537\n",
            "\n",
            " Accuracy for test: 0.7962798937112489\n",
            "\n",
            " Accuracy for val: 0.8388157894736842\n"
          ],
          "name": "stdout"
        },
        {
          "output_type": "stream",
          "text": [
            "/usr/local/lib/python3.6/dist-packages/sklearn/utils/validation.py:760: DataConversionWarning: A column-vector y was passed when a 1d array was expected. Please change the shape of y to (n_samples, ), for example using ravel().\n",
            "  y = column_or_1d(y, warn=True)\n"
          ],
          "name": "stderr"
        },
        {
          "output_type": "stream",
          "text": [
            "Language: Arabic      Data loaded: sample data      sample_size: 256      c: 0.1      seed: 2022\n",
            "\n",
            " F1 macro score for test: 0.628488065988066\n",
            "\n",
            " F1 macro score for val: 0.650734147630474\n",
            "\n",
            " Accuracy for test: 0.6811337466784765\n",
            "\n",
            " Accuracy for val: 0.712171052631579\n"
          ],
          "name": "stdout"
        },
        {
          "output_type": "stream",
          "text": [
            "/usr/local/lib/python3.6/dist-packages/sklearn/utils/validation.py:760: DataConversionWarning: A column-vector y was passed when a 1d array was expected. Please change the shape of y to (n_samples, ), for example using ravel().\n",
            "  y = column_or_1d(y, warn=True)\n"
          ],
          "name": "stderr"
        },
        {
          "output_type": "stream",
          "text": [
            "Language: Arabic      Data loaded: sample data      sample_size: 256      c: 1      seed: 2018\n",
            "\n",
            " F1 macro score for test: 0.7394119720674142\n",
            "\n",
            " F1 macro score for val: 0.7519192407664874\n",
            "\n",
            " Accuracy for test: 0.8051372896368467\n",
            "\n",
            " Accuracy for val: 0.8223684210526315\n"
          ],
          "name": "stdout"
        },
        {
          "output_type": "stream",
          "text": [
            "/usr/local/lib/python3.6/dist-packages/sklearn/utils/validation.py:760: DataConversionWarning: A column-vector y was passed when a 1d array was expected. Please change the shape of y to (n_samples, ), for example using ravel().\n",
            "  y = column_or_1d(y, warn=True)\n"
          ],
          "name": "stderr"
        },
        {
          "output_type": "stream",
          "text": [
            "Language: Arabic      Data loaded: sample data      sample_size: 256      c: 1      seed: 2019\n",
            "\n",
            " F1 macro score for test: 0.7237181561024977\n",
            "\n",
            " F1 macro score for val: 0.7444013952484292\n",
            "\n",
            " Accuracy for test: 0.7909654561558902\n",
            "\n",
            " Accuracy for val: 0.8174342105263158\n"
          ],
          "name": "stdout"
        },
        {
          "output_type": "stream",
          "text": [
            "/usr/local/lib/python3.6/dist-packages/sklearn/utils/validation.py:760: DataConversionWarning: A column-vector y was passed when a 1d array was expected. Please change the shape of y to (n_samples, ), for example using ravel().\n",
            "  y = column_or_1d(y, warn=True)\n"
          ],
          "name": "stderr"
        },
        {
          "output_type": "stream",
          "text": [
            "Language: Arabic      Data loaded: sample data      sample_size: 256      c: 1      seed: 2020\n",
            "\n",
            " F1 macro score for test: 0.7217372128319215\n",
            "\n",
            " F1 macro score for val: 0.749447257429326\n",
            "\n",
            " Accuracy for test: 0.7812223206377326\n",
            "\n",
            " Accuracy for val: 0.8108552631578947\n"
          ],
          "name": "stdout"
        },
        {
          "output_type": "stream",
          "text": [
            "/usr/local/lib/python3.6/dist-packages/sklearn/utils/validation.py:760: DataConversionWarning: A column-vector y was passed when a 1d array was expected. Please change the shape of y to (n_samples, ), for example using ravel().\n",
            "  y = column_or_1d(y, warn=True)\n"
          ],
          "name": "stderr"
        },
        {
          "output_type": "stream",
          "text": [
            "Language: Arabic      Data loaded: sample data      sample_size: 256      c: 1      seed: 2021\n",
            "\n",
            " F1 macro score for test: 0.7593776641091219\n",
            "\n",
            " F1 macro score for val: 0.7916251246261217\n",
            "\n",
            " Accuracy for test: 0.8317094774136404\n",
            "\n",
            " Accuracy for val: 0.8552631578947368\n"
          ],
          "name": "stdout"
        },
        {
          "output_type": "stream",
          "text": [
            "/usr/local/lib/python3.6/dist-packages/sklearn/utils/validation.py:760: DataConversionWarning: A column-vector y was passed when a 1d array was expected. Please change the shape of y to (n_samples, ), for example using ravel().\n",
            "  y = column_or_1d(y, warn=True)\n"
          ],
          "name": "stderr"
        },
        {
          "output_type": "stream",
          "text": [
            "Language: Arabic      Data loaded: sample data      sample_size: 256      c: 1      seed: 2022\n",
            "\n",
            " F1 macro score for test: 0.6899280934784779\n",
            "\n",
            " F1 macro score for val: 0.6966872936855848\n",
            "\n",
            " Accuracy for test: 0.7466784765279008\n",
            "\n",
            " Accuracy for val: 0.7680921052631579\n"
          ],
          "name": "stdout"
        },
        {
          "output_type": "stream",
          "text": [
            "/usr/local/lib/python3.6/dist-packages/sklearn/utils/validation.py:760: DataConversionWarning: A column-vector y was passed when a 1d array was expected. Please change the shape of y to (n_samples, ), for example using ravel().\n",
            "  y = column_or_1d(y, warn=True)\n"
          ],
          "name": "stderr"
        },
        {
          "output_type": "stream",
          "text": [
            "Language: Arabic      Data loaded: sample data      sample_size: 256      c: 10      seed: 2018\n",
            "\n",
            " F1 macro score for test: 0.7698344000133683\n",
            "\n",
            " F1 macro score for val: 0.7912409277654775\n",
            "\n",
            " Accuracy for test: 0.8379096545615589\n",
            "\n",
            " Accuracy for val: 0.8569078947368421\n"
          ],
          "name": "stdout"
        },
        {
          "output_type": "stream",
          "text": [
            "/usr/local/lib/python3.6/dist-packages/sklearn/utils/validation.py:760: DataConversionWarning: A column-vector y was passed when a 1d array was expected. Please change the shape of y to (n_samples, ), for example using ravel().\n",
            "  y = column_or_1d(y, warn=True)\n"
          ],
          "name": "stderr"
        },
        {
          "output_type": "stream",
          "text": [
            "Language: Arabic      Data loaded: sample data      sample_size: 256      c: 10      seed: 2019\n",
            "\n",
            " F1 macro score for test: 0.766079324928175\n",
            "\n",
            " F1 macro score for val: 0.7986586285454379\n",
            "\n",
            " Accuracy for test: 0.8343666961913198\n",
            "\n",
            " Accuracy for val: 0.8634868421052632\n"
          ],
          "name": "stdout"
        },
        {
          "output_type": "stream",
          "text": [
            "/usr/local/lib/python3.6/dist-packages/sklearn/utils/validation.py:760: DataConversionWarning: A column-vector y was passed when a 1d array was expected. Please change the shape of y to (n_samples, ), for example using ravel().\n",
            "  y = column_or_1d(y, warn=True)\n"
          ],
          "name": "stderr"
        },
        {
          "output_type": "stream",
          "text": [
            "Language: Arabic      Data loaded: sample data      sample_size: 256      c: 10      seed: 2020\n",
            "\n",
            " F1 macro score for test: 0.7520096258617126\n",
            "\n",
            " F1 macro score for val: 0.8069641921330564\n",
            "\n",
            " Accuracy for test: 0.8201948627103631\n",
            "\n",
            " Accuracy for val: 0.8634868421052632\n"
          ],
          "name": "stdout"
        },
        {
          "output_type": "stream",
          "text": [
            "/usr/local/lib/python3.6/dist-packages/sklearn/utils/validation.py:760: DataConversionWarning: A column-vector y was passed when a 1d array was expected. Please change the shape of y to (n_samples, ), for example using ravel().\n",
            "  y = column_or_1d(y, warn=True)\n"
          ],
          "name": "stderr"
        },
        {
          "output_type": "stream",
          "text": [
            "Language: Arabic      Data loaded: sample data      sample_size: 256      c: 10      seed: 2021\n",
            "\n",
            " F1 macro score for test: 0.76671488030227\n",
            "\n",
            " F1 macro score for val: 0.7967914438502675\n",
            "\n",
            " Accuracy for test: 0.8449955713020372\n",
            "\n",
            " Accuracy for val: 0.8618421052631579\n"
          ],
          "name": "stdout"
        },
        {
          "output_type": "stream",
          "text": [
            "/usr/local/lib/python3.6/dist-packages/sklearn/utils/validation.py:760: DataConversionWarning: A column-vector y was passed when a 1d array was expected. Please change the shape of y to (n_samples, ), for example using ravel().\n",
            "  y = column_or_1d(y, warn=True)\n"
          ],
          "name": "stderr"
        },
        {
          "output_type": "stream",
          "text": [
            "Language: Arabic      Data loaded: sample data      sample_size: 256      c: 10      seed: 2022\n",
            "\n",
            " F1 macro score for test: 0.7349098333124504\n",
            "\n",
            " F1 macro score for val: 0.7697524701346095\n",
            "\n",
            " Accuracy for test: 0.8024800708591674\n",
            "\n",
            " Accuracy for val: 0.837171052631579\n"
          ],
          "name": "stdout"
        },
        {
          "output_type": "stream",
          "text": [
            "/usr/local/lib/python3.6/dist-packages/sklearn/utils/validation.py:760: DataConversionWarning: A column-vector y was passed when a 1d array was expected. Please change the shape of y to (n_samples, ), for example using ravel().\n",
            "  y = column_or_1d(y, warn=True)\n"
          ],
          "name": "stderr"
        },
        {
          "output_type": "stream",
          "text": [
            "Language: Arabic       data loaded: whole data      c: 0.01      seed: 2018\n",
            "\n",
            " F1 macro score for test: 0.7032490663151618\n",
            "\n",
            " F1 macro score for val: 0.7213337833756729\n",
            "\n",
            " Accuracy for test: 0.7626217891939769\n",
            "\n",
            " Accuracy for val: 0.787828947368421\n"
          ],
          "name": "stdout"
        },
        {
          "output_type": "stream",
          "text": [
            "/usr/local/lib/python3.6/dist-packages/sklearn/utils/validation.py:760: DataConversionWarning: A column-vector y was passed when a 1d array was expected. Please change the shape of y to (n_samples, ), for example using ravel().\n",
            "  y = column_or_1d(y, warn=True)\n"
          ],
          "name": "stderr"
        },
        {
          "output_type": "stream",
          "text": [
            "Language: Arabic       data loaded: whole data      c: 0.01      seed: 2019\n",
            "\n",
            " F1 macro score for test: 0.7032490663151618\n",
            "\n",
            " F1 macro score for val: 0.7213337833756729\n",
            "\n",
            " Accuracy for test: 0.7626217891939769\n",
            "\n",
            " Accuracy for val: 0.787828947368421\n"
          ],
          "name": "stdout"
        },
        {
          "output_type": "stream",
          "text": [
            "/usr/local/lib/python3.6/dist-packages/sklearn/utils/validation.py:760: DataConversionWarning: A column-vector y was passed when a 1d array was expected. Please change the shape of y to (n_samples, ), for example using ravel().\n",
            "  y = column_or_1d(y, warn=True)\n"
          ],
          "name": "stderr"
        },
        {
          "output_type": "stream",
          "text": [
            "Language: Arabic       data loaded: whole data      c: 0.01      seed: 2020\n",
            "\n",
            " F1 macro score for test: 0.7032490663151618\n",
            "\n",
            " F1 macro score for val: 0.7213337833756729\n",
            "\n",
            " Accuracy for test: 0.7626217891939769\n",
            "\n",
            " Accuracy for val: 0.787828947368421\n"
          ],
          "name": "stdout"
        },
        {
          "output_type": "stream",
          "text": [
            "/usr/local/lib/python3.6/dist-packages/sklearn/utils/validation.py:760: DataConversionWarning: A column-vector y was passed when a 1d array was expected. Please change the shape of y to (n_samples, ), for example using ravel().\n",
            "  y = column_or_1d(y, warn=True)\n"
          ],
          "name": "stderr"
        },
        {
          "output_type": "stream",
          "text": [
            "Language: Arabic       data loaded: whole data      c: 0.01      seed: 2021\n",
            "\n",
            " F1 macro score for test: 0.7032490663151618\n",
            "\n",
            " F1 macro score for val: 0.7213337833756729\n",
            "\n",
            " Accuracy for test: 0.7626217891939769\n",
            "\n",
            " Accuracy for val: 0.787828947368421\n"
          ],
          "name": "stdout"
        },
        {
          "output_type": "stream",
          "text": [
            "/usr/local/lib/python3.6/dist-packages/sklearn/utils/validation.py:760: DataConversionWarning: A column-vector y was passed when a 1d array was expected. Please change the shape of y to (n_samples, ), for example using ravel().\n",
            "  y = column_or_1d(y, warn=True)\n"
          ],
          "name": "stderr"
        },
        {
          "output_type": "stream",
          "text": [
            "Language: Arabic       data loaded: whole data      c: 0.01      seed: 2022\n",
            "\n",
            " F1 macro score for test: 0.7032490663151618\n",
            "\n",
            " F1 macro score for val: 0.7213337833756729\n",
            "\n",
            " Accuracy for test: 0.7626217891939769\n",
            "\n",
            " Accuracy for val: 0.787828947368421\n"
          ],
          "name": "stdout"
        },
        {
          "output_type": "stream",
          "text": [
            "/usr/local/lib/python3.6/dist-packages/sklearn/utils/validation.py:760: DataConversionWarning: A column-vector y was passed when a 1d array was expected. Please change the shape of y to (n_samples, ), for example using ravel().\n",
            "  y = column_or_1d(y, warn=True)\n"
          ],
          "name": "stderr"
        },
        {
          "output_type": "stream",
          "text": [
            "Language: Arabic       data loaded: whole data      c: 0.1      seed: 2018\n",
            "\n",
            " F1 macro score for test: 0.7527352939635434\n",
            "\n",
            " F1 macro score for val: 0.784786952632881\n",
            "\n",
            " Accuracy for test: 0.8148804251550045\n",
            "\n",
            " Accuracy for val: 0.8470394736842105\n"
          ],
          "name": "stdout"
        },
        {
          "output_type": "stream",
          "text": [
            "/usr/local/lib/python3.6/dist-packages/sklearn/utils/validation.py:760: DataConversionWarning: A column-vector y was passed when a 1d array was expected. Please change the shape of y to (n_samples, ), for example using ravel().\n",
            "  y = column_or_1d(y, warn=True)\n"
          ],
          "name": "stderr"
        },
        {
          "output_type": "stream",
          "text": [
            "Language: Arabic       data loaded: whole data      c: 0.1      seed: 2019\n",
            "\n",
            " F1 macro score for test: 0.7527352939635434\n",
            "\n",
            " F1 macro score for val: 0.784786952632881\n",
            "\n",
            " Accuracy for test: 0.8148804251550045\n",
            "\n",
            " Accuracy for val: 0.8470394736842105\n"
          ],
          "name": "stdout"
        },
        {
          "output_type": "stream",
          "text": [
            "/usr/local/lib/python3.6/dist-packages/sklearn/utils/validation.py:760: DataConversionWarning: A column-vector y was passed when a 1d array was expected. Please change the shape of y to (n_samples, ), for example using ravel().\n",
            "  y = column_or_1d(y, warn=True)\n"
          ],
          "name": "stderr"
        },
        {
          "output_type": "stream",
          "text": [
            "Language: Arabic       data loaded: whole data      c: 0.1      seed: 2020\n",
            "\n",
            " F1 macro score for test: 0.7527352939635434\n",
            "\n",
            " F1 macro score for val: 0.784786952632881\n",
            "\n",
            " Accuracy for test: 0.8148804251550045\n",
            "\n",
            " Accuracy for val: 0.8470394736842105\n"
          ],
          "name": "stdout"
        },
        {
          "output_type": "stream",
          "text": [
            "/usr/local/lib/python3.6/dist-packages/sklearn/utils/validation.py:760: DataConversionWarning: A column-vector y was passed when a 1d array was expected. Please change the shape of y to (n_samples, ), for example using ravel().\n",
            "  y = column_or_1d(y, warn=True)\n"
          ],
          "name": "stderr"
        },
        {
          "output_type": "stream",
          "text": [
            "Language: Arabic       data loaded: whole data      c: 0.1      seed: 2021\n",
            "\n",
            " F1 macro score for test: 0.7527352939635434\n",
            "\n",
            " F1 macro score for val: 0.784786952632881\n",
            "\n",
            " Accuracy for test: 0.8148804251550045\n",
            "\n",
            " Accuracy for val: 0.8470394736842105\n"
          ],
          "name": "stdout"
        },
        {
          "output_type": "stream",
          "text": [
            "/usr/local/lib/python3.6/dist-packages/sklearn/utils/validation.py:760: DataConversionWarning: A column-vector y was passed when a 1d array was expected. Please change the shape of y to (n_samples, ), for example using ravel().\n",
            "  y = column_or_1d(y, warn=True)\n"
          ],
          "name": "stderr"
        },
        {
          "output_type": "stream",
          "text": [
            "Language: Arabic       data loaded: whole data      c: 0.1      seed: 2022\n",
            "\n",
            " F1 macro score for test: 0.7527352939635434\n",
            "\n",
            " F1 macro score for val: 0.784786952632881\n",
            "\n",
            " Accuracy for test: 0.8148804251550045\n",
            "\n",
            " Accuracy for val: 0.8470394736842105\n"
          ],
          "name": "stdout"
        },
        {
          "output_type": "stream",
          "text": [
            "/usr/local/lib/python3.6/dist-packages/sklearn/utils/validation.py:760: DataConversionWarning: A column-vector y was passed when a 1d array was expected. Please change the shape of y to (n_samples, ), for example using ravel().\n",
            "  y = column_or_1d(y, warn=True)\n"
          ],
          "name": "stderr"
        },
        {
          "output_type": "stream",
          "text": [
            "Language: Arabic       data loaded: whole data      c: 1      seed: 2018\n",
            "\n",
            " F1 macro score for test: 0.7800089783904998\n",
            "\n",
            " F1 macro score for val: 0.8088079642895492\n",
            "\n",
            " Accuracy for test: 0.8396811337466785\n",
            "\n",
            " Accuracy for val: 0.8651315789473685\n"
          ],
          "name": "stdout"
        },
        {
          "output_type": "stream",
          "text": [
            "/usr/local/lib/python3.6/dist-packages/sklearn/utils/validation.py:760: DataConversionWarning: A column-vector y was passed when a 1d array was expected. Please change the shape of y to (n_samples, ), for example using ravel().\n",
            "  y = column_or_1d(y, warn=True)\n"
          ],
          "name": "stderr"
        },
        {
          "output_type": "stream",
          "text": [
            "Language: Arabic       data loaded: whole data      c: 1      seed: 2019\n",
            "\n",
            " F1 macro score for test: 0.7800089783904998\n",
            "\n",
            " F1 macro score for val: 0.8088079642895492\n",
            "\n",
            " Accuracy for test: 0.8396811337466785\n",
            "\n",
            " Accuracy for val: 0.8651315789473685\n"
          ],
          "name": "stdout"
        },
        {
          "output_type": "stream",
          "text": [
            "/usr/local/lib/python3.6/dist-packages/sklearn/utils/validation.py:760: DataConversionWarning: A column-vector y was passed when a 1d array was expected. Please change the shape of y to (n_samples, ), for example using ravel().\n",
            "  y = column_or_1d(y, warn=True)\n"
          ],
          "name": "stderr"
        },
        {
          "output_type": "stream",
          "text": [
            "Language: Arabic       data loaded: whole data      c: 1      seed: 2020\n",
            "\n",
            " F1 macro score for test: 0.7800089783904998\n",
            "\n",
            " F1 macro score for val: 0.8088079642895492\n",
            "\n",
            " Accuracy for test: 0.8396811337466785\n",
            "\n",
            " Accuracy for val: 0.8651315789473685\n"
          ],
          "name": "stdout"
        },
        {
          "output_type": "stream",
          "text": [
            "/usr/local/lib/python3.6/dist-packages/sklearn/utils/validation.py:760: DataConversionWarning: A column-vector y was passed when a 1d array was expected. Please change the shape of y to (n_samples, ), for example using ravel().\n",
            "  y = column_or_1d(y, warn=True)\n"
          ],
          "name": "stderr"
        },
        {
          "output_type": "stream",
          "text": [
            "Language: Arabic       data loaded: whole data      c: 1      seed: 2021\n",
            "\n",
            " F1 macro score for test: 0.7800089783904998\n",
            "\n",
            " F1 macro score for val: 0.8088079642895492\n",
            "\n",
            " Accuracy for test: 0.8396811337466785\n",
            "\n",
            " Accuracy for val: 0.8651315789473685\n"
          ],
          "name": "stdout"
        },
        {
          "output_type": "stream",
          "text": [
            "/usr/local/lib/python3.6/dist-packages/sklearn/utils/validation.py:760: DataConversionWarning: A column-vector y was passed when a 1d array was expected. Please change the shape of y to (n_samples, ), for example using ravel().\n",
            "  y = column_or_1d(y, warn=True)\n"
          ],
          "name": "stderr"
        },
        {
          "output_type": "stream",
          "text": [
            "Language: Arabic       data loaded: whole data      c: 1      seed: 2022\n",
            "\n",
            " F1 macro score for test: 0.7800089783904998\n",
            "\n",
            " F1 macro score for val: 0.8088079642895492\n",
            "\n",
            " Accuracy for test: 0.8396811337466785\n",
            "\n",
            " Accuracy for val: 0.8651315789473685\n"
          ],
          "name": "stdout"
        },
        {
          "output_type": "stream",
          "text": [
            "/usr/local/lib/python3.6/dist-packages/sklearn/utils/validation.py:760: DataConversionWarning: A column-vector y was passed when a 1d array was expected. Please change the shape of y to (n_samples, ), for example using ravel().\n",
            "  y = column_or_1d(y, warn=True)\n",
            "/usr/local/lib/python3.6/dist-packages/sklearn/linear_model/_logistic.py:940: ConvergenceWarning: lbfgs failed to converge (status=1):\n",
            "STOP: TOTAL NO. of ITERATIONS REACHED LIMIT.\n",
            "\n",
            "Increase the number of iterations (max_iter) or scale the data as shown in:\n",
            "    https://scikit-learn.org/stable/modules/preprocessing.html\n",
            "Please also refer to the documentation for alternative solver options:\n",
            "    https://scikit-learn.org/stable/modules/linear_model.html#logistic-regression\n",
            "  extra_warning_msg=_LOGISTIC_SOLVER_CONVERGENCE_MSG)\n"
          ],
          "name": "stderr"
        },
        {
          "output_type": "stream",
          "text": [
            "Language: Arabic       data loaded: whole data      c: 10      seed: 2018\n",
            "\n",
            " F1 macro score for test: 0.7882486094942439\n",
            "\n",
            " F1 macro score for val: 0.805128205128205\n",
            "\n",
            " Accuracy for test: 0.845881310894597\n",
            "\n",
            " Accuracy for val: 0.8618421052631579\n"
          ],
          "name": "stdout"
        },
        {
          "output_type": "stream",
          "text": [
            "/usr/local/lib/python3.6/dist-packages/sklearn/utils/validation.py:760: DataConversionWarning: A column-vector y was passed when a 1d array was expected. Please change the shape of y to (n_samples, ), for example using ravel().\n",
            "  y = column_or_1d(y, warn=True)\n",
            "/usr/local/lib/python3.6/dist-packages/sklearn/linear_model/_logistic.py:940: ConvergenceWarning: lbfgs failed to converge (status=1):\n",
            "STOP: TOTAL NO. of ITERATIONS REACHED LIMIT.\n",
            "\n",
            "Increase the number of iterations (max_iter) or scale the data as shown in:\n",
            "    https://scikit-learn.org/stable/modules/preprocessing.html\n",
            "Please also refer to the documentation for alternative solver options:\n",
            "    https://scikit-learn.org/stable/modules/linear_model.html#logistic-regression\n",
            "  extra_warning_msg=_LOGISTIC_SOLVER_CONVERGENCE_MSG)\n"
          ],
          "name": "stderr"
        },
        {
          "output_type": "stream",
          "text": [
            "Language: Arabic       data loaded: whole data      c: 10      seed: 2019\n",
            "\n",
            " F1 macro score for test: 0.7882486094942439\n",
            "\n",
            " F1 macro score for val: 0.805128205128205\n",
            "\n",
            " Accuracy for test: 0.845881310894597\n",
            "\n",
            " Accuracy for val: 0.8618421052631579\n"
          ],
          "name": "stdout"
        },
        {
          "output_type": "stream",
          "text": [
            "/usr/local/lib/python3.6/dist-packages/sklearn/utils/validation.py:760: DataConversionWarning: A column-vector y was passed when a 1d array was expected. Please change the shape of y to (n_samples, ), for example using ravel().\n",
            "  y = column_or_1d(y, warn=True)\n",
            "/usr/local/lib/python3.6/dist-packages/sklearn/linear_model/_logistic.py:940: ConvergenceWarning: lbfgs failed to converge (status=1):\n",
            "STOP: TOTAL NO. of ITERATIONS REACHED LIMIT.\n",
            "\n",
            "Increase the number of iterations (max_iter) or scale the data as shown in:\n",
            "    https://scikit-learn.org/stable/modules/preprocessing.html\n",
            "Please also refer to the documentation for alternative solver options:\n",
            "    https://scikit-learn.org/stable/modules/linear_model.html#logistic-regression\n",
            "  extra_warning_msg=_LOGISTIC_SOLVER_CONVERGENCE_MSG)\n"
          ],
          "name": "stderr"
        },
        {
          "output_type": "stream",
          "text": [
            "Language: Arabic       data loaded: whole data      c: 10      seed: 2020\n",
            "\n",
            " F1 macro score for test: 0.7882486094942439\n",
            "\n",
            " F1 macro score for val: 0.805128205128205\n",
            "\n",
            " Accuracy for test: 0.845881310894597\n",
            "\n",
            " Accuracy for val: 0.8618421052631579\n"
          ],
          "name": "stdout"
        },
        {
          "output_type": "stream",
          "text": [
            "/usr/local/lib/python3.6/dist-packages/sklearn/utils/validation.py:760: DataConversionWarning: A column-vector y was passed when a 1d array was expected. Please change the shape of y to (n_samples, ), for example using ravel().\n",
            "  y = column_or_1d(y, warn=True)\n",
            "/usr/local/lib/python3.6/dist-packages/sklearn/linear_model/_logistic.py:940: ConvergenceWarning: lbfgs failed to converge (status=1):\n",
            "STOP: TOTAL NO. of ITERATIONS REACHED LIMIT.\n",
            "\n",
            "Increase the number of iterations (max_iter) or scale the data as shown in:\n",
            "    https://scikit-learn.org/stable/modules/preprocessing.html\n",
            "Please also refer to the documentation for alternative solver options:\n",
            "    https://scikit-learn.org/stable/modules/linear_model.html#logistic-regression\n",
            "  extra_warning_msg=_LOGISTIC_SOLVER_CONVERGENCE_MSG)\n"
          ],
          "name": "stderr"
        },
        {
          "output_type": "stream",
          "text": [
            "Language: Arabic       data loaded: whole data      c: 10      seed: 2021\n",
            "\n",
            " F1 macro score for test: 0.7882486094942439\n",
            "\n",
            " F1 macro score for val: 0.805128205128205\n",
            "\n",
            " Accuracy for test: 0.845881310894597\n",
            "\n",
            " Accuracy for val: 0.8618421052631579\n"
          ],
          "name": "stdout"
        },
        {
          "output_type": "stream",
          "text": [
            "/usr/local/lib/python3.6/dist-packages/sklearn/utils/validation.py:760: DataConversionWarning: A column-vector y was passed when a 1d array was expected. Please change the shape of y to (n_samples, ), for example using ravel().\n",
            "  y = column_or_1d(y, warn=True)\n",
            "/usr/local/lib/python3.6/dist-packages/sklearn/linear_model/_logistic.py:940: ConvergenceWarning: lbfgs failed to converge (status=1):\n",
            "STOP: TOTAL NO. of ITERATIONS REACHED LIMIT.\n",
            "\n",
            "Increase the number of iterations (max_iter) or scale the data as shown in:\n",
            "    https://scikit-learn.org/stable/modules/preprocessing.html\n",
            "Please also refer to the documentation for alternative solver options:\n",
            "    https://scikit-learn.org/stable/modules/linear_model.html#logistic-regression\n",
            "  extra_warning_msg=_LOGISTIC_SOLVER_CONVERGENCE_MSG)\n"
          ],
          "name": "stderr"
        },
        {
          "output_type": "stream",
          "text": [
            "Language: Arabic       data loaded: whole data      c: 10      seed: 2022\n",
            "\n",
            " F1 macro score for test: 0.7882486094942439\n",
            "\n",
            " F1 macro score for val: 0.805128205128205\n",
            "\n",
            " Accuracy for test: 0.845881310894597\n",
            "\n",
            " Accuracy for val: 0.8618421052631579\n"
          ],
          "name": "stdout"
        },
        {
          "output_type": "stream",
          "text": [
            "/usr/local/lib/python3.6/dist-packages/sklearn/utils/validation.py:760: DataConversionWarning: A column-vector y was passed when a 1d array was expected. Please change the shape of y to (n_samples, ), for example using ravel().\n",
            "  y = column_or_1d(y, warn=True)\n"
          ],
          "name": "stderr"
        },
        {
          "output_type": "stream",
          "text": [
            "Language: English      Data loaded: sample data      sample_size: 16      c: 0.01      seed: 2018\n",
            "\n",
            " F1 macro score for test: 0.48556375450163713\n",
            "\n",
            " F1 macro score for val: 0.4880574812652614\n",
            "\n",
            " Accuracy for test: 0.7770211110030159\n",
            "\n",
            " Accuracy for val: 0.7803071364046974\n"
          ],
          "name": "stdout"
        },
        {
          "output_type": "stream",
          "text": [
            "/usr/local/lib/python3.6/dist-packages/sklearn/utils/validation.py:760: DataConversionWarning: A column-vector y was passed when a 1d array was expected. Please change the shape of y to (n_samples, ), for example using ravel().\n",
            "  y = column_or_1d(y, warn=True)\n"
          ],
          "name": "stderr"
        },
        {
          "output_type": "stream",
          "text": [
            "Language: English      Data loaded: sample data      sample_size: 16      c: 0.01      seed: 2019\n",
            "\n",
            " F1 macro score for test: 0.4974702614231474\n",
            "\n",
            " F1 macro score for val: 0.4967024628663306\n",
            "\n",
            " Accuracy for test: 0.7583422511917501\n",
            "\n",
            " Accuracy for val: 0.7581752484191508\n"
          ],
          "name": "stdout"
        },
        {
          "output_type": "stream",
          "text": [
            "/usr/local/lib/python3.6/dist-packages/sklearn/utils/validation.py:760: DataConversionWarning: A column-vector y was passed when a 1d array was expected. Please change the shape of y to (n_samples, ), for example using ravel().\n",
            "  y = column_or_1d(y, warn=True)\n"
          ],
          "name": "stderr"
        },
        {
          "output_type": "stream",
          "text": [
            "Language: English      Data loaded: sample data      sample_size: 16      c: 0.01      seed: 2020\n",
            "\n",
            " F1 macro score for test: 0.4644530585189528\n",
            "\n",
            " F1 macro score for val: 0.4681831087393224\n",
            "\n",
            " Accuracy for test: 0.7951648993092714\n",
            "\n",
            " Accuracy for val: 0.7953026196928636\n"
          ],
          "name": "stdout"
        },
        {
          "output_type": "stream",
          "text": [
            "/usr/local/lib/python3.6/dist-packages/sklearn/utils/validation.py:760: DataConversionWarning: A column-vector y was passed when a 1d array was expected. Please change the shape of y to (n_samples, ), for example using ravel().\n",
            "  y = column_or_1d(y, warn=True)\n"
          ],
          "name": "stderr"
        },
        {
          "output_type": "stream",
          "text": [
            "Language: English      Data loaded: sample data      sample_size: 16      c: 0.01      seed: 2021\n",
            "\n",
            " F1 macro score for test: 0.4755362205843481\n",
            "\n",
            " F1 macro score for val: 0.48292426726788273\n",
            "\n",
            " Accuracy for test: 0.7818853974121996\n",
            "\n",
            " Accuracy for val: 0.7839205058717253\n"
          ],
          "name": "stdout"
        },
        {
          "output_type": "stream",
          "text": [
            "/usr/local/lib/python3.6/dist-packages/sklearn/utils/validation.py:760: DataConversionWarning: A column-vector y was passed when a 1d array was expected. Please change the shape of y to (n_samples, ), for example using ravel().\n",
            "  y = column_or_1d(y, warn=True)\n"
          ],
          "name": "stderr"
        },
        {
          "output_type": "stream",
          "text": [
            "Language: English      Data loaded: sample data      sample_size: 16      c: 0.01      seed: 2022\n",
            "\n",
            " F1 macro score for test: 0.47194912498587205\n",
            "\n",
            " F1 macro score for val: 0.46811345010445127\n",
            "\n",
            " Accuracy for test: 0.7852417550345364\n",
            "\n",
            " Accuracy for val: 0.7839205058717253\n"
          ],
          "name": "stdout"
        },
        {
          "output_type": "stream",
          "text": [
            "/usr/local/lib/python3.6/dist-packages/sklearn/utils/validation.py:760: DataConversionWarning: A column-vector y was passed when a 1d array was expected. Please change the shape of y to (n_samples, ), for example using ravel().\n",
            "  y = column_or_1d(y, warn=True)\n"
          ],
          "name": "stderr"
        },
        {
          "output_type": "stream",
          "text": [
            "Language: English      Data loaded: sample data      sample_size: 16      c: 0.1      seed: 2018\n",
            "\n",
            " F1 macro score for test: 0.484644790768897\n",
            "\n",
            " F1 macro score for val: 0.4892523476181396\n",
            "\n",
            " Accuracy for test: 0.7786263255180464\n",
            "\n",
            " Accuracy for val: 0.7825654923215899\n"
          ],
          "name": "stdout"
        },
        {
          "output_type": "stream",
          "text": [
            "/usr/local/lib/python3.6/dist-packages/sklearn/utils/validation.py:760: DataConversionWarning: A column-vector y was passed when a 1d array was expected. Please change the shape of y to (n_samples, ), for example using ravel().\n",
            "  y = column_or_1d(y, warn=True)\n"
          ],
          "name": "stderr"
        },
        {
          "output_type": "stream",
          "text": [
            "Language: English      Data loaded: sample data      sample_size: 16      c: 0.1      seed: 2019\n",
            "\n",
            " F1 macro score for test: 0.4797943834393699\n",
            "\n",
            " F1 macro score for val: 0.4814245189600167\n",
            "\n",
            " Accuracy for test: 0.7803774686253526\n",
            "\n",
            " Accuracy for val: 0.7809394760614273\n"
          ],
          "name": "stdout"
        },
        {
          "output_type": "stream",
          "text": [
            "/usr/local/lib/python3.6/dist-packages/sklearn/utils/validation.py:760: DataConversionWarning: A column-vector y was passed when a 1d array was expected. Please change the shape of y to (n_samples, ), for example using ravel().\n",
            "  y = column_or_1d(y, warn=True)\n"
          ],
          "name": "stderr"
        },
        {
          "output_type": "stream",
          "text": [
            "Language: English      Data loaded: sample data      sample_size: 16      c: 0.1      seed: 2020\n",
            "\n",
            " F1 macro score for test: 0.4657136299016705\n",
            "\n",
            " F1 macro score for val: 0.46802749764084317\n",
            "\n",
            " Accuracy for test: 0.7951162564451795\n",
            "\n",
            " Accuracy for val: 0.7949412827461608\n"
          ],
          "name": "stdout"
        },
        {
          "output_type": "stream",
          "text": [
            "/usr/local/lib/python3.6/dist-packages/sklearn/utils/validation.py:760: DataConversionWarning: A column-vector y was passed when a 1d array was expected. Please change the shape of y to (n_samples, ), for example using ravel().\n",
            "  y = column_or_1d(y, warn=True)\n"
          ],
          "name": "stderr"
        },
        {
          "output_type": "stream",
          "text": [
            "Language: English      Data loaded: sample data      sample_size: 16      c: 0.1      seed: 2021\n",
            "\n",
            " F1 macro score for test: 0.4765415118289912\n",
            "\n",
            " F1 macro score for val: 0.4830365986683456\n",
            "\n",
            " Accuracy for test: 0.7816421830917405\n",
            "\n",
            " Accuracy for val: 0.7834688346883469\n"
          ],
          "name": "stdout"
        },
        {
          "output_type": "stream",
          "text": [
            "/usr/local/lib/python3.6/dist-packages/sklearn/utils/validation.py:760: DataConversionWarning: A column-vector y was passed when a 1d array was expected. Please change the shape of y to (n_samples, ), for example using ravel().\n",
            "  y = column_or_1d(y, warn=True)\n"
          ],
          "name": "stderr"
        },
        {
          "output_type": "stream",
          "text": [
            "Language: English      Data loaded: sample data      sample_size: 16      c: 0.1      seed: 2022\n",
            "\n",
            " F1 macro score for test: 0.4713245167997846\n",
            "\n",
            " F1 macro score for val: 0.4660726842863163\n",
            "\n",
            " Accuracy for test: 0.7855822550831792\n",
            "\n",
            " Accuracy for val: 0.7842818428184282\n"
          ],
          "name": "stdout"
        },
        {
          "output_type": "stream",
          "text": [
            "/usr/local/lib/python3.6/dist-packages/sklearn/utils/validation.py:760: DataConversionWarning: A column-vector y was passed when a 1d array was expected. Please change the shape of y to (n_samples, ), for example using ravel().\n",
            "  y = column_or_1d(y, warn=True)\n"
          ],
          "name": "stderr"
        },
        {
          "output_type": "stream",
          "text": [
            "Language: English      Data loaded: sample data      sample_size: 16      c: 1      seed: 2018\n",
            "\n",
            " F1 macro score for test: 0.4831352222879979\n",
            "\n",
            " F1 macro score for val: 0.4878286069540238\n",
            "\n",
            " Accuracy for test: 0.7812530401790058\n",
            "\n",
            " Accuracy for val: 0.785546522131888\n"
          ],
          "name": "stdout"
        },
        {
          "output_type": "stream",
          "text": [
            "/usr/local/lib/python3.6/dist-packages/sklearn/utils/validation.py:760: DataConversionWarning: A column-vector y was passed when a 1d array was expected. Please change the shape of y to (n_samples, ), for example using ravel().\n",
            "  y = column_or_1d(y, warn=True)\n"
          ],
          "name": "stderr"
        },
        {
          "output_type": "stream",
          "text": [
            "Language: English      Data loaded: sample data      sample_size: 16      c: 1      seed: 2019\n",
            "\n",
            " F1 macro score for test: 0.47839832820105327\n",
            "\n",
            " F1 macro score for val: 0.47998159226875287\n",
            "\n",
            " Accuracy for test: 0.7854849693549957\n",
            "\n",
            " Accuracy for val: 0.7856368563685637\n"
          ],
          "name": "stdout"
        },
        {
          "output_type": "stream",
          "text": [
            "/usr/local/lib/python3.6/dist-packages/sklearn/utils/validation.py:760: DataConversionWarning: A column-vector y was passed when a 1d array was expected. Please change the shape of y to (n_samples, ), for example using ravel().\n",
            "  y = column_or_1d(y, warn=True)\n"
          ],
          "name": "stderr"
        },
        {
          "output_type": "stream",
          "text": [
            "Language: English      Data loaded: sample data      sample_size: 16      c: 1      seed: 2020\n",
            "\n",
            " F1 macro score for test: 0.46425895571908204\n",
            "\n",
            " F1 macro score for val: 0.46790750590722174\n",
            "\n",
            " Accuracy for test: 0.7952135421733632\n",
            "\n",
            " Accuracy for val: 0.7955736224028906\n"
          ],
          "name": "stdout"
        },
        {
          "output_type": "stream",
          "text": [
            "/usr/local/lib/python3.6/dist-packages/sklearn/utils/validation.py:760: DataConversionWarning: A column-vector y was passed when a 1d array was expected. Please change the shape of y to (n_samples, ), for example using ravel().\n",
            "  y = column_or_1d(y, warn=True)\n"
          ],
          "name": "stderr"
        },
        {
          "output_type": "stream",
          "text": [
            "Language: English      Data loaded: sample data      sample_size: 16      c: 1      seed: 2021\n",
            "\n",
            " F1 macro score for test: 0.47635464419113616\n",
            "\n",
            " F1 macro score for val: 0.48406448105128935\n",
            "\n",
            " Accuracy for test: 0.7824204689172098\n",
            "\n",
            " Accuracy for val: 0.7848238482384824\n"
          ],
          "name": "stdout"
        },
        {
          "output_type": "stream",
          "text": [
            "/usr/local/lib/python3.6/dist-packages/sklearn/utils/validation.py:760: DataConversionWarning: A column-vector y was passed when a 1d array was expected. Please change the shape of y to (n_samples, ), for example using ravel().\n",
            "  y = column_or_1d(y, warn=True)\n"
          ],
          "name": "stderr"
        },
        {
          "output_type": "stream",
          "text": [
            "Language: English      Data loaded: sample data      sample_size: 16      c: 1      seed: 2022\n",
            "\n",
            " F1 macro score for test: 0.4716263083820336\n",
            "\n",
            " F1 macro score for val: 0.46713624733754294\n",
            "\n",
            " Accuracy for test: 0.785387683626812\n",
            "\n",
            " Accuracy for val: 0.7841915085817525\n"
          ],
          "name": "stdout"
        },
        {
          "output_type": "stream",
          "text": [
            "/usr/local/lib/python3.6/dist-packages/sklearn/utils/validation.py:760: DataConversionWarning: A column-vector y was passed when a 1d array was expected. Please change the shape of y to (n_samples, ), for example using ravel().\n",
            "  y = column_or_1d(y, warn=True)\n"
          ],
          "name": "stderr"
        },
        {
          "output_type": "stream",
          "text": [
            "Language: English      Data loaded: sample data      sample_size: 16      c: 10      seed: 2018\n",
            "\n",
            " F1 macro score for test: 0.4759070799078068\n",
            "\n",
            " F1 macro score for val: 0.4800053632620943\n",
            "\n",
            " Accuracy for test: 0.7883062554723222\n",
            "\n",
            " Accuracy for val: 0.7915085817524842\n"
          ],
          "name": "stdout"
        },
        {
          "output_type": "stream",
          "text": [
            "/usr/local/lib/python3.6/dist-packages/sklearn/utils/validation.py:760: DataConversionWarning: A column-vector y was passed when a 1d array was expected. Please change the shape of y to (n_samples, ), for example using ravel().\n",
            "  y = column_or_1d(y, warn=True)\n"
          ],
          "name": "stderr"
        },
        {
          "output_type": "stream",
          "text": [
            "Language: English      Data loaded: sample data      sample_size: 16      c: 10      seed: 2019\n",
            "\n",
            " F1 macro score for test: 0.4684249335757591\n",
            "\n",
            " F1 macro score for val: 0.4739509530925784\n",
            "\n",
            " Accuracy for test: 0.7994941142134449\n",
            "\n",
            " Accuracy for val: 0.8003613369467028\n"
          ],
          "name": "stdout"
        },
        {
          "output_type": "stream",
          "text": [
            "/usr/local/lib/python3.6/dist-packages/sklearn/utils/validation.py:760: DataConversionWarning: A column-vector y was passed when a 1d array was expected. Please change the shape of y to (n_samples, ), for example using ravel().\n",
            "  y = column_or_1d(y, warn=True)\n"
          ],
          "name": "stderr"
        },
        {
          "output_type": "stream",
          "text": [
            "Language: English      Data loaded: sample data      sample_size: 16      c: 10      seed: 2020\n",
            "\n",
            " F1 macro score for test: 0.46263532338904434\n",
            "\n",
            " F1 macro score for val: 0.46410173120739523\n",
            "\n",
            " Accuracy for test: 0.7965268995038428\n",
            "\n",
            " Accuracy for val: 0.7969286359530262\n"
          ],
          "name": "stdout"
        },
        {
          "output_type": "stream",
          "text": [
            "/usr/local/lib/python3.6/dist-packages/sklearn/utils/validation.py:760: DataConversionWarning: A column-vector y was passed when a 1d array was expected. Please change the shape of y to (n_samples, ), for example using ravel().\n",
            "  y = column_or_1d(y, warn=True)\n"
          ],
          "name": "stderr"
        },
        {
          "output_type": "stream",
          "text": [
            "Language: English      Data loaded: sample data      sample_size: 16      c: 10      seed: 2021\n",
            "\n",
            " F1 macro score for test: 0.47204708626914954\n",
            "\n",
            " F1 macro score for val: 0.4809161839401536\n",
            "\n",
            " Accuracy for test: 0.7846093978013425\n",
            "\n",
            " Accuracy for val: 0.7875338753387534\n"
          ],
          "name": "stdout"
        },
        {
          "output_type": "stream",
          "text": [
            "/usr/local/lib/python3.6/dist-packages/sklearn/utils/validation.py:760: DataConversionWarning: A column-vector y was passed when a 1d array was expected. Please change the shape of y to (n_samples, ), for example using ravel().\n",
            "  y = column_or_1d(y, warn=True)\n"
          ],
          "name": "stderr"
        },
        {
          "output_type": "stream",
          "text": [
            "Language: English      Data loaded: sample data      sample_size: 16      c: 10      seed: 2022\n",
            "\n",
            " F1 macro score for test: 0.47217794549784614\n",
            "\n",
            " F1 macro score for val: 0.4677417607273759\n",
            "\n",
            " Accuracy for test: 0.7861659694522813\n",
            "\n",
            " Accuracy for val: 0.7847335140018067\n"
          ],
          "name": "stdout"
        },
        {
          "output_type": "stream",
          "text": [
            "/usr/local/lib/python3.6/dist-packages/sklearn/utils/validation.py:760: DataConversionWarning: A column-vector y was passed when a 1d array was expected. Please change the shape of y to (n_samples, ), for example using ravel().\n",
            "  y = column_or_1d(y, warn=True)\n"
          ],
          "name": "stderr"
        },
        {
          "output_type": "stream",
          "text": [
            "Language: English      Data loaded: sample data      sample_size: 32      c: 0.01      seed: 2018\n",
            "\n",
            " F1 macro score for test: 0.5190492319162003\n",
            "\n",
            " F1 macro score for val: 0.5195718897806998\n",
            "\n",
            " Accuracy for test: 0.7800369685767098\n",
            "\n",
            " Accuracy for val: 0.7804878048780488\n"
          ],
          "name": "stdout"
        },
        {
          "output_type": "stream",
          "text": [
            "/usr/local/lib/python3.6/dist-packages/sklearn/utils/validation.py:760: DataConversionWarning: A column-vector y was passed when a 1d array was expected. Please change the shape of y to (n_samples, ), for example using ravel().\n",
            "  y = column_or_1d(y, warn=True)\n"
          ],
          "name": "stderr"
        },
        {
          "output_type": "stream",
          "text": [
            "Language: English      Data loaded: sample data      sample_size: 32      c: 0.01      seed: 2019\n",
            "\n",
            " F1 macro score for test: 0.5138376910168103\n",
            "\n",
            " F1 macro score for val: 0.5153967380428257\n",
            "\n",
            " Accuracy for test: 0.695738885105555\n",
            "\n",
            " Accuracy for val: 0.6990063233965673\n"
          ],
          "name": "stdout"
        },
        {
          "output_type": "stream",
          "text": [
            "/usr/local/lib/python3.6/dist-packages/sklearn/utils/validation.py:760: DataConversionWarning: A column-vector y was passed when a 1d array was expected. Please change the shape of y to (n_samples, ), for example using ravel().\n",
            "  y = column_or_1d(y, warn=True)\n"
          ],
          "name": "stderr"
        },
        {
          "output_type": "stream",
          "text": [
            "Language: English      Data loaded: sample data      sample_size: 32      c: 0.01      seed: 2020\n",
            "\n",
            " F1 macro score for test: 0.5201430929918054\n",
            "\n",
            " F1 macro score for val: 0.5068823389661468\n",
            "\n",
            " Accuracy for test: 0.7855822550831792\n",
            "\n",
            " Accuracy for val: 0.781029810298103\n"
          ],
          "name": "stdout"
        },
        {
          "output_type": "stream",
          "text": [
            "/usr/local/lib/python3.6/dist-packages/sklearn/utils/validation.py:760: DataConversionWarning: A column-vector y was passed when a 1d array was expected. Please change the shape of y to (n_samples, ), for example using ravel().\n",
            "  y = column_or_1d(y, warn=True)\n"
          ],
          "name": "stderr"
        },
        {
          "output_type": "stream",
          "text": [
            "Language: English      Data loaded: sample data      sample_size: 32      c: 0.01      seed: 2021\n",
            "\n",
            " F1 macro score for test: 0.535505307123527\n",
            "\n",
            " F1 macro score for val: 0.5382328264454119\n",
            "\n",
            " Accuracy for test: 0.7542562506080358\n",
            "\n",
            " Accuracy for val: 0.7551942186088527\n"
          ],
          "name": "stdout"
        },
        {
          "output_type": "stream",
          "text": [
            "/usr/local/lib/python3.6/dist-packages/sklearn/utils/validation.py:760: DataConversionWarning: A column-vector y was passed when a 1d array was expected. Please change the shape of y to (n_samples, ), for example using ravel().\n",
            "  y = column_or_1d(y, warn=True)\n"
          ],
          "name": "stderr"
        },
        {
          "output_type": "stream",
          "text": [
            "Language: English      Data loaded: sample data      sample_size: 32      c: 0.01      seed: 2022\n",
            "\n",
            " F1 macro score for test: 0.5253103719872284\n",
            "\n",
            " F1 macro score for val: 0.5227343255469269\n",
            "\n",
            " Accuracy for test: 0.7964782566397509\n",
            "\n",
            " Accuracy for val: 0.798193315266486\n"
          ],
          "name": "stdout"
        },
        {
          "output_type": "stream",
          "text": [
            "/usr/local/lib/python3.6/dist-packages/sklearn/utils/validation.py:760: DataConversionWarning: A column-vector y was passed when a 1d array was expected. Please change the shape of y to (n_samples, ), for example using ravel().\n",
            "  y = column_or_1d(y, warn=True)\n"
          ],
          "name": "stderr"
        },
        {
          "output_type": "stream",
          "text": [
            "Language: English      Data loaded: sample data      sample_size: 32      c: 0.1      seed: 2018\n",
            "\n",
            " F1 macro score for test: 0.5172949549881771\n",
            "\n",
            " F1 macro score for val: 0.518965830570352\n",
            "\n",
            " Accuracy for test: 0.7803774686253526\n",
            "\n",
            " Accuracy for val: 0.78130081300813\n"
          ],
          "name": "stdout"
        },
        {
          "output_type": "stream",
          "text": [
            "/usr/local/lib/python3.6/dist-packages/sklearn/utils/validation.py:760: DataConversionWarning: A column-vector y was passed when a 1d array was expected. Please change the shape of y to (n_samples, ), for example using ravel().\n",
            "  y = column_or_1d(y, warn=True)\n"
          ],
          "name": "stderr"
        },
        {
          "output_type": "stream",
          "text": [
            "Language: English      Data loaded: sample data      sample_size: 32      c: 0.1      seed: 2019\n",
            "\n",
            " F1 macro score for test: 0.51315306227127\n",
            "\n",
            " F1 macro score for val: 0.5139821613154165\n",
            "\n",
            " Accuracy for test: 0.7007977429711061\n",
            "\n",
            " Accuracy for val: 0.7022583559168925\n"
          ],
          "name": "stdout"
        },
        {
          "output_type": "stream",
          "text": [
            "/usr/local/lib/python3.6/dist-packages/sklearn/utils/validation.py:760: DataConversionWarning: A column-vector y was passed when a 1d array was expected. Please change the shape of y to (n_samples, ), for example using ravel().\n",
            "  y = column_or_1d(y, warn=True)\n"
          ],
          "name": "stderr"
        },
        {
          "output_type": "stream",
          "text": [
            "Language: English      Data loaded: sample data      sample_size: 32      c: 0.1      seed: 2020\n",
            "\n",
            " F1 macro score for test: 0.5202031993547428\n",
            "\n",
            " F1 macro score for val: 0.5054525429209008\n",
            "\n",
            " Accuracy for test: 0.7871388267341181\n",
            "\n",
            " Accuracy for val: 0.7816621499548329\n"
          ],
          "name": "stdout"
        },
        {
          "output_type": "stream",
          "text": [
            "/usr/local/lib/python3.6/dist-packages/sklearn/utils/validation.py:760: DataConversionWarning: A column-vector y was passed when a 1d array was expected. Please change the shape of y to (n_samples, ), for example using ravel().\n",
            "  y = column_or_1d(y, warn=True)\n"
          ],
          "name": "stderr"
        },
        {
          "output_type": "stream",
          "text": [
            "Language: English      Data loaded: sample data      sample_size: 32      c: 0.1      seed: 2021\n",
            "\n",
            " F1 macro score for test: 0.5351355996483117\n",
            "\n",
            " F1 macro score for val: 0.5375548731800548\n",
            "\n",
            " Accuracy for test: 0.7544021792003113\n",
            "\n",
            " Accuracy for val: 0.7554652213188798\n"
          ],
          "name": "stdout"
        },
        {
          "output_type": "stream",
          "text": [
            "/usr/local/lib/python3.6/dist-packages/sklearn/utils/validation.py:760: DataConversionWarning: A column-vector y was passed when a 1d array was expected. Please change the shape of y to (n_samples, ), for example using ravel().\n",
            "  y = column_or_1d(y, warn=True)\n"
          ],
          "name": "stderr"
        },
        {
          "output_type": "stream",
          "text": [
            "Language: English      Data loaded: sample data      sample_size: 32      c: 0.1      seed: 2022\n",
            "\n",
            " F1 macro score for test: 0.5245862886255399\n",
            "\n",
            " F1 macro score for val: 0.5213538532358182\n",
            "\n",
            " Accuracy for test: 0.7968673995524856\n",
            "\n",
            " Accuracy for val: 0.7984643179765131\n"
          ],
          "name": "stdout"
        },
        {
          "output_type": "stream",
          "text": [
            "/usr/local/lib/python3.6/dist-packages/sklearn/utils/validation.py:760: DataConversionWarning: A column-vector y was passed when a 1d array was expected. Please change the shape of y to (n_samples, ), for example using ravel().\n",
            "  y = column_or_1d(y, warn=True)\n"
          ],
          "name": "stderr"
        },
        {
          "output_type": "stream",
          "text": [
            "Language: English      Data loaded: sample data      sample_size: 32      c: 1      seed: 2018\n",
            "\n",
            " F1 macro score for test: 0.5158446725601221\n",
            "\n",
            " F1 macro score for val: 0.5170847297323026\n",
            "\n",
            " Accuracy for test: 0.7819826831403833\n",
            "\n",
            " Accuracy for val: 0.7832881662149955\n"
          ],
          "name": "stdout"
        },
        {
          "output_type": "stream",
          "text": [
            "/usr/local/lib/python3.6/dist-packages/sklearn/utils/validation.py:760: DataConversionWarning: A column-vector y was passed when a 1d array was expected. Please change the shape of y to (n_samples, ), for example using ravel().\n",
            "  y = column_or_1d(y, warn=True)\n"
          ],
          "name": "stderr"
        },
        {
          "output_type": "stream",
          "text": [
            "Language: English      Data loaded: sample data      sample_size: 32      c: 1      seed: 2019\n",
            "\n",
            " F1 macro score for test: 0.5149406840610896\n",
            "\n",
            " F1 macro score for val: 0.517613269088519\n",
            "\n",
            " Accuracy for test: 0.7217628173946882\n",
            "\n",
            " Accuracy for val: 0.7258355916892503\n"
          ],
          "name": "stdout"
        },
        {
          "output_type": "stream",
          "text": [
            "/usr/local/lib/python3.6/dist-packages/sklearn/utils/validation.py:760: DataConversionWarning: A column-vector y was passed when a 1d array was expected. Please change the shape of y to (n_samples, ), for example using ravel().\n",
            "  y = column_or_1d(y, warn=True)\n"
          ],
          "name": "stderr"
        },
        {
          "output_type": "stream",
          "text": [
            "Language: English      Data loaded: sample data      sample_size: 32      c: 1      seed: 2020\n",
            "\n",
            " F1 macro score for test: 0.5184730088361038\n",
            "\n",
            " F1 macro score for val: 0.5043450010420527\n",
            "\n",
            " Accuracy for test: 0.7868956124136589\n",
            "\n",
            " Accuracy for val: 0.7818428184281843\n"
          ],
          "name": "stdout"
        },
        {
          "output_type": "stream",
          "text": [
            "/usr/local/lib/python3.6/dist-packages/sklearn/utils/validation.py:760: DataConversionWarning: A column-vector y was passed when a 1d array was expected. Please change the shape of y to (n_samples, ), for example using ravel().\n",
            "  y = column_or_1d(y, warn=True)\n"
          ],
          "name": "stderr"
        },
        {
          "output_type": "stream",
          "text": [
            "Language: English      Data loaded: sample data      sample_size: 32      c: 1      seed: 2021\n",
            "\n",
            " F1 macro score for test: 0.5332760986511177\n",
            "\n",
            " F1 macro score for val: 0.5348711409720182\n",
            "\n",
            " Accuracy for test: 0.7572721081817297\n",
            "\n",
            " Accuracy for val: 0.7586269196025294\n"
          ],
          "name": "stdout"
        },
        {
          "output_type": "stream",
          "text": [
            "/usr/local/lib/python3.6/dist-packages/sklearn/utils/validation.py:760: DataConversionWarning: A column-vector y was passed when a 1d array was expected. Please change the shape of y to (n_samples, ), for example using ravel().\n",
            "  y = column_or_1d(y, warn=True)\n"
          ],
          "name": "stderr"
        },
        {
          "output_type": "stream",
          "text": [
            "Language: English      Data loaded: sample data      sample_size: 32      c: 1      seed: 2022\n",
            "\n",
            " F1 macro score for test: 0.5237654182305818\n",
            "\n",
            " F1 macro score for val: 0.5204376975789277\n",
            "\n",
            " Accuracy for test: 0.7968673995524856\n",
            "\n",
            " Accuracy for val: 0.7980126467931346\n"
          ],
          "name": "stdout"
        },
        {
          "output_type": "stream",
          "text": [
            "/usr/local/lib/python3.6/dist-packages/sklearn/utils/validation.py:760: DataConversionWarning: A column-vector y was passed when a 1d array was expected. Please change the shape of y to (n_samples, ), for example using ravel().\n",
            "  y = column_or_1d(y, warn=True)\n"
          ],
          "name": "stderr"
        },
        {
          "output_type": "stream",
          "text": [
            "Language: English      Data loaded: sample data      sample_size: 32      c: 10      seed: 2018\n",
            "\n",
            " F1 macro score for test: 0.5077166180670932\n",
            "\n",
            " F1 macro score for val: 0.5008769123262339\n",
            "\n",
            " Accuracy for test: 0.7902033271719039\n",
            "\n",
            " Accuracy for val: 0.7894308943089431\n"
          ],
          "name": "stdout"
        },
        {
          "output_type": "stream",
          "text": [
            "/usr/local/lib/python3.6/dist-packages/sklearn/utils/validation.py:760: DataConversionWarning: A column-vector y was passed when a 1d array was expected. Please change the shape of y to (n_samples, ), for example using ravel().\n",
            "  y = column_or_1d(y, warn=True)\n"
          ],
          "name": "stderr"
        },
        {
          "output_type": "stream",
          "text": [
            "Language: English      Data loaded: sample data      sample_size: 32      c: 10      seed: 2019\n",
            "\n",
            " F1 macro score for test: 0.5054888316689261\n",
            "\n",
            " F1 macro score for val: 0.5102363374783014\n",
            "\n",
            " Accuracy for test: 0.777604825372118\n",
            "\n",
            " Accuracy for val: 0.7816621499548329\n"
          ],
          "name": "stdout"
        },
        {
          "output_type": "stream",
          "text": [
            "/usr/local/lib/python3.6/dist-packages/sklearn/utils/validation.py:760: DataConversionWarning: A column-vector y was passed when a 1d array was expected. Please change the shape of y to (n_samples, ), for example using ravel().\n",
            "  y = column_or_1d(y, warn=True)\n"
          ],
          "name": "stderr"
        },
        {
          "output_type": "stream",
          "text": [
            "Language: English      Data loaded: sample data      sample_size: 32      c: 10      seed: 2020\n",
            "\n",
            " F1 macro score for test: 0.5050886364261606\n",
            "\n",
            " F1 macro score for val: 0.49775846808963314\n",
            "\n",
            " Accuracy for test: 0.788063041151863\n",
            "\n",
            " Accuracy for val: 0.7856368563685637\n"
          ],
          "name": "stdout"
        },
        {
          "output_type": "stream",
          "text": [
            "/usr/local/lib/python3.6/dist-packages/sklearn/utils/validation.py:760: DataConversionWarning: A column-vector y was passed when a 1d array was expected. Please change the shape of y to (n_samples, ), for example using ravel().\n",
            "  y = column_or_1d(y, warn=True)\n"
          ],
          "name": "stderr"
        },
        {
          "output_type": "stream",
          "text": [
            "Language: English      Data loaded: sample data      sample_size: 32      c: 10      seed: 2021\n",
            "\n",
            " F1 macro score for test: 0.5189135163535865\n",
            "\n",
            " F1 macro score for val: 0.5262652460873427\n",
            "\n",
            " Accuracy for test: 0.7735674676524954\n",
            "\n",
            " Accuracy for val: 0.7749774164408311\n"
          ],
          "name": "stdout"
        },
        {
          "output_type": "stream",
          "text": [
            "/usr/local/lib/python3.6/dist-packages/sklearn/utils/validation.py:760: DataConversionWarning: A column-vector y was passed when a 1d array was expected. Please change the shape of y to (n_samples, ), for example using ravel().\n",
            "  y = column_or_1d(y, warn=True)\n"
          ],
          "name": "stderr"
        },
        {
          "output_type": "stream",
          "text": [
            "Language: English      Data loaded: sample data      sample_size: 32      c: 10      seed: 2022\n",
            "\n",
            " F1 macro score for test: 0.5153679745320702\n",
            "\n",
            " F1 macro score for val: 0.5172557809401105\n",
            "\n",
            " Accuracy for test: 0.7968673995524856\n",
            "\n",
            " Accuracy for val: 0.8\n"
          ],
          "name": "stdout"
        },
        {
          "output_type": "stream",
          "text": [
            "/usr/local/lib/python3.6/dist-packages/sklearn/utils/validation.py:760: DataConversionWarning: A column-vector y was passed when a 1d array was expected. Please change the shape of y to (n_samples, ), for example using ravel().\n",
            "  y = column_or_1d(y, warn=True)\n"
          ],
          "name": "stderr"
        },
        {
          "output_type": "stream",
          "text": [
            "Language: English      Data loaded: sample data      sample_size: 64      c: 0.01      seed: 2018\n",
            "\n",
            " F1 macro score for test: 0.5618198324578649\n",
            "\n",
            " F1 macro score for val: 0.56768084720307\n",
            "\n",
            " Accuracy for test: 0.7642766806109543\n",
            "\n",
            " Accuracy for val: 0.7685636856368564\n"
          ],
          "name": "stdout"
        },
        {
          "output_type": "stream",
          "text": [
            "/usr/local/lib/python3.6/dist-packages/sklearn/utils/validation.py:760: DataConversionWarning: A column-vector y was passed when a 1d array was expected. Please change the shape of y to (n_samples, ), for example using ravel().\n",
            "  y = column_or_1d(y, warn=True)\n"
          ],
          "name": "stderr"
        },
        {
          "output_type": "stream",
          "text": [
            "Language: English      Data loaded: sample data      sample_size: 64      c: 0.01      seed: 2019\n",
            "\n",
            " F1 macro score for test: 0.5462888115406412\n",
            "\n",
            " F1 macro score for val: 0.5445285710091221\n",
            "\n",
            " Accuracy for test: 0.69004767000681\n",
            "\n",
            " Accuracy for val: 0.6921409214092141\n"
          ],
          "name": "stdout"
        },
        {
          "output_type": "stream",
          "text": [
            "/usr/local/lib/python3.6/dist-packages/sklearn/utils/validation.py:760: DataConversionWarning: A column-vector y was passed when a 1d array was expected. Please change the shape of y to (n_samples, ), for example using ravel().\n",
            "  y = column_or_1d(y, warn=True)\n"
          ],
          "name": "stderr"
        },
        {
          "output_type": "stream",
          "text": [
            "Language: English      Data loaded: sample data      sample_size: 64      c: 0.01      seed: 2020\n",
            "\n",
            " F1 macro score for test: 0.5801185162237572\n",
            "\n",
            " F1 macro score for val: 0.5703757458435748\n",
            "\n",
            " Accuracy for test: 0.7696760385251483\n",
            "\n",
            " Accuracy for val: 0.7662149954832882\n"
          ],
          "name": "stdout"
        },
        {
          "output_type": "stream",
          "text": [
            "/usr/local/lib/python3.6/dist-packages/sklearn/utils/validation.py:760: DataConversionWarning: A column-vector y was passed when a 1d array was expected. Please change the shape of y to (n_samples, ), for example using ravel().\n",
            "  y = column_or_1d(y, warn=True)\n"
          ],
          "name": "stderr"
        },
        {
          "output_type": "stream",
          "text": [
            "Language: English      Data loaded: sample data      sample_size: 64      c: 0.01      seed: 2021\n",
            "\n",
            " F1 macro score for test: 0.5614761092150171\n",
            "\n",
            " F1 macro score for val: 0.5650141012132722\n",
            "\n",
            " Accuracy for test: 0.7173849596264228\n",
            "\n",
            " Accuracy for val: 0.71869918699187\n"
          ],
          "name": "stdout"
        },
        {
          "output_type": "stream",
          "text": [
            "/usr/local/lib/python3.6/dist-packages/sklearn/utils/validation.py:760: DataConversionWarning: A column-vector y was passed when a 1d array was expected. Please change the shape of y to (n_samples, ), for example using ravel().\n",
            "  y = column_or_1d(y, warn=True)\n"
          ],
          "name": "stderr"
        },
        {
          "output_type": "stream",
          "text": [
            "Language: English      Data loaded: sample data      sample_size: 64      c: 0.01      seed: 2022\n",
            "\n",
            " F1 macro score for test: 0.5691760906624971\n",
            "\n",
            " F1 macro score for val: 0.5639922435491432\n",
            "\n",
            " Accuracy for test: 0.7908356844050978\n",
            "\n",
            " Accuracy for val: 0.7898825654923216\n"
          ],
          "name": "stdout"
        },
        {
          "output_type": "stream",
          "text": [
            "/usr/local/lib/python3.6/dist-packages/sklearn/utils/validation.py:760: DataConversionWarning: A column-vector y was passed when a 1d array was expected. Please change the shape of y to (n_samples, ), for example using ravel().\n",
            "  y = column_or_1d(y, warn=True)\n"
          ],
          "name": "stderr"
        },
        {
          "output_type": "stream",
          "text": [
            "Language: English      Data loaded: sample data      sample_size: 64      c: 0.1      seed: 2018\n",
            "\n",
            " F1 macro score for test: 0.5608148774752887\n",
            "\n",
            " F1 macro score for val: 0.5666279189490118\n",
            "\n",
            " Accuracy for test: 0.7649576807082401\n",
            "\n",
            " Accuracy for val: 0.7690153568202349\n"
          ],
          "name": "stdout"
        },
        {
          "output_type": "stream",
          "text": [
            "/usr/local/lib/python3.6/dist-packages/sklearn/utils/validation.py:760: DataConversionWarning: A column-vector y was passed when a 1d array was expected. Please change the shape of y to (n_samples, ), for example using ravel().\n",
            "  y = column_or_1d(y, warn=True)\n"
          ],
          "name": "stderr"
        },
        {
          "output_type": "stream",
          "text": [
            "Language: English      Data loaded: sample data      sample_size: 64      c: 0.1      seed: 2019\n",
            "\n",
            " F1 macro score for test: 0.5474566822962945\n",
            "\n",
            " F1 macro score for val: 0.5468159629030354\n",
            "\n",
            " Accuracy for test: 0.6932094561727794\n",
            "\n",
            " Accuracy for val: 0.6971093044263776\n"
          ],
          "name": "stdout"
        },
        {
          "output_type": "stream",
          "text": [
            "/usr/local/lib/python3.6/dist-packages/sklearn/utils/validation.py:760: DataConversionWarning: A column-vector y was passed when a 1d array was expected. Please change the shape of y to (n_samples, ), for example using ravel().\n",
            "  y = column_or_1d(y, warn=True)\n"
          ],
          "name": "stderr"
        },
        {
          "output_type": "stream",
          "text": [
            "Language: English      Data loaded: sample data      sample_size: 64      c: 0.1      seed: 2020\n",
            "\n",
            " F1 macro score for test: 0.580336082990786\n",
            "\n",
            " F1 macro score for val: 0.5696730669094369\n",
            "\n",
            " Accuracy for test: 0.7704543243506178\n",
            "\n",
            " Accuracy for val: 0.7663053297199639\n"
          ],
          "name": "stdout"
        },
        {
          "output_type": "stream",
          "text": [
            "/usr/local/lib/python3.6/dist-packages/sklearn/utils/validation.py:760: DataConversionWarning: A column-vector y was passed when a 1d array was expected. Please change the shape of y to (n_samples, ), for example using ravel().\n",
            "  y = column_or_1d(y, warn=True)\n"
          ],
          "name": "stderr"
        },
        {
          "output_type": "stream",
          "text": [
            "Language: English      Data loaded: sample data      sample_size: 64      c: 0.1      seed: 2021\n",
            "\n",
            " F1 macro score for test: 0.561440754021008\n",
            "\n",
            " F1 macro score for val: 0.5649946029445679\n",
            "\n",
            " Accuracy for test: 0.7178713882673412\n",
            "\n",
            " Accuracy for val: 0.7190605239385727\n"
          ],
          "name": "stdout"
        },
        {
          "output_type": "stream",
          "text": [
            "/usr/local/lib/python3.6/dist-packages/sklearn/utils/validation.py:760: DataConversionWarning: A column-vector y was passed when a 1d array was expected. Please change the shape of y to (n_samples, ), for example using ravel().\n",
            "  y = column_or_1d(y, warn=True)\n"
          ],
          "name": "stderr"
        },
        {
          "output_type": "stream",
          "text": [
            "Language: English      Data loaded: sample data      sample_size: 64      c: 0.1      seed: 2022\n",
            "\n",
            " F1 macro score for test: 0.5695768570897878\n",
            "\n",
            " F1 macro score for val: 0.5639922435491432\n",
            "\n",
            " Accuracy for test: 0.7910302558614651\n",
            "\n",
            " Accuracy for val: 0.7898825654923216\n"
          ],
          "name": "stdout"
        },
        {
          "output_type": "stream",
          "text": [
            "/usr/local/lib/python3.6/dist-packages/sklearn/utils/validation.py:760: DataConversionWarning: A column-vector y was passed when a 1d array was expected. Please change the shape of y to (n_samples, ), for example using ravel().\n",
            "  y = column_or_1d(y, warn=True)\n"
          ],
          "name": "stderr"
        },
        {
          "output_type": "stream",
          "text": [
            "Language: English      Data loaded: sample data      sample_size: 64      c: 1      seed: 2018\n",
            "\n",
            " F1 macro score for test: 0.5582843161782023\n",
            "\n",
            " F1 macro score for val: 0.5616356102552112\n",
            "\n",
            " Accuracy for test: 0.7687031812433116\n",
            "\n",
            " Accuracy for val: 0.7713640469738031\n"
          ],
          "name": "stdout"
        },
        {
          "output_type": "stream",
          "text": [
            "/usr/local/lib/python3.6/dist-packages/sklearn/utils/validation.py:760: DataConversionWarning: A column-vector y was passed when a 1d array was expected. Please change the shape of y to (n_samples, ), for example using ravel().\n",
            "  y = column_or_1d(y, warn=True)\n"
          ],
          "name": "stderr"
        },
        {
          "output_type": "stream",
          "text": [
            "Language: English      Data loaded: sample data      sample_size: 64      c: 1      seed: 2019\n",
            "\n",
            " F1 macro score for test: 0.5540819946238403\n",
            "\n",
            " F1 macro score for val: 0.556435377977149\n",
            "\n",
            " Accuracy for test: 0.7198657456951065\n",
            "\n",
            " Accuracy for val: 0.723215898825655\n"
          ],
          "name": "stdout"
        },
        {
          "output_type": "stream",
          "text": [
            "/usr/local/lib/python3.6/dist-packages/sklearn/utils/validation.py:760: DataConversionWarning: A column-vector y was passed when a 1d array was expected. Please change the shape of y to (n_samples, ), for example using ravel().\n",
            "  y = column_or_1d(y, warn=True)\n"
          ],
          "name": "stderr"
        },
        {
          "output_type": "stream",
          "text": [
            "Language: English      Data loaded: sample data      sample_size: 64      c: 1      seed: 2020\n",
            "\n",
            " F1 macro score for test: 0.5743667208511112\n",
            "\n",
            " F1 macro score for val: 0.5655855389458092\n",
            "\n",
            " Accuracy for test: 0.7760968965852709\n",
            "\n",
            " Accuracy for val: 0.7727190605239386\n"
          ],
          "name": "stdout"
        },
        {
          "output_type": "stream",
          "text": [
            "/usr/local/lib/python3.6/dist-packages/sklearn/utils/validation.py:760: DataConversionWarning: A column-vector y was passed when a 1d array was expected. Please change the shape of y to (n_samples, ), for example using ravel().\n",
            "  y = column_or_1d(y, warn=True)\n"
          ],
          "name": "stderr"
        },
        {
          "output_type": "stream",
          "text": [
            "Language: English      Data loaded: sample data      sample_size: 64      c: 1      seed: 2021\n",
            "\n",
            " F1 macro score for test: 0.5615993392271844\n",
            "\n",
            " F1 macro score for val: 0.5647601251875876\n",
            "\n",
            " Accuracy for test: 0.7237571748224535\n",
            "\n",
            " Accuracy for val: 0.7244805781391147\n"
          ],
          "name": "stdout"
        },
        {
          "output_type": "stream",
          "text": [
            "/usr/local/lib/python3.6/dist-packages/sklearn/utils/validation.py:760: DataConversionWarning: A column-vector y was passed when a 1d array was expected. Please change the shape of y to (n_samples, ), for example using ravel().\n",
            "  y = column_or_1d(y, warn=True)\n"
          ],
          "name": "stderr"
        },
        {
          "output_type": "stream",
          "text": [
            "Language: English      Data loaded: sample data      sample_size: 64      c: 1      seed: 2022\n",
            "\n",
            " F1 macro score for test: 0.5671518571585751\n",
            "\n",
            " F1 macro score for val: 0.5617619002194029\n",
            "\n",
            " Accuracy for test: 0.7917598988228427\n",
            "\n",
            " Accuracy for val: 0.790063233965673\n"
          ],
          "name": "stdout"
        },
        {
          "output_type": "stream",
          "text": [
            "/usr/local/lib/python3.6/dist-packages/sklearn/utils/validation.py:760: DataConversionWarning: A column-vector y was passed when a 1d array was expected. Please change the shape of y to (n_samples, ), for example using ravel().\n",
            "  y = column_or_1d(y, warn=True)\n"
          ],
          "name": "stderr"
        },
        {
          "output_type": "stream",
          "text": [
            "Language: English      Data loaded: sample data      sample_size: 64      c: 10      seed: 2018\n",
            "\n",
            " F1 macro score for test: 0.5367079592049946\n",
            "\n",
            " F1 macro score for val: 0.5330611921282706\n",
            "\n",
            " Accuracy for test: 0.778772254110322\n",
            "\n",
            " Accuracy for val: 0.7777777777777778\n"
          ],
          "name": "stdout"
        },
        {
          "output_type": "stream",
          "text": [
            "/usr/local/lib/python3.6/dist-packages/sklearn/utils/validation.py:760: DataConversionWarning: A column-vector y was passed when a 1d array was expected. Please change the shape of y to (n_samples, ), for example using ravel().\n",
            "  y = column_or_1d(y, warn=True)\n"
          ],
          "name": "stderr"
        },
        {
          "output_type": "stream",
          "text": [
            "Language: English      Data loaded: sample data      sample_size: 64      c: 10      seed: 2019\n",
            "\n",
            " F1 macro score for test: 0.5535756752859808\n",
            "\n",
            " F1 macro score for val: 0.5551153458201411\n",
            "\n",
            " Accuracy for test: 0.7652495378927912\n",
            "\n",
            " Accuracy for val: 0.7694670280036133\n"
          ],
          "name": "stdout"
        },
        {
          "output_type": "stream",
          "text": [
            "/usr/local/lib/python3.6/dist-packages/sklearn/utils/validation.py:760: DataConversionWarning: A column-vector y was passed when a 1d array was expected. Please change the shape of y to (n_samples, ), for example using ravel().\n",
            "  y = column_or_1d(y, warn=True)\n"
          ],
          "name": "stderr"
        },
        {
          "output_type": "stream",
          "text": [
            "Language: English      Data loaded: sample data      sample_size: 64      c: 10      seed: 2020\n",
            "\n",
            " F1 macro score for test: 0.5513182166545678\n",
            "\n",
            " F1 macro score for val: 0.5325359369130908\n",
            "\n",
            " Accuracy for test: 0.7893277556182507\n",
            "\n",
            " Accuracy for val: 0.7847335140018067\n"
          ],
          "name": "stdout"
        },
        {
          "output_type": "stream",
          "text": [
            "/usr/local/lib/python3.6/dist-packages/sklearn/utils/validation.py:760: DataConversionWarning: A column-vector y was passed when a 1d array was expected. Please change the shape of y to (n_samples, ), for example using ravel().\n",
            "  y = column_or_1d(y, warn=True)\n"
          ],
          "name": "stderr"
        },
        {
          "output_type": "stream",
          "text": [
            "Language: English      Data loaded: sample data      sample_size: 64      c: 10      seed: 2021\n",
            "\n",
            " F1 macro score for test: 0.5488969380002028\n",
            "\n",
            " F1 macro score for val: 0.5567911218160108\n",
            "\n",
            " Accuracy for test: 0.7462301780328826\n",
            "\n",
            " Accuracy for val: 0.7496838301716351\n"
          ],
          "name": "stdout"
        },
        {
          "output_type": "stream",
          "text": [
            "/usr/local/lib/python3.6/dist-packages/sklearn/utils/validation.py:760: DataConversionWarning: A column-vector y was passed when a 1d array was expected. Please change the shape of y to (n_samples, ), for example using ravel().\n",
            "  y = column_or_1d(y, warn=True)\n"
          ],
          "name": "stderr"
        },
        {
          "output_type": "stream",
          "text": [
            "Language: English      Data loaded: sample data      sample_size: 64      c: 10      seed: 2022\n",
            "\n",
            " F1 macro score for test: 0.5540914529513644\n",
            "\n",
            " F1 macro score for val: 0.5498764464650086\n",
            "\n",
            " Accuracy for test: 0.7954567564938223\n",
            "\n",
            " Accuracy for val: 0.7934959349593496\n"
          ],
          "name": "stdout"
        },
        {
          "output_type": "stream",
          "text": [
            "/usr/local/lib/python3.6/dist-packages/sklearn/utils/validation.py:760: DataConversionWarning: A column-vector y was passed when a 1d array was expected. Please change the shape of y to (n_samples, ), for example using ravel().\n",
            "  y = column_or_1d(y, warn=True)\n"
          ],
          "name": "stderr"
        },
        {
          "output_type": "stream",
          "text": [
            "Language: English      Data loaded: sample data      sample_size: 128      c: 0.01      seed: 2018\n",
            "\n",
            " F1 macro score for test: 0.5600741551030386\n",
            "\n",
            " F1 macro score for val: 0.564848975480806\n",
            "\n",
            " Accuracy for test: 0.6608619515517073\n",
            "\n",
            " Accuracy for val: 0.6653116531165312\n"
          ],
          "name": "stdout"
        },
        {
          "output_type": "stream",
          "text": [
            "/usr/local/lib/python3.6/dist-packages/sklearn/utils/validation.py:760: DataConversionWarning: A column-vector y was passed when a 1d array was expected. Please change the shape of y to (n_samples, ), for example using ravel().\n",
            "  y = column_or_1d(y, warn=True)\n"
          ],
          "name": "stderr"
        },
        {
          "output_type": "stream",
          "text": [
            "Language: English      Data loaded: sample data      sample_size: 128      c: 0.01      seed: 2019\n",
            "\n",
            " F1 macro score for test: 0.5920983076318411\n",
            "\n",
            " F1 macro score for val: 0.5927127222828797\n",
            "\n",
            " Accuracy for test: 0.699338457048351\n",
            "\n",
            " Accuracy for val: 0.7000903342366757\n"
          ],
          "name": "stdout"
        },
        {
          "output_type": "stream",
          "text": [
            "/usr/local/lib/python3.6/dist-packages/sklearn/utils/validation.py:760: DataConversionWarning: A column-vector y was passed when a 1d array was expected. Please change the shape of y to (n_samples, ), for example using ravel().\n",
            "  y = column_or_1d(y, warn=True)\n"
          ],
          "name": "stderr"
        },
        {
          "output_type": "stream",
          "text": [
            "Language: English      Data loaded: sample data      sample_size: 128      c: 0.01      seed: 2020\n",
            "\n",
            " F1 macro score for test: 0.5215716629474774\n",
            "\n",
            " F1 macro score for val: 0.5225919465851703\n",
            "\n",
            " Accuracy for test: 0.6114408016344003\n",
            "\n",
            " Accuracy for val: 0.6120144534778681\n"
          ],
          "name": "stdout"
        },
        {
          "output_type": "stream",
          "text": [
            "/usr/local/lib/python3.6/dist-packages/sklearn/utils/validation.py:760: DataConversionWarning: A column-vector y was passed when a 1d array was expected. Please change the shape of y to (n_samples, ), for example using ravel().\n",
            "  y = column_or_1d(y, warn=True)\n"
          ],
          "name": "stderr"
        },
        {
          "output_type": "stream",
          "text": [
            "Language: English      Data loaded: sample data      sample_size: 128      c: 0.01      seed: 2021\n",
            "\n",
            " F1 macro score for test: 0.5972576636301394\n",
            "\n",
            " F1 macro score for val: 0.6027651973487509\n",
            "\n",
            " Accuracy for test: 0.7101858157408308\n",
            "\n",
            " Accuracy for val: 0.7157181571815718\n"
          ],
          "name": "stdout"
        },
        {
          "output_type": "stream",
          "text": [
            "/usr/local/lib/python3.6/dist-packages/sklearn/utils/validation.py:760: DataConversionWarning: A column-vector y was passed when a 1d array was expected. Please change the shape of y to (n_samples, ), for example using ravel().\n",
            "  y = column_or_1d(y, warn=True)\n"
          ],
          "name": "stderr"
        },
        {
          "output_type": "stream",
          "text": [
            "Language: English      Data loaded: sample data      sample_size: 128      c: 0.01      seed: 2022\n",
            "\n",
            " F1 macro score for test: 0.5368319136316997\n",
            "\n",
            " F1 macro score for val: 0.5398447107726796\n",
            "\n",
            " Accuracy for test: 0.6469500924214417\n",
            "\n",
            " Accuracy for val: 0.6483288166214995\n"
          ],
          "name": "stdout"
        },
        {
          "output_type": "stream",
          "text": [
            "/usr/local/lib/python3.6/dist-packages/sklearn/utils/validation.py:760: DataConversionWarning: A column-vector y was passed when a 1d array was expected. Please change the shape of y to (n_samples, ), for example using ravel().\n",
            "  y = column_or_1d(y, warn=True)\n"
          ],
          "name": "stderr"
        },
        {
          "output_type": "stream",
          "text": [
            "Language: English      Data loaded: sample data      sample_size: 128      c: 0.1      seed: 2018\n",
            "\n",
            " F1 macro score for test: 0.5649360737355686\n",
            "\n",
            " F1 macro score for val: 0.5698450081086261\n",
            "\n",
            " Accuracy for test: 0.6690339527191361\n",
            "\n",
            " Accuracy for val: 0.6728093947606143\n"
          ],
          "name": "stdout"
        },
        {
          "output_type": "stream",
          "text": [
            "/usr/local/lib/python3.6/dist-packages/sklearn/utils/validation.py:760: DataConversionWarning: A column-vector y was passed when a 1d array was expected. Please change the shape of y to (n_samples, ), for example using ravel().\n",
            "  y = column_or_1d(y, warn=True)\n"
          ],
          "name": "stderr"
        },
        {
          "output_type": "stream",
          "text": [
            "Language: English      Data loaded: sample data      sample_size: 128      c: 0.1      seed: 2019\n",
            "\n",
            " F1 macro score for test: 0.5943212142479501\n",
            "\n",
            " F1 macro score for val: 0.5955096536061759\n",
            "\n",
            " Accuracy for test: 0.7039108862729837\n",
            "\n",
            " Accuracy for val: 0.7050587172538392\n"
          ],
          "name": "stdout"
        },
        {
          "output_type": "stream",
          "text": [
            "/usr/local/lib/python3.6/dist-packages/sklearn/utils/validation.py:760: DataConversionWarning: A column-vector y was passed when a 1d array was expected. Please change the shape of y to (n_samples, ), for example using ravel().\n",
            "  y = column_or_1d(y, warn=True)\n"
          ],
          "name": "stderr"
        },
        {
          "output_type": "stream",
          "text": [
            "Language: English      Data loaded: sample data      sample_size: 128      c: 0.1      seed: 2020\n",
            "\n",
            " F1 macro score for test: 0.5241883318518723\n",
            "\n",
            " F1 macro score for val: 0.5233433689554456\n",
            "\n",
            " Accuracy for test: 0.6151376593053799\n",
            "\n",
            " Accuracy for val: 0.6147244805781391\n"
          ],
          "name": "stdout"
        },
        {
          "output_type": "stream",
          "text": [
            "/usr/local/lib/python3.6/dist-packages/sklearn/utils/validation.py:760: DataConversionWarning: A column-vector y was passed when a 1d array was expected. Please change the shape of y to (n_samples, ), for example using ravel().\n",
            "  y = column_or_1d(y, warn=True)\n"
          ],
          "name": "stderr"
        },
        {
          "output_type": "stream",
          "text": [
            "Language: English      Data loaded: sample data      sample_size: 128      c: 0.1      seed: 2021\n",
            "\n",
            " F1 macro score for test: 0.5978609286489862\n",
            "\n",
            " F1 macro score for val: 0.602633581693233\n",
            "\n",
            " Accuracy for test: 0.7113046016149431\n",
            "\n",
            " Accuracy for val: 0.7166214995483288\n"
          ],
          "name": "stdout"
        },
        {
          "output_type": "stream",
          "text": [
            "/usr/local/lib/python3.6/dist-packages/sklearn/utils/validation.py:760: DataConversionWarning: A column-vector y was passed when a 1d array was expected. Please change the shape of y to (n_samples, ), for example using ravel().\n",
            "  y = column_or_1d(y, warn=True)\n"
          ],
          "name": "stderr"
        },
        {
          "output_type": "stream",
          "text": [
            "Language: English      Data loaded: sample data      sample_size: 128      c: 0.1      seed: 2022\n",
            "\n",
            " F1 macro score for test: 0.538493445509685\n",
            "\n",
            " F1 macro score for val: 0.5406119725750216\n",
            "\n",
            " Accuracy for test: 0.6500632357233194\n",
            "\n",
            " Accuracy for val: 0.6508581752484192\n"
          ],
          "name": "stdout"
        },
        {
          "output_type": "stream",
          "text": [
            "/usr/local/lib/python3.6/dist-packages/sklearn/utils/validation.py:760: DataConversionWarning: A column-vector y was passed when a 1d array was expected. Please change the shape of y to (n_samples, ), for example using ravel().\n",
            "  y = column_or_1d(y, warn=True)\n"
          ],
          "name": "stderr"
        },
        {
          "output_type": "stream",
          "text": [
            "Language: English      Data loaded: sample data      sample_size: 128      c: 1      seed: 2018\n",
            "\n",
            " F1 macro score for test: 0.5860296335382915\n",
            "\n",
            " F1 macro score for val: 0.5901635236691467\n",
            "\n",
            " Accuracy for test: 0.7096021013717287\n",
            "\n",
            " Accuracy for val: 0.7143631436314363\n"
          ],
          "name": "stdout"
        },
        {
          "output_type": "stream",
          "text": [
            "/usr/local/lib/python3.6/dist-packages/sklearn/utils/validation.py:760: DataConversionWarning: A column-vector y was passed when a 1d array was expected. Please change the shape of y to (n_samples, ), for example using ravel().\n",
            "  y = column_or_1d(y, warn=True)\n"
          ],
          "name": "stderr"
        },
        {
          "output_type": "stream",
          "text": [
            "Language: English      Data loaded: sample data      sample_size: 128      c: 1      seed: 2019\n",
            "\n",
            " F1 macro score for test: 0.6036600702498338\n",
            "\n",
            " F1 macro score for val: 0.607662614108626\n",
            "\n",
            " Accuracy for test: 0.7268216752602393\n",
            "\n",
            " Accuracy for val: 0.7315266485998193\n"
          ],
          "name": "stdout"
        },
        {
          "output_type": "stream",
          "text": [
            "/usr/local/lib/python3.6/dist-packages/sklearn/utils/validation.py:760: DataConversionWarning: A column-vector y was passed when a 1d array was expected. Please change the shape of y to (n_samples, ), for example using ravel().\n",
            "  y = column_or_1d(y, warn=True)\n"
          ],
          "name": "stderr"
        },
        {
          "output_type": "stream",
          "text": [
            "Language: English      Data loaded: sample data      sample_size: 128      c: 1      seed: 2020\n",
            "\n",
            " F1 macro score for test: 0.5401143532407483\n",
            "\n",
            " F1 macro score for val: 0.5394842641539328\n",
            "\n",
            " Accuracy for test: 0.6450043778577683\n",
            "\n",
            " Accuracy for val: 0.6448057813911472\n"
          ],
          "name": "stdout"
        },
        {
          "output_type": "stream",
          "text": [
            "/usr/local/lib/python3.6/dist-packages/sklearn/utils/validation.py:760: DataConversionWarning: A column-vector y was passed when a 1d array was expected. Please change the shape of y to (n_samples, ), for example using ravel().\n",
            "  y = column_or_1d(y, warn=True)\n"
          ],
          "name": "stderr"
        },
        {
          "output_type": "stream",
          "text": [
            "Language: English      Data loaded: sample data      sample_size: 128      c: 1      seed: 2021\n",
            "\n",
            " F1 macro score for test: 0.5991860258505228\n",
            "\n",
            " F1 macro score for val: 0.6037162431741625\n",
            "\n",
            " Accuracy for test: 0.7199630314232902\n",
            "\n",
            " Accuracy for val: 0.7251129177958446\n"
          ],
          "name": "stdout"
        },
        {
          "output_type": "stream",
          "text": [
            "/usr/local/lib/python3.6/dist-packages/sklearn/utils/validation.py:760: DataConversionWarning: A column-vector y was passed when a 1d array was expected. Please change the shape of y to (n_samples, ), for example using ravel().\n",
            "  y = column_or_1d(y, warn=True)\n"
          ],
          "name": "stderr"
        },
        {
          "output_type": "stream",
          "text": [
            "Language: English      Data loaded: sample data      sample_size: 128      c: 1      seed: 2022\n",
            "\n",
            " F1 macro score for test: 0.5590967017123166\n",
            "\n",
            " F1 macro score for val: 0.5570403820557439\n",
            "\n",
            " Accuracy for test: 0.6857184551026364\n",
            "\n",
            " Accuracy for val: 0.6850948509485095\n"
          ],
          "name": "stdout"
        },
        {
          "output_type": "stream",
          "text": [
            "/usr/local/lib/python3.6/dist-packages/sklearn/utils/validation.py:760: DataConversionWarning: A column-vector y was passed when a 1d array was expected. Please change the shape of y to (n_samples, ), for example using ravel().\n",
            "  y = column_or_1d(y, warn=True)\n"
          ],
          "name": "stderr"
        },
        {
          "output_type": "stream",
          "text": [
            "Language: English      Data loaded: sample data      sample_size: 128      c: 10      seed: 2018\n",
            "\n",
            " F1 macro score for test: 0.6004729756166804\n",
            "\n",
            " F1 macro score for val: 0.6009598206397757\n",
            "\n",
            " Accuracy for test: 0.7623796089113727\n",
            "\n",
            " Accuracy for val: 0.761156278229449\n"
          ],
          "name": "stdout"
        },
        {
          "output_type": "stream",
          "text": [
            "/usr/local/lib/python3.6/dist-packages/sklearn/utils/validation.py:760: DataConversionWarning: A column-vector y was passed when a 1d array was expected. Please change the shape of y to (n_samples, ), for example using ravel().\n",
            "  y = column_or_1d(y, warn=True)\n"
          ],
          "name": "stderr"
        },
        {
          "output_type": "stream",
          "text": [
            "Language: English      Data loaded: sample data      sample_size: 128      c: 10      seed: 2019\n",
            "\n",
            " F1 macro score for test: 0.6102780060431887\n",
            "\n",
            " F1 macro score for val: 0.6046538651172678\n",
            "\n",
            " Accuracy for test: 0.7592664656094951\n",
            "\n",
            " Accuracy for val: 0.7614272809394761\n"
          ],
          "name": "stdout"
        },
        {
          "output_type": "stream",
          "text": [
            "/usr/local/lib/python3.6/dist-packages/sklearn/utils/validation.py:760: DataConversionWarning: A column-vector y was passed when a 1d array was expected. Please change the shape of y to (n_samples, ), for example using ravel().\n",
            "  y = column_or_1d(y, warn=True)\n"
          ],
          "name": "stderr"
        },
        {
          "output_type": "stream",
          "text": [
            "Language: English      Data loaded: sample data      sample_size: 128      c: 10      seed: 2020\n",
            "\n",
            " F1 macro score for test: 0.5744006099469237\n",
            "\n",
            " F1 macro score for val: 0.5665122901375308\n",
            "\n",
            " Accuracy for test: 0.7444303920614845\n",
            "\n",
            " Accuracy for val: 0.7427280939476062\n"
          ],
          "name": "stdout"
        },
        {
          "output_type": "stream",
          "text": [
            "/usr/local/lib/python3.6/dist-packages/sklearn/utils/validation.py:760: DataConversionWarning: A column-vector y was passed when a 1d array was expected. Please change the shape of y to (n_samples, ), for example using ravel().\n",
            "  y = column_or_1d(y, warn=True)\n"
          ],
          "name": "stderr"
        },
        {
          "output_type": "stream",
          "text": [
            "Language: English      Data loaded: sample data      sample_size: 128      c: 10      seed: 2021\n",
            "\n",
            " F1 macro score for test: 0.5942138901813424\n",
            "\n",
            " F1 macro score for val: 0.5977727694551239\n",
            "\n",
            " Accuracy for test: 0.7472030353147193\n",
            "\n",
            " Accuracy for val: 0.7493224932249323\n"
          ],
          "name": "stdout"
        },
        {
          "output_type": "stream",
          "text": [
            "/usr/local/lib/python3.6/dist-packages/sklearn/utils/validation.py:760: DataConversionWarning: A column-vector y was passed when a 1d array was expected. Please change the shape of y to (n_samples, ), for example using ravel().\n",
            "  y = column_or_1d(y, warn=True)\n"
          ],
          "name": "stderr"
        },
        {
          "output_type": "stream",
          "text": [
            "Language: English      Data loaded: sample data      sample_size: 128      c: 10      seed: 2022\n",
            "\n",
            " F1 macro score for test: 0.5859833155070865\n",
            "\n",
            " F1 macro score for val: 0.5816017291434361\n",
            "\n",
            " Accuracy for test: 0.7633038233291176\n",
            "\n",
            " Accuracy for val: 0.7616079494128275\n"
          ],
          "name": "stdout"
        },
        {
          "output_type": "stream",
          "text": [
            "/usr/local/lib/python3.6/dist-packages/sklearn/utils/validation.py:760: DataConversionWarning: A column-vector y was passed when a 1d array was expected. Please change the shape of y to (n_samples, ), for example using ravel().\n",
            "  y = column_or_1d(y, warn=True)\n"
          ],
          "name": "stderr"
        },
        {
          "output_type": "stream",
          "text": [
            "Language: English      Data loaded: sample data      sample_size: 256      c: 0.01      seed: 2018\n",
            "\n",
            " F1 macro score for test: 0.548484982635329\n",
            "\n",
            " F1 macro score for val: 0.545598604390876\n",
            "\n",
            " Accuracy for test: 0.6145539449362778\n",
            "\n",
            " Accuracy for val: 0.6128274616079494\n"
          ],
          "name": "stdout"
        },
        {
          "output_type": "stream",
          "text": [
            "/usr/local/lib/python3.6/dist-packages/sklearn/utils/validation.py:760: DataConversionWarning: A column-vector y was passed when a 1d array was expected. Please change the shape of y to (n_samples, ), for example using ravel().\n",
            "  y = column_or_1d(y, warn=True)\n"
          ],
          "name": "stderr"
        },
        {
          "output_type": "stream",
          "text": [
            "Language: English      Data loaded: sample data      sample_size: 256      c: 0.01      seed: 2019\n",
            "\n",
            " F1 macro score for test: 0.5939316464670068\n",
            "\n",
            " F1 macro score for val: 0.6019207709133891\n",
            "\n",
            " Accuracy for test: 0.6932094561727794\n",
            "\n",
            " Accuracy for val: 0.7007226738934056\n"
          ],
          "name": "stdout"
        },
        {
          "output_type": "stream",
          "text": [
            "/usr/local/lib/python3.6/dist-packages/sklearn/utils/validation.py:760: DataConversionWarning: A column-vector y was passed when a 1d array was expected. Please change the shape of y to (n_samples, ), for example using ravel().\n",
            "  y = column_or_1d(y, warn=True)\n"
          ],
          "name": "stderr"
        },
        {
          "output_type": "stream",
          "text": [
            "Language: English      Data loaded: sample data      sample_size: 256      c: 0.01      seed: 2020\n",
            "\n",
            " F1 macro score for test: 0.5321833468205097\n",
            "\n",
            " F1 macro score for val: 0.5256612999783941\n",
            "\n",
            " Accuracy for test: 0.6039498005642572\n",
            "\n",
            " Accuracy for val: 0.5990063233965673\n"
          ],
          "name": "stdout"
        },
        {
          "output_type": "stream",
          "text": [
            "/usr/local/lib/python3.6/dist-packages/sklearn/utils/validation.py:760: DataConversionWarning: A column-vector y was passed when a 1d array was expected. Please change the shape of y to (n_samples, ), for example using ravel().\n",
            "  y = column_or_1d(y, warn=True)\n"
          ],
          "name": "stderr"
        },
        {
          "output_type": "stream",
          "text": [
            "Language: English      Data loaded: sample data      sample_size: 256      c: 0.01      seed: 2021\n",
            "\n",
            " F1 macro score for test: 0.6074490842693259\n",
            "\n",
            " F1 macro score for val: 0.6121042277527271\n",
            "\n",
            " Accuracy for test: 0.6958361708337387\n",
            "\n",
            " Accuracy for val: 0.6995483288166215\n"
          ],
          "name": "stdout"
        },
        {
          "output_type": "stream",
          "text": [
            "/usr/local/lib/python3.6/dist-packages/sklearn/utils/validation.py:760: DataConversionWarning: A column-vector y was passed when a 1d array was expected. Please change the shape of y to (n_samples, ), for example using ravel().\n",
            "  y = column_or_1d(y, warn=True)\n"
          ],
          "name": "stderr"
        },
        {
          "output_type": "stream",
          "text": [
            "Language: English      Data loaded: sample data      sample_size: 256      c: 0.01      seed: 2022\n",
            "\n",
            " F1 macro score for test: 0.5463974503358539\n",
            "\n",
            " F1 macro score for val: 0.5417314065697584\n",
            "\n",
            " Accuracy for test: 0.6065765152252165\n",
            "\n",
            " Accuracy for val: 0.6032520325203252\n"
          ],
          "name": "stdout"
        },
        {
          "output_type": "stream",
          "text": [
            "/usr/local/lib/python3.6/dist-packages/sklearn/utils/validation.py:760: DataConversionWarning: A column-vector y was passed when a 1d array was expected. Please change the shape of y to (n_samples, ), for example using ravel().\n",
            "  y = column_or_1d(y, warn=True)\n"
          ],
          "name": "stderr"
        },
        {
          "output_type": "stream",
          "text": [
            "Language: English      Data loaded: sample data      sample_size: 256      c: 0.1      seed: 2018\n",
            "\n",
            " F1 macro score for test: 0.5558182632294004\n",
            "\n",
            " F1 macro score for val: 0.5515081368437128\n",
            "\n",
            " Accuracy for test: 0.6246716606673801\n",
            "\n",
            " Accuracy for val: 0.6210478771454381\n"
          ],
          "name": "stdout"
        },
        {
          "output_type": "stream",
          "text": [
            "/usr/local/lib/python3.6/dist-packages/sklearn/utils/validation.py:760: DataConversionWarning: A column-vector y was passed when a 1d array was expected. Please change the shape of y to (n_samples, ), for example using ravel().\n",
            "  y = column_or_1d(y, warn=True)\n"
          ],
          "name": "stderr"
        },
        {
          "output_type": "stream",
          "text": [
            "Language: English      Data loaded: sample data      sample_size: 256      c: 0.1      seed: 2019\n",
            "\n",
            " F1 macro score for test: 0.5967893792210704\n",
            "\n",
            " F1 macro score for val: 0.6018565245981863\n",
            "\n",
            " Accuracy for test: 0.6968090281155754\n",
            "\n",
            " Accuracy for val: 0.7017163504968383\n"
          ],
          "name": "stdout"
        },
        {
          "output_type": "stream",
          "text": [
            "/usr/local/lib/python3.6/dist-packages/sklearn/utils/validation.py:760: DataConversionWarning: A column-vector y was passed when a 1d array was expected. Please change the shape of y to (n_samples, ), for example using ravel().\n",
            "  y = column_or_1d(y, warn=True)\n"
          ],
          "name": "stderr"
        },
        {
          "output_type": "stream",
          "text": [
            "Language: English      Data loaded: sample data      sample_size: 256      c: 0.1      seed: 2020\n",
            "\n",
            " F1 macro score for test: 0.5367631464498307\n",
            "\n",
            " F1 macro score for val: 0.5289189983547179\n",
            "\n",
            " Accuracy for test: 0.6101760871680124\n",
            "\n",
            " Accuracy for val: 0.6030713640469738\n"
          ],
          "name": "stdout"
        },
        {
          "output_type": "stream",
          "text": [
            "/usr/local/lib/python3.6/dist-packages/sklearn/utils/validation.py:760: DataConversionWarning: A column-vector y was passed when a 1d array was expected. Please change the shape of y to (n_samples, ), for example using ravel().\n",
            "  y = column_or_1d(y, warn=True)\n"
          ],
          "name": "stderr"
        },
        {
          "output_type": "stream",
          "text": [
            "Language: English      Data loaded: sample data      sample_size: 256      c: 0.1      seed: 2021\n",
            "\n",
            " F1 macro score for test: 0.6088932646106353\n",
            "\n",
            " F1 macro score for val: 0.614404105569393\n",
            "\n",
            " Accuracy for test: 0.6977332425333204\n",
            "\n",
            " Accuracy for val: 0.7022583559168925\n"
          ],
          "name": "stdout"
        },
        {
          "output_type": "stream",
          "text": [
            "/usr/local/lib/python3.6/dist-packages/sklearn/utils/validation.py:760: DataConversionWarning: A column-vector y was passed when a 1d array was expected. Please change the shape of y to (n_samples, ), for example using ravel().\n",
            "  y = column_or_1d(y, warn=True)\n"
          ],
          "name": "stderr"
        },
        {
          "output_type": "stream",
          "text": [
            "Language: English      Data loaded: sample data      sample_size: 256      c: 0.1      seed: 2022\n",
            "\n",
            " F1 macro score for test: 0.552940727089797\n",
            "\n",
            " F1 macro score for val: 0.5482412975071561\n",
            "\n",
            " Accuracy for test: 0.6148458021208288\n",
            "\n",
            " Accuracy for val: 0.6123757904245709\n"
          ],
          "name": "stdout"
        },
        {
          "output_type": "stream",
          "text": [
            "/usr/local/lib/python3.6/dist-packages/sklearn/utils/validation.py:760: DataConversionWarning: A column-vector y was passed when a 1d array was expected. Please change the shape of y to (n_samples, ), for example using ravel().\n",
            "  y = column_or_1d(y, warn=True)\n"
          ],
          "name": "stderr"
        },
        {
          "output_type": "stream",
          "text": [
            "Language: English      Data loaded: sample data      sample_size: 256      c: 1      seed: 2018\n",
            "\n",
            " F1 macro score for test: 0.5918282281938616\n",
            "\n",
            " F1 macro score for val: 0.5943636582352103\n",
            "\n",
            " Accuracy for test: 0.6781301683043097\n",
            "\n",
            " Accuracy for val: 0.6825654923215899\n"
          ],
          "name": "stdout"
        },
        {
          "output_type": "stream",
          "text": [
            "/usr/local/lib/python3.6/dist-packages/sklearn/utils/validation.py:760: DataConversionWarning: A column-vector y was passed when a 1d array was expected. Please change the shape of y to (n_samples, ), for example using ravel().\n",
            "  y = column_or_1d(y, warn=True)\n"
          ],
          "name": "stderr"
        },
        {
          "output_type": "stream",
          "text": [
            "Language: English      Data loaded: sample data      sample_size: 256      c: 1      seed: 2019\n",
            "\n",
            " F1 macro score for test: 0.6038457303065163\n",
            "\n",
            " F1 macro score for val: 0.6118849867931522\n",
            "\n",
            " Accuracy for test: 0.711645101663586\n",
            "\n",
            " Accuracy for val: 0.7202348690153568\n"
          ],
          "name": "stdout"
        },
        {
          "output_type": "stream",
          "text": [
            "/usr/local/lib/python3.6/dist-packages/sklearn/utils/validation.py:760: DataConversionWarning: A column-vector y was passed when a 1d array was expected. Please change the shape of y to (n_samples, ), for example using ravel().\n",
            "  y = column_or_1d(y, warn=True)\n"
          ],
          "name": "stderr"
        },
        {
          "output_type": "stream",
          "text": [
            "Language: English      Data loaded: sample data      sample_size: 256      c: 1      seed: 2020\n",
            "\n",
            " F1 macro score for test: 0.5676269119243397\n",
            "\n",
            " F1 macro score for val: 0.5613465990918128\n",
            "\n",
            " Accuracy for test: 0.6603268800466972\n",
            "\n",
            " Accuracy for val: 0.6547425474254742\n"
          ],
          "name": "stdout"
        },
        {
          "output_type": "stream",
          "text": [
            "/usr/local/lib/python3.6/dist-packages/sklearn/utils/validation.py:760: DataConversionWarning: A column-vector y was passed when a 1d array was expected. Please change the shape of y to (n_samples, ), for example using ravel().\n",
            "  y = column_or_1d(y, warn=True)\n"
          ],
          "name": "stderr"
        },
        {
          "output_type": "stream",
          "text": [
            "Language: English      Data loaded: sample data      sample_size: 256      c: 1      seed: 2021\n",
            "\n",
            " F1 macro score for test: 0.6216215451837155\n",
            "\n",
            " F1 macro score for val: 0.6258618645341524\n",
            "\n",
            " Accuracy for test: 0.7163634594804942\n",
            "\n",
            " Accuracy for val: 0.7209575429087625\n"
          ],
          "name": "stdout"
        },
        {
          "output_type": "stream",
          "text": [
            "/usr/local/lib/python3.6/dist-packages/sklearn/utils/validation.py:760: DataConversionWarning: A column-vector y was passed when a 1d array was expected. Please change the shape of y to (n_samples, ), for example using ravel().\n",
            "  y = column_or_1d(y, warn=True)\n"
          ],
          "name": "stderr"
        },
        {
          "output_type": "stream",
          "text": [
            "Language: English      Data loaded: sample data      sample_size: 256      c: 1      seed: 2022\n",
            "\n",
            " F1 macro score for test: 0.5872134612412594\n",
            "\n",
            " F1 macro score for val: 0.5882171734658547\n",
            "\n",
            " Accuracy for test: 0.6632454518922074\n",
            "\n",
            " Accuracy for val: 0.6673893405600723\n"
          ],
          "name": "stdout"
        },
        {
          "output_type": "stream",
          "text": [
            "/usr/local/lib/python3.6/dist-packages/sklearn/utils/validation.py:760: DataConversionWarning: A column-vector y was passed when a 1d array was expected. Please change the shape of y to (n_samples, ), for example using ravel().\n",
            "  y = column_or_1d(y, warn=True)\n"
          ],
          "name": "stderr"
        },
        {
          "output_type": "stream",
          "text": [
            "Language: English      Data loaded: sample data      sample_size: 256      c: 10      seed: 2018\n",
            "\n",
            " F1 macro score for test: 0.6243699272268317\n",
            "\n",
            " F1 macro score for val: 0.6255589872120647\n",
            "\n",
            " Accuracy for test: 0.7447708921101275\n",
            "\n",
            " Accuracy for val: 0.7492321589882566\n"
          ],
          "name": "stdout"
        },
        {
          "output_type": "stream",
          "text": [
            "/usr/local/lib/python3.6/dist-packages/sklearn/utils/validation.py:760: DataConversionWarning: A column-vector y was passed when a 1d array was expected. Please change the shape of y to (n_samples, ), for example using ravel().\n",
            "  y = column_or_1d(y, warn=True)\n"
          ],
          "name": "stderr"
        },
        {
          "output_type": "stream",
          "text": [
            "Language: English      Data loaded: sample data      sample_size: 256      c: 10      seed: 2019\n",
            "\n",
            " F1 macro score for test: 0.6090289079699838\n",
            "\n",
            " F1 macro score for val: 0.6123277985217663\n",
            "\n",
            " Accuracy for test: 0.7430197490028213\n",
            "\n",
            " Accuracy for val: 0.7479674796747967\n"
          ],
          "name": "stdout"
        },
        {
          "output_type": "stream",
          "text": [
            "/usr/local/lib/python3.6/dist-packages/sklearn/utils/validation.py:760: DataConversionWarning: A column-vector y was passed when a 1d array was expected. Please change the shape of y to (n_samples, ), for example using ravel().\n",
            "  y = column_or_1d(y, warn=True)\n"
          ],
          "name": "stderr"
        },
        {
          "output_type": "stream",
          "text": [
            "Language: English      Data loaded: sample data      sample_size: 256      c: 10      seed: 2020\n",
            "\n",
            " F1 macro score for test: 0.5998435427538427\n",
            "\n",
            " F1 macro score for val: 0.5960479025297309\n",
            "\n",
            " Accuracy for test: 0.7509971787138827\n",
            "\n",
            " Accuracy for val: 0.7498644986449865\n"
          ],
          "name": "stdout"
        },
        {
          "output_type": "stream",
          "text": [
            "/usr/local/lib/python3.6/dist-packages/sklearn/utils/validation.py:760: DataConversionWarning: A column-vector y was passed when a 1d array was expected. Please change the shape of y to (n_samples, ), for example using ravel().\n",
            "  y = column_or_1d(y, warn=True)\n"
          ],
          "name": "stderr"
        },
        {
          "output_type": "stream",
          "text": [
            "Language: English      Data loaded: sample data      sample_size: 256      c: 10      seed: 2021\n",
            "\n",
            " F1 macro score for test: 0.6393558002520368\n",
            "\n",
            " F1 macro score for val: 0.6400616235867189\n",
            "\n",
            " Accuracy for test: 0.7616013230859033\n",
            "\n",
            " Accuracy for val: 0.7630532971996387\n"
          ],
          "name": "stdout"
        },
        {
          "output_type": "stream",
          "text": [
            "/usr/local/lib/python3.6/dist-packages/sklearn/utils/validation.py:760: DataConversionWarning: A column-vector y was passed when a 1d array was expected. Please change the shape of y to (n_samples, ), for example using ravel().\n",
            "  y = column_or_1d(y, warn=True)\n"
          ],
          "name": "stderr"
        },
        {
          "output_type": "stream",
          "text": [
            "Language: English      Data loaded: sample data      sample_size: 256      c: 10      seed: 2022\n",
            "\n",
            " F1 macro score for test: 0.6282987771537984\n",
            "\n",
            " F1 macro score for val: 0.6315534303491752\n",
            "\n",
            " Accuracy for test: 0.7399066057009437\n",
            "\n",
            " Accuracy for val: 0.7461607949412827\n"
          ],
          "name": "stdout"
        },
        {
          "output_type": "stream",
          "text": [
            "/usr/local/lib/python3.6/dist-packages/sklearn/utils/validation.py:760: DataConversionWarning: A column-vector y was passed when a 1d array was expected. Please change the shape of y to (n_samples, ), for example using ravel().\n",
            "  y = column_or_1d(y, warn=True)\n"
          ],
          "name": "stderr"
        },
        {
          "output_type": "stream",
          "text": [
            "Language: English       data loaded: whole data      c: 0.01      seed: 2018\n",
            "\n",
            " F1 macro score for test: 0.6198205117030187\n",
            "\n",
            " F1 macro score for val: 0.6239842287883989\n",
            "\n",
            " Accuracy for test: 0.679248954178422\n",
            "\n",
            " Accuracy for val: 0.683739837398374\n"
          ],
          "name": "stdout"
        },
        {
          "output_type": "stream",
          "text": [
            "/usr/local/lib/python3.6/dist-packages/sklearn/utils/validation.py:760: DataConversionWarning: A column-vector y was passed when a 1d array was expected. Please change the shape of y to (n_samples, ), for example using ravel().\n",
            "  y = column_or_1d(y, warn=True)\n"
          ],
          "name": "stderr"
        },
        {
          "output_type": "stream",
          "text": [
            "Language: English       data loaded: whole data      c: 0.01      seed: 2019\n",
            "\n",
            " F1 macro score for test: 0.6198205117030187\n",
            "\n",
            " F1 macro score for val: 0.6239842287883989\n",
            "\n",
            " Accuracy for test: 0.679248954178422\n",
            "\n",
            " Accuracy for val: 0.683739837398374\n"
          ],
          "name": "stdout"
        },
        {
          "output_type": "stream",
          "text": [
            "/usr/local/lib/python3.6/dist-packages/sklearn/utils/validation.py:760: DataConversionWarning: A column-vector y was passed when a 1d array was expected. Please change the shape of y to (n_samples, ), for example using ravel().\n",
            "  y = column_or_1d(y, warn=True)\n"
          ],
          "name": "stderr"
        },
        {
          "output_type": "stream",
          "text": [
            "Language: English       data loaded: whole data      c: 0.01      seed: 2020\n",
            "\n",
            " F1 macro score for test: 0.6198205117030187\n",
            "\n",
            " F1 macro score for val: 0.6239842287883989\n",
            "\n",
            " Accuracy for test: 0.679248954178422\n",
            "\n",
            " Accuracy for val: 0.683739837398374\n"
          ],
          "name": "stdout"
        },
        {
          "output_type": "stream",
          "text": [
            "/usr/local/lib/python3.6/dist-packages/sklearn/utils/validation.py:760: DataConversionWarning: A column-vector y was passed when a 1d array was expected. Please change the shape of y to (n_samples, ), for example using ravel().\n",
            "  y = column_or_1d(y, warn=True)\n"
          ],
          "name": "stderr"
        },
        {
          "output_type": "stream",
          "text": [
            "Language: English       data loaded: whole data      c: 0.01      seed: 2021\n",
            "\n",
            " F1 macro score for test: 0.6198205117030187\n",
            "\n",
            " F1 macro score for val: 0.6239842287883989\n",
            "\n",
            " Accuracy for test: 0.679248954178422\n",
            "\n",
            " Accuracy for val: 0.683739837398374\n"
          ],
          "name": "stdout"
        },
        {
          "output_type": "stream",
          "text": [
            "/usr/local/lib/python3.6/dist-packages/sklearn/utils/validation.py:760: DataConversionWarning: A column-vector y was passed when a 1d array was expected. Please change the shape of y to (n_samples, ), for example using ravel().\n",
            "  y = column_or_1d(y, warn=True)\n"
          ],
          "name": "stderr"
        },
        {
          "output_type": "stream",
          "text": [
            "Language: English       data loaded: whole data      c: 0.01      seed: 2022\n",
            "\n",
            " F1 macro score for test: 0.6198205117030187\n",
            "\n",
            " F1 macro score for val: 0.6239842287883989\n",
            "\n",
            " Accuracy for test: 0.679248954178422\n",
            "\n",
            " Accuracy for val: 0.683739837398374\n"
          ],
          "name": "stdout"
        },
        {
          "output_type": "stream",
          "text": [
            "/usr/local/lib/python3.6/dist-packages/sklearn/utils/validation.py:760: DataConversionWarning: A column-vector y was passed when a 1d array was expected. Please change the shape of y to (n_samples, ), for example using ravel().\n",
            "  y = column_or_1d(y, warn=True)\n"
          ],
          "name": "stderr"
        },
        {
          "output_type": "stream",
          "text": [
            "Language: English       data loaded: whole data      c: 0.1      seed: 2018\n",
            "\n",
            " F1 macro score for test: 0.6647822480436805\n",
            "\n",
            " F1 macro score for val: 0.6633433517055463\n",
            "\n",
            " Accuracy for test: 0.7285728183675455\n",
            "\n",
            " Accuracy for val: 0.7283649503161699\n"
          ],
          "name": "stdout"
        },
        {
          "output_type": "stream",
          "text": [
            "/usr/local/lib/python3.6/dist-packages/sklearn/utils/validation.py:760: DataConversionWarning: A column-vector y was passed when a 1d array was expected. Please change the shape of y to (n_samples, ), for example using ravel().\n",
            "  y = column_or_1d(y, warn=True)\n"
          ],
          "name": "stderr"
        },
        {
          "output_type": "stream",
          "text": [
            "Language: English       data loaded: whole data      c: 0.1      seed: 2019\n",
            "\n",
            " F1 macro score for test: 0.6647822480436805\n",
            "\n",
            " F1 macro score for val: 0.6633433517055463\n",
            "\n",
            " Accuracy for test: 0.7285728183675455\n",
            "\n",
            " Accuracy for val: 0.7283649503161699\n"
          ],
          "name": "stdout"
        },
        {
          "output_type": "stream",
          "text": [
            "/usr/local/lib/python3.6/dist-packages/sklearn/utils/validation.py:760: DataConversionWarning: A column-vector y was passed when a 1d array was expected. Please change the shape of y to (n_samples, ), for example using ravel().\n",
            "  y = column_or_1d(y, warn=True)\n"
          ],
          "name": "stderr"
        },
        {
          "output_type": "stream",
          "text": [
            "Language: English       data loaded: whole data      c: 0.1      seed: 2020\n",
            "\n",
            " F1 macro score for test: 0.6647822480436805\n",
            "\n",
            " F1 macro score for val: 0.6633433517055463\n",
            "\n",
            " Accuracy for test: 0.7285728183675455\n",
            "\n",
            " Accuracy for val: 0.7283649503161699\n"
          ],
          "name": "stdout"
        },
        {
          "output_type": "stream",
          "text": [
            "/usr/local/lib/python3.6/dist-packages/sklearn/utils/validation.py:760: DataConversionWarning: A column-vector y was passed when a 1d array was expected. Please change the shape of y to (n_samples, ), for example using ravel().\n",
            "  y = column_or_1d(y, warn=True)\n"
          ],
          "name": "stderr"
        },
        {
          "output_type": "stream",
          "text": [
            "Language: English       data loaded: whole data      c: 0.1      seed: 2021\n",
            "\n",
            " F1 macro score for test: 0.6647822480436805\n",
            "\n",
            " F1 macro score for val: 0.6633433517055463\n",
            "\n",
            " Accuracy for test: 0.7285728183675455\n",
            "\n",
            " Accuracy for val: 0.7283649503161699\n"
          ],
          "name": "stdout"
        },
        {
          "output_type": "stream",
          "text": [
            "/usr/local/lib/python3.6/dist-packages/sklearn/utils/validation.py:760: DataConversionWarning: A column-vector y was passed when a 1d array was expected. Please change the shape of y to (n_samples, ), for example using ravel().\n",
            "  y = column_or_1d(y, warn=True)\n"
          ],
          "name": "stderr"
        },
        {
          "output_type": "stream",
          "text": [
            "Language: English       data loaded: whole data      c: 0.1      seed: 2022\n",
            "\n",
            " F1 macro score for test: 0.6647822480436805\n",
            "\n",
            " F1 macro score for val: 0.6633433517055463\n",
            "\n",
            " Accuracy for test: 0.7285728183675455\n",
            "\n",
            " Accuracy for val: 0.7283649503161699\n"
          ],
          "name": "stdout"
        },
        {
          "output_type": "stream",
          "text": [
            "/usr/local/lib/python3.6/dist-packages/sklearn/utils/validation.py:760: DataConversionWarning: A column-vector y was passed when a 1d array was expected. Please change the shape of y to (n_samples, ), for example using ravel().\n",
            "  y = column_or_1d(y, warn=True)\n",
            "/usr/local/lib/python3.6/dist-packages/sklearn/linear_model/_logistic.py:940: ConvergenceWarning: lbfgs failed to converge (status=1):\n",
            "STOP: TOTAL NO. of ITERATIONS REACHED LIMIT.\n",
            "\n",
            "Increase the number of iterations (max_iter) or scale the data as shown in:\n",
            "    https://scikit-learn.org/stable/modules/preprocessing.html\n",
            "Please also refer to the documentation for alternative solver options:\n",
            "    https://scikit-learn.org/stable/modules/linear_model.html#logistic-regression\n",
            "  extra_warning_msg=_LOGISTIC_SOLVER_CONVERGENCE_MSG)\n"
          ],
          "name": "stderr"
        },
        {
          "output_type": "stream",
          "text": [
            "Language: English       data loaded: whole data      c: 1      seed: 2018\n",
            "\n",
            " F1 macro score for test: 0.6856876898112142\n",
            "\n",
            " F1 macro score for val: 0.6871297373681258\n",
            "\n",
            " Accuracy for test: 0.75119175017025\n",
            "\n",
            " Accuracy for val: 0.7541102077687444\n"
          ],
          "name": "stdout"
        },
        {
          "output_type": "stream",
          "text": [
            "/usr/local/lib/python3.6/dist-packages/sklearn/utils/validation.py:760: DataConversionWarning: A column-vector y was passed when a 1d array was expected. Please change the shape of y to (n_samples, ), for example using ravel().\n",
            "  y = column_or_1d(y, warn=True)\n",
            "/usr/local/lib/python3.6/dist-packages/sklearn/linear_model/_logistic.py:940: ConvergenceWarning: lbfgs failed to converge (status=1):\n",
            "STOP: TOTAL NO. of ITERATIONS REACHED LIMIT.\n",
            "\n",
            "Increase the number of iterations (max_iter) or scale the data as shown in:\n",
            "    https://scikit-learn.org/stable/modules/preprocessing.html\n",
            "Please also refer to the documentation for alternative solver options:\n",
            "    https://scikit-learn.org/stable/modules/linear_model.html#logistic-regression\n",
            "  extra_warning_msg=_LOGISTIC_SOLVER_CONVERGENCE_MSG)\n"
          ],
          "name": "stderr"
        },
        {
          "output_type": "stream",
          "text": [
            "Language: English       data loaded: whole data      c: 1      seed: 2019\n",
            "\n",
            " F1 macro score for test: 0.6856876898112142\n",
            "\n",
            " F1 macro score for val: 0.6871297373681258\n",
            "\n",
            " Accuracy for test: 0.75119175017025\n",
            "\n",
            " Accuracy for val: 0.7541102077687444\n"
          ],
          "name": "stdout"
        },
        {
          "output_type": "stream",
          "text": [
            "/usr/local/lib/python3.6/dist-packages/sklearn/utils/validation.py:760: DataConversionWarning: A column-vector y was passed when a 1d array was expected. Please change the shape of y to (n_samples, ), for example using ravel().\n",
            "  y = column_or_1d(y, warn=True)\n",
            "/usr/local/lib/python3.6/dist-packages/sklearn/linear_model/_logistic.py:940: ConvergenceWarning: lbfgs failed to converge (status=1):\n",
            "STOP: TOTAL NO. of ITERATIONS REACHED LIMIT.\n",
            "\n",
            "Increase the number of iterations (max_iter) or scale the data as shown in:\n",
            "    https://scikit-learn.org/stable/modules/preprocessing.html\n",
            "Please also refer to the documentation for alternative solver options:\n",
            "    https://scikit-learn.org/stable/modules/linear_model.html#logistic-regression\n",
            "  extra_warning_msg=_LOGISTIC_SOLVER_CONVERGENCE_MSG)\n"
          ],
          "name": "stderr"
        },
        {
          "output_type": "stream",
          "text": [
            "Language: English       data loaded: whole data      c: 1      seed: 2020\n",
            "\n",
            " F1 macro score for test: 0.6856876898112142\n",
            "\n",
            " F1 macro score for val: 0.6871297373681258\n",
            "\n",
            " Accuracy for test: 0.75119175017025\n",
            "\n",
            " Accuracy for val: 0.7541102077687444\n"
          ],
          "name": "stdout"
        },
        {
          "output_type": "stream",
          "text": [
            "/usr/local/lib/python3.6/dist-packages/sklearn/utils/validation.py:760: DataConversionWarning: A column-vector y was passed when a 1d array was expected. Please change the shape of y to (n_samples, ), for example using ravel().\n",
            "  y = column_or_1d(y, warn=True)\n",
            "/usr/local/lib/python3.6/dist-packages/sklearn/linear_model/_logistic.py:940: ConvergenceWarning: lbfgs failed to converge (status=1):\n",
            "STOP: TOTAL NO. of ITERATIONS REACHED LIMIT.\n",
            "\n",
            "Increase the number of iterations (max_iter) or scale the data as shown in:\n",
            "    https://scikit-learn.org/stable/modules/preprocessing.html\n",
            "Please also refer to the documentation for alternative solver options:\n",
            "    https://scikit-learn.org/stable/modules/linear_model.html#logistic-regression\n",
            "  extra_warning_msg=_LOGISTIC_SOLVER_CONVERGENCE_MSG)\n"
          ],
          "name": "stderr"
        },
        {
          "output_type": "stream",
          "text": [
            "Language: English       data loaded: whole data      c: 1      seed: 2021\n",
            "\n",
            " F1 macro score for test: 0.6856876898112142\n",
            "\n",
            " F1 macro score for val: 0.6871297373681258\n",
            "\n",
            " Accuracy for test: 0.75119175017025\n",
            "\n",
            " Accuracy for val: 0.7541102077687444\n"
          ],
          "name": "stdout"
        },
        {
          "output_type": "stream",
          "text": [
            "/usr/local/lib/python3.6/dist-packages/sklearn/utils/validation.py:760: DataConversionWarning: A column-vector y was passed when a 1d array was expected. Please change the shape of y to (n_samples, ), for example using ravel().\n",
            "  y = column_or_1d(y, warn=True)\n",
            "/usr/local/lib/python3.6/dist-packages/sklearn/linear_model/_logistic.py:940: ConvergenceWarning: lbfgs failed to converge (status=1):\n",
            "STOP: TOTAL NO. of ITERATIONS REACHED LIMIT.\n",
            "\n",
            "Increase the number of iterations (max_iter) or scale the data as shown in:\n",
            "    https://scikit-learn.org/stable/modules/preprocessing.html\n",
            "Please also refer to the documentation for alternative solver options:\n",
            "    https://scikit-learn.org/stable/modules/linear_model.html#logistic-regression\n",
            "  extra_warning_msg=_LOGISTIC_SOLVER_CONVERGENCE_MSG)\n"
          ],
          "name": "stderr"
        },
        {
          "output_type": "stream",
          "text": [
            "Language: English       data loaded: whole data      c: 1      seed: 2022\n",
            "\n",
            " F1 macro score for test: 0.6856876898112142\n",
            "\n",
            " F1 macro score for val: 0.6871297373681258\n",
            "\n",
            " Accuracy for test: 0.75119175017025\n",
            "\n",
            " Accuracy for val: 0.7541102077687444\n"
          ],
          "name": "stdout"
        },
        {
          "output_type": "stream",
          "text": [
            "/usr/local/lib/python3.6/dist-packages/sklearn/utils/validation.py:760: DataConversionWarning: A column-vector y was passed when a 1d array was expected. Please change the shape of y to (n_samples, ), for example using ravel().\n",
            "  y = column_or_1d(y, warn=True)\n",
            "/usr/local/lib/python3.6/dist-packages/sklearn/linear_model/_logistic.py:940: ConvergenceWarning: lbfgs failed to converge (status=1):\n",
            "STOP: TOTAL NO. of ITERATIONS REACHED LIMIT.\n",
            "\n",
            "Increase the number of iterations (max_iter) or scale the data as shown in:\n",
            "    https://scikit-learn.org/stable/modules/preprocessing.html\n",
            "Please also refer to the documentation for alternative solver options:\n",
            "    https://scikit-learn.org/stable/modules/linear_model.html#logistic-regression\n",
            "  extra_warning_msg=_LOGISTIC_SOLVER_CONVERGENCE_MSG)\n"
          ],
          "name": "stderr"
        },
        {
          "output_type": "stream",
          "text": [
            "Language: English       data loaded: whole data      c: 10      seed: 2018\n",
            "\n",
            " F1 macro score for test: 0.6887657235817667\n",
            "\n",
            " F1 macro score for val: 0.690712914812839\n",
            "\n",
            " Accuracy for test: 0.7554236793462399\n",
            "\n",
            " Accuracy for val: 0.7583559168925023\n"
          ],
          "name": "stdout"
        },
        {
          "output_type": "stream",
          "text": [
            "/usr/local/lib/python3.6/dist-packages/sklearn/utils/validation.py:760: DataConversionWarning: A column-vector y was passed when a 1d array was expected. Please change the shape of y to (n_samples, ), for example using ravel().\n",
            "  y = column_or_1d(y, warn=True)\n",
            "/usr/local/lib/python3.6/dist-packages/sklearn/linear_model/_logistic.py:940: ConvergenceWarning: lbfgs failed to converge (status=1):\n",
            "STOP: TOTAL NO. of ITERATIONS REACHED LIMIT.\n",
            "\n",
            "Increase the number of iterations (max_iter) or scale the data as shown in:\n",
            "    https://scikit-learn.org/stable/modules/preprocessing.html\n",
            "Please also refer to the documentation for alternative solver options:\n",
            "    https://scikit-learn.org/stable/modules/linear_model.html#logistic-regression\n",
            "  extra_warning_msg=_LOGISTIC_SOLVER_CONVERGENCE_MSG)\n"
          ],
          "name": "stderr"
        },
        {
          "output_type": "stream",
          "text": [
            "Language: English       data loaded: whole data      c: 10      seed: 2019\n",
            "\n",
            " F1 macro score for test: 0.6887657235817667\n",
            "\n",
            " F1 macro score for val: 0.690712914812839\n",
            "\n",
            " Accuracy for test: 0.7554236793462399\n",
            "\n",
            " Accuracy for val: 0.7583559168925023\n"
          ],
          "name": "stdout"
        },
        {
          "output_type": "stream",
          "text": [
            "/usr/local/lib/python3.6/dist-packages/sklearn/utils/validation.py:760: DataConversionWarning: A column-vector y was passed when a 1d array was expected. Please change the shape of y to (n_samples, ), for example using ravel().\n",
            "  y = column_or_1d(y, warn=True)\n",
            "/usr/local/lib/python3.6/dist-packages/sklearn/linear_model/_logistic.py:940: ConvergenceWarning: lbfgs failed to converge (status=1):\n",
            "STOP: TOTAL NO. of ITERATIONS REACHED LIMIT.\n",
            "\n",
            "Increase the number of iterations (max_iter) or scale the data as shown in:\n",
            "    https://scikit-learn.org/stable/modules/preprocessing.html\n",
            "Please also refer to the documentation for alternative solver options:\n",
            "    https://scikit-learn.org/stable/modules/linear_model.html#logistic-regression\n",
            "  extra_warning_msg=_LOGISTIC_SOLVER_CONVERGENCE_MSG)\n"
          ],
          "name": "stderr"
        },
        {
          "output_type": "stream",
          "text": [
            "Language: English       data loaded: whole data      c: 10      seed: 2020\n",
            "\n",
            " F1 macro score for test: 0.6887657235817667\n",
            "\n",
            " F1 macro score for val: 0.690712914812839\n",
            "\n",
            " Accuracy for test: 0.7554236793462399\n",
            "\n",
            " Accuracy for val: 0.7583559168925023\n"
          ],
          "name": "stdout"
        },
        {
          "output_type": "stream",
          "text": [
            "/usr/local/lib/python3.6/dist-packages/sklearn/utils/validation.py:760: DataConversionWarning: A column-vector y was passed when a 1d array was expected. Please change the shape of y to (n_samples, ), for example using ravel().\n",
            "  y = column_or_1d(y, warn=True)\n",
            "/usr/local/lib/python3.6/dist-packages/sklearn/linear_model/_logistic.py:940: ConvergenceWarning: lbfgs failed to converge (status=1):\n",
            "STOP: TOTAL NO. of ITERATIONS REACHED LIMIT.\n",
            "\n",
            "Increase the number of iterations (max_iter) or scale the data as shown in:\n",
            "    https://scikit-learn.org/stable/modules/preprocessing.html\n",
            "Please also refer to the documentation for alternative solver options:\n",
            "    https://scikit-learn.org/stable/modules/linear_model.html#logistic-regression\n",
            "  extra_warning_msg=_LOGISTIC_SOLVER_CONVERGENCE_MSG)\n"
          ],
          "name": "stderr"
        },
        {
          "output_type": "stream",
          "text": [
            "Language: English       data loaded: whole data      c: 10      seed: 2021\n",
            "\n",
            " F1 macro score for test: 0.6887657235817667\n",
            "\n",
            " F1 macro score for val: 0.690712914812839\n",
            "\n",
            " Accuracy for test: 0.7554236793462399\n",
            "\n",
            " Accuracy for val: 0.7583559168925023\n"
          ],
          "name": "stdout"
        },
        {
          "output_type": "stream",
          "text": [
            "/usr/local/lib/python3.6/dist-packages/sklearn/utils/validation.py:760: DataConversionWarning: A column-vector y was passed when a 1d array was expected. Please change the shape of y to (n_samples, ), for example using ravel().\n",
            "  y = column_or_1d(y, warn=True)\n",
            "/usr/local/lib/python3.6/dist-packages/sklearn/linear_model/_logistic.py:940: ConvergenceWarning: lbfgs failed to converge (status=1):\n",
            "STOP: TOTAL NO. of ITERATIONS REACHED LIMIT.\n",
            "\n",
            "Increase the number of iterations (max_iter) or scale the data as shown in:\n",
            "    https://scikit-learn.org/stable/modules/preprocessing.html\n",
            "Please also refer to the documentation for alternative solver options:\n",
            "    https://scikit-learn.org/stable/modules/linear_model.html#logistic-regression\n",
            "  extra_warning_msg=_LOGISTIC_SOLVER_CONVERGENCE_MSG)\n"
          ],
          "name": "stderr"
        },
        {
          "output_type": "stream",
          "text": [
            "Language: English       data loaded: whole data      c: 10      seed: 2022\n",
            "\n",
            " F1 macro score for test: 0.6887657235817667\n",
            "\n",
            " F1 macro score for val: 0.690712914812839\n",
            "\n",
            " Accuracy for test: 0.7554236793462399\n",
            "\n",
            " Accuracy for val: 0.7583559168925023\n"
          ],
          "name": "stdout"
        },
        {
          "output_type": "stream",
          "text": [
            "/usr/local/lib/python3.6/dist-packages/sklearn/utils/validation.py:760: DataConversionWarning: A column-vector y was passed when a 1d array was expected. Please change the shape of y to (n_samples, ), for example using ravel().\n",
            "  y = column_or_1d(y, warn=True)\n"
          ],
          "name": "stderr"
        },
        {
          "output_type": "stream",
          "text": [
            "Language: French      Data loaded: sample data      sample_size: 16      c: 0.01      seed: 2018\n",
            "\n",
            " F1 macro score for test: 0.5673789326747558\n",
            "\n",
            " F1 macro score for val: 0.4582444061962134\n",
            "\n",
            " Accuracy for test: 0.6413502109704642\n",
            "\n",
            " Accuracy for val: 0.5271317829457365\n"
          ],
          "name": "stdout"
        },
        {
          "output_type": "stream",
          "text": [
            "/usr/local/lib/python3.6/dist-packages/sklearn/utils/validation.py:760: DataConversionWarning: A column-vector y was passed when a 1d array was expected. Please change the shape of y to (n_samples, ), for example using ravel().\n",
            "  y = column_or_1d(y, warn=True)\n"
          ],
          "name": "stderr"
        },
        {
          "output_type": "stream",
          "text": [
            "Language: French      Data loaded: sample data      sample_size: 16      c: 0.01      seed: 2019\n",
            "\n",
            " F1 macro score for test: 0.5511363636363636\n",
            "\n",
            " F1 macro score for val: 0.5094353160651504\n",
            "\n",
            " Accuracy for test: 0.620253164556962\n",
            "\n",
            " Accuracy for val: 0.5891472868217055\n"
          ],
          "name": "stdout"
        },
        {
          "output_type": "stream",
          "text": [
            "/usr/local/lib/python3.6/dist-packages/sklearn/utils/validation.py:760: DataConversionWarning: A column-vector y was passed when a 1d array was expected. Please change the shape of y to (n_samples, ), for example using ravel().\n",
            "  y = column_or_1d(y, warn=True)\n"
          ],
          "name": "stderr"
        },
        {
          "output_type": "stream",
          "text": [
            "Language: French      Data loaded: sample data      sample_size: 16      c: 0.01      seed: 2020\n",
            "\n",
            " F1 macro score for test: 0.5391019337921993\n",
            "\n",
            " F1 macro score for val: 0.5636275773195877\n",
            "\n",
            " Accuracy for test: 0.6244725738396625\n",
            "\n",
            " Accuracy for val: 0.6744186046511628\n"
          ],
          "name": "stdout"
        },
        {
          "output_type": "stream",
          "text": [
            "/usr/local/lib/python3.6/dist-packages/sklearn/utils/validation.py:760: DataConversionWarning: A column-vector y was passed when a 1d array was expected. Please change the shape of y to (n_samples, ), for example using ravel().\n",
            "  y = column_or_1d(y, warn=True)\n"
          ],
          "name": "stderr"
        },
        {
          "output_type": "stream",
          "text": [
            "Language: French      Data loaded: sample data      sample_size: 16      c: 0.01      seed: 2021\n",
            "\n",
            " F1 macro score for test: 0.5139458572600493\n",
            "\n",
            " F1 macro score for val: 0.5132075471698113\n",
            "\n",
            " Accuracy for test: 0.6624472573839663\n",
            "\n",
            " Accuracy for val: 0.6821705426356589\n"
          ],
          "name": "stdout"
        },
        {
          "output_type": "stream",
          "text": [
            "/usr/local/lib/python3.6/dist-packages/sklearn/utils/validation.py:760: DataConversionWarning: A column-vector y was passed when a 1d array was expected. Please change the shape of y to (n_samples, ), for example using ravel().\n",
            "  y = column_or_1d(y, warn=True)\n"
          ],
          "name": "stderr"
        },
        {
          "output_type": "stream",
          "text": [
            "Language: French      Data loaded: sample data      sample_size: 16      c: 0.01      seed: 2022\n",
            "\n",
            " F1 macro score for test: 0.5665151886561197\n",
            "\n",
            " F1 macro score for val: 0.5456873919446756\n",
            "\n",
            " Accuracy for test: 0.5907172995780591\n",
            "\n",
            " Accuracy for val: 0.5736434108527132\n"
          ],
          "name": "stdout"
        },
        {
          "output_type": "stream",
          "text": [
            "/usr/local/lib/python3.6/dist-packages/sklearn/utils/validation.py:760: DataConversionWarning: A column-vector y was passed when a 1d array was expected. Please change the shape of y to (n_samples, ), for example using ravel().\n",
            "  y = column_or_1d(y, warn=True)\n"
          ],
          "name": "stderr"
        },
        {
          "output_type": "stream",
          "text": [
            "Language: French      Data loaded: sample data      sample_size: 16      c: 0.1      seed: 2018\n",
            "\n",
            " F1 macro score for test: 0.5673789326747558\n",
            "\n",
            " F1 macro score for val: 0.4582444061962134\n",
            "\n",
            " Accuracy for test: 0.6413502109704642\n",
            "\n",
            " Accuracy for val: 0.5271317829457365\n"
          ],
          "name": "stdout"
        },
        {
          "output_type": "stream",
          "text": [
            "/usr/local/lib/python3.6/dist-packages/sklearn/utils/validation.py:760: DataConversionWarning: A column-vector y was passed when a 1d array was expected. Please change the shape of y to (n_samples, ), for example using ravel().\n",
            "  y = column_or_1d(y, warn=True)\n"
          ],
          "name": "stderr"
        },
        {
          "output_type": "stream",
          "text": [
            "Language: French      Data loaded: sample data      sample_size: 16      c: 0.1      seed: 2019\n",
            "\n",
            " F1 macro score for test: 0.5511363636363636\n",
            "\n",
            " F1 macro score for val: 0.5094353160651504\n",
            "\n",
            " Accuracy for test: 0.620253164556962\n",
            "\n",
            " Accuracy for val: 0.5891472868217055\n"
          ],
          "name": "stdout"
        },
        {
          "output_type": "stream",
          "text": [
            "/usr/local/lib/python3.6/dist-packages/sklearn/utils/validation.py:760: DataConversionWarning: A column-vector y was passed when a 1d array was expected. Please change the shape of y to (n_samples, ), for example using ravel().\n",
            "  y = column_or_1d(y, warn=True)\n"
          ],
          "name": "stderr"
        },
        {
          "output_type": "stream",
          "text": [
            "Language: French      Data loaded: sample data      sample_size: 16      c: 0.1      seed: 2020\n",
            "\n",
            " F1 macro score for test: 0.5318261633011414\n",
            "\n",
            " F1 macro score for val: 0.5636275773195877\n",
            "\n",
            " Accuracy for test: 0.620253164556962\n",
            "\n",
            " Accuracy for val: 0.6744186046511628\n"
          ],
          "name": "stdout"
        },
        {
          "output_type": "stream",
          "text": [
            "/usr/local/lib/python3.6/dist-packages/sklearn/utils/validation.py:760: DataConversionWarning: A column-vector y was passed when a 1d array was expected. Please change the shape of y to (n_samples, ), for example using ravel().\n",
            "  y = column_or_1d(y, warn=True)\n"
          ],
          "name": "stderr"
        },
        {
          "output_type": "stream",
          "text": [
            "Language: French      Data loaded: sample data      sample_size: 16      c: 0.1      seed: 2021\n",
            "\n",
            " F1 macro score for test: 0.5100358516735143\n",
            "\n",
            " F1 macro score for val: 0.5132075471698113\n",
            "\n",
            " Accuracy for test: 0.6666666666666666\n",
            "\n",
            " Accuracy for val: 0.6821705426356589\n"
          ],
          "name": "stdout"
        },
        {
          "output_type": "stream",
          "text": [
            "/usr/local/lib/python3.6/dist-packages/sklearn/utils/validation.py:760: DataConversionWarning: A column-vector y was passed when a 1d array was expected. Please change the shape of y to (n_samples, ), for example using ravel().\n",
            "  y = column_or_1d(y, warn=True)\n"
          ],
          "name": "stderr"
        },
        {
          "output_type": "stream",
          "text": [
            "Language: French      Data loaded: sample data      sample_size: 16      c: 0.1      seed: 2022\n",
            "\n",
            " F1 macro score for test: 0.5775582519059379\n",
            "\n",
            " F1 macro score for val: 0.5490881458966566\n",
            "\n",
            " Accuracy for test: 0.6497890295358649\n",
            "\n",
            " Accuracy for val: 0.6434108527131783\n"
          ],
          "name": "stdout"
        },
        {
          "output_type": "stream",
          "text": [
            "/usr/local/lib/python3.6/dist-packages/sklearn/utils/validation.py:760: DataConversionWarning: A column-vector y was passed when a 1d array was expected. Please change the shape of y to (n_samples, ), for example using ravel().\n",
            "  y = column_or_1d(y, warn=True)\n"
          ],
          "name": "stderr"
        },
        {
          "output_type": "stream",
          "text": [
            "Language: French      Data loaded: sample data      sample_size: 16      c: 1      seed: 2018\n",
            "\n",
            " F1 macro score for test: 0.5706521739130435\n",
            "\n",
            " F1 macro score for val: 0.4582444061962134\n",
            "\n",
            " Accuracy for test: 0.6455696202531646\n",
            "\n",
            " Accuracy for val: 0.5271317829457365\n"
          ],
          "name": "stdout"
        },
        {
          "output_type": "stream",
          "text": [
            "/usr/local/lib/python3.6/dist-packages/sklearn/utils/validation.py:760: DataConversionWarning: A column-vector y was passed when a 1d array was expected. Please change the shape of y to (n_samples, ), for example using ravel().\n",
            "  y = column_or_1d(y, warn=True)\n"
          ],
          "name": "stderr"
        },
        {
          "output_type": "stream",
          "text": [
            "Language: French      Data loaded: sample data      sample_size: 16      c: 1      seed: 2019\n",
            "\n",
            " F1 macro score for test: 0.5511363636363636\n",
            "\n",
            " F1 macro score for val: 0.5038461538461538\n",
            "\n",
            " Accuracy for test: 0.620253164556962\n",
            "\n",
            " Accuracy for val: 0.5813953488372093\n"
          ],
          "name": "stdout"
        },
        {
          "output_type": "stream",
          "text": [
            "/usr/local/lib/python3.6/dist-packages/sklearn/utils/validation.py:760: DataConversionWarning: A column-vector y was passed when a 1d array was expected. Please change the shape of y to (n_samples, ), for example using ravel().\n",
            "  y = column_or_1d(y, warn=True)\n"
          ],
          "name": "stderr"
        },
        {
          "output_type": "stream",
          "text": [
            "Language: French      Data loaded: sample data      sample_size: 16      c: 1      seed: 2020\n",
            "\n",
            " F1 macro score for test: 0.5380116959064327\n",
            "\n",
            " F1 macro score for val: 0.5636275773195877\n",
            "\n",
            " Accuracy for test: 0.6286919831223629\n",
            "\n",
            " Accuracy for val: 0.6744186046511628\n"
          ],
          "name": "stdout"
        },
        {
          "output_type": "stream",
          "text": [
            "/usr/local/lib/python3.6/dist-packages/sklearn/utils/validation.py:760: DataConversionWarning: A column-vector y was passed when a 1d array was expected. Please change the shape of y to (n_samples, ), for example using ravel().\n",
            "  y = column_or_1d(y, warn=True)\n"
          ],
          "name": "stderr"
        },
        {
          "output_type": "stream",
          "text": [
            "Language: French      Data loaded: sample data      sample_size: 16      c: 1      seed: 2021\n",
            "\n",
            " F1 macro score for test: 0.5195945945945946\n",
            "\n",
            " F1 macro score for val: 0.5182972367438387\n",
            "\n",
            " Accuracy for test: 0.6708860759493671\n",
            "\n",
            " Accuracy for val: 0.689922480620155\n"
          ],
          "name": "stdout"
        },
        {
          "output_type": "stream",
          "text": [
            "/usr/local/lib/python3.6/dist-packages/sklearn/utils/validation.py:760: DataConversionWarning: A column-vector y was passed when a 1d array was expected. Please change the shape of y to (n_samples, ), for example using ravel().\n",
            "  y = column_or_1d(y, warn=True)\n"
          ],
          "name": "stderr"
        },
        {
          "output_type": "stream",
          "text": [
            "Language: French      Data loaded: sample data      sample_size: 16      c: 1      seed: 2022\n",
            "\n",
            " F1 macro score for test: 0.5775582519059379\n",
            "\n",
            " F1 macro score for val: 0.568693009118541\n",
            "\n",
            " Accuracy for test: 0.6497890295358649\n",
            "\n",
            " Accuracy for val: 0.6589147286821705\n"
          ],
          "name": "stdout"
        },
        {
          "output_type": "stream",
          "text": [
            "/usr/local/lib/python3.6/dist-packages/sklearn/utils/validation.py:760: DataConversionWarning: A column-vector y was passed when a 1d array was expected. Please change the shape of y to (n_samples, ), for example using ravel().\n",
            "  y = column_or_1d(y, warn=True)\n"
          ],
          "name": "stderr"
        },
        {
          "output_type": "stream",
          "text": [
            "Language: French      Data loaded: sample data      sample_size: 16      c: 10      seed: 2018\n",
            "\n",
            " F1 macro score for test: 0.5580047185709471\n",
            "\n",
            " F1 macro score for val: 0.4830601092896175\n",
            "\n",
            " Accuracy for test: 0.6497890295358649\n",
            "\n",
            " Accuracy for val: 0.5736434108527132\n"
          ],
          "name": "stdout"
        },
        {
          "output_type": "stream",
          "text": [
            "/usr/local/lib/python3.6/dist-packages/sklearn/utils/validation.py:760: DataConversionWarning: A column-vector y was passed when a 1d array was expected. Please change the shape of y to (n_samples, ), for example using ravel().\n",
            "  y = column_or_1d(y, warn=True)\n"
          ],
          "name": "stderr"
        },
        {
          "output_type": "stream",
          "text": [
            "Language: French      Data loaded: sample data      sample_size: 16      c: 10      seed: 2019\n",
            "\n",
            " F1 macro score for test: 0.5479090242112985\n",
            "\n",
            " F1 macro score for val: 0.5094353160651504\n",
            "\n",
            " Accuracy for test: 0.6160337552742616\n",
            "\n",
            " Accuracy for val: 0.5891472868217055\n"
          ],
          "name": "stdout"
        },
        {
          "output_type": "stream",
          "text": [
            "/usr/local/lib/python3.6/dist-packages/sklearn/utils/validation.py:760: DataConversionWarning: A column-vector y was passed when a 1d array was expected. Please change the shape of y to (n_samples, ), for example using ravel().\n",
            "  y = column_or_1d(y, warn=True)\n"
          ],
          "name": "stderr"
        },
        {
          "output_type": "stream",
          "text": [
            "Language: French      Data loaded: sample data      sample_size: 16      c: 10      seed: 2020\n",
            "\n",
            " F1 macro score for test: 0.5548300536672629\n",
            "\n",
            " F1 macro score for val: 0.5724431818181819\n",
            "\n",
            " Accuracy for test: 0.6455696202531646\n",
            "\n",
            " Accuracy for val: 0.6744186046511628\n"
          ],
          "name": "stdout"
        },
        {
          "output_type": "stream",
          "text": [
            "/usr/local/lib/python3.6/dist-packages/sklearn/utils/validation.py:760: DataConversionWarning: A column-vector y was passed when a 1d array was expected. Please change the shape of y to (n_samples, ), for example using ravel().\n",
            "  y = column_or_1d(y, warn=True)\n"
          ],
          "name": "stderr"
        },
        {
          "output_type": "stream",
          "text": [
            "Language: French      Data loaded: sample data      sample_size: 16      c: 10      seed: 2021\n",
            "\n",
            " F1 macro score for test: 0.5128083491461101\n",
            "\n",
            " F1 macro score for val: 0.4990053992611538\n",
            "\n",
            " Accuracy for test: 0.6708860759493671\n",
            "\n",
            " Accuracy for val: 0.6821705426356589\n"
          ],
          "name": "stdout"
        },
        {
          "output_type": "stream",
          "text": [
            "/usr/local/lib/python3.6/dist-packages/sklearn/utils/validation.py:760: DataConversionWarning: A column-vector y was passed when a 1d array was expected. Please change the shape of y to (n_samples, ), for example using ravel().\n",
            "  y = column_or_1d(y, warn=True)\n"
          ],
          "name": "stderr"
        },
        {
          "output_type": "stream",
          "text": [
            "Language: French      Data loaded: sample data      sample_size: 16      c: 10      seed: 2022\n",
            "\n",
            " F1 macro score for test: 0.5669161155586495\n",
            "\n",
            " F1 macro score for val: 0.5867000078143314\n",
            "\n",
            " Accuracy for test: 0.6455696202531646\n",
            "\n",
            " Accuracy for val: 0.6821705426356589\n"
          ],
          "name": "stdout"
        },
        {
          "output_type": "stream",
          "text": [
            "/usr/local/lib/python3.6/dist-packages/sklearn/utils/validation.py:760: DataConversionWarning: A column-vector y was passed when a 1d array was expected. Please change the shape of y to (n_samples, ), for example using ravel().\n",
            "  y = column_or_1d(y, warn=True)\n"
          ],
          "name": "stderr"
        },
        {
          "output_type": "stream",
          "text": [
            "Language: French      Data loaded: sample data      sample_size: 32      c: 0.01      seed: 2018\n",
            "\n",
            " F1 macro score for test: 0.5522119815668203\n",
            "\n",
            " F1 macro score for val: 0.4408668730650155\n",
            "\n",
            " Accuracy for test: 0.6540084388185654\n",
            "\n",
            " Accuracy for val: 0.5658914728682171\n"
          ],
          "name": "stdout"
        },
        {
          "output_type": "stream",
          "text": [
            "/usr/local/lib/python3.6/dist-packages/sklearn/utils/validation.py:760: DataConversionWarning: A column-vector y was passed when a 1d array was expected. Please change the shape of y to (n_samples, ), for example using ravel().\n",
            "  y = column_or_1d(y, warn=True)\n"
          ],
          "name": "stderr"
        },
        {
          "output_type": "stream",
          "text": [
            "Language: French      Data loaded: sample data      sample_size: 32      c: 0.01      seed: 2019\n",
            "\n",
            " F1 macro score for test: 0.5482026143790849\n",
            "\n",
            " F1 macro score for val: 0.5410509031198687\n",
            "\n",
            " Accuracy for test: 0.5864978902953587\n",
            "\n",
            " Accuracy for val: 0.5968992248062015\n"
          ],
          "name": "stdout"
        },
        {
          "output_type": "stream",
          "text": [
            "/usr/local/lib/python3.6/dist-packages/sklearn/utils/validation.py:760: DataConversionWarning: A column-vector y was passed when a 1d array was expected. Please change the shape of y to (n_samples, ), for example using ravel().\n",
            "  y = column_or_1d(y, warn=True)\n"
          ],
          "name": "stderr"
        },
        {
          "output_type": "stream",
          "text": [
            "Language: French      Data loaded: sample data      sample_size: 32      c: 0.01      seed: 2020\n",
            "\n",
            " F1 macro score for test: 0.5195393374741201\n",
            "\n",
            " F1 macro score for val: 0.60790273556231\n",
            "\n",
            " Accuracy for test: 0.6033755274261603\n",
            "\n",
            " Accuracy for val: 0.689922480620155\n"
          ],
          "name": "stdout"
        },
        {
          "output_type": "stream",
          "text": [
            "/usr/local/lib/python3.6/dist-packages/sklearn/utils/validation.py:760: DataConversionWarning: A column-vector y was passed when a 1d array was expected. Please change the shape of y to (n_samples, ), for example using ravel().\n",
            "  y = column_or_1d(y, warn=True)\n"
          ],
          "name": "stderr"
        },
        {
          "output_type": "stream",
          "text": [
            "Language: French      Data loaded: sample data      sample_size: 32      c: 0.01      seed: 2021\n",
            "\n",
            " F1 macro score for test: 0.555817696734505\n",
            "\n",
            " F1 macro score for val: 0.5317234848484849\n",
            "\n",
            " Accuracy for test: 0.6413502109704642\n",
            "\n",
            " Accuracy for val: 0.6434108527131783\n"
          ],
          "name": "stdout"
        },
        {
          "output_type": "stream",
          "text": [
            "/usr/local/lib/python3.6/dist-packages/sklearn/utils/validation.py:760: DataConversionWarning: A column-vector y was passed when a 1d array was expected. Please change the shape of y to (n_samples, ), for example using ravel().\n",
            "  y = column_or_1d(y, warn=True)\n"
          ],
          "name": "stderr"
        },
        {
          "output_type": "stream",
          "text": [
            "Language: French      Data loaded: sample data      sample_size: 32      c: 0.01      seed: 2022\n",
            "\n",
            " F1 macro score for test: 0.5313559322033898\n",
            "\n",
            " F1 macro score for val: 0.5012886597938144\n",
            "\n",
            " Accuracy for test: 0.6455696202531646\n",
            "\n",
            " Accuracy for val: 0.627906976744186\n"
          ],
          "name": "stdout"
        },
        {
          "output_type": "stream",
          "text": [
            "/usr/local/lib/python3.6/dist-packages/sklearn/utils/validation.py:760: DataConversionWarning: A column-vector y was passed when a 1d array was expected. Please change the shape of y to (n_samples, ), for example using ravel().\n",
            "  y = column_or_1d(y, warn=True)\n"
          ],
          "name": "stderr"
        },
        {
          "output_type": "stream",
          "text": [
            "Language: French      Data loaded: sample data      sample_size: 32      c: 0.1      seed: 2018\n",
            "\n",
            " F1 macro score for test: 0.5522119815668203\n",
            "\n",
            " F1 macro score for val: 0.4408668730650155\n",
            "\n",
            " Accuracy for test: 0.6540084388185654\n",
            "\n",
            " Accuracy for val: 0.5658914728682171\n"
          ],
          "name": "stdout"
        },
        {
          "output_type": "stream",
          "text": [
            "/usr/local/lib/python3.6/dist-packages/sklearn/utils/validation.py:760: DataConversionWarning: A column-vector y was passed when a 1d array was expected. Please change the shape of y to (n_samples, ), for example using ravel().\n",
            "  y = column_or_1d(y, warn=True)\n"
          ],
          "name": "stderr"
        },
        {
          "output_type": "stream",
          "text": [
            "Language: French      Data loaded: sample data      sample_size: 32      c: 0.1      seed: 2019\n",
            "\n",
            " F1 macro score for test: 0.5399844720496896\n",
            "\n",
            " F1 macro score for val: 0.5113636363636364\n",
            "\n",
            " Accuracy for test: 0.620253164556962\n",
            "\n",
            " Accuracy for val: 0.627906976744186\n"
          ],
          "name": "stdout"
        },
        {
          "output_type": "stream",
          "text": [
            "/usr/local/lib/python3.6/dist-packages/sklearn/utils/validation.py:760: DataConversionWarning: A column-vector y was passed when a 1d array was expected. Please change the shape of y to (n_samples, ), for example using ravel().\n",
            "  y = column_or_1d(y, warn=True)\n"
          ],
          "name": "stderr"
        },
        {
          "output_type": "stream",
          "text": [
            "Language: French      Data loaded: sample data      sample_size: 32      c: 0.1      seed: 2020\n",
            "\n",
            " F1 macro score for test: 0.5226017457601422\n",
            "\n",
            " F1 macro score for val: 0.6142167011732229\n",
            "\n",
            " Accuracy for test: 0.6075949367088608\n",
            "\n",
            " Accuracy for val: 0.6976744186046512\n"
          ],
          "name": "stdout"
        },
        {
          "output_type": "stream",
          "text": [
            "/usr/local/lib/python3.6/dist-packages/sklearn/utils/validation.py:760: DataConversionWarning: A column-vector y was passed when a 1d array was expected. Please change the shape of y to (n_samples, ), for example using ravel().\n",
            "  y = column_or_1d(y, warn=True)\n"
          ],
          "name": "stderr"
        },
        {
          "output_type": "stream",
          "text": [
            "Language: French      Data loaded: sample data      sample_size: 32      c: 0.1      seed: 2021\n",
            "\n",
            " F1 macro score for test: 0.5622148532259141\n",
            "\n",
            " F1 macro score for val: 0.5317234848484849\n",
            "\n",
            " Accuracy for test: 0.6497890295358649\n",
            "\n",
            " Accuracy for val: 0.6434108527131783\n"
          ],
          "name": "stdout"
        },
        {
          "output_type": "stream",
          "text": [
            "/usr/local/lib/python3.6/dist-packages/sklearn/utils/validation.py:760: DataConversionWarning: A column-vector y was passed when a 1d array was expected. Please change the shape of y to (n_samples, ), for example using ravel().\n",
            "  y = column_or_1d(y, warn=True)\n"
          ],
          "name": "stderr"
        },
        {
          "output_type": "stream",
          "text": [
            "Language: French      Data loaded: sample data      sample_size: 32      c: 0.1      seed: 2022\n",
            "\n",
            " F1 macro score for test: 0.5760286225402504\n",
            "\n",
            " F1 macro score for val: 0.47773279352226716\n",
            "\n",
            " Accuracy for test: 0.6624472573839663\n",
            "\n",
            " Accuracy for val: 0.5658914728682171\n"
          ],
          "name": "stdout"
        },
        {
          "output_type": "stream",
          "text": [
            "/usr/local/lib/python3.6/dist-packages/sklearn/utils/validation.py:760: DataConversionWarning: A column-vector y was passed when a 1d array was expected. Please change the shape of y to (n_samples, ), for example using ravel().\n",
            "  y = column_or_1d(y, warn=True)\n"
          ],
          "name": "stderr"
        },
        {
          "output_type": "stream",
          "text": [
            "Language: French      Data loaded: sample data      sample_size: 32      c: 1      seed: 2018\n",
            "\n",
            " F1 macro score for test: 0.5443680077826418\n",
            "\n",
            " F1 macro score for val: 0.4408668730650155\n",
            "\n",
            " Accuracy for test: 0.6497890295358649\n",
            "\n",
            " Accuracy for val: 0.5658914728682171\n"
          ],
          "name": "stdout"
        },
        {
          "output_type": "stream",
          "text": [
            "/usr/local/lib/python3.6/dist-packages/sklearn/utils/validation.py:760: DataConversionWarning: A column-vector y was passed when a 1d array was expected. Please change the shape of y to (n_samples, ), for example using ravel().\n",
            "  y = column_or_1d(y, warn=True)\n"
          ],
          "name": "stderr"
        },
        {
          "output_type": "stream",
          "text": [
            "Language: French      Data loaded: sample data      sample_size: 32      c: 1      seed: 2019\n",
            "\n",
            " F1 macro score for test: 0.5399844720496896\n",
            "\n",
            " F1 macro score for val: 0.5113636363636364\n",
            "\n",
            " Accuracy for test: 0.620253164556962\n",
            "\n",
            " Accuracy for val: 0.627906976744186\n"
          ],
          "name": "stdout"
        },
        {
          "output_type": "stream",
          "text": [
            "/usr/local/lib/python3.6/dist-packages/sklearn/utils/validation.py:760: DataConversionWarning: A column-vector y was passed when a 1d array was expected. Please change the shape of y to (n_samples, ), for example using ravel().\n",
            "  y = column_or_1d(y, warn=True)\n"
          ],
          "name": "stderr"
        },
        {
          "output_type": "stream",
          "text": [
            "Language: French      Data loaded: sample data      sample_size: 32      c: 1      seed: 2020\n",
            "\n",
            " F1 macro score for test: 0.527511961722488\n",
            "\n",
            " F1 macro score for val: 0.5882978723404255\n",
            "\n",
            " Accuracy for test: 0.620253164556962\n",
            "\n",
            " Accuracy for val: 0.6744186046511628\n"
          ],
          "name": "stdout"
        },
        {
          "output_type": "stream",
          "text": [
            "/usr/local/lib/python3.6/dist-packages/sklearn/utils/validation.py:760: DataConversionWarning: A column-vector y was passed when a 1d array was expected. Please change the shape of y to (n_samples, ), for example using ravel().\n",
            "  y = column_or_1d(y, warn=True)\n"
          ],
          "name": "stderr"
        },
        {
          "output_type": "stream",
          "text": [
            "Language: French      Data loaded: sample data      sample_size: 32      c: 1      seed: 2021\n",
            "\n",
            " F1 macro score for test: 0.5686552072800809\n",
            "\n",
            " F1 macro score for val: 0.5317234848484849\n",
            "\n",
            " Accuracy for test: 0.6582278481012658\n",
            "\n",
            " Accuracy for val: 0.6434108527131783\n"
          ],
          "name": "stdout"
        },
        {
          "output_type": "stream",
          "text": [
            "/usr/local/lib/python3.6/dist-packages/sklearn/utils/validation.py:760: DataConversionWarning: A column-vector y was passed when a 1d array was expected. Please change the shape of y to (n_samples, ), for example using ravel().\n",
            "  y = column_or_1d(y, warn=True)\n"
          ],
          "name": "stderr"
        },
        {
          "output_type": "stream",
          "text": [
            "Language: French      Data loaded: sample data      sample_size: 32      c: 1      seed: 2022\n",
            "\n",
            " F1 macro score for test: 0.5833129325885207\n",
            "\n",
            " F1 macro score for val: 0.47773279352226716\n",
            "\n",
            " Accuracy for test: 0.6666666666666666\n",
            "\n",
            " Accuracy for val: 0.5658914728682171\n"
          ],
          "name": "stdout"
        },
        {
          "output_type": "stream",
          "text": [
            "/usr/local/lib/python3.6/dist-packages/sklearn/utils/validation.py:760: DataConversionWarning: A column-vector y was passed when a 1d array was expected. Please change the shape of y to (n_samples, ), for example using ravel().\n",
            "  y = column_or_1d(y, warn=True)\n"
          ],
          "name": "stderr"
        },
        {
          "output_type": "stream",
          "text": [
            "Language: French      Data loaded: sample data      sample_size: 32      c: 10      seed: 2018\n",
            "\n",
            " F1 macro score for test: 0.5759887005649718\n",
            "\n",
            " F1 macro score for val: 0.42992424242424243\n",
            "\n",
            " Accuracy for test: 0.679324894514768\n",
            "\n",
            " Accuracy for val: 0.5658914728682171\n"
          ],
          "name": "stdout"
        },
        {
          "output_type": "stream",
          "text": [
            "/usr/local/lib/python3.6/dist-packages/sklearn/utils/validation.py:760: DataConversionWarning: A column-vector y was passed when a 1d array was expected. Please change the shape of y to (n_samples, ), for example using ravel().\n",
            "  y = column_or_1d(y, warn=True)\n"
          ],
          "name": "stderr"
        },
        {
          "output_type": "stream",
          "text": [
            "Language: French      Data loaded: sample data      sample_size: 32      c: 10      seed: 2019\n",
            "\n",
            " F1 macro score for test: 0.5438408896492728\n",
            "\n",
            " F1 macro score for val: 0.5294832826747721\n",
            "\n",
            " Accuracy for test: 0.620253164556962\n",
            "\n",
            " Accuracy for val: 0.627906976744186\n"
          ],
          "name": "stdout"
        },
        {
          "output_type": "stream",
          "text": [
            "/usr/local/lib/python3.6/dist-packages/sklearn/utils/validation.py:760: DataConversionWarning: A column-vector y was passed when a 1d array was expected. Please change the shape of y to (n_samples, ), for example using ravel().\n",
            "  y = column_or_1d(y, warn=True)\n"
          ],
          "name": "stderr"
        },
        {
          "output_type": "stream",
          "text": [
            "Language: French      Data loaded: sample data      sample_size: 32      c: 10      seed: 2020\n",
            "\n",
            " F1 macro score for test: 0.5490888252148998\n",
            "\n",
            " F1 macro score for val: 0.5578318055001993\n",
            "\n",
            " Accuracy for test: 0.6497890295358649\n",
            "\n",
            " Accuracy for val: 0.6666666666666666\n"
          ],
          "name": "stdout"
        },
        {
          "output_type": "stream",
          "text": [
            "/usr/local/lib/python3.6/dist-packages/sklearn/utils/validation.py:760: DataConversionWarning: A column-vector y was passed when a 1d array was expected. Please change the shape of y to (n_samples, ), for example using ravel().\n",
            "  y = column_or_1d(y, warn=True)\n"
          ],
          "name": "stderr"
        },
        {
          "output_type": "stream",
          "text": [
            "Language: French      Data loaded: sample data      sample_size: 32      c: 10      seed: 2021\n",
            "\n",
            " F1 macro score for test: 0.5490888252148998\n",
            "\n",
            " F1 macro score for val: 0.5428479381443299\n",
            "\n",
            " Accuracy for test: 0.6497890295358649\n",
            "\n",
            " Accuracy for val: 0.6589147286821705\n"
          ],
          "name": "stdout"
        },
        {
          "output_type": "stream",
          "text": [
            "/usr/local/lib/python3.6/dist-packages/sklearn/utils/validation.py:760: DataConversionWarning: A column-vector y was passed when a 1d array was expected. Please change the shape of y to (n_samples, ), for example using ravel().\n",
            "  y = column_or_1d(y, warn=True)\n"
          ],
          "name": "stderr"
        },
        {
          "output_type": "stream",
          "text": [
            "Language: French      Data loaded: sample data      sample_size: 32      c: 10      seed: 2022\n",
            "\n",
            " F1 macro score for test: 0.5599541547277936\n",
            "\n",
            " F1 macro score for val: 0.5044814340588989\n",
            "\n",
            " Accuracy for test: 0.6582278481012658\n",
            "\n",
            " Accuracy for val: 0.6046511627906976\n"
          ],
          "name": "stdout"
        },
        {
          "output_type": "stream",
          "text": [
            "/usr/local/lib/python3.6/dist-packages/sklearn/utils/validation.py:760: DataConversionWarning: A column-vector y was passed when a 1d array was expected. Please change the shape of y to (n_samples, ), for example using ravel().\n",
            "  y = column_or_1d(y, warn=True)\n"
          ],
          "name": "stderr"
        },
        {
          "output_type": "stream",
          "text": [
            "Language: French      Data loaded: sample data      sample_size: 64      c: 0.01      seed: 2018\n",
            "\n",
            " F1 macro score for test: 0.5504642108415694\n",
            "\n",
            " F1 macro score for val: 0.48809523809523814\n",
            "\n",
            " Accuracy for test: 0.5991561181434599\n",
            "\n",
            " Accuracy for val: 0.5348837209302325\n"
          ],
          "name": "stdout"
        },
        {
          "output_type": "stream",
          "text": [
            "/usr/local/lib/python3.6/dist-packages/sklearn/utils/validation.py:760: DataConversionWarning: A column-vector y was passed when a 1d array was expected. Please change the shape of y to (n_samples, ), for example using ravel().\n",
            "  y = column_or_1d(y, warn=True)\n"
          ],
          "name": "stderr"
        },
        {
          "output_type": "stream",
          "text": [
            "Language: French      Data loaded: sample data      sample_size: 64      c: 0.01      seed: 2019\n",
            "\n",
            " F1 macro score for test: 0.5343417911393742\n",
            "\n",
            " F1 macro score for val: 0.5822098365594637\n",
            "\n",
            " Accuracy for test: 0.6075949367088608\n",
            "\n",
            " Accuracy for val: 0.6666666666666666\n"
          ],
          "name": "stdout"
        },
        {
          "output_type": "stream",
          "text": [
            "/usr/local/lib/python3.6/dist-packages/sklearn/utils/validation.py:760: DataConversionWarning: A column-vector y was passed when a 1d array was expected. Please change the shape of y to (n_samples, ), for example using ravel().\n",
            "  y = column_or_1d(y, warn=True)\n"
          ],
          "name": "stderr"
        },
        {
          "output_type": "stream",
          "text": [
            "Language: French      Data loaded: sample data      sample_size: 64      c: 0.01      seed: 2020\n",
            "\n",
            " F1 macro score for test: 0.5214223002633889\n",
            "\n",
            " F1 macro score for val: 0.6557584269662922\n",
            "\n",
            " Accuracy for test: 0.6118143459915611\n",
            "\n",
            " Accuracy for val: 0.7054263565891473\n"
          ],
          "name": "stdout"
        },
        {
          "output_type": "stream",
          "text": [
            "/usr/local/lib/python3.6/dist-packages/sklearn/utils/validation.py:760: DataConversionWarning: A column-vector y was passed when a 1d array was expected. Please change the shape of y to (n_samples, ), for example using ravel().\n",
            "  y = column_or_1d(y, warn=True)\n"
          ],
          "name": "stderr"
        },
        {
          "output_type": "stream",
          "text": [
            "Language: French      Data loaded: sample data      sample_size: 64      c: 0.01      seed: 2021\n",
            "\n",
            " F1 macro score for test: 0.5891388485728108\n",
            "\n",
            " F1 macro score for val: 0.5892632358385783\n",
            "\n",
            " Accuracy for test: 0.6371308016877637\n",
            "\n",
            " Accuracy for val: 0.6666666666666666\n"
          ],
          "name": "stdout"
        },
        {
          "output_type": "stream",
          "text": [
            "/usr/local/lib/python3.6/dist-packages/sklearn/utils/validation.py:760: DataConversionWarning: A column-vector y was passed when a 1d array was expected. Please change the shape of y to (n_samples, ), for example using ravel().\n",
            "  y = column_or_1d(y, warn=True)\n"
          ],
          "name": "stderr"
        },
        {
          "output_type": "stream",
          "text": [
            "Language: French      Data loaded: sample data      sample_size: 64      c: 0.01      seed: 2022\n",
            "\n",
            " F1 macro score for test: 0.5662690450466342\n",
            "\n",
            " F1 macro score for val: 0.4937693631669535\n",
            "\n",
            " Accuracy for test: 0.6497890295358649\n",
            "\n",
            " Accuracy for val: 0.5581395348837209\n"
          ],
          "name": "stdout"
        },
        {
          "output_type": "stream",
          "text": [
            "/usr/local/lib/python3.6/dist-packages/sklearn/utils/validation.py:760: DataConversionWarning: A column-vector y was passed when a 1d array was expected. Please change the shape of y to (n_samples, ), for example using ravel().\n",
            "  y = column_or_1d(y, warn=True)\n"
          ],
          "name": "stderr"
        },
        {
          "output_type": "stream",
          "text": [
            "Language: French      Data loaded: sample data      sample_size: 64      c: 0.1      seed: 2018\n",
            "\n",
            " F1 macro score for test: 0.5509192065795839\n",
            "\n",
            " F1 macro score for val: 0.48809523809523814\n",
            "\n",
            " Accuracy for test: 0.6033755274261603\n",
            "\n",
            " Accuracy for val: 0.5348837209302325\n"
          ],
          "name": "stdout"
        },
        {
          "output_type": "stream",
          "text": [
            "/usr/local/lib/python3.6/dist-packages/sklearn/utils/validation.py:760: DataConversionWarning: A column-vector y was passed when a 1d array was expected. Please change the shape of y to (n_samples, ), for example using ravel().\n",
            "  y = column_or_1d(y, warn=True)\n"
          ],
          "name": "stderr"
        },
        {
          "output_type": "stream",
          "text": [
            "Language: French      Data loaded: sample data      sample_size: 64      c: 0.1      seed: 2019\n",
            "\n",
            " F1 macro score for test: 0.5343417911393742\n",
            "\n",
            " F1 macro score for val: 0.5822098365594637\n",
            "\n",
            " Accuracy for test: 0.6075949367088608\n",
            "\n",
            " Accuracy for val: 0.6666666666666666\n"
          ],
          "name": "stdout"
        },
        {
          "output_type": "stream",
          "text": [
            "/usr/local/lib/python3.6/dist-packages/sklearn/utils/validation.py:760: DataConversionWarning: A column-vector y was passed when a 1d array was expected. Please change the shape of y to (n_samples, ), for example using ravel().\n",
            "  y = column_or_1d(y, warn=True)\n"
          ],
          "name": "stderr"
        },
        {
          "output_type": "stream",
          "text": [
            "Language: French      Data loaded: sample data      sample_size: 64      c: 0.1      seed: 2020\n",
            "\n",
            " F1 macro score for test: 0.5214223002633889\n",
            "\n",
            " F1 macro score for val: 0.6557584269662922\n",
            "\n",
            " Accuracy for test: 0.6118143459915611\n",
            "\n",
            " Accuracy for val: 0.7054263565891473\n"
          ],
          "name": "stdout"
        },
        {
          "output_type": "stream",
          "text": [
            "/usr/local/lib/python3.6/dist-packages/sklearn/utils/validation.py:760: DataConversionWarning: A column-vector y was passed when a 1d array was expected. Please change the shape of y to (n_samples, ), for example using ravel().\n",
            "  y = column_or_1d(y, warn=True)\n"
          ],
          "name": "stderr"
        },
        {
          "output_type": "stream",
          "text": [
            "Language: French      Data loaded: sample data      sample_size: 64      c: 0.1      seed: 2021\n",
            "\n",
            " F1 macro score for test: 0.5891388485728108\n",
            "\n",
            " F1 macro score for val: 0.5892632358385783\n",
            "\n",
            " Accuracy for test: 0.6371308016877637\n",
            "\n",
            " Accuracy for val: 0.6666666666666666\n"
          ],
          "name": "stdout"
        },
        {
          "output_type": "stream",
          "text": [
            "/usr/local/lib/python3.6/dist-packages/sklearn/utils/validation.py:760: DataConversionWarning: A column-vector y was passed when a 1d array was expected. Please change the shape of y to (n_samples, ), for example using ravel().\n",
            "  y = column_or_1d(y, warn=True)\n"
          ],
          "name": "stderr"
        },
        {
          "output_type": "stream",
          "text": [
            "Language: French      Data loaded: sample data      sample_size: 64      c: 0.1      seed: 2022\n",
            "\n",
            " F1 macro score for test: 0.5662690450466342\n",
            "\n",
            " F1 macro score for val: 0.48713119899560586\n",
            "\n",
            " Accuracy for test: 0.6497890295358649\n",
            "\n",
            " Accuracy for val: 0.5581395348837209\n"
          ],
          "name": "stdout"
        },
        {
          "output_type": "stream",
          "text": [
            "/usr/local/lib/python3.6/dist-packages/sklearn/utils/validation.py:760: DataConversionWarning: A column-vector y was passed when a 1d array was expected. Please change the shape of y to (n_samples, ), for example using ravel().\n",
            "  y = column_or_1d(y, warn=True)\n"
          ],
          "name": "stderr"
        },
        {
          "output_type": "stream",
          "text": [
            "Language: French      Data loaded: sample data      sample_size: 64      c: 1      seed: 2018\n",
            "\n",
            " F1 macro score for test: 0.5666579597741566\n",
            "\n",
            " F1 macro score for val: 0.4939831128249451\n",
            "\n",
            " Accuracy for test: 0.6160337552742616\n",
            "\n",
            " Accuracy for val: 0.5426356589147286\n"
          ],
          "name": "stdout"
        },
        {
          "output_type": "stream",
          "text": [
            "/usr/local/lib/python3.6/dist-packages/sklearn/utils/validation.py:760: DataConversionWarning: A column-vector y was passed when a 1d array was expected. Please change the shape of y to (n_samples, ), for example using ravel().\n",
            "  y = column_or_1d(y, warn=True)\n"
          ],
          "name": "stderr"
        },
        {
          "output_type": "stream",
          "text": [
            "Language: French      Data loaded: sample data      sample_size: 64      c: 1      seed: 2019\n",
            "\n",
            " F1 macro score for test: 0.5274478194468013\n",
            "\n",
            " F1 macro score for val: 0.5822098365594637\n",
            "\n",
            " Accuracy for test: 0.6033755274261603\n",
            "\n",
            " Accuracy for val: 0.6666666666666666\n"
          ],
          "name": "stdout"
        },
        {
          "output_type": "stream",
          "text": [
            "/usr/local/lib/python3.6/dist-packages/sklearn/utils/validation.py:760: DataConversionWarning: A column-vector y was passed when a 1d array was expected. Please change the shape of y to (n_samples, ), for example using ravel().\n",
            "  y = column_or_1d(y, warn=True)\n"
          ],
          "name": "stderr"
        },
        {
          "output_type": "stream",
          "text": [
            "Language: French      Data loaded: sample data      sample_size: 64      c: 1      seed: 2020\n",
            "\n",
            " F1 macro score for test: 0.5305677341820043\n",
            "\n",
            " F1 macro score for val: 0.6442260094759918\n",
            "\n",
            " Accuracy for test: 0.6244725738396625\n",
            "\n",
            " Accuracy for val: 0.6976744186046512\n"
          ],
          "name": "stdout"
        },
        {
          "output_type": "stream",
          "text": [
            "/usr/local/lib/python3.6/dist-packages/sklearn/utils/validation.py:760: DataConversionWarning: A column-vector y was passed when a 1d array was expected. Please change the shape of y to (n_samples, ), for example using ravel().\n",
            "  y = column_or_1d(y, warn=True)\n"
          ],
          "name": "stderr"
        },
        {
          "output_type": "stream",
          "text": [
            "Language: French      Data loaded: sample data      sample_size: 64      c: 1      seed: 2021\n",
            "\n",
            " F1 macro score for test: 0.5891388485728108\n",
            "\n",
            " F1 macro score for val: 0.5954301075268817\n",
            "\n",
            " Accuracy for test: 0.6371308016877637\n",
            "\n",
            " Accuracy for val: 0.6744186046511628\n"
          ],
          "name": "stdout"
        },
        {
          "output_type": "stream",
          "text": [
            "/usr/local/lib/python3.6/dist-packages/sklearn/utils/validation.py:760: DataConversionWarning: A column-vector y was passed when a 1d array was expected. Please change the shape of y to (n_samples, ), for example using ravel().\n",
            "  y = column_or_1d(y, warn=True)\n"
          ],
          "name": "stderr"
        },
        {
          "output_type": "stream",
          "text": [
            "Language: French      Data loaded: sample data      sample_size: 64      c: 1      seed: 2022\n",
            "\n",
            " F1 macro score for test: 0.5516658135446109\n",
            "\n",
            " F1 macro score for val: 0.4926966292134831\n",
            "\n",
            " Accuracy for test: 0.6413502109704642\n",
            "\n",
            " Accuracy for val: 0.5658914728682171\n"
          ],
          "name": "stdout"
        },
        {
          "output_type": "stream",
          "text": [
            "/usr/local/lib/python3.6/dist-packages/sklearn/utils/validation.py:760: DataConversionWarning: A column-vector y was passed when a 1d array was expected. Please change the shape of y to (n_samples, ), for example using ravel().\n",
            "  y = column_or_1d(y, warn=True)\n"
          ],
          "name": "stderr"
        },
        {
          "output_type": "stream",
          "text": [
            "Language: French      Data loaded: sample data      sample_size: 64      c: 10      seed: 2018\n",
            "\n",
            " F1 macro score for test: 0.5767857142857143\n",
            "\n",
            " F1 macro score for val: 0.5279471909306164\n",
            "\n",
            " Accuracy for test: 0.6286919831223629\n",
            "\n",
            " Accuracy for val: 0.6046511627906976\n"
          ],
          "name": "stdout"
        },
        {
          "output_type": "stream",
          "text": [
            "/usr/local/lib/python3.6/dist-packages/sklearn/utils/validation.py:760: DataConversionWarning: A column-vector y was passed when a 1d array was expected. Please change the shape of y to (n_samples, ), for example using ravel().\n",
            "  y = column_or_1d(y, warn=True)\n"
          ],
          "name": "stderr"
        },
        {
          "output_type": "stream",
          "text": [
            "Language: French      Data loaded: sample data      sample_size: 64      c: 10      seed: 2019\n",
            "\n",
            " F1 macro score for test: 0.5290823699421965\n",
            "\n",
            " F1 macro score for val: 0.60790273556231\n",
            "\n",
            " Accuracy for test: 0.6286919831223629\n",
            "\n",
            " Accuracy for val: 0.689922480620155\n"
          ],
          "name": "stdout"
        },
        {
          "output_type": "stream",
          "text": [
            "/usr/local/lib/python3.6/dist-packages/sklearn/utils/validation.py:760: DataConversionWarning: A column-vector y was passed when a 1d array was expected. Please change the shape of y to (n_samples, ), for example using ravel().\n",
            "  y = column_or_1d(y, warn=True)\n"
          ],
          "name": "stderr"
        },
        {
          "output_type": "stream",
          "text": [
            "Language: French      Data loaded: sample data      sample_size: 64      c: 10      seed: 2020\n",
            "\n",
            " F1 macro score for test: 0.5459770114942528\n",
            "\n",
            " F1 macro score for val: 0.6575303149888785\n",
            "\n",
            " Accuracy for test: 0.6455696202531646\n",
            "\n",
            " Accuracy for val: 0.7131782945736435\n"
          ],
          "name": "stdout"
        },
        {
          "output_type": "stream",
          "text": [
            "/usr/local/lib/python3.6/dist-packages/sklearn/utils/validation.py:760: DataConversionWarning: A column-vector y was passed when a 1d array was expected. Please change the shape of y to (n_samples, ), for example using ravel().\n",
            "  y = column_or_1d(y, warn=True)\n"
          ],
          "name": "stderr"
        },
        {
          "output_type": "stream",
          "text": [
            "Language: French      Data loaded: sample data      sample_size: 64      c: 10      seed: 2021\n",
            "\n",
            " F1 macro score for test: 0.5966825907776844\n",
            "\n",
            " F1 macro score for val: 0.5510551647537949\n",
            "\n",
            " Accuracy for test: 0.6497890295358649\n",
            "\n",
            " Accuracy for val: 0.6356589147286822\n"
          ],
          "name": "stdout"
        },
        {
          "output_type": "stream",
          "text": [
            "/usr/local/lib/python3.6/dist-packages/sklearn/utils/validation.py:760: DataConversionWarning: A column-vector y was passed when a 1d array was expected. Please change the shape of y to (n_samples, ), for example using ravel().\n",
            "  y = column_or_1d(y, warn=True)\n"
          ],
          "name": "stderr"
        },
        {
          "output_type": "stream",
          "text": [
            "Language: French      Data loaded: sample data      sample_size: 64      c: 10      seed: 2022\n",
            "\n",
            " F1 macro score for test: 0.5260532524435457\n",
            "\n",
            " F1 macro score for val: 0.5150375939849624\n",
            "\n",
            " Accuracy for test: 0.6244725738396625\n",
            "\n",
            " Accuracy for val: 0.5968992248062015\n"
          ],
          "name": "stdout"
        },
        {
          "output_type": "stream",
          "text": [
            "/usr/local/lib/python3.6/dist-packages/sklearn/utils/validation.py:760: DataConversionWarning: A column-vector y was passed when a 1d array was expected. Please change the shape of y to (n_samples, ), for example using ravel().\n",
            "  y = column_or_1d(y, warn=True)\n"
          ],
          "name": "stderr"
        },
        {
          "output_type": "stream",
          "text": [
            "Language: French      Data loaded: sample data      sample_size: 128      c: 0.01      seed: 2018\n",
            "\n",
            " F1 macro score for test: 0.5411858487701184\n",
            "\n",
            " F1 macro score for val: 0.45494103550482434\n",
            "\n",
            " Accuracy for test: 0.569620253164557\n",
            "\n",
            " Accuracy for val: 0.4806201550387597\n"
          ],
          "name": "stdout"
        },
        {
          "output_type": "stream",
          "text": [
            "/usr/local/lib/python3.6/dist-packages/sklearn/utils/validation.py:760: DataConversionWarning: A column-vector y was passed when a 1d array was expected. Please change the shape of y to (n_samples, ), for example using ravel().\n",
            "  y = column_or_1d(y, warn=True)\n"
          ],
          "name": "stderr"
        },
        {
          "output_type": "stream",
          "text": [
            "Language: French      Data loaded: sample data      sample_size: 128      c: 0.01      seed: 2019\n",
            "\n",
            " F1 macro score for test: 0.5929013954026982\n",
            "\n",
            " F1 macro score for val: 0.5688502673796791\n",
            "\n",
            " Accuracy for test: 0.6244725738396625\n",
            "\n",
            " Accuracy for val: 0.6124031007751938\n"
          ],
          "name": "stdout"
        },
        {
          "output_type": "stream",
          "text": [
            "/usr/local/lib/python3.6/dist-packages/sklearn/utils/validation.py:760: DataConversionWarning: A column-vector y was passed when a 1d array was expected. Please change the shape of y to (n_samples, ), for example using ravel().\n",
            "  y = column_or_1d(y, warn=True)\n"
          ],
          "name": "stderr"
        },
        {
          "output_type": "stream",
          "text": [
            "Language: French      Data loaded: sample data      sample_size: 128      c: 0.01      seed: 2020\n",
            "\n",
            " F1 macro score for test: 0.5513324595893403\n",
            "\n",
            " F1 macro score for val: 0.5825817555938038\n",
            "\n",
            " Accuracy for test: 0.6160337552742616\n",
            "\n",
            " Accuracy for val: 0.6356589147286822\n"
          ],
          "name": "stdout"
        },
        {
          "output_type": "stream",
          "text": [
            "/usr/local/lib/python3.6/dist-packages/sklearn/utils/validation.py:760: DataConversionWarning: A column-vector y was passed when a 1d array was expected. Please change the shape of y to (n_samples, ), for example using ravel().\n",
            "  y = column_or_1d(y, warn=True)\n"
          ],
          "name": "stderr"
        },
        {
          "output_type": "stream",
          "text": [
            "Language: French      Data loaded: sample data      sample_size: 128      c: 0.01      seed: 2021\n",
            "\n",
            " F1 macro score for test: 0.5723930546124745\n",
            "\n",
            " F1 macro score for val: 0.5940065681444991\n",
            "\n",
            " Accuracy for test: 0.6075949367088608\n",
            "\n",
            " Accuracy for val: 0.6434108527131783\n"
          ],
          "name": "stdout"
        },
        {
          "output_type": "stream",
          "text": [
            "/usr/local/lib/python3.6/dist-packages/sklearn/utils/validation.py:760: DataConversionWarning: A column-vector y was passed when a 1d array was expected. Please change the shape of y to (n_samples, ), for example using ravel().\n",
            "  y = column_or_1d(y, warn=True)\n"
          ],
          "name": "stderr"
        },
        {
          "output_type": "stream",
          "text": [
            "Language: French      Data loaded: sample data      sample_size: 128      c: 0.01      seed: 2022\n",
            "\n",
            " F1 macro score for test: 0.5632911392405062\n",
            "\n",
            " F1 macro score for val: 0.5701462087725264\n",
            "\n",
            " Accuracy for test: 0.6118143459915611\n",
            "\n",
            " Accuracy for val: 0.6201550387596899\n"
          ],
          "name": "stdout"
        },
        {
          "output_type": "stream",
          "text": [
            "/usr/local/lib/python3.6/dist-packages/sklearn/utils/validation.py:760: DataConversionWarning: A column-vector y was passed when a 1d array was expected. Please change the shape of y to (n_samples, ), for example using ravel().\n",
            "  y = column_or_1d(y, warn=True)\n"
          ],
          "name": "stderr"
        },
        {
          "output_type": "stream",
          "text": [
            "Language: French      Data loaded: sample data      sample_size: 128      c: 0.1      seed: 2018\n",
            "\n",
            " F1 macro score for test: 0.546690654294101\n",
            "\n",
            " F1 macro score for val: 0.45494103550482434\n",
            "\n",
            " Accuracy for test: 0.5738396624472574\n",
            "\n",
            " Accuracy for val: 0.4806201550387597\n"
          ],
          "name": "stdout"
        },
        {
          "output_type": "stream",
          "text": [
            "/usr/local/lib/python3.6/dist-packages/sklearn/utils/validation.py:760: DataConversionWarning: A column-vector y was passed when a 1d array was expected. Please change the shape of y to (n_samples, ), for example using ravel().\n",
            "  y = column_or_1d(y, warn=True)\n"
          ],
          "name": "stderr"
        },
        {
          "output_type": "stream",
          "text": [
            "Language: French      Data loaded: sample data      sample_size: 128      c: 0.1      seed: 2019\n",
            "\n",
            " F1 macro score for test: 0.5929013954026982\n",
            "\n",
            " F1 macro score for val: 0.5688502673796791\n",
            "\n",
            " Accuracy for test: 0.6244725738396625\n",
            "\n",
            " Accuracy for val: 0.6124031007751938\n"
          ],
          "name": "stdout"
        },
        {
          "output_type": "stream",
          "text": [
            "/usr/local/lib/python3.6/dist-packages/sklearn/utils/validation.py:760: DataConversionWarning: A column-vector y was passed when a 1d array was expected. Please change the shape of y to (n_samples, ), for example using ravel().\n",
            "  y = column_or_1d(y, warn=True)\n"
          ],
          "name": "stderr"
        },
        {
          "output_type": "stream",
          "text": [
            "Language: French      Data loaded: sample data      sample_size: 128      c: 0.1      seed: 2020\n",
            "\n",
            " F1 macro score for test: 0.5513324595893403\n",
            "\n",
            " F1 macro score for val: 0.5940065681444991\n",
            "\n",
            " Accuracy for test: 0.6160337552742616\n",
            "\n",
            " Accuracy for val: 0.6434108527131783\n"
          ],
          "name": "stdout"
        },
        {
          "output_type": "stream",
          "text": [
            "/usr/local/lib/python3.6/dist-packages/sklearn/utils/validation.py:760: DataConversionWarning: A column-vector y was passed when a 1d array was expected. Please change the shape of y to (n_samples, ), for example using ravel().\n",
            "  y = column_or_1d(y, warn=True)\n"
          ],
          "name": "stderr"
        },
        {
          "output_type": "stream",
          "text": [
            "Language: French      Data loaded: sample data      sample_size: 128      c: 0.1      seed: 2021\n",
            "\n",
            " F1 macro score for test: 0.5758636788048552\n",
            "\n",
            " F1 macro score for val: 0.5940065681444991\n",
            "\n",
            " Accuracy for test: 0.6118143459915611\n",
            "\n",
            " Accuracy for val: 0.6434108527131783\n"
          ],
          "name": "stdout"
        },
        {
          "output_type": "stream",
          "text": [
            "/usr/local/lib/python3.6/dist-packages/sklearn/utils/validation.py:760: DataConversionWarning: A column-vector y was passed when a 1d array was expected. Please change the shape of y to (n_samples, ), for example using ravel().\n",
            "  y = column_or_1d(y, warn=True)\n"
          ],
          "name": "stderr"
        },
        {
          "output_type": "stream",
          "text": [
            "Language: French      Data loaded: sample data      sample_size: 128      c: 0.1      seed: 2022\n",
            "\n",
            " F1 macro score for test: 0.569392033542977\n",
            "\n",
            " F1 macro score for val: 0.5701462087725264\n",
            "\n",
            " Accuracy for test: 0.6160337552742616\n",
            "\n",
            " Accuracy for val: 0.6201550387596899\n"
          ],
          "name": "stdout"
        },
        {
          "output_type": "stream",
          "text": [
            "/usr/local/lib/python3.6/dist-packages/sklearn/utils/validation.py:760: DataConversionWarning: A column-vector y was passed when a 1d array was expected. Please change the shape of y to (n_samples, ), for example using ravel().\n",
            "  y = column_or_1d(y, warn=True)\n"
          ],
          "name": "stderr"
        },
        {
          "output_type": "stream",
          "text": [
            "Language: French      Data loaded: sample data      sample_size: 128      c: 1      seed: 2018\n",
            "\n",
            " F1 macro score for test: 0.5377142316068555\n",
            "\n",
            " F1 macro score for val: 0.47346938775510206\n",
            "\n",
            " Accuracy for test: 0.5654008438818565\n",
            "\n",
            " Accuracy for val: 0.5038759689922481\n"
          ],
          "name": "stdout"
        },
        {
          "output_type": "stream",
          "text": [
            "/usr/local/lib/python3.6/dist-packages/sklearn/utils/validation.py:760: DataConversionWarning: A column-vector y was passed when a 1d array was expected. Please change the shape of y to (n_samples, ), for example using ravel().\n",
            "  y = column_or_1d(y, warn=True)\n"
          ],
          "name": "stderr"
        },
        {
          "output_type": "stream",
          "text": [
            "Language: French      Data loaded: sample data      sample_size: 128      c: 1      seed: 2019\n",
            "\n",
            " F1 macro score for test: 0.5779914529914529\n",
            "\n",
            " F1 macro score for val: 0.5924581568864691\n",
            "\n",
            " Accuracy for test: 0.620253164556962\n",
            "\n",
            " Accuracy for val: 0.6356589147286822\n"
          ],
          "name": "stdout"
        },
        {
          "output_type": "stream",
          "text": [
            "/usr/local/lib/python3.6/dist-packages/sklearn/utils/validation.py:760: DataConversionWarning: A column-vector y was passed when a 1d array was expected. Please change the shape of y to (n_samples, ), for example using ravel().\n",
            "  y = column_or_1d(y, warn=True)\n"
          ],
          "name": "stderr"
        },
        {
          "output_type": "stream",
          "text": [
            "Language: French      Data loaded: sample data      sample_size: 128      c: 1      seed: 2020\n",
            "\n",
            " F1 macro score for test: 0.5546308724832215\n",
            "\n",
            " F1 macro score for val: 0.5940065681444991\n",
            "\n",
            " Accuracy for test: 0.6160337552742616\n",
            "\n",
            " Accuracy for val: 0.6434108527131783\n"
          ],
          "name": "stdout"
        },
        {
          "output_type": "stream",
          "text": [
            "/usr/local/lib/python3.6/dist-packages/sklearn/utils/validation.py:760: DataConversionWarning: A column-vector y was passed when a 1d array was expected. Please change the shape of y to (n_samples, ), for example using ravel().\n",
            "  y = column_or_1d(y, warn=True)\n"
          ],
          "name": "stderr"
        },
        {
          "output_type": "stream",
          "text": [
            "Language: French      Data loaded: sample data      sample_size: 128      c: 1      seed: 2021\n",
            "\n",
            " F1 macro score for test: 0.5793364411242661\n",
            "\n",
            " F1 macro score for val: 0.5709534368070954\n",
            "\n",
            " Accuracy for test: 0.6160337552742616\n",
            "\n",
            " Accuracy for val: 0.627906976744186\n"
          ],
          "name": "stdout"
        },
        {
          "output_type": "stream",
          "text": [
            "/usr/local/lib/python3.6/dist-packages/sklearn/utils/validation.py:760: DataConversionWarning: A column-vector y was passed when a 1d array was expected. Please change the shape of y to (n_samples, ), for example using ravel().\n",
            "  y = column_or_1d(y, warn=True)\n"
          ],
          "name": "stderr"
        },
        {
          "output_type": "stream",
          "text": [
            "Language: French      Data loaded: sample data      sample_size: 128      c: 1      seed: 2022\n",
            "\n",
            " F1 macro score for test: 0.5814299605103883\n",
            "\n",
            " F1 macro score for val: 0.557773744706594\n",
            "\n",
            " Accuracy for test: 0.6244725738396625\n",
            "\n",
            " Accuracy for val: 0.6046511627906976\n"
          ],
          "name": "stdout"
        },
        {
          "output_type": "stream",
          "text": [
            "/usr/local/lib/python3.6/dist-packages/sklearn/utils/validation.py:760: DataConversionWarning: A column-vector y was passed when a 1d array was expected. Please change the shape of y to (n_samples, ), for example using ravel().\n",
            "  y = column_or_1d(y, warn=True)\n"
          ],
          "name": "stderr"
        },
        {
          "output_type": "stream",
          "text": [
            "Language: French      Data loaded: sample data      sample_size: 128      c: 10      seed: 2018\n",
            "\n",
            " F1 macro score for test: 0.5723930546124745\n",
            "\n",
            " F1 macro score for val: 0.4939831128249451\n",
            "\n",
            " Accuracy for test: 0.6075949367088608\n",
            "\n",
            " Accuracy for val: 0.5426356589147286\n"
          ],
          "name": "stdout"
        },
        {
          "output_type": "stream",
          "text": [
            "/usr/local/lib/python3.6/dist-packages/sklearn/utils/validation.py:760: DataConversionWarning: A column-vector y was passed when a 1d array was expected. Please change the shape of y to (n_samples, ), for example using ravel().\n",
            "  y = column_or_1d(y, warn=True)\n"
          ],
          "name": "stderr"
        },
        {
          "output_type": "stream",
          "text": [
            "Language: French      Data loaded: sample data      sample_size: 128      c: 10      seed: 2019\n",
            "\n",
            " F1 macro score for test: 0.5700290275761973\n",
            "\n",
            " F1 macro score for val: 0.6067073170731707\n",
            "\n",
            " Accuracy for test: 0.620253164556962\n",
            "\n",
            " Accuracy for val: 0.6589147286821705\n"
          ],
          "name": "stdout"
        },
        {
          "output_type": "stream",
          "text": [
            "/usr/local/lib/python3.6/dist-packages/sklearn/utils/validation.py:760: DataConversionWarning: A column-vector y was passed when a 1d array was expected. Please change the shape of y to (n_samples, ), for example using ravel().\n",
            "  y = column_or_1d(y, warn=True)\n"
          ],
          "name": "stderr"
        },
        {
          "output_type": "stream",
          "text": [
            "Language: French      Data loaded: sample data      sample_size: 128      c: 10      seed: 2020\n",
            "\n",
            " F1 macro score for test: 0.5507635294869337\n",
            "\n",
            " F1 macro score for val: 0.6014044943820225\n",
            "\n",
            " Accuracy for test: 0.6244725738396625\n",
            "\n",
            " Accuracy for val: 0.6589147286821705\n"
          ],
          "name": "stdout"
        },
        {
          "output_type": "stream",
          "text": [
            "/usr/local/lib/python3.6/dist-packages/sklearn/utils/validation.py:760: DataConversionWarning: A column-vector y was passed when a 1d array was expected. Please change the shape of y to (n_samples, ), for example using ravel().\n",
            "  y = column_or_1d(y, warn=True)\n"
          ],
          "name": "stderr"
        },
        {
          "output_type": "stream",
          "text": [
            "Language: French      Data loaded: sample data      sample_size: 128      c: 10      seed: 2021\n",
            "\n",
            " F1 macro score for test: 0.5788559448936806\n",
            "\n",
            " F1 macro score for val: 0.6082995951417004\n",
            "\n",
            " Accuracy for test: 0.6244725738396625\n",
            "\n",
            " Accuracy for val: 0.6744186046511628\n"
          ],
          "name": "stdout"
        },
        {
          "output_type": "stream",
          "text": [
            "/usr/local/lib/python3.6/dist-packages/sklearn/utils/validation.py:760: DataConversionWarning: A column-vector y was passed when a 1d array was expected. Please change the shape of y to (n_samples, ), for example using ravel().\n",
            "  y = column_or_1d(y, warn=True)\n"
          ],
          "name": "stderr"
        },
        {
          "output_type": "stream",
          "text": [
            "Language: French      Data loaded: sample data      sample_size: 128      c: 10      seed: 2022\n",
            "\n",
            " F1 macro score for test: 0.5734047932045707\n",
            "\n",
            " F1 macro score for val: 0.5876912614756886\n",
            "\n",
            " Accuracy for test: 0.6244725738396625\n",
            "\n",
            " Accuracy for val: 0.6356589147286822\n"
          ],
          "name": "stdout"
        },
        {
          "output_type": "stream",
          "text": [
            "/usr/local/lib/python3.6/dist-packages/sklearn/utils/validation.py:760: DataConversionWarning: A column-vector y was passed when a 1d array was expected. Please change the shape of y to (n_samples, ), for example using ravel().\n",
            "  y = column_or_1d(y, warn=True)\n"
          ],
          "name": "stderr"
        },
        {
          "output_type": "stream",
          "text": [
            "Language: French      Data loaded: sample data      sample_size: 256      c: 0.01      seed: 2018\n",
            "\n",
            " F1 macro score for test: 0.5772069179201171\n",
            "\n",
            " F1 macro score for val: 0.5984372022107871\n",
            "\n",
            " Accuracy for test: 0.5991561181434599\n",
            "\n",
            " Accuracy for val: 0.6201550387596899\n"
          ],
          "name": "stdout"
        },
        {
          "output_type": "stream",
          "text": [
            "/usr/local/lib/python3.6/dist-packages/sklearn/utils/validation.py:760: DataConversionWarning: A column-vector y was passed when a 1d array was expected. Please change the shape of y to (n_samples, ), for example using ravel().\n",
            "  y = column_or_1d(y, warn=True)\n"
          ],
          "name": "stderr"
        },
        {
          "output_type": "stream",
          "text": [
            "Language: French      Data loaded: sample data      sample_size: 256      c: 0.01      seed: 2019\n",
            "\n",
            " F1 macro score for test: 0.5683060109289617\n",
            "\n",
            " F1 macro score for val: 0.5983393876491957\n",
            "\n",
            " Accuracy for test: 0.5907172995780591\n",
            "\n",
            " Accuracy for val: 0.627906976744186\n"
          ],
          "name": "stdout"
        },
        {
          "output_type": "stream",
          "text": [
            "/usr/local/lib/python3.6/dist-packages/sklearn/utils/validation.py:760: DataConversionWarning: A column-vector y was passed when a 1d array was expected. Please change the shape of y to (n_samples, ), for example using ravel().\n",
            "  y = column_or_1d(y, warn=True)\n"
          ],
          "name": "stderr"
        },
        {
          "output_type": "stream",
          "text": [
            "Language: French      Data loaded: sample data      sample_size: 256      c: 0.01      seed: 2020\n",
            "\n",
            " F1 macro score for test: 0.5457283680175247\n",
            "\n",
            " F1 macro score for val: 0.6310943712073656\n",
            "\n",
            " Accuracy for test: 0.5864978902953587\n",
            "\n",
            " Accuracy for val: 0.6821705426356589\n"
          ],
          "name": "stdout"
        },
        {
          "output_type": "stream",
          "text": [
            "/usr/local/lib/python3.6/dist-packages/sklearn/utils/validation.py:760: DataConversionWarning: A column-vector y was passed when a 1d array was expected. Please change the shape of y to (n_samples, ), for example using ravel().\n",
            "  y = column_or_1d(y, warn=True)\n"
          ],
          "name": "stderr"
        },
        {
          "output_type": "stream",
          "text": [
            "Language: French      Data loaded: sample data      sample_size: 256      c: 0.01      seed: 2021\n",
            "\n",
            " F1 macro score for test: 0.5592173783663146\n",
            "\n",
            " F1 macro score for val: 0.6010396788839902\n",
            "\n",
            " Accuracy for test: 0.5780590717299579\n",
            "\n",
            " Accuracy for val: 0.6356589147286822\n"
          ],
          "name": "stdout"
        },
        {
          "output_type": "stream",
          "text": [
            "/usr/local/lib/python3.6/dist-packages/sklearn/utils/validation.py:760: DataConversionWarning: A column-vector y was passed when a 1d array was expected. Please change the shape of y to (n_samples, ), for example using ravel().\n",
            "  y = column_or_1d(y, warn=True)\n"
          ],
          "name": "stderr"
        },
        {
          "output_type": "stream",
          "text": [
            "Language: French      Data loaded: sample data      sample_size: 256      c: 0.01      seed: 2022\n",
            "\n",
            " F1 macro score for test: 0.5549992176498201\n",
            "\n",
            " F1 macro score for val: 0.5670856090017766\n",
            "\n",
            " Accuracy for test: 0.5949367088607594\n",
            "\n",
            " Accuracy for val: 0.6046511627906976\n"
          ],
          "name": "stdout"
        },
        {
          "output_type": "stream",
          "text": [
            "/usr/local/lib/python3.6/dist-packages/sklearn/utils/validation.py:760: DataConversionWarning: A column-vector y was passed when a 1d array was expected. Please change the shape of y to (n_samples, ), for example using ravel().\n",
            "  y = column_or_1d(y, warn=True)\n"
          ],
          "name": "stderr"
        },
        {
          "output_type": "stream",
          "text": [
            "Language: French      Data loaded: sample data      sample_size: 256      c: 0.1      seed: 2018\n",
            "\n",
            " F1 macro score for test: 0.5718801746199006\n",
            "\n",
            " F1 macro score for val: 0.5984372022107871\n",
            "\n",
            " Accuracy for test: 0.5949367088607594\n",
            "\n",
            " Accuracy for val: 0.6201550387596899\n"
          ],
          "name": "stdout"
        },
        {
          "output_type": "stream",
          "text": [
            "/usr/local/lib/python3.6/dist-packages/sklearn/utils/validation.py:760: DataConversionWarning: A column-vector y was passed when a 1d array was expected. Please change the shape of y to (n_samples, ), for example using ravel().\n",
            "  y = column_or_1d(y, warn=True)\n"
          ],
          "name": "stderr"
        },
        {
          "output_type": "stream",
          "text": [
            "Language: French      Data loaded: sample data      sample_size: 256      c: 0.1      seed: 2019\n",
            "\n",
            " F1 macro score for test: 0.5611111111111111\n",
            "\n",
            " F1 macro score for val: 0.5983393876491957\n",
            "\n",
            " Accuracy for test: 0.5864978902953587\n",
            "\n",
            " Accuracy for val: 0.627906976744186\n"
          ],
          "name": "stdout"
        },
        {
          "output_type": "stream",
          "text": [
            "/usr/local/lib/python3.6/dist-packages/sklearn/utils/validation.py:760: DataConversionWarning: A column-vector y was passed when a 1d array was expected. Please change the shape of y to (n_samples, ), for example using ravel().\n",
            "  y = column_or_1d(y, warn=True)\n"
          ],
          "name": "stderr"
        },
        {
          "output_type": "stream",
          "text": [
            "Language: French      Data loaded: sample data      sample_size: 256      c: 0.1      seed: 2020\n",
            "\n",
            " F1 macro score for test: 0.5524783634933124\n",
            "\n",
            " F1 macro score for val: 0.6130989746808956\n",
            "\n",
            " Accuracy for test: 0.5949367088607594\n",
            "\n",
            " Accuracy for val: 0.6666666666666666\n"
          ],
          "name": "stdout"
        },
        {
          "output_type": "stream",
          "text": [
            "/usr/local/lib/python3.6/dist-packages/sklearn/utils/validation.py:760: DataConversionWarning: A column-vector y was passed when a 1d array was expected. Please change the shape of y to (n_samples, ), for example using ravel().\n",
            "  y = column_or_1d(y, warn=True)\n"
          ],
          "name": "stderr"
        },
        {
          "output_type": "stream",
          "text": [
            "Language: French      Data loaded: sample data      sample_size: 256      c: 0.1      seed: 2021\n",
            "\n",
            " F1 macro score for test: 0.5556112503480924\n",
            "\n",
            " F1 macro score for val: 0.6010396788839902\n",
            "\n",
            " Accuracy for test: 0.5738396624472574\n",
            "\n",
            " Accuracy for val: 0.6356589147286822\n"
          ],
          "name": "stdout"
        },
        {
          "output_type": "stream",
          "text": [
            "/usr/local/lib/python3.6/dist-packages/sklearn/utils/validation.py:760: DataConversionWarning: A column-vector y was passed when a 1d array was expected. Please change the shape of y to (n_samples, ), for example using ravel().\n",
            "  y = column_or_1d(y, warn=True)\n"
          ],
          "name": "stderr"
        },
        {
          "output_type": "stream",
          "text": [
            "Language: French      Data loaded: sample data      sample_size: 256      c: 0.1      seed: 2022\n",
            "\n",
            " F1 macro score for test: 0.5608457352396186\n",
            "\n",
            " F1 macro score for val: 0.5670856090017766\n",
            "\n",
            " Accuracy for test: 0.5991561181434599\n",
            "\n",
            " Accuracy for val: 0.6046511627906976\n"
          ],
          "name": "stdout"
        },
        {
          "output_type": "stream",
          "text": [
            "/usr/local/lib/python3.6/dist-packages/sklearn/utils/validation.py:760: DataConversionWarning: A column-vector y was passed when a 1d array was expected. Please change the shape of y to (n_samples, ), for example using ravel().\n",
            "  y = column_or_1d(y, warn=True)\n"
          ],
          "name": "stderr"
        },
        {
          "output_type": "stream",
          "text": [
            "Language: French      Data loaded: sample data      sample_size: 256      c: 1      seed: 2018\n",
            "\n",
            " F1 macro score for test: 0.564643499668592\n",
            "\n",
            " F1 macro score for val: 0.5754430379746835\n",
            "\n",
            " Accuracy for test: 0.5907172995780591\n",
            "\n",
            " Accuracy for val: 0.5968992248062015\n"
          ],
          "name": "stdout"
        },
        {
          "output_type": "stream",
          "text": [
            "/usr/local/lib/python3.6/dist-packages/sklearn/utils/validation.py:760: DataConversionWarning: A column-vector y was passed when a 1d array was expected. Please change the shape of y to (n_samples, ), for example using ravel().\n",
            "  y = column_or_1d(y, warn=True)\n"
          ],
          "name": "stderr"
        },
        {
          "output_type": "stream",
          "text": [
            "Language: French      Data loaded: sample data      sample_size: 256      c: 1      seed: 2019\n",
            "\n",
            " F1 macro score for test: 0.5661989017693716\n",
            "\n",
            " F1 macro score for val: 0.621700879765396\n",
            "\n",
            " Accuracy for test: 0.5949367088607594\n",
            "\n",
            " Accuracy for val: 0.6511627906976745\n"
          ],
          "name": "stdout"
        },
        {
          "output_type": "stream",
          "text": [
            "/usr/local/lib/python3.6/dist-packages/sklearn/utils/validation.py:760: DataConversionWarning: A column-vector y was passed when a 1d array was expected. Please change the shape of y to (n_samples, ), for example using ravel().\n",
            "  y = column_or_1d(y, warn=True)\n"
          ],
          "name": "stderr"
        },
        {
          "output_type": "stream",
          "text": [
            "Language: French      Data loaded: sample data      sample_size: 256      c: 1      seed: 2020\n",
            "\n",
            " F1 macro score for test: 0.572023892207251\n",
            "\n",
            " F1 macro score for val: 0.6205065652579465\n",
            "\n",
            " Accuracy for test: 0.6160337552742616\n",
            "\n",
            " Accuracy for val: 0.6821705426356589\n"
          ],
          "name": "stdout"
        },
        {
          "output_type": "stream",
          "text": [
            "/usr/local/lib/python3.6/dist-packages/sklearn/utils/validation.py:760: DataConversionWarning: A column-vector y was passed when a 1d array was expected. Please change the shape of y to (n_samples, ), for example using ravel().\n",
            "  y = column_or_1d(y, warn=True)\n"
          ],
          "name": "stderr"
        },
        {
          "output_type": "stream",
          "text": [
            "Language: French      Data loaded: sample data      sample_size: 256      c: 1      seed: 2021\n",
            "\n",
            " F1 macro score for test: 0.5736199223558376\n",
            "\n",
            " F1 macro score for val: 0.6033422459893049\n",
            "\n",
            " Accuracy for test: 0.5991561181434599\n",
            "\n",
            " Accuracy for val: 0.6434108527131783\n"
          ],
          "name": "stdout"
        },
        {
          "output_type": "stream",
          "text": [
            "/usr/local/lib/python3.6/dist-packages/sklearn/utils/validation.py:760: DataConversionWarning: A column-vector y was passed when a 1d array was expected. Please change the shape of y to (n_samples, ), for example using ravel().\n",
            "  y = column_or_1d(y, warn=True)\n"
          ],
          "name": "stderr"
        },
        {
          "output_type": "stream",
          "text": [
            "Language: French      Data loaded: sample data      sample_size: 256      c: 1      seed: 2022\n",
            "\n",
            " F1 macro score for test: 0.5735409169144109\n",
            "\n",
            " F1 macro score for val: 0.5670856090017766\n",
            "\n",
            " Accuracy for test: 0.6118143459915611\n",
            "\n",
            " Accuracy for val: 0.6046511627906976\n"
          ],
          "name": "stdout"
        },
        {
          "output_type": "stream",
          "text": [
            "/usr/local/lib/python3.6/dist-packages/sklearn/utils/validation.py:760: DataConversionWarning: A column-vector y was passed when a 1d array was expected. Please change the shape of y to (n_samples, ), for example using ravel().\n",
            "  y = column_or_1d(y, warn=True)\n"
          ],
          "name": "stderr"
        },
        {
          "output_type": "stream",
          "text": [
            "Language: French      Data loaded: sample data      sample_size: 256      c: 10      seed: 2018\n",
            "\n",
            " F1 macro score for test: 0.5793364411242661\n",
            "\n",
            " F1 macro score for val: 0.5501085740606699\n",
            "\n",
            " Accuracy for test: 0.6160337552742616\n",
            "\n",
            " Accuracy for val: 0.5891472868217055\n"
          ],
          "name": "stdout"
        },
        {
          "output_type": "stream",
          "text": [
            "/usr/local/lib/python3.6/dist-packages/sklearn/utils/validation.py:760: DataConversionWarning: A column-vector y was passed when a 1d array was expected. Please change the shape of y to (n_samples, ), for example using ravel().\n",
            "  y = column_or_1d(y, warn=True)\n"
          ],
          "name": "stderr"
        },
        {
          "output_type": "stream",
          "text": [
            "Language: French      Data loaded: sample data      sample_size: 256      c: 10      seed: 2019\n",
            "\n",
            " F1 macro score for test: 0.5779914529914529\n",
            "\n",
            " F1 macro score for val: 0.5797486869224121\n",
            "\n",
            " Accuracy for test: 0.620253164556962\n",
            "\n",
            " Accuracy for val: 0.6201550387596899\n"
          ],
          "name": "stdout"
        },
        {
          "output_type": "stream",
          "text": [
            "/usr/local/lib/python3.6/dist-packages/sklearn/utils/validation.py:760: DataConversionWarning: A column-vector y was passed when a 1d array was expected. Please change the shape of y to (n_samples, ), for example using ravel().\n",
            "  y = column_or_1d(y, warn=True)\n"
          ],
          "name": "stderr"
        },
        {
          "output_type": "stream",
          "text": [
            "Language: French      Data loaded: sample data      sample_size: 256      c: 10      seed: 2020\n",
            "\n",
            " F1 macro score for test: 0.5641958156260216\n",
            "\n",
            " F1 macro score for val: 0.6195224719101124\n",
            "\n",
            " Accuracy for test: 0.620253164556962\n",
            "\n",
            " Accuracy for val: 0.6744186046511628\n"
          ],
          "name": "stdout"
        },
        {
          "output_type": "stream",
          "text": [
            "/usr/local/lib/python3.6/dist-packages/sklearn/utils/validation.py:760: DataConversionWarning: A column-vector y was passed when a 1d array was expected. Please change the shape of y to (n_samples, ), for example using ravel().\n",
            "  y = column_or_1d(y, warn=True)\n"
          ],
          "name": "stderr"
        },
        {
          "output_type": "stream",
          "text": [
            "Language: French      Data loaded: sample data      sample_size: 256      c: 10      seed: 2021\n",
            "\n",
            " F1 macro score for test: 0.5734047932045707\n",
            "\n",
            " F1 macro score for val: 0.5763546798029557\n",
            "\n",
            " Accuracy for test: 0.6244725738396625\n",
            "\n",
            " Accuracy for val: 0.627906976744186\n"
          ],
          "name": "stdout"
        },
        {
          "output_type": "stream",
          "text": [
            "/usr/local/lib/python3.6/dist-packages/sklearn/utils/validation.py:760: DataConversionWarning: A column-vector y was passed when a 1d array was expected. Please change the shape of y to (n_samples, ), for example using ravel().\n",
            "  y = column_or_1d(y, warn=True)\n"
          ],
          "name": "stderr"
        },
        {
          "output_type": "stream",
          "text": [
            "Language: French      Data loaded: sample data      sample_size: 256      c: 10      seed: 2022\n",
            "\n",
            " F1 macro score for test: 0.6037420382165605\n",
            "\n",
            " F1 macro score for val: 0.5516042780748663\n",
            "\n",
            " Accuracy for test: 0.6455696202531646\n",
            "\n",
            " Accuracy for val: 0.5968992248062015\n"
          ],
          "name": "stdout"
        },
        {
          "output_type": "stream",
          "text": [
            "/usr/local/lib/python3.6/dist-packages/sklearn/utils/validation.py:760: DataConversionWarning: A column-vector y was passed when a 1d array was expected. Please change the shape of y to (n_samples, ), for example using ravel().\n",
            "  y = column_or_1d(y, warn=True)\n"
          ],
          "name": "stderr"
        },
        {
          "output_type": "stream",
          "text": [
            "Language: French       data loaded: whole data      c: 0.01      seed: 2018\n",
            "\n",
            " F1 macro score for test: 0.6112043444647672\n",
            "\n",
            " F1 macro score for val: 0.6350308641975309\n",
            "\n",
            " Accuracy for test: 0.6329113924050633\n",
            "\n",
            " Accuracy for val: 0.6589147286821705\n"
          ],
          "name": "stdout"
        },
        {
          "output_type": "stream",
          "text": [
            "/usr/local/lib/python3.6/dist-packages/sklearn/utils/validation.py:760: DataConversionWarning: A column-vector y was passed when a 1d array was expected. Please change the shape of y to (n_samples, ), for example using ravel().\n",
            "  y = column_or_1d(y, warn=True)\n"
          ],
          "name": "stderr"
        },
        {
          "output_type": "stream",
          "text": [
            "Language: French       data loaded: whole data      c: 0.01      seed: 2019\n",
            "\n",
            " F1 macro score for test: 0.6112043444647672\n",
            "\n",
            " F1 macro score for val: 0.6350308641975309\n",
            "\n",
            " Accuracy for test: 0.6329113924050633\n",
            "\n",
            " Accuracy for val: 0.6589147286821705\n"
          ],
          "name": "stdout"
        },
        {
          "output_type": "stream",
          "text": [
            "/usr/local/lib/python3.6/dist-packages/sklearn/utils/validation.py:760: DataConversionWarning: A column-vector y was passed when a 1d array was expected. Please change the shape of y to (n_samples, ), for example using ravel().\n",
            "  y = column_or_1d(y, warn=True)\n"
          ],
          "name": "stderr"
        },
        {
          "output_type": "stream",
          "text": [
            "Language: French       data loaded: whole data      c: 0.01      seed: 2020\n",
            "\n",
            " F1 macro score for test: 0.6112043444647672\n",
            "\n",
            " F1 macro score for val: 0.6350308641975309\n",
            "\n",
            " Accuracy for test: 0.6329113924050633\n",
            "\n",
            " Accuracy for val: 0.6589147286821705\n"
          ],
          "name": "stdout"
        },
        {
          "output_type": "stream",
          "text": [
            "/usr/local/lib/python3.6/dist-packages/sklearn/utils/validation.py:760: DataConversionWarning: A column-vector y was passed when a 1d array was expected. Please change the shape of y to (n_samples, ), for example using ravel().\n",
            "  y = column_or_1d(y, warn=True)\n"
          ],
          "name": "stderr"
        },
        {
          "output_type": "stream",
          "text": [
            "Language: French       data loaded: whole data      c: 0.01      seed: 2021\n",
            "\n",
            " F1 macro score for test: 0.6112043444647672\n",
            "\n",
            " F1 macro score for val: 0.6350308641975309\n",
            "\n",
            " Accuracy for test: 0.6329113924050633\n",
            "\n",
            " Accuracy for val: 0.6589147286821705\n"
          ],
          "name": "stdout"
        },
        {
          "output_type": "stream",
          "text": [
            "/usr/local/lib/python3.6/dist-packages/sklearn/utils/validation.py:760: DataConversionWarning: A column-vector y was passed when a 1d array was expected. Please change the shape of y to (n_samples, ), for example using ravel().\n",
            "  y = column_or_1d(y, warn=True)\n"
          ],
          "name": "stderr"
        },
        {
          "output_type": "stream",
          "text": [
            "Language: French       data loaded: whole data      c: 0.01      seed: 2022\n",
            "\n",
            " F1 macro score for test: 0.6112043444647672\n",
            "\n",
            " F1 macro score for val: 0.6350308641975309\n",
            "\n",
            " Accuracy for test: 0.6329113924050633\n",
            "\n",
            " Accuracy for val: 0.6589147286821705\n"
          ],
          "name": "stdout"
        },
        {
          "output_type": "stream",
          "text": [
            "/usr/local/lib/python3.6/dist-packages/sklearn/utils/validation.py:760: DataConversionWarning: A column-vector y was passed when a 1d array was expected. Please change the shape of y to (n_samples, ), for example using ravel().\n",
            "  y = column_or_1d(y, warn=True)\n"
          ],
          "name": "stderr"
        },
        {
          "output_type": "stream",
          "text": [
            "Language: French       data loaded: whole data      c: 0.1      seed: 2018\n",
            "\n",
            " F1 macro score for test: 0.6112043444647672\n",
            "\n",
            " F1 macro score for val: 0.6251210849208912\n",
            "\n",
            " Accuracy for test: 0.6329113924050633\n",
            "\n",
            " Accuracy for val: 0.6511627906976745\n"
          ],
          "name": "stdout"
        },
        {
          "output_type": "stream",
          "text": [
            "/usr/local/lib/python3.6/dist-packages/sklearn/utils/validation.py:760: DataConversionWarning: A column-vector y was passed when a 1d array was expected. Please change the shape of y to (n_samples, ), for example using ravel().\n",
            "  y = column_or_1d(y, warn=True)\n"
          ],
          "name": "stderr"
        },
        {
          "output_type": "stream",
          "text": [
            "Language: French       data loaded: whole data      c: 0.1      seed: 2019\n",
            "\n",
            " F1 macro score for test: 0.6112043444647672\n",
            "\n",
            " F1 macro score for val: 0.6251210849208912\n",
            "\n",
            " Accuracy for test: 0.6329113924050633\n",
            "\n",
            " Accuracy for val: 0.6511627906976745\n"
          ],
          "name": "stdout"
        },
        {
          "output_type": "stream",
          "text": [
            "/usr/local/lib/python3.6/dist-packages/sklearn/utils/validation.py:760: DataConversionWarning: A column-vector y was passed when a 1d array was expected. Please change the shape of y to (n_samples, ), for example using ravel().\n",
            "  y = column_or_1d(y, warn=True)\n"
          ],
          "name": "stderr"
        },
        {
          "output_type": "stream",
          "text": [
            "Language: French       data loaded: whole data      c: 0.1      seed: 2020\n",
            "\n",
            " F1 macro score for test: 0.6112043444647672\n",
            "\n",
            " F1 macro score for val: 0.6251210849208912\n",
            "\n",
            " Accuracy for test: 0.6329113924050633\n",
            "\n",
            " Accuracy for val: 0.6511627906976745\n"
          ],
          "name": "stdout"
        },
        {
          "output_type": "stream",
          "text": [
            "/usr/local/lib/python3.6/dist-packages/sklearn/utils/validation.py:760: DataConversionWarning: A column-vector y was passed when a 1d array was expected. Please change the shape of y to (n_samples, ), for example using ravel().\n",
            "  y = column_or_1d(y, warn=True)\n"
          ],
          "name": "stderr"
        },
        {
          "output_type": "stream",
          "text": [
            "Language: French       data loaded: whole data      c: 0.1      seed: 2021\n",
            "\n",
            " F1 macro score for test: 0.6112043444647672\n",
            "\n",
            " F1 macro score for val: 0.6251210849208912\n",
            "\n",
            " Accuracy for test: 0.6329113924050633\n",
            "\n",
            " Accuracy for val: 0.6511627906976745\n"
          ],
          "name": "stdout"
        },
        {
          "output_type": "stream",
          "text": [
            "/usr/local/lib/python3.6/dist-packages/sklearn/utils/validation.py:760: DataConversionWarning: A column-vector y was passed when a 1d array was expected. Please change the shape of y to (n_samples, ), for example using ravel().\n",
            "  y = column_or_1d(y, warn=True)\n"
          ],
          "name": "stderr"
        },
        {
          "output_type": "stream",
          "text": [
            "Language: French       data loaded: whole data      c: 0.1      seed: 2022\n",
            "\n",
            " F1 macro score for test: 0.6112043444647672\n",
            "\n",
            " F1 macro score for val: 0.6251210849208912\n",
            "\n",
            " Accuracy for test: 0.6329113924050633\n",
            "\n",
            " Accuracy for val: 0.6511627906976745\n"
          ],
          "name": "stdout"
        },
        {
          "output_type": "stream",
          "text": [
            "/usr/local/lib/python3.6/dist-packages/sklearn/utils/validation.py:760: DataConversionWarning: A column-vector y was passed when a 1d array was expected. Please change the shape of y to (n_samples, ), for example using ravel().\n",
            "  y = column_or_1d(y, warn=True)\n"
          ],
          "name": "stderr"
        },
        {
          "output_type": "stream",
          "text": [
            "Language: French       data loaded: whole data      c: 1      seed: 2018\n",
            "\n",
            " F1 macro score for test: 0.6111979619014534\n",
            "\n",
            " F1 macro score for val: 0.6150752464971458\n",
            "\n",
            " Accuracy for test: 0.6413502109704642\n",
            "\n",
            " Accuracy for val: 0.6434108527131783\n"
          ],
          "name": "stdout"
        },
        {
          "output_type": "stream",
          "text": [
            "/usr/local/lib/python3.6/dist-packages/sklearn/utils/validation.py:760: DataConversionWarning: A column-vector y was passed when a 1d array was expected. Please change the shape of y to (n_samples, ), for example using ravel().\n",
            "  y = column_or_1d(y, warn=True)\n"
          ],
          "name": "stderr"
        },
        {
          "output_type": "stream",
          "text": [
            "Language: French       data loaded: whole data      c: 1      seed: 2019\n",
            "\n",
            " F1 macro score for test: 0.6111979619014534\n",
            "\n",
            " F1 macro score for val: 0.6150752464971458\n",
            "\n",
            " Accuracy for test: 0.6413502109704642\n",
            "\n",
            " Accuracy for val: 0.6434108527131783\n"
          ],
          "name": "stdout"
        },
        {
          "output_type": "stream",
          "text": [
            "/usr/local/lib/python3.6/dist-packages/sklearn/utils/validation.py:760: DataConversionWarning: A column-vector y was passed when a 1d array was expected. Please change the shape of y to (n_samples, ), for example using ravel().\n",
            "  y = column_or_1d(y, warn=True)\n"
          ],
          "name": "stderr"
        },
        {
          "output_type": "stream",
          "text": [
            "Language: French       data loaded: whole data      c: 1      seed: 2020\n",
            "\n",
            " F1 macro score for test: 0.6111979619014534\n",
            "\n",
            " F1 macro score for val: 0.6150752464971458\n",
            "\n",
            " Accuracy for test: 0.6413502109704642\n",
            "\n",
            " Accuracy for val: 0.6434108527131783\n"
          ],
          "name": "stdout"
        },
        {
          "output_type": "stream",
          "text": [
            "/usr/local/lib/python3.6/dist-packages/sklearn/utils/validation.py:760: DataConversionWarning: A column-vector y was passed when a 1d array was expected. Please change the shape of y to (n_samples, ), for example using ravel().\n",
            "  y = column_or_1d(y, warn=True)\n"
          ],
          "name": "stderr"
        },
        {
          "output_type": "stream",
          "text": [
            "Language: French       data loaded: whole data      c: 1      seed: 2021\n",
            "\n",
            " F1 macro score for test: 0.6111979619014534\n",
            "\n",
            " F1 macro score for val: 0.6150752464971458\n",
            "\n",
            " Accuracy for test: 0.6413502109704642\n",
            "\n",
            " Accuracy for val: 0.6434108527131783\n"
          ],
          "name": "stdout"
        },
        {
          "output_type": "stream",
          "text": [
            "/usr/local/lib/python3.6/dist-packages/sklearn/utils/validation.py:760: DataConversionWarning: A column-vector y was passed when a 1d array was expected. Please change the shape of y to (n_samples, ), for example using ravel().\n",
            "  y = column_or_1d(y, warn=True)\n"
          ],
          "name": "stderr"
        },
        {
          "output_type": "stream",
          "text": [
            "Language: French       data loaded: whole data      c: 1      seed: 2022\n",
            "\n",
            " F1 macro score for test: 0.6111979619014534\n",
            "\n",
            " F1 macro score for val: 0.6150752464971458\n",
            "\n",
            " Accuracy for test: 0.6413502109704642\n",
            "\n",
            " Accuracy for val: 0.6434108527131783\n"
          ],
          "name": "stdout"
        },
        {
          "output_type": "stream",
          "text": [
            "/usr/local/lib/python3.6/dist-packages/sklearn/utils/validation.py:760: DataConversionWarning: A column-vector y was passed when a 1d array was expected. Please change the shape of y to (n_samples, ), for example using ravel().\n",
            "  y = column_or_1d(y, warn=True)\n"
          ],
          "name": "stderr"
        },
        {
          "output_type": "stream",
          "text": [
            "Language: French       data loaded: whole data      c: 10      seed: 2018\n",
            "\n",
            " F1 macro score for test: 0.6163178528935613\n",
            "\n",
            " F1 macro score for val: 0.6312080313808922\n",
            "\n",
            " Accuracy for test: 0.6497890295358649\n",
            "\n",
            " Accuracy for val: 0.6666666666666666\n"
          ],
          "name": "stdout"
        },
        {
          "output_type": "stream",
          "text": [
            "/usr/local/lib/python3.6/dist-packages/sklearn/utils/validation.py:760: DataConversionWarning: A column-vector y was passed when a 1d array was expected. Please change the shape of y to (n_samples, ), for example using ravel().\n",
            "  y = column_or_1d(y, warn=True)\n"
          ],
          "name": "stderr"
        },
        {
          "output_type": "stream",
          "text": [
            "Language: French       data loaded: whole data      c: 10      seed: 2019\n",
            "\n",
            " F1 macro score for test: 0.6163178528935613\n",
            "\n",
            " F1 macro score for val: 0.6312080313808922\n",
            "\n",
            " Accuracy for test: 0.6497890295358649\n",
            "\n",
            " Accuracy for val: 0.6666666666666666\n"
          ],
          "name": "stdout"
        },
        {
          "output_type": "stream",
          "text": [
            "/usr/local/lib/python3.6/dist-packages/sklearn/utils/validation.py:760: DataConversionWarning: A column-vector y was passed when a 1d array was expected. Please change the shape of y to (n_samples, ), for example using ravel().\n",
            "  y = column_or_1d(y, warn=True)\n"
          ],
          "name": "stderr"
        },
        {
          "output_type": "stream",
          "text": [
            "Language: French       data loaded: whole data      c: 10      seed: 2020\n",
            "\n",
            " F1 macro score for test: 0.6163178528935613\n",
            "\n",
            " F1 macro score for val: 0.6312080313808922\n",
            "\n",
            " Accuracy for test: 0.6497890295358649\n",
            "\n",
            " Accuracy for val: 0.6666666666666666\n"
          ],
          "name": "stdout"
        },
        {
          "output_type": "stream",
          "text": [
            "/usr/local/lib/python3.6/dist-packages/sklearn/utils/validation.py:760: DataConversionWarning: A column-vector y was passed when a 1d array was expected. Please change the shape of y to (n_samples, ), for example using ravel().\n",
            "  y = column_or_1d(y, warn=True)\n"
          ],
          "name": "stderr"
        },
        {
          "output_type": "stream",
          "text": [
            "Language: French       data loaded: whole data      c: 10      seed: 2021\n",
            "\n",
            " F1 macro score for test: 0.6163178528935613\n",
            "\n",
            " F1 macro score for val: 0.6312080313808922\n",
            "\n",
            " Accuracy for test: 0.6497890295358649\n",
            "\n",
            " Accuracy for val: 0.6666666666666666\n",
            "Language: French       data loaded: whole data      c: 10      seed: 2022\n",
            "\n",
            " F1 macro score for test: 0.6163178528935613\n",
            "\n",
            " F1 macro score for val: 0.6312080313808922\n",
            "\n",
            " Accuracy for test: 0.6497890295358649\n",
            "\n",
            " Accuracy for val: 0.6666666666666666\n"
          ],
          "name": "stdout"
        },
        {
          "output_type": "stream",
          "text": [
            "/usr/local/lib/python3.6/dist-packages/sklearn/utils/validation.py:760: DataConversionWarning: A column-vector y was passed when a 1d array was expected. Please change the shape of y to (n_samples, ), for example using ravel().\n",
            "  y = column_or_1d(y, warn=True)\n"
          ],
          "name": "stderr"
        }
      ]
    }
  ]
}